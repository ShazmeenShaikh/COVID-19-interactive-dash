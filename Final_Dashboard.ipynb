{
 "cells": [
  {
   "cell_type": "markdown",
   "metadata": {},
   "source": [
    "# COVID-19 Dashboard: Figures for the Pandemic\n",
    "DATE ACQUIRED: 26th April 2020\n",
    "\n",
    "DATASET SOURCE: https://data.world/covid-19-data-resource-hub/covid-19-case-counts/workspace/file?filename=COVID-19+Cases.csv\n",
    "\n",
    "I have imported all the required library in the beginning of the notebook to give you an idea of what libraries are going to be used. \n",
    "\n",
    "In the following notebook, there are various interactive maps and graphs made using sliders, hovering your mouse on, toggle spike lines, drop down menu and visualization using colour. Each of them require a widely different kind of coding to be executed. \n",
    "Not all the datasets are coded from scratch and reference from various websites were used. reference can include the structure or even a single line from codes.\n",
    "\n",
    "Although starting with world data, I have focused on US dataset within the notebook since it has highest amount of cases and most information on. I have provided markdowns throughout the notebook for better understanding rather than having it in a single paragraph."
   ]
  },
  {
   "cell_type": "code",
   "execution_count": 1,
   "metadata": {},
   "outputs": [],
   "source": [
    "%matplotlib inline\n",
    "import matplotlib.pyplot as plt\n",
    "import matplotlib.colors as mpl_colors\n",
    "import pandas as pd\n",
    "import numpy as np\n",
    "import ipywidgets\n",
    "import os"
   ]
  },
  {
   "cell_type": "code",
   "execution_count": 2,
   "metadata": {},
   "outputs": [
    {
     "data": {
      "text/html": [
       "        <script type=\"text/javascript\">\n",
       "        window.PlotlyConfig = {MathJaxConfig: 'local'};\n",
       "        if (window.MathJax) {MathJax.Hub.Config({SVG: {font: \"STIX-Web\"}});}\n",
       "        if (typeof require !== 'undefined') {\n",
       "        require.undef(\"plotly\");\n",
       "        requirejs.config({\n",
       "            paths: {\n",
       "                'plotly': ['https://cdn.plot.ly/plotly-latest.min']\n",
       "            }\n",
       "        });\n",
       "        require(['plotly'], function(Plotly) {\n",
       "            window._Plotly = Plotly;\n",
       "        });\n",
       "        }\n",
       "        </script>\n",
       "        "
      ]
     },
     "metadata": {},
     "output_type": "display_data"
    }
   ],
   "source": [
    "from plotly.offline import plot, iplot, init_notebook_mode\n",
    "init_notebook_mode(connected=True)\n",
    "import plotly.express as px\n",
    "import ipywidgets\n",
    "import plotly.offline as py\n",
    "import plotly.graph_objs as go"
   ]
  },
  {
   "cell_type": "code",
   "execution_count": 3,
   "metadata": {},
   "outputs": [],
   "source": [
    "import json\n",
    "from bqplot import Lines, Figure, LinearScale, DateScale, Axis\n",
    "import bqplot.pyplot as bqpl\n",
    "from ipyleaflet import Map, GeoJSON, WidgetControl\n",
    "from pathlib import Path\n",
    "import requests "
   ]
  },
  {
   "cell_type": "code",
   "execution_count": 4,
   "metadata": {},
   "outputs": [],
   "source": [
    "#dfd = pd.read_csv(\"/Users/shazmeenshaikh/Downloads/COVID-19 Cases.csv\",\n",
    "               #parse_dates=['Date'])"
   ]
  },
  {
   "cell_type": "code",
   "execution_count": 5,
   "metadata": {},
   "outputs": [
    {
     "name": "stderr",
     "output_type": "stream",
     "text": [
      "/opt/anaconda3/lib/python3.7/site-packages/IPython/core/interactiveshell.py:3058: DtypeWarning:\n",
      "\n",
      "Columns (8) have mixed types. Specify dtype option on import or set low_memory=False.\n",
      "\n"
     ]
    }
   ],
   "source": [
    "dfs = pd.read_csv(\"https://query.data.world/s/tr6q6z7xmck47oiftpnfmyjx6g4qck\",\n",
    "                parse_dates=['Date'])"
   ]
  },
  {
   "cell_type": "code",
   "execution_count": 6,
   "metadata": {},
   "outputs": [
    {
     "data": {
      "text/html": [
       "<div>\n",
       "<style scoped>\n",
       "    .dataframe tbody tr th:only-of-type {\n",
       "        vertical-align: middle;\n",
       "    }\n",
       "\n",
       "    .dataframe tbody tr th {\n",
       "        vertical-align: top;\n",
       "    }\n",
       "\n",
       "    .dataframe thead th {\n",
       "        text-align: right;\n",
       "    }\n",
       "</style>\n",
       "<table border=\"1\" class=\"dataframe\">\n",
       "  <thead>\n",
       "    <tr style=\"text-align: right;\">\n",
       "      <th></th>\n",
       "      <th>Case_Type</th>\n",
       "      <th>People_Total_Tested_Count</th>\n",
       "      <th>Cases</th>\n",
       "      <th>Difference</th>\n",
       "      <th>Date</th>\n",
       "      <th>Combined_Key</th>\n",
       "      <th>Country_Region</th>\n",
       "      <th>Province_State</th>\n",
       "      <th>Admin2</th>\n",
       "      <th>iso2</th>\n",
       "      <th>iso3</th>\n",
       "      <th>FIPS</th>\n",
       "      <th>Lat</th>\n",
       "      <th>Long</th>\n",
       "      <th>Population_Count</th>\n",
       "      <th>People_Hospitalized_Cumulative_Count</th>\n",
       "      <th>Data_Source</th>\n",
       "      <th>Prep_Flow_Runtime</th>\n",
       "    </tr>\n",
       "  </thead>\n",
       "  <tbody>\n",
       "    <tr>\n",
       "      <td>0</td>\n",
       "      <td>Confirmed</td>\n",
       "      <td>NaN</td>\n",
       "      <td>0</td>\n",
       "      <td>0</td>\n",
       "      <td>2020-02-03</td>\n",
       "      <td>Switzerland</td>\n",
       "      <td>Switzerland</td>\n",
       "      <td>NaN</td>\n",
       "      <td>NaN</td>\n",
       "      <td>CH</td>\n",
       "      <td>CHE</td>\n",
       "      <td>NaN</td>\n",
       "      <td>46.818200</td>\n",
       "      <td>8.227500</td>\n",
       "      <td>8654618.0</td>\n",
       "      <td>NaN</td>\n",
       "      <td>2019 Novel Coronavirus COVID-19 (2019-nCoV) Da...</td>\n",
       "      <td>4/26/2020 11:21:38 PM</td>\n",
       "    </tr>\n",
       "    <tr>\n",
       "      <td>1</td>\n",
       "      <td>Confirmed</td>\n",
       "      <td>NaN</td>\n",
       "      <td>23</td>\n",
       "      <td>0</td>\n",
       "      <td>2020-04-21</td>\n",
       "      <td>Antigua and Barbuda</td>\n",
       "      <td>Antigua and Barbuda</td>\n",
       "      <td>NaN</td>\n",
       "      <td>NaN</td>\n",
       "      <td>AG</td>\n",
       "      <td>ATG</td>\n",
       "      <td>NaN</td>\n",
       "      <td>17.060800</td>\n",
       "      <td>-61.796400</td>\n",
       "      <td>97928.0</td>\n",
       "      <td>NaN</td>\n",
       "      <td>2019 Novel Coronavirus COVID-19 (2019-nCoV) Da...</td>\n",
       "      <td>4/26/2020 11:21:38 PM</td>\n",
       "    </tr>\n",
       "    <tr>\n",
       "      <td>2</td>\n",
       "      <td>Deaths</td>\n",
       "      <td>NaN</td>\n",
       "      <td>0</td>\n",
       "      <td>0</td>\n",
       "      <td>2020-03-01</td>\n",
       "      <td>Cyprus</td>\n",
       "      <td>Cyprus</td>\n",
       "      <td>NaN</td>\n",
       "      <td>NaN</td>\n",
       "      <td>CY</td>\n",
       "      <td>CYP</td>\n",
       "      <td>NaN</td>\n",
       "      <td>35.126400</td>\n",
       "      <td>33.429900</td>\n",
       "      <td>1207361.0</td>\n",
       "      <td>NaN</td>\n",
       "      <td>2019 Novel Coronavirus COVID-19 (2019-nCoV) Da...</td>\n",
       "      <td>4/26/2020 11:21:38 PM</td>\n",
       "    </tr>\n",
       "    <tr>\n",
       "      <td>3</td>\n",
       "      <td>Deaths</td>\n",
       "      <td>NaN</td>\n",
       "      <td>0</td>\n",
       "      <td>0</td>\n",
       "      <td>2020-02-11</td>\n",
       "      <td>Jamaica</td>\n",
       "      <td>Jamaica</td>\n",
       "      <td>NaN</td>\n",
       "      <td>NaN</td>\n",
       "      <td>JM</td>\n",
       "      <td>JAM</td>\n",
       "      <td>NaN</td>\n",
       "      <td>18.109600</td>\n",
       "      <td>-77.297500</td>\n",
       "      <td>2961161.0</td>\n",
       "      <td>NaN</td>\n",
       "      <td>2019 Novel Coronavirus COVID-19 (2019-nCoV) Da...</td>\n",
       "      <td>4/26/2020 11:21:38 PM</td>\n",
       "    </tr>\n",
       "    <tr>\n",
       "      <td>4</td>\n",
       "      <td>Confirmed</td>\n",
       "      <td>NaN</td>\n",
       "      <td>0</td>\n",
       "      <td>0</td>\n",
       "      <td>2020-02-06</td>\n",
       "      <td>Belize</td>\n",
       "      <td>Belize</td>\n",
       "      <td>NaN</td>\n",
       "      <td>NaN</td>\n",
       "      <td>BZ</td>\n",
       "      <td>BLZ</td>\n",
       "      <td>NaN</td>\n",
       "      <td>17.189900</td>\n",
       "      <td>-88.497600</td>\n",
       "      <td>397621.0</td>\n",
       "      <td>NaN</td>\n",
       "      <td>2019 Novel Coronavirus COVID-19 (2019-nCoV) Da...</td>\n",
       "      <td>4/26/2020 11:21:38 PM</td>\n",
       "    </tr>\n",
       "    <tr>\n",
       "      <td>...</td>\n",
       "      <td>...</td>\n",
       "      <td>...</td>\n",
       "      <td>...</td>\n",
       "      <td>...</td>\n",
       "      <td>...</td>\n",
       "      <td>...</td>\n",
       "      <td>...</td>\n",
       "      <td>...</td>\n",
       "      <td>...</td>\n",
       "      <td>...</td>\n",
       "      <td>...</td>\n",
       "      <td>...</td>\n",
       "      <td>...</td>\n",
       "      <td>...</td>\n",
       "      <td>...</td>\n",
       "      <td>...</td>\n",
       "      <td>...</td>\n",
       "      <td>...</td>\n",
       "    </tr>\n",
       "    <tr>\n",
       "      <td>675643</td>\n",
       "      <td>Confirmed</td>\n",
       "      <td>NaN</td>\n",
       "      <td>0</td>\n",
       "      <td>0</td>\n",
       "      <td>2020-01-22</td>\n",
       "      <td>Traill, North Dakota, US</td>\n",
       "      <td>US</td>\n",
       "      <td>North Dakota</td>\n",
       "      <td>Traill</td>\n",
       "      <td>US</td>\n",
       "      <td>USA</td>\n",
       "      <td>38097.0</td>\n",
       "      <td>47.453678</td>\n",
       "      <td>-97.163233</td>\n",
       "      <td>8036.0</td>\n",
       "      <td>NaN</td>\n",
       "      <td>2019 Novel Coronavirus COVID-19 (2019-nCoV) Da...</td>\n",
       "      <td>4/26/2020 11:21:38 PM</td>\n",
       "    </tr>\n",
       "    <tr>\n",
       "      <td>675644</td>\n",
       "      <td>Deaths</td>\n",
       "      <td>NaN</td>\n",
       "      <td>0</td>\n",
       "      <td>0</td>\n",
       "      <td>2020-01-22</td>\n",
       "      <td>Angola</td>\n",
       "      <td>Angola</td>\n",
       "      <td>NaN</td>\n",
       "      <td>NaN</td>\n",
       "      <td>AO</td>\n",
       "      <td>AGO</td>\n",
       "      <td>NaN</td>\n",
       "      <td>-11.202700</td>\n",
       "      <td>17.873900</td>\n",
       "      <td>32866268.0</td>\n",
       "      <td>NaN</td>\n",
       "      <td>2019 Novel Coronavirus COVID-19 (2019-nCoV) Da...</td>\n",
       "      <td>4/26/2020 11:21:38 PM</td>\n",
       "    </tr>\n",
       "    <tr>\n",
       "      <td>675645</td>\n",
       "      <td>Deaths</td>\n",
       "      <td>NaN</td>\n",
       "      <td>0</td>\n",
       "      <td>0</td>\n",
       "      <td>2020-01-22</td>\n",
       "      <td>Loup, Nebraska, US</td>\n",
       "      <td>US</td>\n",
       "      <td>Nebraska</td>\n",
       "      <td>Loup</td>\n",
       "      <td>US</td>\n",
       "      <td>USA</td>\n",
       "      <td>31115.0</td>\n",
       "      <td>41.913720</td>\n",
       "      <td>-99.454404</td>\n",
       "      <td>664.0</td>\n",
       "      <td>NaN</td>\n",
       "      <td>2019 Novel Coronavirus COVID-19 (2019-nCoV) Da...</td>\n",
       "      <td>4/26/2020 11:21:38 PM</td>\n",
       "    </tr>\n",
       "    <tr>\n",
       "      <td>675646</td>\n",
       "      <td>Deaths</td>\n",
       "      <td>NaN</td>\n",
       "      <td>0</td>\n",
       "      <td>0</td>\n",
       "      <td>2020-01-22</td>\n",
       "      <td>Mercer, North Dakota, US</td>\n",
       "      <td>US</td>\n",
       "      <td>North Dakota</td>\n",
       "      <td>Mercer</td>\n",
       "      <td>US</td>\n",
       "      <td>USA</td>\n",
       "      <td>38057.0</td>\n",
       "      <td>47.312131</td>\n",
       "      <td>-101.831840</td>\n",
       "      <td>8187.0</td>\n",
       "      <td>NaN</td>\n",
       "      <td>2019 Novel Coronavirus COVID-19 (2019-nCoV) Da...</td>\n",
       "      <td>4/26/2020 11:21:38 PM</td>\n",
       "    </tr>\n",
       "    <tr>\n",
       "      <td>675647</td>\n",
       "      <td>Confirmed</td>\n",
       "      <td>NaN</td>\n",
       "      <td>0</td>\n",
       "      <td>0</td>\n",
       "      <td>2020-01-22</td>\n",
       "      <td>Walker, Georgia, US</td>\n",
       "      <td>US</td>\n",
       "      <td>Georgia</td>\n",
       "      <td>Walker</td>\n",
       "      <td>US</td>\n",
       "      <td>USA</td>\n",
       "      <td>13295.0</td>\n",
       "      <td>34.733764</td>\n",
       "      <td>-85.301652</td>\n",
       "      <td>69761.0</td>\n",
       "      <td>NaN</td>\n",
       "      <td>2019 Novel Coronavirus COVID-19 (2019-nCoV) Da...</td>\n",
       "      <td>4/26/2020 11:21:38 PM</td>\n",
       "    </tr>\n",
       "  </tbody>\n",
       "</table>\n",
       "<p>675648 rows × 18 columns</p>\n",
       "</div>"
      ],
      "text/plain": [
       "        Case_Type  People_Total_Tested_Count  Cases  Difference       Date  \\\n",
       "0       Confirmed                        NaN      0           0 2020-02-03   \n",
       "1       Confirmed                        NaN     23           0 2020-04-21   \n",
       "2          Deaths                        NaN      0           0 2020-03-01   \n",
       "3          Deaths                        NaN      0           0 2020-02-11   \n",
       "4       Confirmed                        NaN      0           0 2020-02-06   \n",
       "...           ...                        ...    ...         ...        ...   \n",
       "675643  Confirmed                        NaN      0           0 2020-01-22   \n",
       "675644     Deaths                        NaN      0           0 2020-01-22   \n",
       "675645     Deaths                        NaN      0           0 2020-01-22   \n",
       "675646     Deaths                        NaN      0           0 2020-01-22   \n",
       "675647  Confirmed                        NaN      0           0 2020-01-22   \n",
       "\n",
       "                    Combined_Key       Country_Region Province_State  Admin2  \\\n",
       "0                    Switzerland          Switzerland            NaN     NaN   \n",
       "1            Antigua and Barbuda  Antigua and Barbuda            NaN     NaN   \n",
       "2                         Cyprus               Cyprus            NaN     NaN   \n",
       "3                        Jamaica              Jamaica            NaN     NaN   \n",
       "4                         Belize               Belize            NaN     NaN   \n",
       "...                          ...                  ...            ...     ...   \n",
       "675643  Traill, North Dakota, US                   US   North Dakota  Traill   \n",
       "675644                    Angola               Angola            NaN     NaN   \n",
       "675645        Loup, Nebraska, US                   US       Nebraska    Loup   \n",
       "675646  Mercer, North Dakota, US                   US   North Dakota  Mercer   \n",
       "675647       Walker, Georgia, US                   US        Georgia  Walker   \n",
       "\n",
       "       iso2 iso3     FIPS        Lat        Long  Population_Count  \\\n",
       "0        CH  CHE      NaN  46.818200    8.227500         8654618.0   \n",
       "1        AG  ATG      NaN  17.060800  -61.796400           97928.0   \n",
       "2        CY  CYP      NaN  35.126400   33.429900         1207361.0   \n",
       "3        JM  JAM      NaN  18.109600  -77.297500         2961161.0   \n",
       "4        BZ  BLZ      NaN  17.189900  -88.497600          397621.0   \n",
       "...     ...  ...      ...        ...         ...               ...   \n",
       "675643   US  USA  38097.0  47.453678  -97.163233            8036.0   \n",
       "675644   AO  AGO      NaN -11.202700   17.873900        32866268.0   \n",
       "675645   US  USA  31115.0  41.913720  -99.454404             664.0   \n",
       "675646   US  USA  38057.0  47.312131 -101.831840            8187.0   \n",
       "675647   US  USA  13295.0  34.733764  -85.301652           69761.0   \n",
       "\n",
       "        People_Hospitalized_Cumulative_Count  \\\n",
       "0                                        NaN   \n",
       "1                                        NaN   \n",
       "2                                        NaN   \n",
       "3                                        NaN   \n",
       "4                                        NaN   \n",
       "...                                      ...   \n",
       "675643                                   NaN   \n",
       "675644                                   NaN   \n",
       "675645                                   NaN   \n",
       "675646                                   NaN   \n",
       "675647                                   NaN   \n",
       "\n",
       "                                              Data_Source  \\\n",
       "0       2019 Novel Coronavirus COVID-19 (2019-nCoV) Da...   \n",
       "1       2019 Novel Coronavirus COVID-19 (2019-nCoV) Da...   \n",
       "2       2019 Novel Coronavirus COVID-19 (2019-nCoV) Da...   \n",
       "3       2019 Novel Coronavirus COVID-19 (2019-nCoV) Da...   \n",
       "4       2019 Novel Coronavirus COVID-19 (2019-nCoV) Da...   \n",
       "...                                                   ...   \n",
       "675643  2019 Novel Coronavirus COVID-19 (2019-nCoV) Da...   \n",
       "675644  2019 Novel Coronavirus COVID-19 (2019-nCoV) Da...   \n",
       "675645  2019 Novel Coronavirus COVID-19 (2019-nCoV) Da...   \n",
       "675646  2019 Novel Coronavirus COVID-19 (2019-nCoV) Da...   \n",
       "675647  2019 Novel Coronavirus COVID-19 (2019-nCoV) Da...   \n",
       "\n",
       "            Prep_Flow_Runtime  \n",
       "0       4/26/2020 11:21:38 PM  \n",
       "1       4/26/2020 11:21:38 PM  \n",
       "2       4/26/2020 11:21:38 PM  \n",
       "3       4/26/2020 11:21:38 PM  \n",
       "4       4/26/2020 11:21:38 PM  \n",
       "...                       ...  \n",
       "675643  4/26/2020 11:21:38 PM  \n",
       "675644  4/26/2020 11:21:38 PM  \n",
       "675645  4/26/2020 11:21:38 PM  \n",
       "675646  4/26/2020 11:21:38 PM  \n",
       "675647  4/26/2020 11:21:38 PM  \n",
       "\n",
       "[675648 rows x 18 columns]"
      ]
     },
     "execution_count": 6,
     "metadata": {},
     "output_type": "execute_result"
    }
   ],
   "source": [
    "dfs"
   ]
  },
  {
   "cell_type": "markdown",
   "metadata": {},
   "source": [
    "The following sample data was taken due to the need of having ISO 3166-3 country codes requirement by plotly to plot data for bubblemap. relevant rows were extracted from the dataset (country and iso_alpha) and merged with the original dataset. The \"country\" was then mapped with \"Country_Region\". The reason for this was, I couldn't find a 3 letter ISO code dictionary on the internet and had to find anything closest to it."
   ]
  },
  {
   "cell_type": "code",
   "execution_count": 7,
   "metadata": {
    "scrolled": true
   },
   "outputs": [
    {
     "data": {
      "text/html": [
       "<div>\n",
       "<style scoped>\n",
       "    .dataframe tbody tr th:only-of-type {\n",
       "        vertical-align: middle;\n",
       "    }\n",
       "\n",
       "    .dataframe tbody tr th {\n",
       "        vertical-align: top;\n",
       "    }\n",
       "\n",
       "    .dataframe thead th {\n",
       "        text-align: right;\n",
       "    }\n",
       "</style>\n",
       "<table border=\"1\" class=\"dataframe\">\n",
       "  <thead>\n",
       "    <tr style=\"text-align: right;\">\n",
       "      <th></th>\n",
       "      <th>country</th>\n",
       "      <th>continent</th>\n",
       "      <th>year</th>\n",
       "      <th>lifeExp</th>\n",
       "      <th>pop</th>\n",
       "      <th>gdpPercap</th>\n",
       "      <th>iso_alpha</th>\n",
       "      <th>iso_num</th>\n",
       "    </tr>\n",
       "  </thead>\n",
       "  <tbody>\n",
       "    <tr>\n",
       "      <td>11</td>\n",
       "      <td>Afghanistan</td>\n",
       "      <td>Asia</td>\n",
       "      <td>2007</td>\n",
       "      <td>43.828</td>\n",
       "      <td>31889923</td>\n",
       "      <td>974.580338</td>\n",
       "      <td>AFG</td>\n",
       "      <td>4</td>\n",
       "    </tr>\n",
       "    <tr>\n",
       "      <td>23</td>\n",
       "      <td>Albania</td>\n",
       "      <td>Europe</td>\n",
       "      <td>2007</td>\n",
       "      <td>76.423</td>\n",
       "      <td>3600523</td>\n",
       "      <td>5937.029526</td>\n",
       "      <td>ALB</td>\n",
       "      <td>8</td>\n",
       "    </tr>\n",
       "    <tr>\n",
       "      <td>35</td>\n",
       "      <td>Algeria</td>\n",
       "      <td>Africa</td>\n",
       "      <td>2007</td>\n",
       "      <td>72.301</td>\n",
       "      <td>33333216</td>\n",
       "      <td>6223.367465</td>\n",
       "      <td>DZA</td>\n",
       "      <td>12</td>\n",
       "    </tr>\n",
       "    <tr>\n",
       "      <td>47</td>\n",
       "      <td>Angola</td>\n",
       "      <td>Africa</td>\n",
       "      <td>2007</td>\n",
       "      <td>42.731</td>\n",
       "      <td>12420476</td>\n",
       "      <td>4797.231267</td>\n",
       "      <td>AGO</td>\n",
       "      <td>24</td>\n",
       "    </tr>\n",
       "    <tr>\n",
       "      <td>59</td>\n",
       "      <td>Argentina</td>\n",
       "      <td>Americas</td>\n",
       "      <td>2007</td>\n",
       "      <td>75.320</td>\n",
       "      <td>40301927</td>\n",
       "      <td>12779.379640</td>\n",
       "      <td>ARG</td>\n",
       "      <td>32</td>\n",
       "    </tr>\n",
       "  </tbody>\n",
       "</table>\n",
       "</div>"
      ],
      "text/plain": [
       "        country continent  year  lifeExp       pop     gdpPercap iso_alpha  \\\n",
       "11  Afghanistan      Asia  2007   43.828  31889923    974.580338       AFG   \n",
       "23      Albania    Europe  2007   76.423   3600523   5937.029526       ALB   \n",
       "35      Algeria    Africa  2007   72.301  33333216   6223.367465       DZA   \n",
       "47       Angola    Africa  2007   42.731  12420476   4797.231267       AGO   \n",
       "59    Argentina  Americas  2007   75.320  40301927  12779.379640       ARG   \n",
       "\n",
       "    iso_num  \n",
       "11        4  \n",
       "23        8  \n",
       "35       12  \n",
       "47       24  \n",
       "59       32  "
      ]
     },
     "execution_count": 7,
     "metadata": {},
     "output_type": "execute_result"
    }
   ],
   "source": [
    "sample = px.data.gapminder().query(\"year==2007\")\n",
    "sample.head()"
   ]
  },
  {
   "cell_type": "code",
   "execution_count": 8,
   "metadata": {},
   "outputs": [],
   "source": [
    "sample.replace(to_replace =\"United States\", value =\"US\",inplace = True) \n",
    "#Had to replace United States with US in order to match both the dataset."
   ]
  },
  {
   "cell_type": "code",
   "execution_count": 9,
   "metadata": {},
   "outputs": [
    {
     "data": {
      "text/html": [
       "<div>\n",
       "<style scoped>\n",
       "    .dataframe tbody tr th:only-of-type {\n",
       "        vertical-align: middle;\n",
       "    }\n",
       "\n",
       "    .dataframe tbody tr th {\n",
       "        vertical-align: top;\n",
       "    }\n",
       "\n",
       "    .dataframe thead th {\n",
       "        text-align: right;\n",
       "    }\n",
       "</style>\n",
       "<table border=\"1\" class=\"dataframe\">\n",
       "  <thead>\n",
       "    <tr style=\"text-align: right;\">\n",
       "      <th></th>\n",
       "      <th>country</th>\n",
       "      <th>iso_alpha</th>\n",
       "    </tr>\n",
       "  </thead>\n",
       "  <tbody>\n",
       "    <tr>\n",
       "      <td>11</td>\n",
       "      <td>Afghanistan</td>\n",
       "      <td>AFG</td>\n",
       "    </tr>\n",
       "    <tr>\n",
       "      <td>23</td>\n",
       "      <td>Albania</td>\n",
       "      <td>ALB</td>\n",
       "    </tr>\n",
       "    <tr>\n",
       "      <td>35</td>\n",
       "      <td>Algeria</td>\n",
       "      <td>DZA</td>\n",
       "    </tr>\n",
       "    <tr>\n",
       "      <td>47</td>\n",
       "      <td>Angola</td>\n",
       "      <td>AGO</td>\n",
       "    </tr>\n",
       "    <tr>\n",
       "      <td>59</td>\n",
       "      <td>Argentina</td>\n",
       "      <td>ARG</td>\n",
       "    </tr>\n",
       "    <tr>\n",
       "      <td>...</td>\n",
       "      <td>...</td>\n",
       "      <td>...</td>\n",
       "    </tr>\n",
       "    <tr>\n",
       "      <td>1655</td>\n",
       "      <td>Vietnam</td>\n",
       "      <td>VNM</td>\n",
       "    </tr>\n",
       "    <tr>\n",
       "      <td>1667</td>\n",
       "      <td>West Bank and Gaza</td>\n",
       "      <td>PSE</td>\n",
       "    </tr>\n",
       "    <tr>\n",
       "      <td>1679</td>\n",
       "      <td>Yemen, Rep.</td>\n",
       "      <td>YEM</td>\n",
       "    </tr>\n",
       "    <tr>\n",
       "      <td>1691</td>\n",
       "      <td>Zambia</td>\n",
       "      <td>ZMB</td>\n",
       "    </tr>\n",
       "    <tr>\n",
       "      <td>1703</td>\n",
       "      <td>Zimbabwe</td>\n",
       "      <td>ZWE</td>\n",
       "    </tr>\n",
       "  </tbody>\n",
       "</table>\n",
       "<p>142 rows × 2 columns</p>\n",
       "</div>"
      ],
      "text/plain": [
       "                 country iso_alpha\n",
       "11           Afghanistan       AFG\n",
       "23               Albania       ALB\n",
       "35               Algeria       DZA\n",
       "47                Angola       AGO\n",
       "59             Argentina       ARG\n",
       "...                  ...       ...\n",
       "1655             Vietnam       VNM\n",
       "1667  West Bank and Gaza       PSE\n",
       "1679         Yemen, Rep.       YEM\n",
       "1691              Zambia       ZMB\n",
       "1703            Zimbabwe       ZWE\n",
       "\n",
       "[142 rows x 2 columns]"
      ]
     },
     "execution_count": 9,
     "metadata": {},
     "output_type": "execute_result"
    }
   ],
   "source": [
    "#extracted 2 required column from sample dataset\n",
    "temp = sample[['country', 'iso_alpha']]\n",
    "temp"
   ]
  },
  {
   "cell_type": "code",
   "execution_count": 10,
   "metadata": {},
   "outputs": [
    {
     "data": {
      "text/html": [
       "<div>\n",
       "<style scoped>\n",
       "    .dataframe tbody tr th:only-of-type {\n",
       "        vertical-align: middle;\n",
       "    }\n",
       "\n",
       "    .dataframe tbody tr th {\n",
       "        vertical-align: top;\n",
       "    }\n",
       "\n",
       "    .dataframe thead th {\n",
       "        text-align: right;\n",
       "    }\n",
       "</style>\n",
       "<table border=\"1\" class=\"dataframe\">\n",
       "  <thead>\n",
       "    <tr style=\"text-align: right;\">\n",
       "      <th></th>\n",
       "      <th>country</th>\n",
       "      <th>iso_alpha</th>\n",
       "    </tr>\n",
       "  </thead>\n",
       "  <tbody>\n",
       "    <tr>\n",
       "      <td>0</td>\n",
       "      <td>Russia</td>\n",
       "      <td>RUS</td>\n",
       "    </tr>\n",
       "    <tr>\n",
       "      <td>11</td>\n",
       "      <td>Afghanistan</td>\n",
       "      <td>AFG</td>\n",
       "    </tr>\n",
       "    <tr>\n",
       "      <td>23</td>\n",
       "      <td>Albania</td>\n",
       "      <td>ALB</td>\n",
       "    </tr>\n",
       "    <tr>\n",
       "      <td>35</td>\n",
       "      <td>Algeria</td>\n",
       "      <td>DZA</td>\n",
       "    </tr>\n",
       "    <tr>\n",
       "      <td>47</td>\n",
       "      <td>Angola</td>\n",
       "      <td>AGO</td>\n",
       "    </tr>\n",
       "    <tr>\n",
       "      <td>...</td>\n",
       "      <td>...</td>\n",
       "      <td>...</td>\n",
       "    </tr>\n",
       "    <tr>\n",
       "      <td>1655</td>\n",
       "      <td>Vietnam</td>\n",
       "      <td>VNM</td>\n",
       "    </tr>\n",
       "    <tr>\n",
       "      <td>1667</td>\n",
       "      <td>West Bank and Gaza</td>\n",
       "      <td>PSE</td>\n",
       "    </tr>\n",
       "    <tr>\n",
       "      <td>1679</td>\n",
       "      <td>Yemen, Rep.</td>\n",
       "      <td>YEM</td>\n",
       "    </tr>\n",
       "    <tr>\n",
       "      <td>1691</td>\n",
       "      <td>Zambia</td>\n",
       "      <td>ZMB</td>\n",
       "    </tr>\n",
       "    <tr>\n",
       "      <td>1703</td>\n",
       "      <td>Zimbabwe</td>\n",
       "      <td>ZWE</td>\n",
       "    </tr>\n",
       "  </tbody>\n",
       "</table>\n",
       "<p>143 rows × 2 columns</p>\n",
       "</div>"
      ],
      "text/plain": [
       "                 country iso_alpha\n",
       "0                 Russia       RUS\n",
       "11           Afghanistan       AFG\n",
       "23               Albania       ALB\n",
       "35               Algeria       DZA\n",
       "47                Angola       AGO\n",
       "...                  ...       ...\n",
       "1655             Vietnam       VNM\n",
       "1667  West Bank and Gaza       PSE\n",
       "1679         Yemen, Rep.       YEM\n",
       "1691              Zambia       ZMB\n",
       "1703            Zimbabwe       ZWE\n",
       "\n",
       "[143 rows x 2 columns]"
      ]
     },
     "execution_count": 10,
     "metadata": {},
     "output_type": "execute_result"
    }
   ],
   "source": [
    "#There was no row for russia and thus I had to create a row in the final dataset\n",
    "df2 = pd.DataFrame([['Russia','RUS']], columns=['country','iso_alpha'])\n",
    "pd.concat([df2,temp])"
   ]
  },
  {
   "cell_type": "code",
   "execution_count": 11,
   "metadata": {},
   "outputs": [
    {
     "data": {
      "text/html": [
       "<div>\n",
       "<style scoped>\n",
       "    .dataframe tbody tr th:only-of-type {\n",
       "        vertical-align: middle;\n",
       "    }\n",
       "\n",
       "    .dataframe tbody tr th {\n",
       "        vertical-align: top;\n",
       "    }\n",
       "\n",
       "    .dataframe thead th {\n",
       "        text-align: right;\n",
       "    }\n",
       "</style>\n",
       "<table border=\"1\" class=\"dataframe\">\n",
       "  <thead>\n",
       "    <tr style=\"text-align: right;\">\n",
       "      <th></th>\n",
       "      <th>Case_Type</th>\n",
       "      <th>People_Total_Tested_Count</th>\n",
       "      <th>Cases</th>\n",
       "      <th>Difference</th>\n",
       "      <th>Date</th>\n",
       "      <th>Combined_Key</th>\n",
       "      <th>Country_Region</th>\n",
       "      <th>Province_State</th>\n",
       "      <th>Admin2</th>\n",
       "      <th>iso2</th>\n",
       "      <th>iso3</th>\n",
       "      <th>FIPS</th>\n",
       "      <th>Lat</th>\n",
       "      <th>Long</th>\n",
       "      <th>Population_Count</th>\n",
       "      <th>People_Hospitalized_Cumulative_Count</th>\n",
       "      <th>Data_Source</th>\n",
       "      <th>Prep_Flow_Runtime</th>\n",
       "      <th>country</th>\n",
       "      <th>iso_alpha</th>\n",
       "    </tr>\n",
       "  </thead>\n",
       "  <tbody>\n",
       "    <tr>\n",
       "      <td>0</td>\n",
       "      <td>Confirmed</td>\n",
       "      <td>NaN</td>\n",
       "      <td>0</td>\n",
       "      <td>0</td>\n",
       "      <td>2020-02-03</td>\n",
       "      <td>Switzerland</td>\n",
       "      <td>Switzerland</td>\n",
       "      <td>NaN</td>\n",
       "      <td>NaN</td>\n",
       "      <td>CH</td>\n",
       "      <td>CHE</td>\n",
       "      <td>NaN</td>\n",
       "      <td>46.818200</td>\n",
       "      <td>8.227500</td>\n",
       "      <td>8654618.0</td>\n",
       "      <td>NaN</td>\n",
       "      <td>2019 Novel Coronavirus COVID-19 (2019-nCoV) Da...</td>\n",
       "      <td>4/26/2020 11:21:38 PM</td>\n",
       "      <td>Switzerland</td>\n",
       "      <td>CHE</td>\n",
       "    </tr>\n",
       "    <tr>\n",
       "      <td>1</td>\n",
       "      <td>Deaths</td>\n",
       "      <td>NaN</td>\n",
       "      <td>1106</td>\n",
       "      <td>70</td>\n",
       "      <td>2020-04-12</td>\n",
       "      <td>Switzerland</td>\n",
       "      <td>Switzerland</td>\n",
       "      <td>NaN</td>\n",
       "      <td>NaN</td>\n",
       "      <td>CH</td>\n",
       "      <td>CHE</td>\n",
       "      <td>NaN</td>\n",
       "      <td>46.818200</td>\n",
       "      <td>8.227500</td>\n",
       "      <td>8654618.0</td>\n",
       "      <td>NaN</td>\n",
       "      <td>2019 Novel Coronavirus COVID-19 (2019-nCoV) Da...</td>\n",
       "      <td>4/26/2020 11:21:38 PM</td>\n",
       "      <td>Switzerland</td>\n",
       "      <td>CHE</td>\n",
       "    </tr>\n",
       "    <tr>\n",
       "      <td>2</td>\n",
       "      <td>Confirmed</td>\n",
       "      <td>NaN</td>\n",
       "      <td>18</td>\n",
       "      <td>10</td>\n",
       "      <td>2020-02-29</td>\n",
       "      <td>Switzerland</td>\n",
       "      <td>Switzerland</td>\n",
       "      <td>NaN</td>\n",
       "      <td>NaN</td>\n",
       "      <td>CH</td>\n",
       "      <td>CHE</td>\n",
       "      <td>NaN</td>\n",
       "      <td>46.818200</td>\n",
       "      <td>8.227500</td>\n",
       "      <td>8654618.0</td>\n",
       "      <td>NaN</td>\n",
       "      <td>2019 Novel Coronavirus COVID-19 (2019-nCoV) Da...</td>\n",
       "      <td>4/26/2020 11:21:38 PM</td>\n",
       "      <td>Switzerland</td>\n",
       "      <td>CHE</td>\n",
       "    </tr>\n",
       "    <tr>\n",
       "      <td>3</td>\n",
       "      <td>Confirmed</td>\n",
       "      <td>NaN</td>\n",
       "      <td>214</td>\n",
       "      <td>100</td>\n",
       "      <td>2020-03-06</td>\n",
       "      <td>Switzerland</td>\n",
       "      <td>Switzerland</td>\n",
       "      <td>NaN</td>\n",
       "      <td>NaN</td>\n",
       "      <td>CH</td>\n",
       "      <td>CHE</td>\n",
       "      <td>NaN</td>\n",
       "      <td>46.818200</td>\n",
       "      <td>8.227500</td>\n",
       "      <td>8654618.0</td>\n",
       "      <td>NaN</td>\n",
       "      <td>2019 Novel Coronavirus COVID-19 (2019-nCoV) Da...</td>\n",
       "      <td>4/26/2020 11:21:38 PM</td>\n",
       "      <td>Switzerland</td>\n",
       "      <td>CHE</td>\n",
       "    </tr>\n",
       "    <tr>\n",
       "      <td>4</td>\n",
       "      <td>Deaths</td>\n",
       "      <td>NaN</td>\n",
       "      <td>0</td>\n",
       "      <td>0</td>\n",
       "      <td>2020-02-16</td>\n",
       "      <td>Switzerland</td>\n",
       "      <td>Switzerland</td>\n",
       "      <td>NaN</td>\n",
       "      <td>NaN</td>\n",
       "      <td>CH</td>\n",
       "      <td>CHE</td>\n",
       "      <td>NaN</td>\n",
       "      <td>46.818200</td>\n",
       "      <td>8.227500</td>\n",
       "      <td>8654618.0</td>\n",
       "      <td>NaN</td>\n",
       "      <td>2019 Novel Coronavirus COVID-19 (2019-nCoV) Da...</td>\n",
       "      <td>4/26/2020 11:21:38 PM</td>\n",
       "      <td>Switzerland</td>\n",
       "      <td>CHE</td>\n",
       "    </tr>\n",
       "    <tr>\n",
       "      <td>...</td>\n",
       "      <td>...</td>\n",
       "      <td>...</td>\n",
       "      <td>...</td>\n",
       "      <td>...</td>\n",
       "      <td>...</td>\n",
       "      <td>...</td>\n",
       "      <td>...</td>\n",
       "      <td>...</td>\n",
       "      <td>...</td>\n",
       "      <td>...</td>\n",
       "      <td>...</td>\n",
       "      <td>...</td>\n",
       "      <td>...</td>\n",
       "      <td>...</td>\n",
       "      <td>...</td>\n",
       "      <td>...</td>\n",
       "      <td>...</td>\n",
       "      <td>...</td>\n",
       "      <td>...</td>\n",
       "      <td>...</td>\n",
       "    </tr>\n",
       "    <tr>\n",
       "      <td>664699</td>\n",
       "      <td>Deaths</td>\n",
       "      <td>NaN</td>\n",
       "      <td>0</td>\n",
       "      <td>0</td>\n",
       "      <td>2020-01-22</td>\n",
       "      <td>Clermont, Ohio, US</td>\n",
       "      <td>US</td>\n",
       "      <td>Ohio</td>\n",
       "      <td>Clermont</td>\n",
       "      <td>US</td>\n",
       "      <td>USA</td>\n",
       "      <td>39025.0</td>\n",
       "      <td>39.048475</td>\n",
       "      <td>-84.153758</td>\n",
       "      <td>206428.0</td>\n",
       "      <td>NaN</td>\n",
       "      <td>2019 Novel Coronavirus COVID-19 (2019-nCoV) Da...</td>\n",
       "      <td>4/26/2020 11:21:38 PM</td>\n",
       "      <td>US</td>\n",
       "      <td>USA</td>\n",
       "    </tr>\n",
       "    <tr>\n",
       "      <td>664700</td>\n",
       "      <td>Confirmed</td>\n",
       "      <td>NaN</td>\n",
       "      <td>0</td>\n",
       "      <td>0</td>\n",
       "      <td>2020-01-22</td>\n",
       "      <td>Traill, North Dakota, US</td>\n",
       "      <td>US</td>\n",
       "      <td>North Dakota</td>\n",
       "      <td>Traill</td>\n",
       "      <td>US</td>\n",
       "      <td>USA</td>\n",
       "      <td>38097.0</td>\n",
       "      <td>47.453678</td>\n",
       "      <td>-97.163233</td>\n",
       "      <td>8036.0</td>\n",
       "      <td>NaN</td>\n",
       "      <td>2019 Novel Coronavirus COVID-19 (2019-nCoV) Da...</td>\n",
       "      <td>4/26/2020 11:21:38 PM</td>\n",
       "      <td>US</td>\n",
       "      <td>USA</td>\n",
       "    </tr>\n",
       "    <tr>\n",
       "      <td>664701</td>\n",
       "      <td>Deaths</td>\n",
       "      <td>NaN</td>\n",
       "      <td>0</td>\n",
       "      <td>0</td>\n",
       "      <td>2020-01-22</td>\n",
       "      <td>Loup, Nebraska, US</td>\n",
       "      <td>US</td>\n",
       "      <td>Nebraska</td>\n",
       "      <td>Loup</td>\n",
       "      <td>US</td>\n",
       "      <td>USA</td>\n",
       "      <td>31115.0</td>\n",
       "      <td>41.913720</td>\n",
       "      <td>-99.454404</td>\n",
       "      <td>664.0</td>\n",
       "      <td>NaN</td>\n",
       "      <td>2019 Novel Coronavirus COVID-19 (2019-nCoV) Da...</td>\n",
       "      <td>4/26/2020 11:21:38 PM</td>\n",
       "      <td>US</td>\n",
       "      <td>USA</td>\n",
       "    </tr>\n",
       "    <tr>\n",
       "      <td>664702</td>\n",
       "      <td>Deaths</td>\n",
       "      <td>NaN</td>\n",
       "      <td>0</td>\n",
       "      <td>0</td>\n",
       "      <td>2020-01-22</td>\n",
       "      <td>Mercer, North Dakota, US</td>\n",
       "      <td>US</td>\n",
       "      <td>North Dakota</td>\n",
       "      <td>Mercer</td>\n",
       "      <td>US</td>\n",
       "      <td>USA</td>\n",
       "      <td>38057.0</td>\n",
       "      <td>47.312131</td>\n",
       "      <td>-101.831840</td>\n",
       "      <td>8187.0</td>\n",
       "      <td>NaN</td>\n",
       "      <td>2019 Novel Coronavirus COVID-19 (2019-nCoV) Da...</td>\n",
       "      <td>4/26/2020 11:21:38 PM</td>\n",
       "      <td>US</td>\n",
       "      <td>USA</td>\n",
       "    </tr>\n",
       "    <tr>\n",
       "      <td>664703</td>\n",
       "      <td>Confirmed</td>\n",
       "      <td>NaN</td>\n",
       "      <td>0</td>\n",
       "      <td>0</td>\n",
       "      <td>2020-01-22</td>\n",
       "      <td>Walker, Georgia, US</td>\n",
       "      <td>US</td>\n",
       "      <td>Georgia</td>\n",
       "      <td>Walker</td>\n",
       "      <td>US</td>\n",
       "      <td>USA</td>\n",
       "      <td>13295.0</td>\n",
       "      <td>34.733764</td>\n",
       "      <td>-85.301652</td>\n",
       "      <td>69761.0</td>\n",
       "      <td>NaN</td>\n",
       "      <td>2019 Novel Coronavirus COVID-19 (2019-nCoV) Da...</td>\n",
       "      <td>4/26/2020 11:21:38 PM</td>\n",
       "      <td>US</td>\n",
       "      <td>USA</td>\n",
       "    </tr>\n",
       "  </tbody>\n",
       "</table>\n",
       "<p>664704 rows × 20 columns</p>\n",
       "</div>"
      ],
      "text/plain": [
       "        Case_Type  People_Total_Tested_Count  Cases  Difference       Date  \\\n",
       "0       Confirmed                        NaN      0           0 2020-02-03   \n",
       "1          Deaths                        NaN   1106          70 2020-04-12   \n",
       "2       Confirmed                        NaN     18          10 2020-02-29   \n",
       "3       Confirmed                        NaN    214         100 2020-03-06   \n",
       "4          Deaths                        NaN      0           0 2020-02-16   \n",
       "...           ...                        ...    ...         ...        ...   \n",
       "664699     Deaths                        NaN      0           0 2020-01-22   \n",
       "664700  Confirmed                        NaN      0           0 2020-01-22   \n",
       "664701     Deaths                        NaN      0           0 2020-01-22   \n",
       "664702     Deaths                        NaN      0           0 2020-01-22   \n",
       "664703  Confirmed                        NaN      0           0 2020-01-22   \n",
       "\n",
       "                    Combined_Key Country_Region Province_State    Admin2 iso2  \\\n",
       "0                    Switzerland    Switzerland            NaN       NaN   CH   \n",
       "1                    Switzerland    Switzerland            NaN       NaN   CH   \n",
       "2                    Switzerland    Switzerland            NaN       NaN   CH   \n",
       "3                    Switzerland    Switzerland            NaN       NaN   CH   \n",
       "4                    Switzerland    Switzerland            NaN       NaN   CH   \n",
       "...                          ...            ...            ...       ...  ...   \n",
       "664699        Clermont, Ohio, US             US           Ohio  Clermont   US   \n",
       "664700  Traill, North Dakota, US             US   North Dakota    Traill   US   \n",
       "664701        Loup, Nebraska, US             US       Nebraska      Loup   US   \n",
       "664702  Mercer, North Dakota, US             US   North Dakota    Mercer   US   \n",
       "664703       Walker, Georgia, US             US        Georgia    Walker   US   \n",
       "\n",
       "       iso3     FIPS        Lat        Long  Population_Count  \\\n",
       "0       CHE      NaN  46.818200    8.227500         8654618.0   \n",
       "1       CHE      NaN  46.818200    8.227500         8654618.0   \n",
       "2       CHE      NaN  46.818200    8.227500         8654618.0   \n",
       "3       CHE      NaN  46.818200    8.227500         8654618.0   \n",
       "4       CHE      NaN  46.818200    8.227500         8654618.0   \n",
       "...     ...      ...        ...         ...               ...   \n",
       "664699  USA  39025.0  39.048475  -84.153758          206428.0   \n",
       "664700  USA  38097.0  47.453678  -97.163233            8036.0   \n",
       "664701  USA  31115.0  41.913720  -99.454404             664.0   \n",
       "664702  USA  38057.0  47.312131 -101.831840            8187.0   \n",
       "664703  USA  13295.0  34.733764  -85.301652           69761.0   \n",
       "\n",
       "        People_Hospitalized_Cumulative_Count  \\\n",
       "0                                        NaN   \n",
       "1                                        NaN   \n",
       "2                                        NaN   \n",
       "3                                        NaN   \n",
       "4                                        NaN   \n",
       "...                                      ...   \n",
       "664699                                   NaN   \n",
       "664700                                   NaN   \n",
       "664701                                   NaN   \n",
       "664702                                   NaN   \n",
       "664703                                   NaN   \n",
       "\n",
       "                                              Data_Source  \\\n",
       "0       2019 Novel Coronavirus COVID-19 (2019-nCoV) Da...   \n",
       "1       2019 Novel Coronavirus COVID-19 (2019-nCoV) Da...   \n",
       "2       2019 Novel Coronavirus COVID-19 (2019-nCoV) Da...   \n",
       "3       2019 Novel Coronavirus COVID-19 (2019-nCoV) Da...   \n",
       "4       2019 Novel Coronavirus COVID-19 (2019-nCoV) Da...   \n",
       "...                                                   ...   \n",
       "664699  2019 Novel Coronavirus COVID-19 (2019-nCoV) Da...   \n",
       "664700  2019 Novel Coronavirus COVID-19 (2019-nCoV) Da...   \n",
       "664701  2019 Novel Coronavirus COVID-19 (2019-nCoV) Da...   \n",
       "664702  2019 Novel Coronavirus COVID-19 (2019-nCoV) Da...   \n",
       "664703  2019 Novel Coronavirus COVID-19 (2019-nCoV) Da...   \n",
       "\n",
       "            Prep_Flow_Runtime      country iso_alpha  \n",
       "0       4/26/2020 11:21:38 PM  Switzerland       CHE  \n",
       "1       4/26/2020 11:21:38 PM  Switzerland       CHE  \n",
       "2       4/26/2020 11:21:38 PM  Switzerland       CHE  \n",
       "3       4/26/2020 11:21:38 PM  Switzerland       CHE  \n",
       "4       4/26/2020 11:21:38 PM  Switzerland       CHE  \n",
       "...                       ...          ...       ...  \n",
       "664699  4/26/2020 11:21:38 PM           US       USA  \n",
       "664700  4/26/2020 11:21:38 PM           US       USA  \n",
       "664701  4/26/2020 11:21:38 PM           US       USA  \n",
       "664702  4/26/2020 11:21:38 PM           US       USA  \n",
       "664703  4/26/2020 11:21:38 PM           US       USA  \n",
       "\n",
       "[664704 rows x 20 columns]"
      ]
     },
     "execution_count": 11,
     "metadata": {},
     "output_type": "execute_result"
    }
   ],
   "source": [
    "#merged both the datset\n",
    "df = pd.merge(dfs, temp, left_on='Country_Region', right_on='country')\n",
    "df"
   ]
  },
  {
   "cell_type": "code",
   "execution_count": 12,
   "metadata": {},
   "outputs": [],
   "source": [
    "#pip install plotly==4.6.0"
   ]
  },
  {
   "cell_type": "markdown",
   "metadata": {},
   "source": [
    "We will sort the cases based on date and display it using an interactive dashboard where we can view cases for a particular window frame."
   ]
  },
  {
   "cell_type": "code",
   "execution_count": 13,
   "metadata": {},
   "outputs": [
    {
     "data": {
      "text/html": [
       "<div>\n",
       "<style scoped>\n",
       "    .dataframe tbody tr th:only-of-type {\n",
       "        vertical-align: middle;\n",
       "    }\n",
       "\n",
       "    .dataframe tbody tr th {\n",
       "        vertical-align: top;\n",
       "    }\n",
       "\n",
       "    .dataframe thead th {\n",
       "        text-align: right;\n",
       "    }\n",
       "</style>\n",
       "<table border=\"1\" class=\"dataframe\">\n",
       "  <thead>\n",
       "    <tr style=\"text-align: right;\">\n",
       "      <th></th>\n",
       "      <th>Date</th>\n",
       "      <th>Case</th>\n",
       "      <th>Count</th>\n",
       "    </tr>\n",
       "  </thead>\n",
       "  <tbody>\n",
       "    <tr>\n",
       "      <td>0</td>\n",
       "      <td>2020-01-22</td>\n",
       "      <td>Cases</td>\n",
       "      <td>570</td>\n",
       "    </tr>\n",
       "    <tr>\n",
       "      <td>1</td>\n",
       "      <td>2020-01-23</td>\n",
       "      <td>Cases</td>\n",
       "      <td>670</td>\n",
       "    </tr>\n",
       "    <tr>\n",
       "      <td>2</td>\n",
       "      <td>2020-01-24</td>\n",
       "      <td>Cases</td>\n",
       "      <td>962</td>\n",
       "    </tr>\n",
       "    <tr>\n",
       "      <td>3</td>\n",
       "      <td>2020-01-25</td>\n",
       "      <td>Cases</td>\n",
       "      <td>1471</td>\n",
       "    </tr>\n",
       "    <tr>\n",
       "      <td>4</td>\n",
       "      <td>2020-01-26</td>\n",
       "      <td>Cases</td>\n",
       "      <td>2167</td>\n",
       "    </tr>\n",
       "  </tbody>\n",
       "</table>\n",
       "</div>"
      ],
      "text/plain": [
       "        Date   Case  Count\n",
       "0 2020-01-22  Cases    570\n",
       "1 2020-01-23  Cases    670\n",
       "2 2020-01-24  Cases    962\n",
       "3 2020-01-25  Cases   1471\n",
       "4 2020-01-26  Cases   2167"
      ]
     },
     "execution_count": 13,
     "metadata": {},
     "output_type": "execute_result"
    }
   ],
   "source": [
    "#Case count over time for the world using df.melt function\n",
    "#reference: https://pandas.pydata.org/docs/reference/api/pandas.melt.html\n",
    "Case_Count= df.groupby('Date')['Cases'].sum().reset_index()\n",
    "Case_Count = Case_Count.melt(id_vars=\"Date\", value_vars=['Cases'],\n",
    "                 var_name='Case', value_name='Count')\n",
    "Case_Count.head()"
   ]
  },
  {
   "cell_type": "markdown",
   "metadata": {},
   "source": [
    "# Figure 1 -Cases over time with a slider for selecting window frame"
   ]
  },
  {
   "cell_type": "code",
   "execution_count": 14,
   "metadata": {
    "scrolled": false
   },
   "outputs": [
    {
     "data": {
      "application/vnd.plotly.v1+json": {
       "config": {
        "plotlyServerURL": "https://plot.ly"
       },
       "data": [
        {
         "hovertemplate": "Case=Cases<br>Date=%{x}<br>Count=%{y}<extra></extra>",
         "legendgroup": "Cases",
         "line": {
          "color": "Crimson"
         },
         "mode": "lines",
         "name": "Cases",
         "orientation": "v",
         "showlegend": true,
         "stackgroup": "1",
         "type": "scatter",
         "x": [
          "2020-01-22T00:00:00",
          "2020-01-23T00:00:00",
          "2020-01-24T00:00:00",
          "2020-01-25T00:00:00",
          "2020-01-26T00:00:00",
          "2020-01-27T00:00:00",
          "2020-01-28T00:00:00",
          "2020-01-29T00:00:00",
          "2020-01-30T00:00:00",
          "2020-01-31T00:00:00",
          "2020-02-01T00:00:00",
          "2020-02-02T00:00:00",
          "2020-02-03T00:00:00",
          "2020-02-04T00:00:00",
          "2020-02-05T00:00:00",
          "2020-02-06T00:00:00",
          "2020-02-07T00:00:00",
          "2020-02-08T00:00:00",
          "2020-02-09T00:00:00",
          "2020-02-10T00:00:00",
          "2020-02-11T00:00:00",
          "2020-02-12T00:00:00",
          "2020-02-13T00:00:00",
          "2020-02-14T00:00:00",
          "2020-02-15T00:00:00",
          "2020-02-16T00:00:00",
          "2020-02-17T00:00:00",
          "2020-02-18T00:00:00",
          "2020-02-19T00:00:00",
          "2020-02-20T00:00:00",
          "2020-02-21T00:00:00",
          "2020-02-22T00:00:00",
          "2020-02-23T00:00:00",
          "2020-02-24T00:00:00",
          "2020-02-25T00:00:00",
          "2020-02-26T00:00:00",
          "2020-02-27T00:00:00",
          "2020-02-28T00:00:00",
          "2020-02-29T00:00:00",
          "2020-03-01T00:00:00",
          "2020-03-02T00:00:00",
          "2020-03-03T00:00:00",
          "2020-03-04T00:00:00",
          "2020-03-05T00:00:00",
          "2020-03-06T00:00:00",
          "2020-03-07T00:00:00",
          "2020-03-08T00:00:00",
          "2020-03-09T00:00:00",
          "2020-03-10T00:00:00",
          "2020-03-11T00:00:00",
          "2020-03-12T00:00:00",
          "2020-03-13T00:00:00",
          "2020-03-14T00:00:00",
          "2020-03-15T00:00:00",
          "2020-03-16T00:00:00",
          "2020-03-17T00:00:00",
          "2020-03-18T00:00:00",
          "2020-03-19T00:00:00",
          "2020-03-20T00:00:00",
          "2020-03-21T00:00:00",
          "2020-03-22T00:00:00",
          "2020-03-23T00:00:00",
          "2020-03-24T00:00:00",
          "2020-03-25T00:00:00",
          "2020-03-26T00:00:00",
          "2020-03-27T00:00:00",
          "2020-03-28T00:00:00",
          "2020-03-29T00:00:00",
          "2020-03-30T00:00:00",
          "2020-03-31T00:00:00",
          "2020-04-01T00:00:00",
          "2020-04-02T00:00:00",
          "2020-04-03T00:00:00",
          "2020-04-04T00:00:00",
          "2020-04-05T00:00:00",
          "2020-04-06T00:00:00",
          "2020-04-07T00:00:00",
          "2020-04-08T00:00:00",
          "2020-04-09T00:00:00",
          "2020-04-10T00:00:00",
          "2020-04-11T00:00:00",
          "2020-04-12T00:00:00",
          "2020-04-13T00:00:00",
          "2020-04-14T00:00:00",
          "2020-04-15T00:00:00",
          "2020-04-16T00:00:00",
          "2020-04-17T00:00:00",
          "2020-04-18T00:00:00",
          "2020-04-19T00:00:00",
          "2020-04-20T00:00:00",
          "2020-04-21T00:00:00",
          "2020-04-22T00:00:00",
          "2020-04-23T00:00:00",
          "2020-04-24T00:00:00",
          "2020-04-25T00:00:00",
          "2020-04-26T00:00:00"
         ],
         "xaxis": "x",
         "y": [
          570,
          670,
          962,
          1471,
          2167,
          3000,
          5697,
          6283,
          8388,
          10113,
          12269,
          17117,
          20275,
          24350,
          28162,
          31382,
          35002,
          37815,
          40940,
          43585,
          45724,
          46108,
          61508,
          68134,
          70355,
          72578,
          74608,
          76536,
          77074,
          77667,
          78190,
          79917,
          80081,
          80573,
          81350,
          82084,
          82978,
          83817,
          84959,
          86773,
          88177,
          89916,
          91832,
          94206,
          97692,
          101340,
          105223,
          108998,
          113992,
          121083,
          123562,
          140738,
          151884,
          162764,
          177458,
          193238,
          212741,
          240031,
          270200,
          303296,
          336792,
          378779,
          420067,
          471026,
          534612,
          600176,
          669494,
          730920,
          795791,
          873810,
          952335,
          1036675,
          1122673,
          1205851,
          1281977,
          1356656,
          1436231,
          1523345,
          1612422,
          1707518,
          1787962,
          1888452,
          1959569,
          2031317,
          2113356,
          2210386,
          2299655,
          2372576,
          2452245,
          2520516,
          2595442,
          2668422,
          2756922,
          2855219,
          2939200,
          3007720
         ],
         "yaxis": "y"
        }
       ],
       "layout": {
        "height": 800,
        "legend": {
         "title": {
          "text": "Case"
         },
         "tracegroupgap": 0
        },
        "template": {
         "data": {
          "bar": [
           {
            "error_x": {
             "color": "#2a3f5f"
            },
            "error_y": {
             "color": "#2a3f5f"
            },
            "marker": {
             "line": {
              "color": "#E5ECF6",
              "width": 0.5
             }
            },
            "type": "bar"
           }
          ],
          "barpolar": [
           {
            "marker": {
             "line": {
              "color": "#E5ECF6",
              "width": 0.5
             }
            },
            "type": "barpolar"
           }
          ],
          "carpet": [
           {
            "aaxis": {
             "endlinecolor": "#2a3f5f",
             "gridcolor": "white",
             "linecolor": "white",
             "minorgridcolor": "white",
             "startlinecolor": "#2a3f5f"
            },
            "baxis": {
             "endlinecolor": "#2a3f5f",
             "gridcolor": "white",
             "linecolor": "white",
             "minorgridcolor": "white",
             "startlinecolor": "#2a3f5f"
            },
            "type": "carpet"
           }
          ],
          "choropleth": [
           {
            "colorbar": {
             "outlinewidth": 0,
             "ticks": ""
            },
            "type": "choropleth"
           }
          ],
          "contour": [
           {
            "colorbar": {
             "outlinewidth": 0,
             "ticks": ""
            },
            "colorscale": [
             [
              0,
              "#0d0887"
             ],
             [
              0.1111111111111111,
              "#46039f"
             ],
             [
              0.2222222222222222,
              "#7201a8"
             ],
             [
              0.3333333333333333,
              "#9c179e"
             ],
             [
              0.4444444444444444,
              "#bd3786"
             ],
             [
              0.5555555555555556,
              "#d8576b"
             ],
             [
              0.6666666666666666,
              "#ed7953"
             ],
             [
              0.7777777777777778,
              "#fb9f3a"
             ],
             [
              0.8888888888888888,
              "#fdca26"
             ],
             [
              1,
              "#f0f921"
             ]
            ],
            "type": "contour"
           }
          ],
          "contourcarpet": [
           {
            "colorbar": {
             "outlinewidth": 0,
             "ticks": ""
            },
            "type": "contourcarpet"
           }
          ],
          "heatmap": [
           {
            "colorbar": {
             "outlinewidth": 0,
             "ticks": ""
            },
            "colorscale": [
             [
              0,
              "#0d0887"
             ],
             [
              0.1111111111111111,
              "#46039f"
             ],
             [
              0.2222222222222222,
              "#7201a8"
             ],
             [
              0.3333333333333333,
              "#9c179e"
             ],
             [
              0.4444444444444444,
              "#bd3786"
             ],
             [
              0.5555555555555556,
              "#d8576b"
             ],
             [
              0.6666666666666666,
              "#ed7953"
             ],
             [
              0.7777777777777778,
              "#fb9f3a"
             ],
             [
              0.8888888888888888,
              "#fdca26"
             ],
             [
              1,
              "#f0f921"
             ]
            ],
            "type": "heatmap"
           }
          ],
          "heatmapgl": [
           {
            "colorbar": {
             "outlinewidth": 0,
             "ticks": ""
            },
            "colorscale": [
             [
              0,
              "#0d0887"
             ],
             [
              0.1111111111111111,
              "#46039f"
             ],
             [
              0.2222222222222222,
              "#7201a8"
             ],
             [
              0.3333333333333333,
              "#9c179e"
             ],
             [
              0.4444444444444444,
              "#bd3786"
             ],
             [
              0.5555555555555556,
              "#d8576b"
             ],
             [
              0.6666666666666666,
              "#ed7953"
             ],
             [
              0.7777777777777778,
              "#fb9f3a"
             ],
             [
              0.8888888888888888,
              "#fdca26"
             ],
             [
              1,
              "#f0f921"
             ]
            ],
            "type": "heatmapgl"
           }
          ],
          "histogram": [
           {
            "marker": {
             "colorbar": {
              "outlinewidth": 0,
              "ticks": ""
             }
            },
            "type": "histogram"
           }
          ],
          "histogram2d": [
           {
            "colorbar": {
             "outlinewidth": 0,
             "ticks": ""
            },
            "colorscale": [
             [
              0,
              "#0d0887"
             ],
             [
              0.1111111111111111,
              "#46039f"
             ],
             [
              0.2222222222222222,
              "#7201a8"
             ],
             [
              0.3333333333333333,
              "#9c179e"
             ],
             [
              0.4444444444444444,
              "#bd3786"
             ],
             [
              0.5555555555555556,
              "#d8576b"
             ],
             [
              0.6666666666666666,
              "#ed7953"
             ],
             [
              0.7777777777777778,
              "#fb9f3a"
             ],
             [
              0.8888888888888888,
              "#fdca26"
             ],
             [
              1,
              "#f0f921"
             ]
            ],
            "type": "histogram2d"
           }
          ],
          "histogram2dcontour": [
           {
            "colorbar": {
             "outlinewidth": 0,
             "ticks": ""
            },
            "colorscale": [
             [
              0,
              "#0d0887"
             ],
             [
              0.1111111111111111,
              "#46039f"
             ],
             [
              0.2222222222222222,
              "#7201a8"
             ],
             [
              0.3333333333333333,
              "#9c179e"
             ],
             [
              0.4444444444444444,
              "#bd3786"
             ],
             [
              0.5555555555555556,
              "#d8576b"
             ],
             [
              0.6666666666666666,
              "#ed7953"
             ],
             [
              0.7777777777777778,
              "#fb9f3a"
             ],
             [
              0.8888888888888888,
              "#fdca26"
             ],
             [
              1,
              "#f0f921"
             ]
            ],
            "type": "histogram2dcontour"
           }
          ],
          "mesh3d": [
           {
            "colorbar": {
             "outlinewidth": 0,
             "ticks": ""
            },
            "type": "mesh3d"
           }
          ],
          "parcoords": [
           {
            "line": {
             "colorbar": {
              "outlinewidth": 0,
              "ticks": ""
             }
            },
            "type": "parcoords"
           }
          ],
          "pie": [
           {
            "automargin": true,
            "type": "pie"
           }
          ],
          "scatter": [
           {
            "marker": {
             "colorbar": {
              "outlinewidth": 0,
              "ticks": ""
             }
            },
            "type": "scatter"
           }
          ],
          "scatter3d": [
           {
            "line": {
             "colorbar": {
              "outlinewidth": 0,
              "ticks": ""
             }
            },
            "marker": {
             "colorbar": {
              "outlinewidth": 0,
              "ticks": ""
             }
            },
            "type": "scatter3d"
           }
          ],
          "scattercarpet": [
           {
            "marker": {
             "colorbar": {
              "outlinewidth": 0,
              "ticks": ""
             }
            },
            "type": "scattercarpet"
           }
          ],
          "scattergeo": [
           {
            "marker": {
             "colorbar": {
              "outlinewidth": 0,
              "ticks": ""
             }
            },
            "type": "scattergeo"
           }
          ],
          "scattergl": [
           {
            "marker": {
             "colorbar": {
              "outlinewidth": 0,
              "ticks": ""
             }
            },
            "type": "scattergl"
           }
          ],
          "scattermapbox": [
           {
            "marker": {
             "colorbar": {
              "outlinewidth": 0,
              "ticks": ""
             }
            },
            "type": "scattermapbox"
           }
          ],
          "scatterpolar": [
           {
            "marker": {
             "colorbar": {
              "outlinewidth": 0,
              "ticks": ""
             }
            },
            "type": "scatterpolar"
           }
          ],
          "scatterpolargl": [
           {
            "marker": {
             "colorbar": {
              "outlinewidth": 0,
              "ticks": ""
             }
            },
            "type": "scatterpolargl"
           }
          ],
          "scatterternary": [
           {
            "marker": {
             "colorbar": {
              "outlinewidth": 0,
              "ticks": ""
             }
            },
            "type": "scatterternary"
           }
          ],
          "surface": [
           {
            "colorbar": {
             "outlinewidth": 0,
             "ticks": ""
            },
            "colorscale": [
             [
              0,
              "#0d0887"
             ],
             [
              0.1111111111111111,
              "#46039f"
             ],
             [
              0.2222222222222222,
              "#7201a8"
             ],
             [
              0.3333333333333333,
              "#9c179e"
             ],
             [
              0.4444444444444444,
              "#bd3786"
             ],
             [
              0.5555555555555556,
              "#d8576b"
             ],
             [
              0.6666666666666666,
              "#ed7953"
             ],
             [
              0.7777777777777778,
              "#fb9f3a"
             ],
             [
              0.8888888888888888,
              "#fdca26"
             ],
             [
              1,
              "#f0f921"
             ]
            ],
            "type": "surface"
           }
          ],
          "table": [
           {
            "cells": {
             "fill": {
              "color": "#EBF0F8"
             },
             "line": {
              "color": "white"
             }
            },
            "header": {
             "fill": {
              "color": "#C8D4E3"
             },
             "line": {
              "color": "white"
             }
            },
            "type": "table"
           }
          ]
         },
         "layout": {
          "annotationdefaults": {
           "arrowcolor": "#2a3f5f",
           "arrowhead": 0,
           "arrowwidth": 1
          },
          "coloraxis": {
           "colorbar": {
            "outlinewidth": 0,
            "ticks": ""
           }
          },
          "colorscale": {
           "diverging": [
            [
             0,
             "#8e0152"
            ],
            [
             0.1,
             "#c51b7d"
            ],
            [
             0.2,
             "#de77ae"
            ],
            [
             0.3,
             "#f1b6da"
            ],
            [
             0.4,
             "#fde0ef"
            ],
            [
             0.5,
             "#f7f7f7"
            ],
            [
             0.6,
             "#e6f5d0"
            ],
            [
             0.7,
             "#b8e186"
            ],
            [
             0.8,
             "#7fbc41"
            ],
            [
             0.9,
             "#4d9221"
            ],
            [
             1,
             "#276419"
            ]
           ],
           "sequential": [
            [
             0,
             "#0d0887"
            ],
            [
             0.1111111111111111,
             "#46039f"
            ],
            [
             0.2222222222222222,
             "#7201a8"
            ],
            [
             0.3333333333333333,
             "#9c179e"
            ],
            [
             0.4444444444444444,
             "#bd3786"
            ],
            [
             0.5555555555555556,
             "#d8576b"
            ],
            [
             0.6666666666666666,
             "#ed7953"
            ],
            [
             0.7777777777777778,
             "#fb9f3a"
            ],
            [
             0.8888888888888888,
             "#fdca26"
            ],
            [
             1,
             "#f0f921"
            ]
           ],
           "sequentialminus": [
            [
             0,
             "#0d0887"
            ],
            [
             0.1111111111111111,
             "#46039f"
            ],
            [
             0.2222222222222222,
             "#7201a8"
            ],
            [
             0.3333333333333333,
             "#9c179e"
            ],
            [
             0.4444444444444444,
             "#bd3786"
            ],
            [
             0.5555555555555556,
             "#d8576b"
            ],
            [
             0.6666666666666666,
             "#ed7953"
            ],
            [
             0.7777777777777778,
             "#fb9f3a"
            ],
            [
             0.8888888888888888,
             "#fdca26"
            ],
            [
             1,
             "#f0f921"
            ]
           ]
          },
          "colorway": [
           "#636efa",
           "#EF553B",
           "#00cc96",
           "#ab63fa",
           "#FFA15A",
           "#19d3f3",
           "#FF6692",
           "#B6E880",
           "#FF97FF",
           "#FECB52"
          ],
          "font": {
           "color": "#2a3f5f"
          },
          "geo": {
           "bgcolor": "white",
           "lakecolor": "white",
           "landcolor": "#E5ECF6",
           "showlakes": true,
           "showland": true,
           "subunitcolor": "white"
          },
          "hoverlabel": {
           "align": "left"
          },
          "hovermode": "closest",
          "mapbox": {
           "style": "light"
          },
          "paper_bgcolor": "white",
          "plot_bgcolor": "#E5ECF6",
          "polar": {
           "angularaxis": {
            "gridcolor": "white",
            "linecolor": "white",
            "ticks": ""
           },
           "bgcolor": "#E5ECF6",
           "radialaxis": {
            "gridcolor": "white",
            "linecolor": "white",
            "ticks": ""
           }
          },
          "scene": {
           "xaxis": {
            "backgroundcolor": "#E5ECF6",
            "gridcolor": "white",
            "gridwidth": 2,
            "linecolor": "white",
            "showbackground": true,
            "ticks": "",
            "zerolinecolor": "white"
           },
           "yaxis": {
            "backgroundcolor": "#E5ECF6",
            "gridcolor": "white",
            "gridwidth": 2,
            "linecolor": "white",
            "showbackground": true,
            "ticks": "",
            "zerolinecolor": "white"
           },
           "zaxis": {
            "backgroundcolor": "#E5ECF6",
            "gridcolor": "white",
            "gridwidth": 2,
            "linecolor": "white",
            "showbackground": true,
            "ticks": "",
            "zerolinecolor": "white"
           }
          },
          "shapedefaults": {
           "line": {
            "color": "#2a3f5f"
           }
          },
          "ternary": {
           "aaxis": {
            "gridcolor": "white",
            "linecolor": "white",
            "ticks": ""
           },
           "baxis": {
            "gridcolor": "white",
            "linecolor": "white",
            "ticks": ""
           },
           "bgcolor": "#E5ECF6",
           "caxis": {
            "gridcolor": "white",
            "linecolor": "white",
            "ticks": ""
           }
          },
          "title": {
           "x": 0.05
          },
          "xaxis": {
           "automargin": true,
           "gridcolor": "white",
           "linecolor": "white",
           "ticks": "",
           "title": {
            "standoff": 15
           },
           "zerolinecolor": "white",
           "zerolinewidth": 2
          },
          "yaxis": {
           "automargin": true,
           "gridcolor": "white",
           "linecolor": "white",
           "ticks": "",
           "title": {
            "standoff": 15
           },
           "zerolinecolor": "white",
           "zerolinewidth": 2
          }
         }
        },
        "title": {
         "text": "Cases over time"
        },
        "xaxis": {
         "anchor": "y",
         "domain": [
          0,
          1
         ],
         "rangeslider": {
          "visible": true
         },
         "title": {
          "text": "Date"
         }
        },
        "yaxis": {
         "anchor": "x",
         "domain": [
          0,
          1
         ],
         "title": {
          "text": "Count"
         }
        }
       }
      },
      "text/html": [
       "<div>\n",
       "        \n",
       "        \n",
       "            <div id=\"627f54c3-ea5e-4592-92f7-fe9d1bc12815\" class=\"plotly-graph-div\" style=\"height:800px; width:100%;\"></div>\n",
       "            <script type=\"text/javascript\">\n",
       "                require([\"plotly\"], function(Plotly) {\n",
       "                    window.PLOTLYENV=window.PLOTLYENV || {};\n",
       "                    \n",
       "                if (document.getElementById(\"627f54c3-ea5e-4592-92f7-fe9d1bc12815\")) {\n",
       "                    Plotly.newPlot(\n",
       "                        '627f54c3-ea5e-4592-92f7-fe9d1bc12815',\n",
       "                        [{\"hovertemplate\": \"Case=Cases<br>Date=%{x}<br>Count=%{y}<extra></extra>\", \"legendgroup\": \"Cases\", \"line\": {\"color\": \"Crimson\"}, \"mode\": \"lines\", \"name\": \"Cases\", \"orientation\": \"v\", \"showlegend\": true, \"stackgroup\": \"1\", \"type\": \"scatter\", \"x\": [\"2020-01-22T00:00:00\", \"2020-01-23T00:00:00\", \"2020-01-24T00:00:00\", \"2020-01-25T00:00:00\", \"2020-01-26T00:00:00\", \"2020-01-27T00:00:00\", \"2020-01-28T00:00:00\", \"2020-01-29T00:00:00\", \"2020-01-30T00:00:00\", \"2020-01-31T00:00:00\", \"2020-02-01T00:00:00\", \"2020-02-02T00:00:00\", \"2020-02-03T00:00:00\", \"2020-02-04T00:00:00\", \"2020-02-05T00:00:00\", \"2020-02-06T00:00:00\", \"2020-02-07T00:00:00\", \"2020-02-08T00:00:00\", \"2020-02-09T00:00:00\", \"2020-02-10T00:00:00\", \"2020-02-11T00:00:00\", \"2020-02-12T00:00:00\", \"2020-02-13T00:00:00\", \"2020-02-14T00:00:00\", \"2020-02-15T00:00:00\", \"2020-02-16T00:00:00\", \"2020-02-17T00:00:00\", \"2020-02-18T00:00:00\", \"2020-02-19T00:00:00\", \"2020-02-20T00:00:00\", \"2020-02-21T00:00:00\", \"2020-02-22T00:00:00\", \"2020-02-23T00:00:00\", \"2020-02-24T00:00:00\", \"2020-02-25T00:00:00\", \"2020-02-26T00:00:00\", \"2020-02-27T00:00:00\", \"2020-02-28T00:00:00\", \"2020-02-29T00:00:00\", \"2020-03-01T00:00:00\", \"2020-03-02T00:00:00\", \"2020-03-03T00:00:00\", \"2020-03-04T00:00:00\", \"2020-03-05T00:00:00\", \"2020-03-06T00:00:00\", \"2020-03-07T00:00:00\", \"2020-03-08T00:00:00\", \"2020-03-09T00:00:00\", \"2020-03-10T00:00:00\", \"2020-03-11T00:00:00\", \"2020-03-12T00:00:00\", \"2020-03-13T00:00:00\", \"2020-03-14T00:00:00\", \"2020-03-15T00:00:00\", \"2020-03-16T00:00:00\", \"2020-03-17T00:00:00\", \"2020-03-18T00:00:00\", \"2020-03-19T00:00:00\", \"2020-03-20T00:00:00\", \"2020-03-21T00:00:00\", \"2020-03-22T00:00:00\", \"2020-03-23T00:00:00\", \"2020-03-24T00:00:00\", \"2020-03-25T00:00:00\", \"2020-03-26T00:00:00\", \"2020-03-27T00:00:00\", \"2020-03-28T00:00:00\", \"2020-03-29T00:00:00\", \"2020-03-30T00:00:00\", \"2020-03-31T00:00:00\", \"2020-04-01T00:00:00\", \"2020-04-02T00:00:00\", \"2020-04-03T00:00:00\", \"2020-04-04T00:00:00\", \"2020-04-05T00:00:00\", \"2020-04-06T00:00:00\", \"2020-04-07T00:00:00\", \"2020-04-08T00:00:00\", \"2020-04-09T00:00:00\", \"2020-04-10T00:00:00\", \"2020-04-11T00:00:00\", \"2020-04-12T00:00:00\", \"2020-04-13T00:00:00\", \"2020-04-14T00:00:00\", \"2020-04-15T00:00:00\", \"2020-04-16T00:00:00\", \"2020-04-17T00:00:00\", \"2020-04-18T00:00:00\", \"2020-04-19T00:00:00\", \"2020-04-20T00:00:00\", \"2020-04-21T00:00:00\", \"2020-04-22T00:00:00\", \"2020-04-23T00:00:00\", \"2020-04-24T00:00:00\", \"2020-04-25T00:00:00\", \"2020-04-26T00:00:00\"], \"xaxis\": \"x\", \"y\": [570, 670, 962, 1471, 2167, 3000, 5697, 6283, 8388, 10113, 12269, 17117, 20275, 24350, 28162, 31382, 35002, 37815, 40940, 43585, 45724, 46108, 61508, 68134, 70355, 72578, 74608, 76536, 77074, 77667, 78190, 79917, 80081, 80573, 81350, 82084, 82978, 83817, 84959, 86773, 88177, 89916, 91832, 94206, 97692, 101340, 105223, 108998, 113992, 121083, 123562, 140738, 151884, 162764, 177458, 193238, 212741, 240031, 270200, 303296, 336792, 378779, 420067, 471026, 534612, 600176, 669494, 730920, 795791, 873810, 952335, 1036675, 1122673, 1205851, 1281977, 1356656, 1436231, 1523345, 1612422, 1707518, 1787962, 1888452, 1959569, 2031317, 2113356, 2210386, 2299655, 2372576, 2452245, 2520516, 2595442, 2668422, 2756922, 2855219, 2939200, 3007720], \"yaxis\": \"y\"}],\n",
       "                        {\"height\": 800, \"legend\": {\"title\": {\"text\": \"Case\"}, \"tracegroupgap\": 0}, \"template\": {\"data\": {\"bar\": [{\"error_x\": {\"color\": \"#2a3f5f\"}, \"error_y\": {\"color\": \"#2a3f5f\"}, \"marker\": {\"line\": {\"color\": \"#E5ECF6\", \"width\": 0.5}}, \"type\": \"bar\"}], \"barpolar\": [{\"marker\": {\"line\": {\"color\": \"#E5ECF6\", \"width\": 0.5}}, \"type\": \"barpolar\"}], \"carpet\": [{\"aaxis\": {\"endlinecolor\": \"#2a3f5f\", \"gridcolor\": \"white\", \"linecolor\": \"white\", \"minorgridcolor\": \"white\", \"startlinecolor\": \"#2a3f5f\"}, \"baxis\": {\"endlinecolor\": \"#2a3f5f\", \"gridcolor\": \"white\", \"linecolor\": \"white\", \"minorgridcolor\": \"white\", \"startlinecolor\": \"#2a3f5f\"}, \"type\": \"carpet\"}], \"choropleth\": [{\"colorbar\": {\"outlinewidth\": 0, \"ticks\": \"\"}, \"type\": \"choropleth\"}], \"contour\": [{\"colorbar\": {\"outlinewidth\": 0, \"ticks\": \"\"}, \"colorscale\": [[0.0, \"#0d0887\"], [0.1111111111111111, \"#46039f\"], [0.2222222222222222, \"#7201a8\"], [0.3333333333333333, \"#9c179e\"], [0.4444444444444444, \"#bd3786\"], [0.5555555555555556, \"#d8576b\"], [0.6666666666666666, \"#ed7953\"], [0.7777777777777778, \"#fb9f3a\"], [0.8888888888888888, \"#fdca26\"], [1.0, \"#f0f921\"]], \"type\": \"contour\"}], \"contourcarpet\": [{\"colorbar\": {\"outlinewidth\": 0, \"ticks\": \"\"}, \"type\": \"contourcarpet\"}], \"heatmap\": [{\"colorbar\": {\"outlinewidth\": 0, \"ticks\": \"\"}, \"colorscale\": [[0.0, \"#0d0887\"], [0.1111111111111111, \"#46039f\"], [0.2222222222222222, \"#7201a8\"], [0.3333333333333333, \"#9c179e\"], [0.4444444444444444, \"#bd3786\"], [0.5555555555555556, \"#d8576b\"], [0.6666666666666666, \"#ed7953\"], [0.7777777777777778, \"#fb9f3a\"], [0.8888888888888888, \"#fdca26\"], [1.0, \"#f0f921\"]], \"type\": \"heatmap\"}], \"heatmapgl\": [{\"colorbar\": {\"outlinewidth\": 0, \"ticks\": \"\"}, \"colorscale\": [[0.0, \"#0d0887\"], [0.1111111111111111, \"#46039f\"], [0.2222222222222222, \"#7201a8\"], [0.3333333333333333, \"#9c179e\"], [0.4444444444444444, \"#bd3786\"], [0.5555555555555556, \"#d8576b\"], [0.6666666666666666, \"#ed7953\"], [0.7777777777777778, \"#fb9f3a\"], [0.8888888888888888, \"#fdca26\"], [1.0, \"#f0f921\"]], \"type\": \"heatmapgl\"}], \"histogram\": [{\"marker\": {\"colorbar\": {\"outlinewidth\": 0, \"ticks\": \"\"}}, \"type\": \"histogram\"}], \"histogram2d\": [{\"colorbar\": {\"outlinewidth\": 0, \"ticks\": \"\"}, \"colorscale\": [[0.0, \"#0d0887\"], [0.1111111111111111, \"#46039f\"], [0.2222222222222222, \"#7201a8\"], [0.3333333333333333, \"#9c179e\"], [0.4444444444444444, \"#bd3786\"], [0.5555555555555556, \"#d8576b\"], [0.6666666666666666, \"#ed7953\"], [0.7777777777777778, \"#fb9f3a\"], [0.8888888888888888, \"#fdca26\"], [1.0, \"#f0f921\"]], \"type\": \"histogram2d\"}], \"histogram2dcontour\": [{\"colorbar\": {\"outlinewidth\": 0, \"ticks\": \"\"}, \"colorscale\": [[0.0, \"#0d0887\"], [0.1111111111111111, \"#46039f\"], [0.2222222222222222, \"#7201a8\"], [0.3333333333333333, \"#9c179e\"], [0.4444444444444444, \"#bd3786\"], [0.5555555555555556, \"#d8576b\"], [0.6666666666666666, \"#ed7953\"], [0.7777777777777778, \"#fb9f3a\"], [0.8888888888888888, \"#fdca26\"], [1.0, \"#f0f921\"]], \"type\": \"histogram2dcontour\"}], \"mesh3d\": [{\"colorbar\": {\"outlinewidth\": 0, \"ticks\": \"\"}, \"type\": \"mesh3d\"}], \"parcoords\": [{\"line\": {\"colorbar\": {\"outlinewidth\": 0, \"ticks\": \"\"}}, \"type\": \"parcoords\"}], \"pie\": [{\"automargin\": true, \"type\": \"pie\"}], \"scatter\": [{\"marker\": {\"colorbar\": {\"outlinewidth\": 0, \"ticks\": \"\"}}, \"type\": \"scatter\"}], \"scatter3d\": [{\"line\": {\"colorbar\": {\"outlinewidth\": 0, \"ticks\": \"\"}}, \"marker\": {\"colorbar\": {\"outlinewidth\": 0, \"ticks\": \"\"}}, \"type\": \"scatter3d\"}], \"scattercarpet\": [{\"marker\": {\"colorbar\": {\"outlinewidth\": 0, \"ticks\": \"\"}}, \"type\": \"scattercarpet\"}], \"scattergeo\": [{\"marker\": {\"colorbar\": {\"outlinewidth\": 0, \"ticks\": \"\"}}, \"type\": \"scattergeo\"}], \"scattergl\": [{\"marker\": {\"colorbar\": {\"outlinewidth\": 0, \"ticks\": \"\"}}, \"type\": \"scattergl\"}], \"scattermapbox\": [{\"marker\": {\"colorbar\": {\"outlinewidth\": 0, \"ticks\": \"\"}}, \"type\": \"scattermapbox\"}], \"scatterpolar\": [{\"marker\": {\"colorbar\": {\"outlinewidth\": 0, \"ticks\": \"\"}}, \"type\": \"scatterpolar\"}], \"scatterpolargl\": [{\"marker\": {\"colorbar\": {\"outlinewidth\": 0, \"ticks\": \"\"}}, \"type\": \"scatterpolargl\"}], \"scatterternary\": [{\"marker\": {\"colorbar\": {\"outlinewidth\": 0, \"ticks\": \"\"}}, \"type\": \"scatterternary\"}], \"surface\": [{\"colorbar\": {\"outlinewidth\": 0, \"ticks\": \"\"}, \"colorscale\": [[0.0, \"#0d0887\"], [0.1111111111111111, \"#46039f\"], [0.2222222222222222, \"#7201a8\"], [0.3333333333333333, \"#9c179e\"], [0.4444444444444444, \"#bd3786\"], [0.5555555555555556, \"#d8576b\"], [0.6666666666666666, \"#ed7953\"], [0.7777777777777778, \"#fb9f3a\"], [0.8888888888888888, \"#fdca26\"], [1.0, \"#f0f921\"]], \"type\": \"surface\"}], \"table\": [{\"cells\": {\"fill\": {\"color\": \"#EBF0F8\"}, \"line\": {\"color\": \"white\"}}, \"header\": {\"fill\": {\"color\": \"#C8D4E3\"}, \"line\": {\"color\": \"white\"}}, \"type\": \"table\"}]}, \"layout\": {\"annotationdefaults\": {\"arrowcolor\": \"#2a3f5f\", \"arrowhead\": 0, \"arrowwidth\": 1}, \"coloraxis\": {\"colorbar\": {\"outlinewidth\": 0, \"ticks\": \"\"}}, \"colorscale\": {\"diverging\": [[0, \"#8e0152\"], [0.1, \"#c51b7d\"], [0.2, \"#de77ae\"], [0.3, \"#f1b6da\"], [0.4, \"#fde0ef\"], [0.5, \"#f7f7f7\"], [0.6, \"#e6f5d0\"], [0.7, \"#b8e186\"], [0.8, \"#7fbc41\"], [0.9, \"#4d9221\"], [1, \"#276419\"]], \"sequential\": [[0.0, \"#0d0887\"], [0.1111111111111111, \"#46039f\"], [0.2222222222222222, \"#7201a8\"], [0.3333333333333333, \"#9c179e\"], [0.4444444444444444, \"#bd3786\"], [0.5555555555555556, \"#d8576b\"], [0.6666666666666666, \"#ed7953\"], [0.7777777777777778, \"#fb9f3a\"], [0.8888888888888888, \"#fdca26\"], [1.0, \"#f0f921\"]], \"sequentialminus\": [[0.0, \"#0d0887\"], [0.1111111111111111, \"#46039f\"], [0.2222222222222222, \"#7201a8\"], [0.3333333333333333, \"#9c179e\"], [0.4444444444444444, \"#bd3786\"], [0.5555555555555556, \"#d8576b\"], [0.6666666666666666, \"#ed7953\"], [0.7777777777777778, \"#fb9f3a\"], [0.8888888888888888, \"#fdca26\"], [1.0, \"#f0f921\"]]}, \"colorway\": [\"#636efa\", \"#EF553B\", \"#00cc96\", \"#ab63fa\", \"#FFA15A\", \"#19d3f3\", \"#FF6692\", \"#B6E880\", \"#FF97FF\", \"#FECB52\"], \"font\": {\"color\": \"#2a3f5f\"}, \"geo\": {\"bgcolor\": \"white\", \"lakecolor\": \"white\", \"landcolor\": \"#E5ECF6\", \"showlakes\": true, \"showland\": true, \"subunitcolor\": \"white\"}, \"hoverlabel\": {\"align\": \"left\"}, \"hovermode\": \"closest\", \"mapbox\": {\"style\": \"light\"}, \"paper_bgcolor\": \"white\", \"plot_bgcolor\": \"#E5ECF6\", \"polar\": {\"angularaxis\": {\"gridcolor\": \"white\", \"linecolor\": \"white\", \"ticks\": \"\"}, \"bgcolor\": \"#E5ECF6\", \"radialaxis\": {\"gridcolor\": \"white\", \"linecolor\": \"white\", \"ticks\": \"\"}}, \"scene\": {\"xaxis\": {\"backgroundcolor\": \"#E5ECF6\", \"gridcolor\": \"white\", \"gridwidth\": 2, \"linecolor\": \"white\", \"showbackground\": true, \"ticks\": \"\", \"zerolinecolor\": \"white\"}, \"yaxis\": {\"backgroundcolor\": \"#E5ECF6\", \"gridcolor\": \"white\", \"gridwidth\": 2, \"linecolor\": \"white\", \"showbackground\": true, \"ticks\": \"\", \"zerolinecolor\": \"white\"}, \"zaxis\": {\"backgroundcolor\": \"#E5ECF6\", \"gridcolor\": \"white\", \"gridwidth\": 2, \"linecolor\": \"white\", \"showbackground\": true, \"ticks\": \"\", \"zerolinecolor\": \"white\"}}, \"shapedefaults\": {\"line\": {\"color\": \"#2a3f5f\"}}, \"ternary\": {\"aaxis\": {\"gridcolor\": \"white\", \"linecolor\": \"white\", \"ticks\": \"\"}, \"baxis\": {\"gridcolor\": \"white\", \"linecolor\": \"white\", \"ticks\": \"\"}, \"bgcolor\": \"#E5ECF6\", \"caxis\": {\"gridcolor\": \"white\", \"linecolor\": \"white\", \"ticks\": \"\"}}, \"title\": {\"x\": 0.05}, \"xaxis\": {\"automargin\": true, \"gridcolor\": \"white\", \"linecolor\": \"white\", \"ticks\": \"\", \"title\": {\"standoff\": 15}, \"zerolinecolor\": \"white\", \"zerolinewidth\": 2}, \"yaxis\": {\"automargin\": true, \"gridcolor\": \"white\", \"linecolor\": \"white\", \"ticks\": \"\", \"title\": {\"standoff\": 15}, \"zerolinecolor\": \"white\", \"zerolinewidth\": 2}}}, \"title\": {\"text\": \"Cases over time\"}, \"xaxis\": {\"anchor\": \"y\", \"domain\": [0.0, 1.0], \"rangeslider\": {\"visible\": true}, \"title\": {\"text\": \"Date\"}}, \"yaxis\": {\"anchor\": \"x\", \"domain\": [0.0, 1.0], \"title\": {\"text\": \"Count\"}}},\n",
       "                        {\"responsive\": true}\n",
       "                    ).then(function(){\n",
       "                            \n",
       "var gd = document.getElementById('627f54c3-ea5e-4592-92f7-fe9d1bc12815');\n",
       "var x = new MutationObserver(function (mutations, observer) {{\n",
       "        var display = window.getComputedStyle(gd).display;\n",
       "        if (!display || display === 'none') {{\n",
       "            console.log([gd, 'removed!']);\n",
       "            Plotly.purge(gd);\n",
       "            observer.disconnect();\n",
       "        }}\n",
       "}});\n",
       "\n",
       "// Listen for the removal of the full notebook cells\n",
       "var notebookContainer = gd.closest('#notebook-container');\n",
       "if (notebookContainer) {{\n",
       "    x.observe(notebookContainer, {childList: true});\n",
       "}}\n",
       "\n",
       "// Listen for the clearing of the current output cell\n",
       "var outputEl = gd.closest('.output');\n",
       "if (outputEl) {{\n",
       "    x.observe(outputEl, {childList: true});\n",
       "}}\n",
       "\n",
       "                        })\n",
       "                };\n",
       "                });\n",
       "            </script>\n",
       "        </div>"
      ]
     },
     "metadata": {},
     "output_type": "display_data"
    }
   ],
   "source": [
    "# using plotly express\n",
    "fig = px.area(Case_Count, x=\"Date\", y=\"Count\", color='Case', height=800,\n",
    "             title='Cases over time', color_discrete_sequence = ['Crimson'], orientation = 'v')\n",
    "fig.update_layout(xaxis_rangeslider_visible=True)\n",
    "fig.show()"
   ]
  },
  {
   "cell_type": "markdown",
   "metadata": {},
   "source": [
    "Trial and error using confirmed cases."
   ]
  },
  {
   "cell_type": "code",
   "execution_count": 15,
   "metadata": {},
   "outputs": [
    {
     "data": {
      "text/html": [
       "<div>\n",
       "<style scoped>\n",
       "    .dataframe tbody tr th:only-of-type {\n",
       "        vertical-align: middle;\n",
       "    }\n",
       "\n",
       "    .dataframe tbody tr th {\n",
       "        vertical-align: top;\n",
       "    }\n",
       "\n",
       "    .dataframe thead th {\n",
       "        text-align: right;\n",
       "    }\n",
       "</style>\n",
       "<table border=\"1\" class=\"dataframe\">\n",
       "  <thead>\n",
       "    <tr style=\"text-align: right;\">\n",
       "      <th></th>\n",
       "      <th>Case_Type</th>\n",
       "      <th>People_Total_Tested_Count</th>\n",
       "      <th>Cases</th>\n",
       "      <th>Difference</th>\n",
       "      <th>Date</th>\n",
       "      <th>Combined_Key</th>\n",
       "      <th>Country_Region</th>\n",
       "      <th>Province_State</th>\n",
       "      <th>Admin2</th>\n",
       "      <th>iso2</th>\n",
       "      <th>iso3</th>\n",
       "      <th>FIPS</th>\n",
       "      <th>Lat</th>\n",
       "      <th>Long</th>\n",
       "      <th>Population_Count</th>\n",
       "      <th>People_Hospitalized_Cumulative_Count</th>\n",
       "      <th>Data_Source</th>\n",
       "      <th>Prep_Flow_Runtime</th>\n",
       "      <th>country</th>\n",
       "      <th>iso_alpha</th>\n",
       "    </tr>\n",
       "  </thead>\n",
       "  <tbody>\n",
       "    <tr>\n",
       "      <td>0</td>\n",
       "      <td>Confirmed</td>\n",
       "      <td>NaN</td>\n",
       "      <td>0</td>\n",
       "      <td>0</td>\n",
       "      <td>2020-02-03</td>\n",
       "      <td>Switzerland</td>\n",
       "      <td>Switzerland</td>\n",
       "      <td>NaN</td>\n",
       "      <td>NaN</td>\n",
       "      <td>CH</td>\n",
       "      <td>CHE</td>\n",
       "      <td>NaN</td>\n",
       "      <td>46.8182</td>\n",
       "      <td>8.2275</td>\n",
       "      <td>8654618.0</td>\n",
       "      <td>NaN</td>\n",
       "      <td>2019 Novel Coronavirus COVID-19 (2019-nCoV) Da...</td>\n",
       "      <td>4/26/2020 11:21:38 PM</td>\n",
       "      <td>Switzerland</td>\n",
       "      <td>CHE</td>\n",
       "    </tr>\n",
       "    <tr>\n",
       "      <td>2</td>\n",
       "      <td>Confirmed</td>\n",
       "      <td>NaN</td>\n",
       "      <td>18</td>\n",
       "      <td>10</td>\n",
       "      <td>2020-02-29</td>\n",
       "      <td>Switzerland</td>\n",
       "      <td>Switzerland</td>\n",
       "      <td>NaN</td>\n",
       "      <td>NaN</td>\n",
       "      <td>CH</td>\n",
       "      <td>CHE</td>\n",
       "      <td>NaN</td>\n",
       "      <td>46.8182</td>\n",
       "      <td>8.2275</td>\n",
       "      <td>8654618.0</td>\n",
       "      <td>NaN</td>\n",
       "      <td>2019 Novel Coronavirus COVID-19 (2019-nCoV) Da...</td>\n",
       "      <td>4/26/2020 11:21:38 PM</td>\n",
       "      <td>Switzerland</td>\n",
       "      <td>CHE</td>\n",
       "    </tr>\n",
       "    <tr>\n",
       "      <td>3</td>\n",
       "      <td>Confirmed</td>\n",
       "      <td>NaN</td>\n",
       "      <td>214</td>\n",
       "      <td>100</td>\n",
       "      <td>2020-03-06</td>\n",
       "      <td>Switzerland</td>\n",
       "      <td>Switzerland</td>\n",
       "      <td>NaN</td>\n",
       "      <td>NaN</td>\n",
       "      <td>CH</td>\n",
       "      <td>CHE</td>\n",
       "      <td>NaN</td>\n",
       "      <td>46.8182</td>\n",
       "      <td>8.2275</td>\n",
       "      <td>8654618.0</td>\n",
       "      <td>NaN</td>\n",
       "      <td>2019 Novel Coronavirus COVID-19 (2019-nCoV) Da...</td>\n",
       "      <td>4/26/2020 11:21:38 PM</td>\n",
       "      <td>Switzerland</td>\n",
       "      <td>CHE</td>\n",
       "    </tr>\n",
       "    <tr>\n",
       "      <td>13</td>\n",
       "      <td>Confirmed</td>\n",
       "      <td>NaN</td>\n",
       "      <td>8</td>\n",
       "      <td>7</td>\n",
       "      <td>2020-02-27</td>\n",
       "      <td>Switzerland</td>\n",
       "      <td>Switzerland</td>\n",
       "      <td>NaN</td>\n",
       "      <td>NaN</td>\n",
       "      <td>CH</td>\n",
       "      <td>CHE</td>\n",
       "      <td>NaN</td>\n",
       "      <td>46.8182</td>\n",
       "      <td>8.2275</td>\n",
       "      <td>8654618.0</td>\n",
       "      <td>NaN</td>\n",
       "      <td>2019 Novel Coronavirus COVID-19 (2019-nCoV) Da...</td>\n",
       "      <td>4/26/2020 11:21:38 PM</td>\n",
       "      <td>Switzerland</td>\n",
       "      <td>CHE</td>\n",
       "    </tr>\n",
       "    <tr>\n",
       "      <td>15</td>\n",
       "      <td>Confirmed</td>\n",
       "      <td>NaN</td>\n",
       "      <td>19606</td>\n",
       "      <td>779</td>\n",
       "      <td>2020-04-03</td>\n",
       "      <td>Switzerland</td>\n",
       "      <td>Switzerland</td>\n",
       "      <td>NaN</td>\n",
       "      <td>NaN</td>\n",
       "      <td>CH</td>\n",
       "      <td>CHE</td>\n",
       "      <td>NaN</td>\n",
       "      <td>46.8182</td>\n",
       "      <td>8.2275</td>\n",
       "      <td>8654618.0</td>\n",
       "      <td>NaN</td>\n",
       "      <td>2019 Novel Coronavirus COVID-19 (2019-nCoV) Da...</td>\n",
       "      <td>4/26/2020 11:21:38 PM</td>\n",
       "      <td>Switzerland</td>\n",
       "      <td>CHE</td>\n",
       "    </tr>\n",
       "  </tbody>\n",
       "</table>\n",
       "</div>"
      ],
      "text/plain": [
       "    Case_Type  People_Total_Tested_Count  Cases  Difference       Date  \\\n",
       "0   Confirmed                        NaN      0           0 2020-02-03   \n",
       "2   Confirmed                        NaN     18          10 2020-02-29   \n",
       "3   Confirmed                        NaN    214         100 2020-03-06   \n",
       "13  Confirmed                        NaN      8           7 2020-02-27   \n",
       "15  Confirmed                        NaN  19606         779 2020-04-03   \n",
       "\n",
       "   Combined_Key Country_Region Province_State Admin2 iso2 iso3  FIPS      Lat  \\\n",
       "0   Switzerland    Switzerland            NaN    NaN   CH  CHE   NaN  46.8182   \n",
       "2   Switzerland    Switzerland            NaN    NaN   CH  CHE   NaN  46.8182   \n",
       "3   Switzerland    Switzerland            NaN    NaN   CH  CHE   NaN  46.8182   \n",
       "13  Switzerland    Switzerland            NaN    NaN   CH  CHE   NaN  46.8182   \n",
       "15  Switzerland    Switzerland            NaN    NaN   CH  CHE   NaN  46.8182   \n",
       "\n",
       "      Long  Population_Count  People_Hospitalized_Cumulative_Count  \\\n",
       "0   8.2275         8654618.0                                   NaN   \n",
       "2   8.2275         8654618.0                                   NaN   \n",
       "3   8.2275         8654618.0                                   NaN   \n",
       "13  8.2275         8654618.0                                   NaN   \n",
       "15  8.2275         8654618.0                                   NaN   \n",
       "\n",
       "                                          Data_Source      Prep_Flow_Runtime  \\\n",
       "0   2019 Novel Coronavirus COVID-19 (2019-nCoV) Da...  4/26/2020 11:21:38 PM   \n",
       "2   2019 Novel Coronavirus COVID-19 (2019-nCoV) Da...  4/26/2020 11:21:38 PM   \n",
       "3   2019 Novel Coronavirus COVID-19 (2019-nCoV) Da...  4/26/2020 11:21:38 PM   \n",
       "13  2019 Novel Coronavirus COVID-19 (2019-nCoV) Da...  4/26/2020 11:21:38 PM   \n",
       "15  2019 Novel Coronavirus COVID-19 (2019-nCoV) Da...  4/26/2020 11:21:38 PM   \n",
       "\n",
       "        country iso_alpha  \n",
       "0   Switzerland       CHE  \n",
       "2   Switzerland       CHE  \n",
       "3   Switzerland       CHE  \n",
       "13  Switzerland       CHE  \n",
       "15  Switzerland       CHE  "
      ]
     },
     "execution_count": 15,
     "metadata": {},
     "output_type": "execute_result"
    }
   ],
   "source": [
    "Confirmed_Cases = df.loc[df['Case_Type'] == \"Confirmed\"]\n",
    "Confirmed_Cases.head()"
   ]
  },
  {
   "cell_type": "markdown",
   "metadata": {},
   "source": [
    "For our dataset, We have the number of cases adding up rather than distinct value and hence, we need to display the most recent case number to keep the visualization updated. Here, We selected the most recent date and only confirmed cases to move forward with our study. we grouped by the country and cases into a int datatype."
   ]
  },
  {
   "cell_type": "code",
   "execution_count": 16,
   "metadata": {},
   "outputs": [
    {
     "data": {
      "text/plain": [
       "Country_Region\n",
       "Afghanistan    1531\n",
       "Albania         726\n",
       "Algeria        3382\n",
       "Angola           26\n",
       "Argentina      3892\n",
       "Name: Cases, dtype: int64"
      ]
     },
     "execution_count": 16,
     "metadata": {},
     "output_type": "execute_result"
    }
   ],
   "source": [
    "recent_date = df['Date'].max()\n",
    "recent_cases = df.loc[(df['Date'] == recent_date) & (df['Case_Type']==\"Confirmed\")].groupby(\"Country_Region\")[\"Cases\"].sum()\n",
    "recent_cases.head()"
   ]
  },
  {
   "cell_type": "code",
   "execution_count": 17,
   "metadata": {},
   "outputs": [
    {
     "data": {
      "text/html": [
       "<div>\n",
       "<style scoped>\n",
       "    .dataframe tbody tr th:only-of-type {\n",
       "        vertical-align: middle;\n",
       "    }\n",
       "\n",
       "    .dataframe tbody tr th {\n",
       "        vertical-align: top;\n",
       "    }\n",
       "\n",
       "    .dataframe thead th {\n",
       "        text-align: right;\n",
       "    }\n",
       "</style>\n",
       "<table border=\"1\" class=\"dataframe\">\n",
       "  <thead>\n",
       "    <tr style=\"text-align: right;\">\n",
       "      <th></th>\n",
       "      <th>Country_Region</th>\n",
       "      <th>Cases</th>\n",
       "    </tr>\n",
       "  </thead>\n",
       "  <tbody>\n",
       "    <tr>\n",
       "      <td>0</td>\n",
       "      <td>Afghanistan</td>\n",
       "      <td>1531</td>\n",
       "    </tr>\n",
       "    <tr>\n",
       "      <td>1</td>\n",
       "      <td>Albania</td>\n",
       "      <td>726</td>\n",
       "    </tr>\n",
       "    <tr>\n",
       "      <td>2</td>\n",
       "      <td>Algeria</td>\n",
       "      <td>3382</td>\n",
       "    </tr>\n",
       "    <tr>\n",
       "      <td>3</td>\n",
       "      <td>Angola</td>\n",
       "      <td>26</td>\n",
       "    </tr>\n",
       "    <tr>\n",
       "      <td>4</td>\n",
       "      <td>Argentina</td>\n",
       "      <td>3892</td>\n",
       "    </tr>\n",
       "  </tbody>\n",
       "</table>\n",
       "</div>"
      ],
      "text/plain": [
       "  Country_Region  Cases\n",
       "0    Afghanistan   1531\n",
       "1        Albania    726\n",
       "2        Algeria   3382\n",
       "3         Angola     26\n",
       "4      Argentina   3892"
      ]
     },
     "execution_count": 17,
     "metadata": {},
     "output_type": "execute_result"
    }
   ],
   "source": [
    "#creating a dataframe from the list above\n",
    "Country_Wise_Sort = df.loc[(df['Date'] == recent_date) & (df['Case_Type']==\"Confirmed\")].groupby(\"Country_Region\", as_index = False)[\"Cases\"].sum()\n",
    "Country_Wise_Sort.head()"
   ]
  },
  {
   "cell_type": "code",
   "execution_count": 18,
   "metadata": {},
   "outputs": [
    {
     "data": {
      "text/html": [
       "<div>\n",
       "<style scoped>\n",
       "    .dataframe tbody tr th:only-of-type {\n",
       "        vertical-align: middle;\n",
       "    }\n",
       "\n",
       "    .dataframe tbody tr th {\n",
       "        vertical-align: top;\n",
       "    }\n",
       "\n",
       "    .dataframe thead th {\n",
       "        text-align: right;\n",
       "    }\n",
       "</style>\n",
       "<table border=\"1\" class=\"dataframe\">\n",
       "  <thead>\n",
       "    <tr style=\"text-align: right;\">\n",
       "      <th></th>\n",
       "      <th>Country_Region</th>\n",
       "      <th>Cases</th>\n",
       "    </tr>\n",
       "  </thead>\n",
       "  <tbody>\n",
       "    <tr>\n",
       "      <td>118</td>\n",
       "      <td>US</td>\n",
       "      <td>965633</td>\n",
       "    </tr>\n",
       "    <tr>\n",
       "      <td>106</td>\n",
       "      <td>Spain</td>\n",
       "      <td>226629</td>\n",
       "    </tr>\n",
       "    <tr>\n",
       "      <td>59</td>\n",
       "      <td>Italy</td>\n",
       "      <td>197675</td>\n",
       "    </tr>\n",
       "    <tr>\n",
       "      <td>40</td>\n",
       "      <td>France</td>\n",
       "      <td>162220</td>\n",
       "    </tr>\n",
       "    <tr>\n",
       "      <td>43</td>\n",
       "      <td>Germany</td>\n",
       "      <td>157770</td>\n",
       "    </tr>\n",
       "    <tr>\n",
       "      <td>...</td>\n",
       "      <td>...</td>\n",
       "      <td>...</td>\n",
       "    </tr>\n",
       "    <tr>\n",
       "      <td>83</td>\n",
       "      <td>Nicaragua</td>\n",
       "      <td>13</td>\n",
       "    </tr>\n",
       "    <tr>\n",
       "      <td>17</td>\n",
       "      <td>Burundi</td>\n",
       "      <td>11</td>\n",
       "    </tr>\n",
       "    <tr>\n",
       "      <td>42</td>\n",
       "      <td>Gambia</td>\n",
       "      <td>10</td>\n",
       "    </tr>\n",
       "    <tr>\n",
       "      <td>72</td>\n",
       "      <td>Mauritania</td>\n",
       "      <td>7</td>\n",
       "    </tr>\n",
       "    <tr>\n",
       "      <td>97</td>\n",
       "      <td>Sao Tome and Principe</td>\n",
       "      <td>4</td>\n",
       "    </tr>\n",
       "  </tbody>\n",
       "</table>\n",
       "<p>127 rows × 2 columns</p>\n",
       "</div>"
      ],
      "text/plain": [
       "            Country_Region   Cases\n",
       "118                     US  965633\n",
       "106                  Spain  226629\n",
       "59                   Italy  197675\n",
       "40                  France  162220\n",
       "43                 Germany  157770\n",
       "..                     ...     ...\n",
       "83               Nicaragua      13\n",
       "17                 Burundi      11\n",
       "42                  Gambia      10\n",
       "72              Mauritania       7\n",
       "97   Sao Tome and Principe       4\n",
       "\n",
       "[127 rows x 2 columns]"
      ]
     },
     "execution_count": 18,
     "metadata": {},
     "output_type": "execute_result"
    }
   ],
   "source": [
    "#we create a table to visualize the most hit country by the case\n",
    "Most_Cases = Country_Wise_Sort.sort_values('Cases', ascending= False)\n",
    "Most_Cases"
   ]
  },
  {
   "cell_type": "code",
   "execution_count": 19,
   "metadata": {
    "scrolled": false
   },
   "outputs": [
    {
     "data": {
      "text/html": [
       "<div>\n",
       "<style scoped>\n",
       "    .dataframe tbody tr th:only-of-type {\n",
       "        vertical-align: middle;\n",
       "    }\n",
       "\n",
       "    .dataframe tbody tr th {\n",
       "        vertical-align: top;\n",
       "    }\n",
       "\n",
       "    .dataframe thead th {\n",
       "        text-align: right;\n",
       "    }\n",
       "</style>\n",
       "<table border=\"1\" class=\"dataframe\">\n",
       "  <thead>\n",
       "    <tr style=\"text-align: right;\">\n",
       "      <th></th>\n",
       "      <th>Country_Region</th>\n",
       "      <th>iso_alpha</th>\n",
       "      <th>Cases</th>\n",
       "    </tr>\n",
       "  </thead>\n",
       "  <tbody>\n",
       "    <tr>\n",
       "      <td>118</td>\n",
       "      <td>US</td>\n",
       "      <td>USA</td>\n",
       "      <td>965633</td>\n",
       "    </tr>\n",
       "    <tr>\n",
       "      <td>106</td>\n",
       "      <td>Spain</td>\n",
       "      <td>ESP</td>\n",
       "      <td>226629</td>\n",
       "    </tr>\n",
       "    <tr>\n",
       "      <td>59</td>\n",
       "      <td>Italy</td>\n",
       "      <td>ITA</td>\n",
       "      <td>197675</td>\n",
       "    </tr>\n",
       "    <tr>\n",
       "      <td>40</td>\n",
       "      <td>France</td>\n",
       "      <td>FRA</td>\n",
       "      <td>162220</td>\n",
       "    </tr>\n",
       "    <tr>\n",
       "      <td>43</td>\n",
       "      <td>Germany</td>\n",
       "      <td>DEU</td>\n",
       "      <td>157770</td>\n",
       "    </tr>\n",
       "    <tr>\n",
       "      <td>...</td>\n",
       "      <td>...</td>\n",
       "      <td>...</td>\n",
       "      <td>...</td>\n",
       "    </tr>\n",
       "    <tr>\n",
       "      <td>83</td>\n",
       "      <td>Nicaragua</td>\n",
       "      <td>NIC</td>\n",
       "      <td>13</td>\n",
       "    </tr>\n",
       "    <tr>\n",
       "      <td>17</td>\n",
       "      <td>Burundi</td>\n",
       "      <td>BDI</td>\n",
       "      <td>11</td>\n",
       "    </tr>\n",
       "    <tr>\n",
       "      <td>42</td>\n",
       "      <td>Gambia</td>\n",
       "      <td>GMB</td>\n",
       "      <td>10</td>\n",
       "    </tr>\n",
       "    <tr>\n",
       "      <td>72</td>\n",
       "      <td>Mauritania</td>\n",
       "      <td>MRT</td>\n",
       "      <td>7</td>\n",
       "    </tr>\n",
       "    <tr>\n",
       "      <td>97</td>\n",
       "      <td>Sao Tome and Principe</td>\n",
       "      <td>STP</td>\n",
       "      <td>4</td>\n",
       "    </tr>\n",
       "  </tbody>\n",
       "</table>\n",
       "<p>127 rows × 3 columns</p>\n",
       "</div>"
      ],
      "text/plain": [
       "            Country_Region iso_alpha   Cases\n",
       "118                     US       USA  965633\n",
       "106                  Spain       ESP  226629\n",
       "59                   Italy       ITA  197675\n",
       "40                  France       FRA  162220\n",
       "43                 Germany       DEU  157770\n",
       "..                     ...       ...     ...\n",
       "83               Nicaragua       NIC      13\n",
       "17                 Burundi       BDI      11\n",
       "42                  Gambia       GMB      10\n",
       "72              Mauritania       MRT       7\n",
       "97   Sao Tome and Principe       STP       4\n",
       "\n",
       "[127 rows x 3 columns]"
      ]
     },
     "execution_count": 19,
     "metadata": {},
     "output_type": "execute_result"
    }
   ],
   "source": [
    "#viewed countries with top cases\n",
    "iso_data = df.loc[(df['Date'] == recent_date) & (df['Case_Type']==\"Confirmed\")].groupby([\"Country_Region\",\"iso_alpha\"],as_index=False)[\"Cases\"].sum()\n",
    "iso_data.sort_values('Cases',ascending = False)"
   ]
  },
  {
   "cell_type": "markdown",
   "metadata": {},
   "source": [
    "# Figure 2 - Bubblemap with Hover and point feature with world map (Zoom and pan feature using plotly)"
   ]
  },
  {
   "cell_type": "code",
   "execution_count": 20,
   "metadata": {},
   "outputs": [
    {
     "data": {
      "application/vnd.plotly.v1+json": {
       "config": {
        "plotlyServerURL": "https://plot.ly"
       },
       "data": [
        {
         "geo": "geo",
         "hovertemplate": "<b>%{hovertext}</b><br><br>Country_Region=Afghanistan<br>Cases=%{marker.size}<br>iso_alpha=%{location}<extra></extra>",
         "hovertext": [
          1531
         ],
         "legendgroup": "Afghanistan",
         "locations": [
          "AFG"
         ],
         "marker": {
          "color": "#636efa",
          "size": [
           1531
          ],
          "sizemode": "area",
          "sizeref": 2414.0825
         },
         "name": "Afghanistan",
         "showlegend": true,
         "type": "scattergeo"
        },
        {
         "geo": "geo",
         "hovertemplate": "<b>%{hovertext}</b><br><br>Country_Region=Albania<br>Cases=%{marker.size}<br>iso_alpha=%{location}<extra></extra>",
         "hovertext": [
          726
         ],
         "legendgroup": "Albania",
         "locations": [
          "ALB"
         ],
         "marker": {
          "color": "#EF553B",
          "size": [
           726
          ],
          "sizemode": "area",
          "sizeref": 2414.0825
         },
         "name": "Albania",
         "showlegend": true,
         "type": "scattergeo"
        },
        {
         "geo": "geo",
         "hovertemplate": "<b>%{hovertext}</b><br><br>Country_Region=Algeria<br>Cases=%{marker.size}<br>iso_alpha=%{location}<extra></extra>",
         "hovertext": [
          3382
         ],
         "legendgroup": "Algeria",
         "locations": [
          "DZA"
         ],
         "marker": {
          "color": "#00cc96",
          "size": [
           3382
          ],
          "sizemode": "area",
          "sizeref": 2414.0825
         },
         "name": "Algeria",
         "showlegend": true,
         "type": "scattergeo"
        },
        {
         "geo": "geo",
         "hovertemplate": "<b>%{hovertext}</b><br><br>Country_Region=Angola<br>Cases=%{marker.size}<br>iso_alpha=%{location}<extra></extra>",
         "hovertext": [
          26
         ],
         "legendgroup": "Angola",
         "locations": [
          "AGO"
         ],
         "marker": {
          "color": "#ab63fa",
          "size": [
           26
          ],
          "sizemode": "area",
          "sizeref": 2414.0825
         },
         "name": "Angola",
         "showlegend": true,
         "type": "scattergeo"
        },
        {
         "geo": "geo",
         "hovertemplate": "<b>%{hovertext}</b><br><br>Country_Region=Argentina<br>Cases=%{marker.size}<br>iso_alpha=%{location}<extra></extra>",
         "hovertext": [
          3892
         ],
         "legendgroup": "Argentina",
         "locations": [
          "ARG"
         ],
         "marker": {
          "color": "#FFA15A",
          "size": [
           3892
          ],
          "sizemode": "area",
          "sizeref": 2414.0825
         },
         "name": "Argentina",
         "showlegend": true,
         "type": "scattergeo"
        },
        {
         "geo": "geo",
         "hovertemplate": "<b>%{hovertext}</b><br><br>Country_Region=Australia<br>Cases=%{marker.size}<br>iso_alpha=%{location}<extra></extra>",
         "hovertext": [
          6714
         ],
         "legendgroup": "Australia",
         "locations": [
          "AUS"
         ],
         "marker": {
          "color": "#19d3f3",
          "size": [
           6714
          ],
          "sizemode": "area",
          "sizeref": 2414.0825
         },
         "name": "Australia",
         "showlegend": true,
         "type": "scattergeo"
        },
        {
         "geo": "geo",
         "hovertemplate": "<b>%{hovertext}</b><br><br>Country_Region=Austria<br>Cases=%{marker.size}<br>iso_alpha=%{location}<extra></extra>",
         "hovertext": [
          15225
         ],
         "legendgroup": "Austria",
         "locations": [
          "AUT"
         ],
         "marker": {
          "color": "#FF6692",
          "size": [
           15225
          ],
          "sizemode": "area",
          "sizeref": 2414.0825
         },
         "name": "Austria",
         "showlegend": true,
         "type": "scattergeo"
        },
        {
         "geo": "geo",
         "hovertemplate": "<b>%{hovertext}</b><br><br>Country_Region=Bahrain<br>Cases=%{marker.size}<br>iso_alpha=%{location}<extra></extra>",
         "hovertext": [
          2647
         ],
         "legendgroup": "Bahrain",
         "locations": [
          "BHR"
         ],
         "marker": {
          "color": "#B6E880",
          "size": [
           2647
          ],
          "sizemode": "area",
          "sizeref": 2414.0825
         },
         "name": "Bahrain",
         "showlegend": true,
         "type": "scattergeo"
        },
        {
         "geo": "geo",
         "hovertemplate": "<b>%{hovertext}</b><br><br>Country_Region=Bangladesh<br>Cases=%{marker.size}<br>iso_alpha=%{location}<extra></extra>",
         "hovertext": [
          5416
         ],
         "legendgroup": "Bangladesh",
         "locations": [
          "BGD"
         ],
         "marker": {
          "color": "#FF97FF",
          "size": [
           5416
          ],
          "sizemode": "area",
          "sizeref": 2414.0825
         },
         "name": "Bangladesh",
         "showlegend": true,
         "type": "scattergeo"
        },
        {
         "geo": "geo",
         "hovertemplate": "<b>%{hovertext}</b><br><br>Country_Region=Belgium<br>Cases=%{marker.size}<br>iso_alpha=%{location}<extra></extra>",
         "hovertext": [
          46134
         ],
         "legendgroup": "Belgium",
         "locations": [
          "BEL"
         ],
         "marker": {
          "color": "#FECB52",
          "size": [
           46134
          ],
          "sizemode": "area",
          "sizeref": 2414.0825
         },
         "name": "Belgium",
         "showlegend": true,
         "type": "scattergeo"
        },
        {
         "geo": "geo",
         "hovertemplate": "<b>%{hovertext}</b><br><br>Country_Region=Benin<br>Cases=%{marker.size}<br>iso_alpha=%{location}<extra></extra>",
         "hovertext": [
          64
         ],
         "legendgroup": "Benin",
         "locations": [
          "BEN"
         ],
         "marker": {
          "color": "#636efa",
          "size": [
           64
          ],
          "sizemode": "area",
          "sizeref": 2414.0825
         },
         "name": "Benin",
         "showlegend": true,
         "type": "scattergeo"
        },
        {
         "geo": "geo",
         "hovertemplate": "<b>%{hovertext}</b><br><br>Country_Region=Bolivia<br>Cases=%{marker.size}<br>iso_alpha=%{location}<extra></extra>",
         "hovertext": [
          950
         ],
         "legendgroup": "Bolivia",
         "locations": [
          "BOL"
         ],
         "marker": {
          "color": "#EF553B",
          "size": [
           950
          ],
          "sizemode": "area",
          "sizeref": 2414.0825
         },
         "name": "Bolivia",
         "showlegend": true,
         "type": "scattergeo"
        },
        {
         "geo": "geo",
         "hovertemplate": "<b>%{hovertext}</b><br><br>Country_Region=Bosnia and Herzegovina<br>Cases=%{marker.size}<br>iso_alpha=%{location}<extra></extra>",
         "hovertext": [
          1516
         ],
         "legendgroup": "Bosnia and Herzegovina",
         "locations": [
          "BIH"
         ],
         "marker": {
          "color": "#00cc96",
          "size": [
           1516
          ],
          "sizemode": "area",
          "sizeref": 2414.0825
         },
         "name": "Bosnia and Herzegovina",
         "showlegend": true,
         "type": "scattergeo"
        },
        {
         "geo": "geo",
         "hovertemplate": "<b>%{hovertext}</b><br><br>Country_Region=Botswana<br>Cases=%{marker.size}<br>iso_alpha=%{location}<extra></extra>",
         "hovertext": [
          22
         ],
         "legendgroup": "Botswana",
         "locations": [
          "BWA"
         ],
         "marker": {
          "color": "#ab63fa",
          "size": [
           22
          ],
          "sizemode": "area",
          "sizeref": 2414.0825
         },
         "name": "Botswana",
         "showlegend": true,
         "type": "scattergeo"
        },
        {
         "geo": "geo",
         "hovertemplate": "<b>%{hovertext}</b><br><br>Country_Region=Brazil<br>Cases=%{marker.size}<br>iso_alpha=%{location}<extra></extra>",
         "hovertext": [
          63100
         ],
         "legendgroup": "Brazil",
         "locations": [
          "BRA"
         ],
         "marker": {
          "color": "#FFA15A",
          "size": [
           63100
          ],
          "sizemode": "area",
          "sizeref": 2414.0825
         },
         "name": "Brazil",
         "showlegend": true,
         "type": "scattergeo"
        },
        {
         "geo": "geo",
         "hovertemplate": "<b>%{hovertext}</b><br><br>Country_Region=Bulgaria<br>Cases=%{marker.size}<br>iso_alpha=%{location}<extra></extra>",
         "hovertext": [
          1300
         ],
         "legendgroup": "Bulgaria",
         "locations": [
          "BGR"
         ],
         "marker": {
          "color": "#19d3f3",
          "size": [
           1300
          ],
          "sizemode": "area",
          "sizeref": 2414.0825
         },
         "name": "Bulgaria",
         "showlegend": true,
         "type": "scattergeo"
        },
        {
         "geo": "geo",
         "hovertemplate": "<b>%{hovertext}</b><br><br>Country_Region=Burkina Faso<br>Cases=%{marker.size}<br>iso_alpha=%{location}<extra></extra>",
         "hovertext": [
          632
         ],
         "legendgroup": "Burkina Faso",
         "locations": [
          "BFA"
         ],
         "marker": {
          "color": "#FF6692",
          "size": [
           632
          ],
          "sizemode": "area",
          "sizeref": 2414.0825
         },
         "name": "Burkina Faso",
         "showlegend": true,
         "type": "scattergeo"
        },
        {
         "geo": "geo",
         "hovertemplate": "<b>%{hovertext}</b><br><br>Country_Region=Burundi<br>Cases=%{marker.size}<br>iso_alpha=%{location}<extra></extra>",
         "hovertext": [
          11
         ],
         "legendgroup": "Burundi",
         "locations": [
          "BDI"
         ],
         "marker": {
          "color": "#B6E880",
          "size": [
           11
          ],
          "sizemode": "area",
          "sizeref": 2414.0825
         },
         "name": "Burundi",
         "showlegend": true,
         "type": "scattergeo"
        },
        {
         "geo": "geo",
         "hovertemplate": "<b>%{hovertext}</b><br><br>Country_Region=Cambodia<br>Cases=%{marker.size}<br>iso_alpha=%{location}<extra></extra>",
         "hovertext": [
          122
         ],
         "legendgroup": "Cambodia",
         "locations": [
          "KHM"
         ],
         "marker": {
          "color": "#FF97FF",
          "size": [
           122
          ],
          "sizemode": "area",
          "sizeref": 2414.0825
         },
         "name": "Cambodia",
         "showlegend": true,
         "type": "scattergeo"
        },
        {
         "geo": "geo",
         "hovertemplate": "<b>%{hovertext}</b><br><br>Country_Region=Cameroon<br>Cases=%{marker.size}<br>iso_alpha=%{location}<extra></extra>",
         "hovertext": [
          1621
         ],
         "legendgroup": "Cameroon",
         "locations": [
          "CMR"
         ],
         "marker": {
          "color": "#FECB52",
          "size": [
           1621
          ],
          "sizemode": "area",
          "sizeref": 2414.0825
         },
         "name": "Cameroon",
         "showlegend": true,
         "type": "scattergeo"
        },
        {
         "geo": "geo",
         "hovertemplate": "<b>%{hovertext}</b><br><br>Country_Region=Canada<br>Cases=%{marker.size}<br>iso_alpha=%{location}<extra></extra>",
         "hovertext": [
          47146
         ],
         "legendgroup": "Canada",
         "locations": [
          "CAN"
         ],
         "marker": {
          "color": "#636efa",
          "size": [
           47146
          ],
          "sizemode": "area",
          "sizeref": 2414.0825
         },
         "name": "Canada",
         "showlegend": true,
         "type": "scattergeo"
        },
        {
         "geo": "geo",
         "hovertemplate": "<b>%{hovertext}</b><br><br>Country_Region=Central African Republic<br>Cases=%{marker.size}<br>iso_alpha=%{location}<extra></extra>",
         "hovertext": [
          19
         ],
         "legendgroup": "Central African Republic",
         "locations": [
          "CAF"
         ],
         "marker": {
          "color": "#EF553B",
          "size": [
           19
          ],
          "sizemode": "area",
          "sizeref": 2414.0825
         },
         "name": "Central African Republic",
         "showlegend": true,
         "type": "scattergeo"
        },
        {
         "geo": "geo",
         "hovertemplate": "<b>%{hovertext}</b><br><br>Country_Region=Chad<br>Cases=%{marker.size}<br>iso_alpha=%{location}<extra></extra>",
         "hovertext": [
          46
         ],
         "legendgroup": "Chad",
         "locations": [
          "TCD"
         ],
         "marker": {
          "color": "#00cc96",
          "size": [
           46
          ],
          "sizemode": "area",
          "sizeref": 2414.0825
         },
         "name": "Chad",
         "showlegend": true,
         "type": "scattergeo"
        },
        {
         "geo": "geo",
         "hovertemplate": "<b>%{hovertext}</b><br><br>Country_Region=Chile<br>Cases=%{marker.size}<br>iso_alpha=%{location}<extra></extra>",
         "hovertext": [
          13331
         ],
         "legendgroup": "Chile",
         "locations": [
          "CHL"
         ],
         "marker": {
          "color": "#ab63fa",
          "size": [
           13331
          ],
          "sizemode": "area",
          "sizeref": 2414.0825
         },
         "name": "Chile",
         "showlegend": true,
         "type": "scattergeo"
        },
        {
         "geo": "geo",
         "hovertemplate": "<b>%{hovertext}</b><br><br>Country_Region=China<br>Cases=%{marker.size}<br>iso_alpha=%{location}<extra></extra>",
         "hovertext": [
          83912
         ],
         "legendgroup": "China",
         "locations": [
          "CHN"
         ],
         "marker": {
          "color": "#FFA15A",
          "size": [
           83912
          ],
          "sizemode": "area",
          "sizeref": 2414.0825
         },
         "name": "China",
         "showlegend": true,
         "type": "scattergeo"
        },
        {
         "geo": "geo",
         "hovertemplate": "<b>%{hovertext}</b><br><br>Country_Region=Colombia<br>Cases=%{marker.size}<br>iso_alpha=%{location}<extra></extra>",
         "hovertext": [
          5379
         ],
         "legendgroup": "Colombia",
         "locations": [
          "COL"
         ],
         "marker": {
          "color": "#19d3f3",
          "size": [
           5379
          ],
          "sizemode": "area",
          "sizeref": 2414.0825
         },
         "name": "Colombia",
         "showlegend": true,
         "type": "scattergeo"
        },
        {
         "geo": "geo",
         "hovertemplate": "<b>%{hovertext}</b><br><br>Country_Region=Costa Rica<br>Cases=%{marker.size}<br>iso_alpha=%{location}<extra></extra>",
         "hovertext": [
          695
         ],
         "legendgroup": "Costa Rica",
         "locations": [
          "CRI"
         ],
         "marker": {
          "color": "#FF6692",
          "size": [
           695
          ],
          "sizemode": "area",
          "sizeref": 2414.0825
         },
         "name": "Costa Rica",
         "showlegend": true,
         "type": "scattergeo"
        },
        {
         "geo": "geo",
         "hovertemplate": "<b>%{hovertext}</b><br><br>Country_Region=Cote d'Ivoire<br>Cases=%{marker.size}<br>iso_alpha=%{location}<extra></extra>",
         "hovertext": [
          1150
         ],
         "legendgroup": "Cote d'Ivoire",
         "locations": [
          "CIV"
         ],
         "marker": {
          "color": "#B6E880",
          "size": [
           1150
          ],
          "sizemode": "area",
          "sizeref": 2414.0825
         },
         "name": "Cote d'Ivoire",
         "showlegend": true,
         "type": "scattergeo"
        },
        {
         "geo": "geo",
         "hovertemplate": "<b>%{hovertext}</b><br><br>Country_Region=Croatia<br>Cases=%{marker.size}<br>iso_alpha=%{location}<extra></extra>",
         "hovertext": [
          2030
         ],
         "legendgroup": "Croatia",
         "locations": [
          "HRV"
         ],
         "marker": {
          "color": "#FF97FF",
          "size": [
           2030
          ],
          "sizemode": "area",
          "sizeref": 2414.0825
         },
         "name": "Croatia",
         "showlegend": true,
         "type": "scattergeo"
        },
        {
         "geo": "geo",
         "hovertemplate": "<b>%{hovertext}</b><br><br>Country_Region=Cuba<br>Cases=%{marker.size}<br>iso_alpha=%{location}<extra></extra>",
         "hovertext": [
          1369
         ],
         "legendgroup": "Cuba",
         "locations": [
          "CUB"
         ],
         "marker": {
          "color": "#FECB52",
          "size": [
           1369
          ],
          "sizemode": "area",
          "sizeref": 2414.0825
         },
         "name": "Cuba",
         "showlegend": true,
         "type": "scattergeo"
        },
        {
         "geo": "geo",
         "hovertemplate": "<b>%{hovertext}</b><br><br>Country_Region=Denmark<br>Cases=%{marker.size}<br>iso_alpha=%{location}<extra></extra>",
         "hovertext": [
          8773
         ],
         "legendgroup": "Denmark",
         "locations": [
          "DNK"
         ],
         "marker": {
          "color": "#636efa",
          "size": [
           8773
          ],
          "sizemode": "area",
          "sizeref": 2414.0825
         },
         "name": "Denmark",
         "showlegend": true,
         "type": "scattergeo"
        },
        {
         "geo": "geo",
         "hovertemplate": "<b>%{hovertext}</b><br><br>Country_Region=Djibouti<br>Cases=%{marker.size}<br>iso_alpha=%{location}<extra></extra>",
         "hovertext": [
          1023
         ],
         "legendgroup": "Djibouti",
         "locations": [
          "DJI"
         ],
         "marker": {
          "color": "#EF553B",
          "size": [
           1023
          ],
          "sizemode": "area",
          "sizeref": 2414.0825
         },
         "name": "Djibouti",
         "showlegend": true,
         "type": "scattergeo"
        },
        {
         "geo": "geo",
         "hovertemplate": "<b>%{hovertext}</b><br><br>Country_Region=Dominican Republic<br>Cases=%{marker.size}<br>iso_alpha=%{location}<extra></extra>",
         "hovertext": [
          6135
         ],
         "legendgroup": "Dominican Republic",
         "locations": [
          "DOM"
         ],
         "marker": {
          "color": "#00cc96",
          "size": [
           6135
          ],
          "sizemode": "area",
          "sizeref": 2414.0825
         },
         "name": "Dominican Republic",
         "showlegend": true,
         "type": "scattergeo"
        },
        {
         "geo": "geo",
         "hovertemplate": "<b>%{hovertext}</b><br><br>Country_Region=Ecuador<br>Cases=%{marker.size}<br>iso_alpha=%{location}<extra></extra>",
         "hovertext": [
          22719
         ],
         "legendgroup": "Ecuador",
         "locations": [
          "ECU"
         ],
         "marker": {
          "color": "#ab63fa",
          "size": [
           22719
          ],
          "sizemode": "area",
          "sizeref": 2414.0825
         },
         "name": "Ecuador",
         "showlegend": true,
         "type": "scattergeo"
        },
        {
         "geo": "geo",
         "hovertemplate": "<b>%{hovertext}</b><br><br>Country_Region=Egypt<br>Cases=%{marker.size}<br>iso_alpha=%{location}<extra></extra>",
         "hovertext": [
          4534
         ],
         "legendgroup": "Egypt",
         "locations": [
          "EGY"
         ],
         "marker": {
          "color": "#FFA15A",
          "size": [
           4534
          ],
          "sizemode": "area",
          "sizeref": 2414.0825
         },
         "name": "Egypt",
         "showlegend": true,
         "type": "scattergeo"
        },
        {
         "geo": "geo",
         "hovertemplate": "<b>%{hovertext}</b><br><br>Country_Region=El Salvador<br>Cases=%{marker.size}<br>iso_alpha=%{location}<extra></extra>",
         "hovertext": [
          298
         ],
         "legendgroup": "El Salvador",
         "locations": [
          "SLV"
         ],
         "marker": {
          "color": "#19d3f3",
          "size": [
           298
          ],
          "sizemode": "area",
          "sizeref": 2414.0825
         },
         "name": "El Salvador",
         "showlegend": true,
         "type": "scattergeo"
        },
        {
         "geo": "geo",
         "hovertemplate": "<b>%{hovertext}</b><br><br>Country_Region=Equatorial Guinea<br>Cases=%{marker.size}<br>iso_alpha=%{location}<extra></extra>",
         "hovertext": [
          258
         ],
         "legendgroup": "Equatorial Guinea",
         "locations": [
          "GNQ"
         ],
         "marker": {
          "color": "#FF6692",
          "size": [
           258
          ],
          "sizemode": "area",
          "sizeref": 2414.0825
         },
         "name": "Equatorial Guinea",
         "showlegend": true,
         "type": "scattergeo"
        },
        {
         "geo": "geo",
         "hovertemplate": "<b>%{hovertext}</b><br><br>Country_Region=Eritrea<br>Cases=%{marker.size}<br>iso_alpha=%{location}<extra></extra>",
         "hovertext": [
          39
         ],
         "legendgroup": "Eritrea",
         "locations": [
          "ERI"
         ],
         "marker": {
          "color": "#B6E880",
          "size": [
           39
          ],
          "sizemode": "area",
          "sizeref": 2414.0825
         },
         "name": "Eritrea",
         "showlegend": true,
         "type": "scattergeo"
        },
        {
         "geo": "geo",
         "hovertemplate": "<b>%{hovertext}</b><br><br>Country_Region=Ethiopia<br>Cases=%{marker.size}<br>iso_alpha=%{location}<extra></extra>",
         "hovertext": [
          123
         ],
         "legendgroup": "Ethiopia",
         "locations": [
          "ETH"
         ],
         "marker": {
          "color": "#FF97FF",
          "size": [
           123
          ],
          "sizemode": "area",
          "sizeref": 2414.0825
         },
         "name": "Ethiopia",
         "showlegend": true,
         "type": "scattergeo"
        },
        {
         "geo": "geo",
         "hovertemplate": "<b>%{hovertext}</b><br><br>Country_Region=Finland<br>Cases=%{marker.size}<br>iso_alpha=%{location}<extra></extra>",
         "hovertext": [
          4576
         ],
         "legendgroup": "Finland",
         "locations": [
          "FIN"
         ],
         "marker": {
          "color": "#FECB52",
          "size": [
           4576
          ],
          "sizemode": "area",
          "sizeref": 2414.0825
         },
         "name": "Finland",
         "showlegend": true,
         "type": "scattergeo"
        },
        {
         "geo": "geo",
         "hovertemplate": "<b>%{hovertext}</b><br><br>Country_Region=France<br>Cases=%{marker.size}<br>iso_alpha=%{location}<extra></extra>",
         "hovertext": [
          162220
         ],
         "legendgroup": "France",
         "locations": [
          "FRA"
         ],
         "marker": {
          "color": "#636efa",
          "size": [
           162220
          ],
          "sizemode": "area",
          "sizeref": 2414.0825
         },
         "name": "France",
         "showlegend": true,
         "type": "scattergeo"
        },
        {
         "geo": "geo",
         "hovertemplate": "<b>%{hovertext}</b><br><br>Country_Region=Gabon<br>Cases=%{marker.size}<br>iso_alpha=%{location}<extra></extra>",
         "hovertext": [
          176
         ],
         "legendgroup": "Gabon",
         "locations": [
          "GAB"
         ],
         "marker": {
          "color": "#EF553B",
          "size": [
           176
          ],
          "sizemode": "area",
          "sizeref": 2414.0825
         },
         "name": "Gabon",
         "showlegend": true,
         "type": "scattergeo"
        },
        {
         "geo": "geo",
         "hovertemplate": "<b>%{hovertext}</b><br><br>Country_Region=Gambia<br>Cases=%{marker.size}<br>iso_alpha=%{location}<extra></extra>",
         "hovertext": [
          10
         ],
         "legendgroup": "Gambia",
         "locations": [
          "GMB"
         ],
         "marker": {
          "color": "#00cc96",
          "size": [
           10
          ],
          "sizemode": "area",
          "sizeref": 2414.0825
         },
         "name": "Gambia",
         "showlegend": true,
         "type": "scattergeo"
        },
        {
         "geo": "geo",
         "hovertemplate": "<b>%{hovertext}</b><br><br>Country_Region=Germany<br>Cases=%{marker.size}<br>iso_alpha=%{location}<extra></extra>",
         "hovertext": [
          157770
         ],
         "legendgroup": "Germany",
         "locations": [
          "DEU"
         ],
         "marker": {
          "color": "#ab63fa",
          "size": [
           157770
          ],
          "sizemode": "area",
          "sizeref": 2414.0825
         },
         "name": "Germany",
         "showlegend": true,
         "type": "scattergeo"
        },
        {
         "geo": "geo",
         "hovertemplate": "<b>%{hovertext}</b><br><br>Country_Region=Ghana<br>Cases=%{marker.size}<br>iso_alpha=%{location}<extra></extra>",
         "hovertext": [
          1550
         ],
         "legendgroup": "Ghana",
         "locations": [
          "GHA"
         ],
         "marker": {
          "color": "#FFA15A",
          "size": [
           1550
          ],
          "sizemode": "area",
          "sizeref": 2414.0825
         },
         "name": "Ghana",
         "showlegend": true,
         "type": "scattergeo"
        },
        {
         "geo": "geo",
         "hovertemplate": "<b>%{hovertext}</b><br><br>Country_Region=Greece<br>Cases=%{marker.size}<br>iso_alpha=%{location}<extra></extra>",
         "hovertext": [
          2517
         ],
         "legendgroup": "Greece",
         "locations": [
          "GRC"
         ],
         "marker": {
          "color": "#19d3f3",
          "size": [
           2517
          ],
          "sizemode": "area",
          "sizeref": 2414.0825
         },
         "name": "Greece",
         "showlegend": true,
         "type": "scattergeo"
        },
        {
         "geo": "geo",
         "hovertemplate": "<b>%{hovertext}</b><br><br>Country_Region=Guatemala<br>Cases=%{marker.size}<br>iso_alpha=%{location}<extra></extra>",
         "hovertext": [
          500
         ],
         "legendgroup": "Guatemala",
         "locations": [
          "GTM"
         ],
         "marker": {
          "color": "#FF6692",
          "size": [
           500
          ],
          "sizemode": "area",
          "sizeref": 2414.0825
         },
         "name": "Guatemala",
         "showlegend": true,
         "type": "scattergeo"
        },
        {
         "geo": "geo",
         "hovertemplate": "<b>%{hovertext}</b><br><br>Country_Region=Guinea<br>Cases=%{marker.size}<br>iso_alpha=%{location}<extra></extra>",
         "hovertext": [
          996
         ],
         "legendgroup": "Guinea",
         "locations": [
          "GIN"
         ],
         "marker": {
          "color": "#B6E880",
          "size": [
           996
          ],
          "sizemode": "area",
          "sizeref": 2414.0825
         },
         "name": "Guinea",
         "showlegend": true,
         "type": "scattergeo"
        },
        {
         "geo": "geo",
         "hovertemplate": "<b>%{hovertext}</b><br><br>Country_Region=Guinea-Bissau<br>Cases=%{marker.size}<br>iso_alpha=%{location}<extra></extra>",
         "hovertext": [
          53
         ],
         "legendgroup": "Guinea-Bissau",
         "locations": [
          "GNB"
         ],
         "marker": {
          "color": "#FF97FF",
          "size": [
           53
          ],
          "sizemode": "area",
          "sizeref": 2414.0825
         },
         "name": "Guinea-Bissau",
         "showlegend": true,
         "type": "scattergeo"
        },
        {
         "geo": "geo",
         "hovertemplate": "<b>%{hovertext}</b><br><br>Country_Region=Haiti<br>Cases=%{marker.size}<br>iso_alpha=%{location}<extra></extra>",
         "hovertext": [
          74
         ],
         "legendgroup": "Haiti",
         "locations": [
          "HTI"
         ],
         "marker": {
          "color": "#FECB52",
          "size": [
           74
          ],
          "sizemode": "area",
          "sizeref": 2414.0825
         },
         "name": "Haiti",
         "showlegend": true,
         "type": "scattergeo"
        },
        {
         "geo": "geo",
         "hovertemplate": "<b>%{hovertext}</b><br><br>Country_Region=Honduras<br>Cases=%{marker.size}<br>iso_alpha=%{location}<extra></extra>",
         "hovertext": [
          627
         ],
         "legendgroup": "Honduras",
         "locations": [
          "HND"
         ],
         "marker": {
          "color": "#636efa",
          "size": [
           627
          ],
          "sizemode": "area",
          "sizeref": 2414.0825
         },
         "name": "Honduras",
         "showlegend": true,
         "type": "scattergeo"
        },
        {
         "geo": "geo",
         "hovertemplate": "<b>%{hovertext}</b><br><br>Country_Region=Hungary<br>Cases=%{marker.size}<br>iso_alpha=%{location}<extra></extra>",
         "hovertext": [
          2500
         ],
         "legendgroup": "Hungary",
         "locations": [
          "HUN"
         ],
         "marker": {
          "color": "#EF553B",
          "size": [
           2500
          ],
          "sizemode": "area",
          "sizeref": 2414.0825
         },
         "name": "Hungary",
         "showlegend": true,
         "type": "scattergeo"
        },
        {
         "geo": "geo",
         "hovertemplate": "<b>%{hovertext}</b><br><br>Country_Region=Iceland<br>Cases=%{marker.size}<br>iso_alpha=%{location}<extra></extra>",
         "hovertext": [
          1792
         ],
         "legendgroup": "Iceland",
         "locations": [
          "ISL"
         ],
         "marker": {
          "color": "#00cc96",
          "size": [
           1792
          ],
          "sizemode": "area",
          "sizeref": 2414.0825
         },
         "name": "Iceland",
         "showlegend": true,
         "type": "scattergeo"
        },
        {
         "geo": "geo",
         "hovertemplate": "<b>%{hovertext}</b><br><br>Country_Region=India<br>Cases=%{marker.size}<br>iso_alpha=%{location}<extra></extra>",
         "hovertext": [
          27890
         ],
         "legendgroup": "India",
         "locations": [
          "IND"
         ],
         "marker": {
          "color": "#ab63fa",
          "size": [
           27890
          ],
          "sizemode": "area",
          "sizeref": 2414.0825
         },
         "name": "India",
         "showlegend": true,
         "type": "scattergeo"
        },
        {
         "geo": "geo",
         "hovertemplate": "<b>%{hovertext}</b><br><br>Country_Region=Indonesia<br>Cases=%{marker.size}<br>iso_alpha=%{location}<extra></extra>",
         "hovertext": [
          8882
         ],
         "legendgroup": "Indonesia",
         "locations": [
          "IDN"
         ],
         "marker": {
          "color": "#FFA15A",
          "size": [
           8882
          ],
          "sizemode": "area",
          "sizeref": 2414.0825
         },
         "name": "Indonesia",
         "showlegend": true,
         "type": "scattergeo"
        },
        {
         "geo": "geo",
         "hovertemplate": "<b>%{hovertext}</b><br><br>Country_Region=Iran<br>Cases=%{marker.size}<br>iso_alpha=%{location}<extra></extra>",
         "hovertext": [
          90481
         ],
         "legendgroup": "Iran",
         "locations": [
          "IRN"
         ],
         "marker": {
          "color": "#19d3f3",
          "size": [
           90481
          ],
          "sizemode": "area",
          "sizeref": 2414.0825
         },
         "name": "Iran",
         "showlegend": true,
         "type": "scattergeo"
        },
        {
         "geo": "geo",
         "hovertemplate": "<b>%{hovertext}</b><br><br>Country_Region=Iraq<br>Cases=%{marker.size}<br>iso_alpha=%{location}<extra></extra>",
         "hovertext": [
          1820
         ],
         "legendgroup": "Iraq",
         "locations": [
          "IRQ"
         ],
         "marker": {
          "color": "#FF6692",
          "size": [
           1820
          ],
          "sizemode": "area",
          "sizeref": 2414.0825
         },
         "name": "Iraq",
         "showlegend": true,
         "type": "scattergeo"
        },
        {
         "geo": "geo",
         "hovertemplate": "<b>%{hovertext}</b><br><br>Country_Region=Ireland<br>Cases=%{marker.size}<br>iso_alpha=%{location}<extra></extra>",
         "hovertext": [
          19262
         ],
         "legendgroup": "Ireland",
         "locations": [
          "IRL"
         ],
         "marker": {
          "color": "#B6E880",
          "size": [
           19262
          ],
          "sizemode": "area",
          "sizeref": 2414.0825
         },
         "name": "Ireland",
         "showlegend": true,
         "type": "scattergeo"
        },
        {
         "geo": "geo",
         "hovertemplate": "<b>%{hovertext}</b><br><br>Country_Region=Israel<br>Cases=%{marker.size}<br>iso_alpha=%{location}<extra></extra>",
         "hovertext": [
          15443
         ],
         "legendgroup": "Israel",
         "locations": [
          "ISR"
         ],
         "marker": {
          "color": "#FF97FF",
          "size": [
           15443
          ],
          "sizemode": "area",
          "sizeref": 2414.0825
         },
         "name": "Israel",
         "showlegend": true,
         "type": "scattergeo"
        },
        {
         "geo": "geo",
         "hovertemplate": "<b>%{hovertext}</b><br><br>Country_Region=Italy<br>Cases=%{marker.size}<br>iso_alpha=%{location}<extra></extra>",
         "hovertext": [
          197675
         ],
         "legendgroup": "Italy",
         "locations": [
          "ITA"
         ],
         "marker": {
          "color": "#FECB52",
          "size": [
           197675
          ],
          "sizemode": "area",
          "sizeref": 2414.0825
         },
         "name": "Italy",
         "showlegend": true,
         "type": "scattergeo"
        },
        {
         "geo": "geo",
         "hovertemplate": "<b>%{hovertext}</b><br><br>Country_Region=Jamaica<br>Cases=%{marker.size}<br>iso_alpha=%{location}<extra></extra>",
         "hovertext": [
          350
         ],
         "legendgroup": "Jamaica",
         "locations": [
          "JAM"
         ],
         "marker": {
          "color": "#636efa",
          "size": [
           350
          ],
          "sizemode": "area",
          "sizeref": 2414.0825
         },
         "name": "Jamaica",
         "showlegend": true,
         "type": "scattergeo"
        },
        {
         "geo": "geo",
         "hovertemplate": "<b>%{hovertext}</b><br><br>Country_Region=Japan<br>Cases=%{marker.size}<br>iso_alpha=%{location}<extra></extra>",
         "hovertext": [
          13441
         ],
         "legendgroup": "Japan",
         "locations": [
          "JPN"
         ],
         "marker": {
          "color": "#EF553B",
          "size": [
           13441
          ],
          "sizemode": "area",
          "sizeref": 2414.0825
         },
         "name": "Japan",
         "showlegend": true,
         "type": "scattergeo"
        },
        {
         "geo": "geo",
         "hovertemplate": "<b>%{hovertext}</b><br><br>Country_Region=Jordan<br>Cases=%{marker.size}<br>iso_alpha=%{location}<extra></extra>",
         "hovertext": [
          447
         ],
         "legendgroup": "Jordan",
         "locations": [
          "JOR"
         ],
         "marker": {
          "color": "#00cc96",
          "size": [
           447
          ],
          "sizemode": "area",
          "sizeref": 2414.0825
         },
         "name": "Jordan",
         "showlegend": true,
         "type": "scattergeo"
        },
        {
         "geo": "geo",
         "hovertemplate": "<b>%{hovertext}</b><br><br>Country_Region=Kenya<br>Cases=%{marker.size}<br>iso_alpha=%{location}<extra></extra>",
         "hovertext": [
          355
         ],
         "legendgroup": "Kenya",
         "locations": [
          "KEN"
         ],
         "marker": {
          "color": "#ab63fa",
          "size": [
           355
          ],
          "sizemode": "area",
          "sizeref": 2414.0825
         },
         "name": "Kenya",
         "showlegend": true,
         "type": "scattergeo"
        },
        {
         "geo": "geo",
         "hovertemplate": "<b>%{hovertext}</b><br><br>Country_Region=Kuwait<br>Cases=%{marker.size}<br>iso_alpha=%{location}<extra></extra>",
         "hovertext": [
          3075
         ],
         "legendgroup": "Kuwait",
         "locations": [
          "KWT"
         ],
         "marker": {
          "color": "#FFA15A",
          "size": [
           3075
          ],
          "sizemode": "area",
          "sizeref": 2414.0825
         },
         "name": "Kuwait",
         "showlegend": true,
         "type": "scattergeo"
        },
        {
         "geo": "geo",
         "hovertemplate": "<b>%{hovertext}</b><br><br>Country_Region=Lebanon<br>Cases=%{marker.size}<br>iso_alpha=%{location}<extra></extra>",
         "hovertext": [
          707
         ],
         "legendgroup": "Lebanon",
         "locations": [
          "LBN"
         ],
         "marker": {
          "color": "#19d3f3",
          "size": [
           707
          ],
          "sizemode": "area",
          "sizeref": 2414.0825
         },
         "name": "Lebanon",
         "showlegend": true,
         "type": "scattergeo"
        },
        {
         "geo": "geo",
         "hovertemplate": "<b>%{hovertext}</b><br><br>Country_Region=Liberia<br>Cases=%{marker.size}<br>iso_alpha=%{location}<extra></extra>",
         "hovertext": [
          124
         ],
         "legendgroup": "Liberia",
         "locations": [
          "LBR"
         ],
         "marker": {
          "color": "#FF6692",
          "size": [
           124
          ],
          "sizemode": "area",
          "sizeref": 2414.0825
         },
         "name": "Liberia",
         "showlegend": true,
         "type": "scattergeo"
        },
        {
         "geo": "geo",
         "hovertemplate": "<b>%{hovertext}</b><br><br>Country_Region=Libya<br>Cases=%{marker.size}<br>iso_alpha=%{location}<extra></extra>",
         "hovertext": [
          61
         ],
         "legendgroup": "Libya",
         "locations": [
          "LBY"
         ],
         "marker": {
          "color": "#B6E880",
          "size": [
           61
          ],
          "sizemode": "area",
          "sizeref": 2414.0825
         },
         "name": "Libya",
         "showlegend": true,
         "type": "scattergeo"
        },
        {
         "geo": "geo",
         "hovertemplate": "<b>%{hovertext}</b><br><br>Country_Region=Madagascar<br>Cases=%{marker.size}<br>iso_alpha=%{location}<extra></extra>",
         "hovertext": [
          124
         ],
         "legendgroup": "Madagascar",
         "locations": [
          "MDG"
         ],
         "marker": {
          "color": "#FF97FF",
          "size": [
           124
          ],
          "sizemode": "area",
          "sizeref": 2414.0825
         },
         "name": "Madagascar",
         "showlegend": true,
         "type": "scattergeo"
        },
        {
         "geo": "geo",
         "hovertemplate": "<b>%{hovertext}</b><br><br>Country_Region=Malawi<br>Cases=%{marker.size}<br>iso_alpha=%{location}<extra></extra>",
         "hovertext": [
          34
         ],
         "legendgroup": "Malawi",
         "locations": [
          "MWI"
         ],
         "marker": {
          "color": "#FECB52",
          "size": [
           34
          ],
          "sizemode": "area",
          "sizeref": 2414.0825
         },
         "name": "Malawi",
         "showlegend": true,
         "type": "scattergeo"
        },
        {
         "geo": "geo",
         "hovertemplate": "<b>%{hovertext}</b><br><br>Country_Region=Malaysia<br>Cases=%{marker.size}<br>iso_alpha=%{location}<extra></extra>",
         "hovertext": [
          5780
         ],
         "legendgroup": "Malaysia",
         "locations": [
          "MYS"
         ],
         "marker": {
          "color": "#636efa",
          "size": [
           5780
          ],
          "sizemode": "area",
          "sizeref": 2414.0825
         },
         "name": "Malaysia",
         "showlegend": true,
         "type": "scattergeo"
        },
        {
         "geo": "geo",
         "hovertemplate": "<b>%{hovertext}</b><br><br>Country_Region=Mali<br>Cases=%{marker.size}<br>iso_alpha=%{location}<extra></extra>",
         "hovertext": [
          389
         ],
         "legendgroup": "Mali",
         "locations": [
          "MLI"
         ],
         "marker": {
          "color": "#EF553B",
          "size": [
           389
          ],
          "sizemode": "area",
          "sizeref": 2414.0825
         },
         "name": "Mali",
         "showlegend": true,
         "type": "scattergeo"
        },
        {
         "geo": "geo",
         "hovertemplate": "<b>%{hovertext}</b><br><br>Country_Region=Mauritania<br>Cases=%{marker.size}<br>iso_alpha=%{location}<extra></extra>",
         "hovertext": [
          7
         ],
         "legendgroup": "Mauritania",
         "locations": [
          "MRT"
         ],
         "marker": {
          "color": "#00cc96",
          "size": [
           7
          ],
          "sizemode": "area",
          "sizeref": 2414.0825
         },
         "name": "Mauritania",
         "showlegend": true,
         "type": "scattergeo"
        },
        {
         "geo": "geo",
         "hovertemplate": "<b>%{hovertext}</b><br><br>Country_Region=Mauritius<br>Cases=%{marker.size}<br>iso_alpha=%{location}<extra></extra>",
         "hovertext": [
          332
         ],
         "legendgroup": "Mauritius",
         "locations": [
          "MUS"
         ],
         "marker": {
          "color": "#ab63fa",
          "size": [
           332
          ],
          "sizemode": "area",
          "sizeref": 2414.0825
         },
         "name": "Mauritius",
         "showlegend": true,
         "type": "scattergeo"
        },
        {
         "geo": "geo",
         "hovertemplate": "<b>%{hovertext}</b><br><br>Country_Region=Mexico<br>Cases=%{marker.size}<br>iso_alpha=%{location}<extra></extra>",
         "hovertext": [
          14677
         ],
         "legendgroup": "Mexico",
         "locations": [
          "MEX"
         ],
         "marker": {
          "color": "#FFA15A",
          "size": [
           14677
          ],
          "sizemode": "area",
          "sizeref": 2414.0825
         },
         "name": "Mexico",
         "showlegend": true,
         "type": "scattergeo"
        },
        {
         "geo": "geo",
         "hovertemplate": "<b>%{hovertext}</b><br><br>Country_Region=Mongolia<br>Cases=%{marker.size}<br>iso_alpha=%{location}<extra></extra>",
         "hovertext": [
          38
         ],
         "legendgroup": "Mongolia",
         "locations": [
          "MNG"
         ],
         "marker": {
          "color": "#19d3f3",
          "size": [
           38
          ],
          "sizemode": "area",
          "sizeref": 2414.0825
         },
         "name": "Mongolia",
         "showlegend": true,
         "type": "scattergeo"
        },
        {
         "geo": "geo",
         "hovertemplate": "<b>%{hovertext}</b><br><br>Country_Region=Montenegro<br>Cases=%{marker.size}<br>iso_alpha=%{location}<extra></extra>",
         "hovertext": [
          321
         ],
         "legendgroup": "Montenegro",
         "locations": [
          "MNE"
         ],
         "marker": {
          "color": "#FF6692",
          "size": [
           321
          ],
          "sizemode": "area",
          "sizeref": 2414.0825
         },
         "name": "Montenegro",
         "showlegend": true,
         "type": "scattergeo"
        },
        {
         "geo": "geo",
         "hovertemplate": "<b>%{hovertext}</b><br><br>Country_Region=Morocco<br>Cases=%{marker.size}<br>iso_alpha=%{location}<extra></extra>",
         "hovertext": [
          4065
         ],
         "legendgroup": "Morocco",
         "locations": [
          "MAR"
         ],
         "marker": {
          "color": "#B6E880",
          "size": [
           4065
          ],
          "sizemode": "area",
          "sizeref": 2414.0825
         },
         "name": "Morocco",
         "showlegend": true,
         "type": "scattergeo"
        },
        {
         "geo": "geo",
         "hovertemplate": "<b>%{hovertext}</b><br><br>Country_Region=Mozambique<br>Cases=%{marker.size}<br>iso_alpha=%{location}<extra></extra>",
         "hovertext": [
          76
         ],
         "legendgroup": "Mozambique",
         "locations": [
          "MOZ"
         ],
         "marker": {
          "color": "#FF97FF",
          "size": [
           76
          ],
          "sizemode": "area",
          "sizeref": 2414.0825
         },
         "name": "Mozambique",
         "showlegend": true,
         "type": "scattergeo"
        },
        {
         "geo": "geo",
         "hovertemplate": "<b>%{hovertext}</b><br><br>Country_Region=Namibia<br>Cases=%{marker.size}<br>iso_alpha=%{location}<extra></extra>",
         "hovertext": [
          16
         ],
         "legendgroup": "Namibia",
         "locations": [
          "NAM"
         ],
         "marker": {
          "color": "#FECB52",
          "size": [
           16
          ],
          "sizemode": "area",
          "sizeref": 2414.0825
         },
         "name": "Namibia",
         "showlegend": true,
         "type": "scattergeo"
        },
        {
         "geo": "geo",
         "hovertemplate": "<b>%{hovertext}</b><br><br>Country_Region=Nepal<br>Cases=%{marker.size}<br>iso_alpha=%{location}<extra></extra>",
         "hovertext": [
          52
         ],
         "legendgroup": "Nepal",
         "locations": [
          "NPL"
         ],
         "marker": {
          "color": "#636efa",
          "size": [
           52
          ],
          "sizemode": "area",
          "sizeref": 2414.0825
         },
         "name": "Nepal",
         "showlegend": true,
         "type": "scattergeo"
        },
        {
         "geo": "geo",
         "hovertemplate": "<b>%{hovertext}</b><br><br>Country_Region=Netherlands<br>Cases=%{marker.size}<br>iso_alpha=%{location}<extra></extra>",
         "hovertext": [
          38040
         ],
         "legendgroup": "Netherlands",
         "locations": [
          "NLD"
         ],
         "marker": {
          "color": "#EF553B",
          "size": [
           38040
          ],
          "sizemode": "area",
          "sizeref": 2414.0825
         },
         "name": "Netherlands",
         "showlegend": true,
         "type": "scattergeo"
        },
        {
         "geo": "geo",
         "hovertemplate": "<b>%{hovertext}</b><br><br>Country_Region=New Zealand<br>Cases=%{marker.size}<br>iso_alpha=%{location}<extra></extra>",
         "hovertext": [
          1469
         ],
         "legendgroup": "New Zealand",
         "locations": [
          "NZL"
         ],
         "marker": {
          "color": "#00cc96",
          "size": [
           1469
          ],
          "sizemode": "area",
          "sizeref": 2414.0825
         },
         "name": "New Zealand",
         "showlegend": true,
         "type": "scattergeo"
        },
        {
         "geo": "geo",
         "hovertemplate": "<b>%{hovertext}</b><br><br>Country_Region=Nicaragua<br>Cases=%{marker.size}<br>iso_alpha=%{location}<extra></extra>",
         "hovertext": [
          13
         ],
         "legendgroup": "Nicaragua",
         "locations": [
          "NIC"
         ],
         "marker": {
          "color": "#ab63fa",
          "size": [
           13
          ],
          "sizemode": "area",
          "sizeref": 2414.0825
         },
         "name": "Nicaragua",
         "showlegend": true,
         "type": "scattergeo"
        },
        {
         "geo": "geo",
         "hovertemplate": "<b>%{hovertext}</b><br><br>Country_Region=Niger<br>Cases=%{marker.size}<br>iso_alpha=%{location}<extra></extra>",
         "hovertext": [
          696
         ],
         "legendgroup": "Niger",
         "locations": [
          "NER"
         ],
         "marker": {
          "color": "#FFA15A",
          "size": [
           696
          ],
          "sizemode": "area",
          "sizeref": 2414.0825
         },
         "name": "Niger",
         "showlegend": true,
         "type": "scattergeo"
        },
        {
         "geo": "geo",
         "hovertemplate": "<b>%{hovertext}</b><br><br>Country_Region=Nigeria<br>Cases=%{marker.size}<br>iso_alpha=%{location}<extra></extra>",
         "hovertext": [
          1273
         ],
         "legendgroup": "Nigeria",
         "locations": [
          "NGA"
         ],
         "marker": {
          "color": "#19d3f3",
          "size": [
           1273
          ],
          "sizemode": "area",
          "sizeref": 2414.0825
         },
         "name": "Nigeria",
         "showlegend": true,
         "type": "scattergeo"
        },
        {
         "geo": "geo",
         "hovertemplate": "<b>%{hovertext}</b><br><br>Country_Region=Norway<br>Cases=%{marker.size}<br>iso_alpha=%{location}<extra></extra>",
         "hovertext": [
          7527
         ],
         "legendgroup": "Norway",
         "locations": [
          "NOR"
         ],
         "marker": {
          "color": "#FF6692",
          "size": [
           7527
          ],
          "sizemode": "area",
          "sizeref": 2414.0825
         },
         "name": "Norway",
         "showlegend": true,
         "type": "scattergeo"
        },
        {
         "geo": "geo",
         "hovertemplate": "<b>%{hovertext}</b><br><br>Country_Region=Oman<br>Cases=%{marker.size}<br>iso_alpha=%{location}<extra></extra>",
         "hovertext": [
          1998
         ],
         "legendgroup": "Oman",
         "locations": [
          "OMN"
         ],
         "marker": {
          "color": "#B6E880",
          "size": [
           1998
          ],
          "sizemode": "area",
          "sizeref": 2414.0825
         },
         "name": "Oman",
         "showlegend": true,
         "type": "scattergeo"
        },
        {
         "geo": "geo",
         "hovertemplate": "<b>%{hovertext}</b><br><br>Country_Region=Pakistan<br>Cases=%{marker.size}<br>iso_alpha=%{location}<extra></extra>",
         "hovertext": [
          13328
         ],
         "legendgroup": "Pakistan",
         "locations": [
          "PAK"
         ],
         "marker": {
          "color": "#FF97FF",
          "size": [
           13328
          ],
          "sizemode": "area",
          "sizeref": 2414.0825
         },
         "name": "Pakistan",
         "showlegend": true,
         "type": "scattergeo"
        },
        {
         "geo": "geo",
         "hovertemplate": "<b>%{hovertext}</b><br><br>Country_Region=Panama<br>Cases=%{marker.size}<br>iso_alpha=%{location}<extra></extra>",
         "hovertext": [
          5779
         ],
         "legendgroup": "Panama",
         "locations": [
          "PAN"
         ],
         "marker": {
          "color": "#FECB52",
          "size": [
           5779
          ],
          "sizemode": "area",
          "sizeref": 2414.0825
         },
         "name": "Panama",
         "showlegend": true,
         "type": "scattergeo"
        },
        {
         "geo": "geo",
         "hovertemplate": "<b>%{hovertext}</b><br><br>Country_Region=Paraguay<br>Cases=%{marker.size}<br>iso_alpha=%{location}<extra></extra>",
         "hovertext": [
          228
         ],
         "legendgroup": "Paraguay",
         "locations": [
          "PRY"
         ],
         "marker": {
          "color": "#636efa",
          "size": [
           228
          ],
          "sizemode": "area",
          "sizeref": 2414.0825
         },
         "name": "Paraguay",
         "showlegend": true,
         "type": "scattergeo"
        },
        {
         "geo": "geo",
         "hovertemplate": "<b>%{hovertext}</b><br><br>Country_Region=Peru<br>Cases=%{marker.size}<br>iso_alpha=%{location}<extra></extra>",
         "hovertext": [
          27517
         ],
         "legendgroup": "Peru",
         "locations": [
          "PER"
         ],
         "marker": {
          "color": "#EF553B",
          "size": [
           27517
          ],
          "sizemode": "area",
          "sizeref": 2414.0825
         },
         "name": "Peru",
         "showlegend": true,
         "type": "scattergeo"
        },
        {
         "geo": "geo",
         "hovertemplate": "<b>%{hovertext}</b><br><br>Country_Region=Philippines<br>Cases=%{marker.size}<br>iso_alpha=%{location}<extra></extra>",
         "hovertext": [
          7579
         ],
         "legendgroup": "Philippines",
         "locations": [
          "PHL"
         ],
         "marker": {
          "color": "#00cc96",
          "size": [
           7579
          ],
          "sizemode": "area",
          "sizeref": 2414.0825
         },
         "name": "Philippines",
         "showlegend": true,
         "type": "scattergeo"
        },
        {
         "geo": "geo",
         "hovertemplate": "<b>%{hovertext}</b><br><br>Country_Region=Poland<br>Cases=%{marker.size}<br>iso_alpha=%{location}<extra></extra>",
         "hovertext": [
          11617
         ],
         "legendgroup": "Poland",
         "locations": [
          "POL"
         ],
         "marker": {
          "color": "#ab63fa",
          "size": [
           11617
          ],
          "sizemode": "area",
          "sizeref": 2414.0825
         },
         "name": "Poland",
         "showlegend": true,
         "type": "scattergeo"
        },
        {
         "geo": "geo",
         "hovertemplate": "<b>%{hovertext}</b><br><br>Country_Region=Portugal<br>Cases=%{marker.size}<br>iso_alpha=%{location}<extra></extra>",
         "hovertext": [
          23864
         ],
         "legendgroup": "Portugal",
         "locations": [
          "PRT"
         ],
         "marker": {
          "color": "#FFA15A",
          "size": [
           23864
          ],
          "sizemode": "area",
          "sizeref": 2414.0825
         },
         "name": "Portugal",
         "showlegend": true,
         "type": "scattergeo"
        },
        {
         "geo": "geo",
         "hovertemplate": "<b>%{hovertext}</b><br><br>Country_Region=Romania<br>Cases=%{marker.size}<br>iso_alpha=%{location}<extra></extra>",
         "hovertext": [
          11036
         ],
         "legendgroup": "Romania",
         "locations": [
          "ROU"
         ],
         "marker": {
          "color": "#19d3f3",
          "size": [
           11036
          ],
          "sizemode": "area",
          "sizeref": 2414.0825
         },
         "name": "Romania",
         "showlegend": true,
         "type": "scattergeo"
        },
        {
         "geo": "geo",
         "hovertemplate": "<b>%{hovertext}</b><br><br>Country_Region=Rwanda<br>Cases=%{marker.size}<br>iso_alpha=%{location}<extra></extra>",
         "hovertext": [
          191
         ],
         "legendgroup": "Rwanda",
         "locations": [
          "RWA"
         ],
         "marker": {
          "color": "#FF6692",
          "size": [
           191
          ],
          "sizemode": "area",
          "sizeref": 2414.0825
         },
         "name": "Rwanda",
         "showlegend": true,
         "type": "scattergeo"
        },
        {
         "geo": "geo",
         "hovertemplate": "<b>%{hovertext}</b><br><br>Country_Region=Sao Tome and Principe<br>Cases=%{marker.size}<br>iso_alpha=%{location}<extra></extra>",
         "hovertext": [
          4
         ],
         "legendgroup": "Sao Tome and Principe",
         "locations": [
          "STP"
         ],
         "marker": {
          "color": "#B6E880",
          "size": [
           4
          ],
          "sizemode": "area",
          "sizeref": 2414.0825
         },
         "name": "Sao Tome and Principe",
         "showlegend": true,
         "type": "scattergeo"
        },
        {
         "geo": "geo",
         "hovertemplate": "<b>%{hovertext}</b><br><br>Country_Region=Saudi Arabia<br>Cases=%{marker.size}<br>iso_alpha=%{location}<extra></extra>",
         "hovertext": [
          17522
         ],
         "legendgroup": "Saudi Arabia",
         "locations": [
          "SAU"
         ],
         "marker": {
          "color": "#FF97FF",
          "size": [
           17522
          ],
          "sizemode": "area",
          "sizeref": 2414.0825
         },
         "name": "Saudi Arabia",
         "showlegend": true,
         "type": "scattergeo"
        },
        {
         "geo": "geo",
         "hovertemplate": "<b>%{hovertext}</b><br><br>Country_Region=Senegal<br>Cases=%{marker.size}<br>iso_alpha=%{location}<extra></extra>",
         "hovertext": [
          671
         ],
         "legendgroup": "Senegal",
         "locations": [
          "SEN"
         ],
         "marker": {
          "color": "#FECB52",
          "size": [
           671
          ],
          "sizemode": "area",
          "sizeref": 2414.0825
         },
         "name": "Senegal",
         "showlegend": true,
         "type": "scattergeo"
        },
        {
         "geo": "geo",
         "hovertemplate": "<b>%{hovertext}</b><br><br>Country_Region=Serbia<br>Cases=%{marker.size}<br>iso_alpha=%{location}<extra></extra>",
         "hovertext": [
          6630
         ],
         "legendgroup": "Serbia",
         "locations": [
          "SRB"
         ],
         "marker": {
          "color": "#636efa",
          "size": [
           6630
          ],
          "sizemode": "area",
          "sizeref": 2414.0825
         },
         "name": "Serbia",
         "showlegend": true,
         "type": "scattergeo"
        },
        {
         "geo": "geo",
         "hovertemplate": "<b>%{hovertext}</b><br><br>Country_Region=Sierra Leone<br>Cases=%{marker.size}<br>iso_alpha=%{location}<extra></extra>",
         "hovertext": [
          93
         ],
         "legendgroup": "Sierra Leone",
         "locations": [
          "SLE"
         ],
         "marker": {
          "color": "#EF553B",
          "size": [
           93
          ],
          "sizemode": "area",
          "sizeref": 2414.0825
         },
         "name": "Sierra Leone",
         "showlegend": true,
         "type": "scattergeo"
        },
        {
         "geo": "geo",
         "hovertemplate": "<b>%{hovertext}</b><br><br>Country_Region=Singapore<br>Cases=%{marker.size}<br>iso_alpha=%{location}<extra></extra>",
         "hovertext": [
          13624
         ],
         "legendgroup": "Singapore",
         "locations": [
          "SGP"
         ],
         "marker": {
          "color": "#00cc96",
          "size": [
           13624
          ],
          "sizemode": "area",
          "sizeref": 2414.0825
         },
         "name": "Singapore",
         "showlegend": true,
         "type": "scattergeo"
        },
        {
         "geo": "geo",
         "hovertemplate": "<b>%{hovertext}</b><br><br>Country_Region=Slovenia<br>Cases=%{marker.size}<br>iso_alpha=%{location}<extra></extra>",
         "hovertext": [
          1396
         ],
         "legendgroup": "Slovenia",
         "locations": [
          "SVN"
         ],
         "marker": {
          "color": "#ab63fa",
          "size": [
           1396
          ],
          "sizemode": "area",
          "sizeref": 2414.0825
         },
         "name": "Slovenia",
         "showlegend": true,
         "type": "scattergeo"
        },
        {
         "geo": "geo",
         "hovertemplate": "<b>%{hovertext}</b><br><br>Country_Region=Somalia<br>Cases=%{marker.size}<br>iso_alpha=%{location}<extra></extra>",
         "hovertext": [
          436
         ],
         "legendgroup": "Somalia",
         "locations": [
          "SOM"
         ],
         "marker": {
          "color": "#FFA15A",
          "size": [
           436
          ],
          "sizemode": "area",
          "sizeref": 2414.0825
         },
         "name": "Somalia",
         "showlegend": true,
         "type": "scattergeo"
        },
        {
         "geo": "geo",
         "hovertemplate": "<b>%{hovertext}</b><br><br>Country_Region=South Africa<br>Cases=%{marker.size}<br>iso_alpha=%{location}<extra></extra>",
         "hovertext": [
          4546
         ],
         "legendgroup": "South Africa",
         "locations": [
          "ZAF"
         ],
         "marker": {
          "color": "#19d3f3",
          "size": [
           4546
          ],
          "sizemode": "area",
          "sizeref": 2414.0825
         },
         "name": "South Africa",
         "showlegend": true,
         "type": "scattergeo"
        },
        {
         "geo": "geo",
         "hovertemplate": "<b>%{hovertext}</b><br><br>Country_Region=Spain<br>Cases=%{marker.size}<br>iso_alpha=%{location}<extra></extra>",
         "hovertext": [
          226629
         ],
         "legendgroup": "Spain",
         "locations": [
          "ESP"
         ],
         "marker": {
          "color": "#FF6692",
          "size": [
           226629
          ],
          "sizemode": "area",
          "sizeref": 2414.0825
         },
         "name": "Spain",
         "showlegend": true,
         "type": "scattergeo"
        },
        {
         "geo": "geo",
         "hovertemplate": "<b>%{hovertext}</b><br><br>Country_Region=Sri Lanka<br>Cases=%{marker.size}<br>iso_alpha=%{location}<extra></extra>",
         "hovertext": [
          523
         ],
         "legendgroup": "Sri Lanka",
         "locations": [
          "LKA"
         ],
         "marker": {
          "color": "#B6E880",
          "size": [
           523
          ],
          "sizemode": "area",
          "sizeref": 2414.0825
         },
         "name": "Sri Lanka",
         "showlegend": true,
         "type": "scattergeo"
        },
        {
         "geo": "geo",
         "hovertemplate": "<b>%{hovertext}</b><br><br>Country_Region=Sudan<br>Cases=%{marker.size}<br>iso_alpha=%{location}<extra></extra>",
         "hovertext": [
          237
         ],
         "legendgroup": "Sudan",
         "locations": [
          "SDN"
         ],
         "marker": {
          "color": "#FF97FF",
          "size": [
           237
          ],
          "sizemode": "area",
          "sizeref": 2414.0825
         },
         "name": "Sudan",
         "showlegend": true,
         "type": "scattergeo"
        },
        {
         "geo": "geo",
         "hovertemplate": "<b>%{hovertext}</b><br><br>Country_Region=Sweden<br>Cases=%{marker.size}<br>iso_alpha=%{location}<extra></extra>",
         "hovertext": [
          18640
         ],
         "legendgroup": "Sweden",
         "locations": [
          "SWE"
         ],
         "marker": {
          "color": "#FECB52",
          "size": [
           18640
          ],
          "sizemode": "area",
          "sizeref": 2414.0825
         },
         "name": "Sweden",
         "showlegend": true,
         "type": "scattergeo"
        },
        {
         "geo": "geo",
         "hovertemplate": "<b>%{hovertext}</b><br><br>Country_Region=Switzerland<br>Cases=%{marker.size}<br>iso_alpha=%{location}<extra></extra>",
         "hovertext": [
          29061
         ],
         "legendgroup": "Switzerland",
         "locations": [
          "CHE"
         ],
         "marker": {
          "color": "#636efa",
          "size": [
           29061
          ],
          "sizemode": "area",
          "sizeref": 2414.0825
         },
         "name": "Switzerland",
         "showlegend": true,
         "type": "scattergeo"
        },
        {
         "geo": "geo",
         "hovertemplate": "<b>%{hovertext}</b><br><br>Country_Region=Syria<br>Cases=%{marker.size}<br>iso_alpha=%{location}<extra></extra>",
         "hovertext": [
          43
         ],
         "legendgroup": "Syria",
         "locations": [
          "SYR"
         ],
         "marker": {
          "color": "#EF553B",
          "size": [
           43
          ],
          "sizemode": "area",
          "sizeref": 2414.0825
         },
         "name": "Syria",
         "showlegend": true,
         "type": "scattergeo"
        },
        {
         "geo": "geo",
         "hovertemplate": "<b>%{hovertext}</b><br><br>Country_Region=Tanzania<br>Cases=%{marker.size}<br>iso_alpha=%{location}<extra></extra>",
         "hovertext": [
          299
         ],
         "legendgroup": "Tanzania",
         "locations": [
          "TZA"
         ],
         "marker": {
          "color": "#00cc96",
          "size": [
           299
          ],
          "sizemode": "area",
          "sizeref": 2414.0825
         },
         "name": "Tanzania",
         "showlegend": true,
         "type": "scattergeo"
        },
        {
         "geo": "geo",
         "hovertemplate": "<b>%{hovertext}</b><br><br>Country_Region=Thailand<br>Cases=%{marker.size}<br>iso_alpha=%{location}<extra></extra>",
         "hovertext": [
          2922
         ],
         "legendgroup": "Thailand",
         "locations": [
          "THA"
         ],
         "marker": {
          "color": "#ab63fa",
          "size": [
           2922
          ],
          "sizemode": "area",
          "sizeref": 2414.0825
         },
         "name": "Thailand",
         "showlegend": true,
         "type": "scattergeo"
        },
        {
         "geo": "geo",
         "hovertemplate": "<b>%{hovertext}</b><br><br>Country_Region=Togo<br>Cases=%{marker.size}<br>iso_alpha=%{location}<extra></extra>",
         "hovertext": [
          98
         ],
         "legendgroup": "Togo",
         "locations": [
          "TGO"
         ],
         "marker": {
          "color": "#FFA15A",
          "size": [
           98
          ],
          "sizemode": "area",
          "sizeref": 2414.0825
         },
         "name": "Togo",
         "showlegend": true,
         "type": "scattergeo"
        },
        {
         "geo": "geo",
         "hovertemplate": "<b>%{hovertext}</b><br><br>Country_Region=Trinidad and Tobago<br>Cases=%{marker.size}<br>iso_alpha=%{location}<extra></extra>",
         "hovertext": [
          115
         ],
         "legendgroup": "Trinidad and Tobago",
         "locations": [
          "TTO"
         ],
         "marker": {
          "color": "#19d3f3",
          "size": [
           115
          ],
          "sizemode": "area",
          "sizeref": 2414.0825
         },
         "name": "Trinidad and Tobago",
         "showlegend": true,
         "type": "scattergeo"
        },
        {
         "geo": "geo",
         "hovertemplate": "<b>%{hovertext}</b><br><br>Country_Region=Tunisia<br>Cases=%{marker.size}<br>iso_alpha=%{location}<extra></extra>",
         "hovertext": [
          949
         ],
         "legendgroup": "Tunisia",
         "locations": [
          "TUN"
         ],
         "marker": {
          "color": "#FF6692",
          "size": [
           949
          ],
          "sizemode": "area",
          "sizeref": 2414.0825
         },
         "name": "Tunisia",
         "showlegend": true,
         "type": "scattergeo"
        },
        {
         "geo": "geo",
         "hovertemplate": "<b>%{hovertext}</b><br><br>Country_Region=Turkey<br>Cases=%{marker.size}<br>iso_alpha=%{location}<extra></extra>",
         "hovertext": [
          110130
         ],
         "legendgroup": "Turkey",
         "locations": [
          "TUR"
         ],
         "marker": {
          "color": "#B6E880",
          "size": [
           110130
          ],
          "sizemode": "area",
          "sizeref": 2414.0825
         },
         "name": "Turkey",
         "showlegend": true,
         "type": "scattergeo"
        },
        {
         "geo": "geo",
         "hovertemplate": "<b>%{hovertext}</b><br><br>Country_Region=US<br>Cases=%{marker.size}<br>iso_alpha=%{location}<extra></extra>",
         "hovertext": [
          965633
         ],
         "legendgroup": "US",
         "locations": [
          "USA"
         ],
         "marker": {
          "color": "#FF97FF",
          "size": [
           965633
          ],
          "sizemode": "area",
          "sizeref": 2414.0825
         },
         "name": "US",
         "showlegend": true,
         "type": "scattergeo"
        },
        {
         "geo": "geo",
         "hovertemplate": "<b>%{hovertext}</b><br><br>Country_Region=Uganda<br>Cases=%{marker.size}<br>iso_alpha=%{location}<extra></extra>",
         "hovertext": [
          79
         ],
         "legendgroup": "Uganda",
         "locations": [
          "UGA"
         ],
         "marker": {
          "color": "#FECB52",
          "size": [
           79
          ],
          "sizemode": "area",
          "sizeref": 2414.0825
         },
         "name": "Uganda",
         "showlegend": true,
         "type": "scattergeo"
        },
        {
         "geo": "geo",
         "hovertemplate": "<b>%{hovertext}</b><br><br>Country_Region=United Kingdom<br>Cases=%{marker.size}<br>iso_alpha=%{location}<extra></extra>",
         "hovertext": [
          154037
         ],
         "legendgroup": "United Kingdom",
         "locations": [
          "GBR"
         ],
         "marker": {
          "color": "#636efa",
          "size": [
           154037
          ],
          "sizemode": "area",
          "sizeref": 2414.0825
         },
         "name": "United Kingdom",
         "showlegend": true,
         "type": "scattergeo"
        },
        {
         "geo": "geo",
         "hovertemplate": "<b>%{hovertext}</b><br><br>Country_Region=Uruguay<br>Cases=%{marker.size}<br>iso_alpha=%{location}<extra></extra>",
         "hovertext": [
          606
         ],
         "legendgroup": "Uruguay",
         "locations": [
          "URY"
         ],
         "marker": {
          "color": "#EF553B",
          "size": [
           606
          ],
          "sizemode": "area",
          "sizeref": 2414.0825
         },
         "name": "Uruguay",
         "showlegend": true,
         "type": "scattergeo"
        },
        {
         "geo": "geo",
         "hovertemplate": "<b>%{hovertext}</b><br><br>Country_Region=Venezuela<br>Cases=%{marker.size}<br>iso_alpha=%{location}<extra></extra>",
         "hovertext": [
          325
         ],
         "legendgroup": "Venezuela",
         "locations": [
          "VEN"
         ],
         "marker": {
          "color": "#00cc96",
          "size": [
           325
          ],
          "sizemode": "area",
          "sizeref": 2414.0825
         },
         "name": "Venezuela",
         "showlegend": true,
         "type": "scattergeo"
        },
        {
         "geo": "geo",
         "hovertemplate": "<b>%{hovertext}</b><br><br>Country_Region=Vietnam<br>Cases=%{marker.size}<br>iso_alpha=%{location}<extra></extra>",
         "hovertext": [
          270
         ],
         "legendgroup": "Vietnam",
         "locations": [
          "VNM"
         ],
         "marker": {
          "color": "#ab63fa",
          "size": [
           270
          ],
          "sizemode": "area",
          "sizeref": 2414.0825
         },
         "name": "Vietnam",
         "showlegend": true,
         "type": "scattergeo"
        },
        {
         "geo": "geo",
         "hovertemplate": "<b>%{hovertext}</b><br><br>Country_Region=West Bank and Gaza<br>Cases=%{marker.size}<br>iso_alpha=%{location}<extra></extra>",
         "hovertext": [
          342
         ],
         "legendgroup": "West Bank and Gaza",
         "locations": [
          "PSE"
         ],
         "marker": {
          "color": "#FFA15A",
          "size": [
           342
          ],
          "sizemode": "area",
          "sizeref": 2414.0825
         },
         "name": "West Bank and Gaza",
         "showlegend": true,
         "type": "scattergeo"
        },
        {
         "geo": "geo",
         "hovertemplate": "<b>%{hovertext}</b><br><br>Country_Region=Zambia<br>Cases=%{marker.size}<br>iso_alpha=%{location}<extra></extra>",
         "hovertext": [
          88
         ],
         "legendgroup": "Zambia",
         "locations": [
          "ZMB"
         ],
         "marker": {
          "color": "#19d3f3",
          "size": [
           88
          ],
          "sizemode": "area",
          "sizeref": 2414.0825
         },
         "name": "Zambia",
         "showlegend": true,
         "type": "scattergeo"
        },
        {
         "geo": "geo",
         "hovertemplate": "<b>%{hovertext}</b><br><br>Country_Region=Zimbabwe<br>Cases=%{marker.size}<br>iso_alpha=%{location}<extra></extra>",
         "hovertext": [
          31
         ],
         "legendgroup": "Zimbabwe",
         "locations": [
          "ZWE"
         ],
         "marker": {
          "color": "#FF6692",
          "size": [
           31
          ],
          "sizemode": "area",
          "sizeref": 2414.0825
         },
         "name": "Zimbabwe",
         "showlegend": true,
         "type": "scattergeo"
        }
       ],
       "layout": {
        "geo": {
         "center": {},
         "domain": {
          "x": [
           0,
           1
          ],
          "y": [
           0,
           1
          ]
         },
         "projection": {
          "type": "natural earth"
         }
        },
        "legend": {
         "itemsizing": "constant",
         "title": {
          "text": "Country_Region"
         },
         "tracegroupgap": 0
        },
        "margin": {
         "t": 60
        },
        "template": {
         "data": {
          "bar": [
           {
            "error_x": {
             "color": "#2a3f5f"
            },
            "error_y": {
             "color": "#2a3f5f"
            },
            "marker": {
             "line": {
              "color": "#E5ECF6",
              "width": 0.5
             }
            },
            "type": "bar"
           }
          ],
          "barpolar": [
           {
            "marker": {
             "line": {
              "color": "#E5ECF6",
              "width": 0.5
             }
            },
            "type": "barpolar"
           }
          ],
          "carpet": [
           {
            "aaxis": {
             "endlinecolor": "#2a3f5f",
             "gridcolor": "white",
             "linecolor": "white",
             "minorgridcolor": "white",
             "startlinecolor": "#2a3f5f"
            },
            "baxis": {
             "endlinecolor": "#2a3f5f",
             "gridcolor": "white",
             "linecolor": "white",
             "minorgridcolor": "white",
             "startlinecolor": "#2a3f5f"
            },
            "type": "carpet"
           }
          ],
          "choropleth": [
           {
            "colorbar": {
             "outlinewidth": 0,
             "ticks": ""
            },
            "type": "choropleth"
           }
          ],
          "contour": [
           {
            "colorbar": {
             "outlinewidth": 0,
             "ticks": ""
            },
            "colorscale": [
             [
              0,
              "#0d0887"
             ],
             [
              0.1111111111111111,
              "#46039f"
             ],
             [
              0.2222222222222222,
              "#7201a8"
             ],
             [
              0.3333333333333333,
              "#9c179e"
             ],
             [
              0.4444444444444444,
              "#bd3786"
             ],
             [
              0.5555555555555556,
              "#d8576b"
             ],
             [
              0.6666666666666666,
              "#ed7953"
             ],
             [
              0.7777777777777778,
              "#fb9f3a"
             ],
             [
              0.8888888888888888,
              "#fdca26"
             ],
             [
              1,
              "#f0f921"
             ]
            ],
            "type": "contour"
           }
          ],
          "contourcarpet": [
           {
            "colorbar": {
             "outlinewidth": 0,
             "ticks": ""
            },
            "type": "contourcarpet"
           }
          ],
          "heatmap": [
           {
            "colorbar": {
             "outlinewidth": 0,
             "ticks": ""
            },
            "colorscale": [
             [
              0,
              "#0d0887"
             ],
             [
              0.1111111111111111,
              "#46039f"
             ],
             [
              0.2222222222222222,
              "#7201a8"
             ],
             [
              0.3333333333333333,
              "#9c179e"
             ],
             [
              0.4444444444444444,
              "#bd3786"
             ],
             [
              0.5555555555555556,
              "#d8576b"
             ],
             [
              0.6666666666666666,
              "#ed7953"
             ],
             [
              0.7777777777777778,
              "#fb9f3a"
             ],
             [
              0.8888888888888888,
              "#fdca26"
             ],
             [
              1,
              "#f0f921"
             ]
            ],
            "type": "heatmap"
           }
          ],
          "heatmapgl": [
           {
            "colorbar": {
             "outlinewidth": 0,
             "ticks": ""
            },
            "colorscale": [
             [
              0,
              "#0d0887"
             ],
             [
              0.1111111111111111,
              "#46039f"
             ],
             [
              0.2222222222222222,
              "#7201a8"
             ],
             [
              0.3333333333333333,
              "#9c179e"
             ],
             [
              0.4444444444444444,
              "#bd3786"
             ],
             [
              0.5555555555555556,
              "#d8576b"
             ],
             [
              0.6666666666666666,
              "#ed7953"
             ],
             [
              0.7777777777777778,
              "#fb9f3a"
             ],
             [
              0.8888888888888888,
              "#fdca26"
             ],
             [
              1,
              "#f0f921"
             ]
            ],
            "type": "heatmapgl"
           }
          ],
          "histogram": [
           {
            "marker": {
             "colorbar": {
              "outlinewidth": 0,
              "ticks": ""
             }
            },
            "type": "histogram"
           }
          ],
          "histogram2d": [
           {
            "colorbar": {
             "outlinewidth": 0,
             "ticks": ""
            },
            "colorscale": [
             [
              0,
              "#0d0887"
             ],
             [
              0.1111111111111111,
              "#46039f"
             ],
             [
              0.2222222222222222,
              "#7201a8"
             ],
             [
              0.3333333333333333,
              "#9c179e"
             ],
             [
              0.4444444444444444,
              "#bd3786"
             ],
             [
              0.5555555555555556,
              "#d8576b"
             ],
             [
              0.6666666666666666,
              "#ed7953"
             ],
             [
              0.7777777777777778,
              "#fb9f3a"
             ],
             [
              0.8888888888888888,
              "#fdca26"
             ],
             [
              1,
              "#f0f921"
             ]
            ],
            "type": "histogram2d"
           }
          ],
          "histogram2dcontour": [
           {
            "colorbar": {
             "outlinewidth": 0,
             "ticks": ""
            },
            "colorscale": [
             [
              0,
              "#0d0887"
             ],
             [
              0.1111111111111111,
              "#46039f"
             ],
             [
              0.2222222222222222,
              "#7201a8"
             ],
             [
              0.3333333333333333,
              "#9c179e"
             ],
             [
              0.4444444444444444,
              "#bd3786"
             ],
             [
              0.5555555555555556,
              "#d8576b"
             ],
             [
              0.6666666666666666,
              "#ed7953"
             ],
             [
              0.7777777777777778,
              "#fb9f3a"
             ],
             [
              0.8888888888888888,
              "#fdca26"
             ],
             [
              1,
              "#f0f921"
             ]
            ],
            "type": "histogram2dcontour"
           }
          ],
          "mesh3d": [
           {
            "colorbar": {
             "outlinewidth": 0,
             "ticks": ""
            },
            "type": "mesh3d"
           }
          ],
          "parcoords": [
           {
            "line": {
             "colorbar": {
              "outlinewidth": 0,
              "ticks": ""
             }
            },
            "type": "parcoords"
           }
          ],
          "pie": [
           {
            "automargin": true,
            "type": "pie"
           }
          ],
          "scatter": [
           {
            "marker": {
             "colorbar": {
              "outlinewidth": 0,
              "ticks": ""
             }
            },
            "type": "scatter"
           }
          ],
          "scatter3d": [
           {
            "line": {
             "colorbar": {
              "outlinewidth": 0,
              "ticks": ""
             }
            },
            "marker": {
             "colorbar": {
              "outlinewidth": 0,
              "ticks": ""
             }
            },
            "type": "scatter3d"
           }
          ],
          "scattercarpet": [
           {
            "marker": {
             "colorbar": {
              "outlinewidth": 0,
              "ticks": ""
             }
            },
            "type": "scattercarpet"
           }
          ],
          "scattergeo": [
           {
            "marker": {
             "colorbar": {
              "outlinewidth": 0,
              "ticks": ""
             }
            },
            "type": "scattergeo"
           }
          ],
          "scattergl": [
           {
            "marker": {
             "colorbar": {
              "outlinewidth": 0,
              "ticks": ""
             }
            },
            "type": "scattergl"
           }
          ],
          "scattermapbox": [
           {
            "marker": {
             "colorbar": {
              "outlinewidth": 0,
              "ticks": ""
             }
            },
            "type": "scattermapbox"
           }
          ],
          "scatterpolar": [
           {
            "marker": {
             "colorbar": {
              "outlinewidth": 0,
              "ticks": ""
             }
            },
            "type": "scatterpolar"
           }
          ],
          "scatterpolargl": [
           {
            "marker": {
             "colorbar": {
              "outlinewidth": 0,
              "ticks": ""
             }
            },
            "type": "scatterpolargl"
           }
          ],
          "scatterternary": [
           {
            "marker": {
             "colorbar": {
              "outlinewidth": 0,
              "ticks": ""
             }
            },
            "type": "scatterternary"
           }
          ],
          "surface": [
           {
            "colorbar": {
             "outlinewidth": 0,
             "ticks": ""
            },
            "colorscale": [
             [
              0,
              "#0d0887"
             ],
             [
              0.1111111111111111,
              "#46039f"
             ],
             [
              0.2222222222222222,
              "#7201a8"
             ],
             [
              0.3333333333333333,
              "#9c179e"
             ],
             [
              0.4444444444444444,
              "#bd3786"
             ],
             [
              0.5555555555555556,
              "#d8576b"
             ],
             [
              0.6666666666666666,
              "#ed7953"
             ],
             [
              0.7777777777777778,
              "#fb9f3a"
             ],
             [
              0.8888888888888888,
              "#fdca26"
             ],
             [
              1,
              "#f0f921"
             ]
            ],
            "type": "surface"
           }
          ],
          "table": [
           {
            "cells": {
             "fill": {
              "color": "#EBF0F8"
             },
             "line": {
              "color": "white"
             }
            },
            "header": {
             "fill": {
              "color": "#C8D4E3"
             },
             "line": {
              "color": "white"
             }
            },
            "type": "table"
           }
          ]
         },
         "layout": {
          "annotationdefaults": {
           "arrowcolor": "#2a3f5f",
           "arrowhead": 0,
           "arrowwidth": 1
          },
          "coloraxis": {
           "colorbar": {
            "outlinewidth": 0,
            "ticks": ""
           }
          },
          "colorscale": {
           "diverging": [
            [
             0,
             "#8e0152"
            ],
            [
             0.1,
             "#c51b7d"
            ],
            [
             0.2,
             "#de77ae"
            ],
            [
             0.3,
             "#f1b6da"
            ],
            [
             0.4,
             "#fde0ef"
            ],
            [
             0.5,
             "#f7f7f7"
            ],
            [
             0.6,
             "#e6f5d0"
            ],
            [
             0.7,
             "#b8e186"
            ],
            [
             0.8,
             "#7fbc41"
            ],
            [
             0.9,
             "#4d9221"
            ],
            [
             1,
             "#276419"
            ]
           ],
           "sequential": [
            [
             0,
             "#0d0887"
            ],
            [
             0.1111111111111111,
             "#46039f"
            ],
            [
             0.2222222222222222,
             "#7201a8"
            ],
            [
             0.3333333333333333,
             "#9c179e"
            ],
            [
             0.4444444444444444,
             "#bd3786"
            ],
            [
             0.5555555555555556,
             "#d8576b"
            ],
            [
             0.6666666666666666,
             "#ed7953"
            ],
            [
             0.7777777777777778,
             "#fb9f3a"
            ],
            [
             0.8888888888888888,
             "#fdca26"
            ],
            [
             1,
             "#f0f921"
            ]
           ],
           "sequentialminus": [
            [
             0,
             "#0d0887"
            ],
            [
             0.1111111111111111,
             "#46039f"
            ],
            [
             0.2222222222222222,
             "#7201a8"
            ],
            [
             0.3333333333333333,
             "#9c179e"
            ],
            [
             0.4444444444444444,
             "#bd3786"
            ],
            [
             0.5555555555555556,
             "#d8576b"
            ],
            [
             0.6666666666666666,
             "#ed7953"
            ],
            [
             0.7777777777777778,
             "#fb9f3a"
            ],
            [
             0.8888888888888888,
             "#fdca26"
            ],
            [
             1,
             "#f0f921"
            ]
           ]
          },
          "colorway": [
           "#636efa",
           "#EF553B",
           "#00cc96",
           "#ab63fa",
           "#FFA15A",
           "#19d3f3",
           "#FF6692",
           "#B6E880",
           "#FF97FF",
           "#FECB52"
          ],
          "font": {
           "color": "#2a3f5f"
          },
          "geo": {
           "bgcolor": "white",
           "lakecolor": "white",
           "landcolor": "#E5ECF6",
           "showlakes": true,
           "showland": true,
           "subunitcolor": "white"
          },
          "hoverlabel": {
           "align": "left"
          },
          "hovermode": "closest",
          "mapbox": {
           "style": "light"
          },
          "paper_bgcolor": "white",
          "plot_bgcolor": "#E5ECF6",
          "polar": {
           "angularaxis": {
            "gridcolor": "white",
            "linecolor": "white",
            "ticks": ""
           },
           "bgcolor": "#E5ECF6",
           "radialaxis": {
            "gridcolor": "white",
            "linecolor": "white",
            "ticks": ""
           }
          },
          "scene": {
           "xaxis": {
            "backgroundcolor": "#E5ECF6",
            "gridcolor": "white",
            "gridwidth": 2,
            "linecolor": "white",
            "showbackground": true,
            "ticks": "",
            "zerolinecolor": "white"
           },
           "yaxis": {
            "backgroundcolor": "#E5ECF6",
            "gridcolor": "white",
            "gridwidth": 2,
            "linecolor": "white",
            "showbackground": true,
            "ticks": "",
            "zerolinecolor": "white"
           },
           "zaxis": {
            "backgroundcolor": "#E5ECF6",
            "gridcolor": "white",
            "gridwidth": 2,
            "linecolor": "white",
            "showbackground": true,
            "ticks": "",
            "zerolinecolor": "white"
           }
          },
          "shapedefaults": {
           "line": {
            "color": "#2a3f5f"
           }
          },
          "ternary": {
           "aaxis": {
            "gridcolor": "white",
            "linecolor": "white",
            "ticks": ""
           },
           "baxis": {
            "gridcolor": "white",
            "linecolor": "white",
            "ticks": ""
           },
           "bgcolor": "#E5ECF6",
           "caxis": {
            "gridcolor": "white",
            "linecolor": "white",
            "ticks": ""
           }
          },
          "title": {
           "x": 0.05
          },
          "xaxis": {
           "automargin": true,
           "gridcolor": "white",
           "linecolor": "white",
           "ticks": "",
           "title": {
            "standoff": 15
           },
           "zerolinecolor": "white",
           "zerolinewidth": 2
          },
          "yaxis": {
           "automargin": true,
           "gridcolor": "white",
           "linecolor": "white",
           "ticks": "",
           "title": {
            "standoff": 15
           },
           "zerolinecolor": "white",
           "zerolinewidth": 2
          }
         }
        }
       }
      },
      "text/html": [
       "<div>\n",
       "        \n",
       "        \n",
       "            <div id=\"19fad306-bd19-4138-8e30-a43e102dbf41\" class=\"plotly-graph-div\" style=\"height:525px; width:100%;\"></div>\n",
       "            <script type=\"text/javascript\">\n",
       "                require([\"plotly\"], function(Plotly) {\n",
       "                    window.PLOTLYENV=window.PLOTLYENV || {};\n",
       "                    \n",
       "                if (document.getElementById(\"19fad306-bd19-4138-8e30-a43e102dbf41\")) {\n",
       "                    Plotly.newPlot(\n",
       "                        '19fad306-bd19-4138-8e30-a43e102dbf41',\n",
       "                        [{\"geo\": \"geo\", \"hovertemplate\": \"<b>%{hovertext}</b><br><br>Country_Region=Afghanistan<br>Cases=%{marker.size}<br>iso_alpha=%{location}<extra></extra>\", \"hovertext\": [1531.0], \"legendgroup\": \"Afghanistan\", \"locations\": [\"AFG\"], \"marker\": {\"color\": \"#636efa\", \"size\": [1531], \"sizemode\": \"area\", \"sizeref\": 2414.0825}, \"name\": \"Afghanistan\", \"showlegend\": true, \"type\": \"scattergeo\"}, {\"geo\": \"geo\", \"hovertemplate\": \"<b>%{hovertext}</b><br><br>Country_Region=Albania<br>Cases=%{marker.size}<br>iso_alpha=%{location}<extra></extra>\", \"hovertext\": [726.0], \"legendgroup\": \"Albania\", \"locations\": [\"ALB\"], \"marker\": {\"color\": \"#EF553B\", \"size\": [726], \"sizemode\": \"area\", \"sizeref\": 2414.0825}, \"name\": \"Albania\", \"showlegend\": true, \"type\": \"scattergeo\"}, {\"geo\": \"geo\", \"hovertemplate\": \"<b>%{hovertext}</b><br><br>Country_Region=Algeria<br>Cases=%{marker.size}<br>iso_alpha=%{location}<extra></extra>\", \"hovertext\": [3382.0], \"legendgroup\": \"Algeria\", \"locations\": [\"DZA\"], \"marker\": {\"color\": \"#00cc96\", \"size\": [3382], \"sizemode\": \"area\", \"sizeref\": 2414.0825}, \"name\": \"Algeria\", \"showlegend\": true, \"type\": \"scattergeo\"}, {\"geo\": \"geo\", \"hovertemplate\": \"<b>%{hovertext}</b><br><br>Country_Region=Angola<br>Cases=%{marker.size}<br>iso_alpha=%{location}<extra></extra>\", \"hovertext\": [26.0], \"legendgroup\": \"Angola\", \"locations\": [\"AGO\"], \"marker\": {\"color\": \"#ab63fa\", \"size\": [26], \"sizemode\": \"area\", \"sizeref\": 2414.0825}, \"name\": \"Angola\", \"showlegend\": true, \"type\": \"scattergeo\"}, {\"geo\": \"geo\", \"hovertemplate\": \"<b>%{hovertext}</b><br><br>Country_Region=Argentina<br>Cases=%{marker.size}<br>iso_alpha=%{location}<extra></extra>\", \"hovertext\": [3892.0], \"legendgroup\": \"Argentina\", \"locations\": [\"ARG\"], \"marker\": {\"color\": \"#FFA15A\", \"size\": [3892], \"sizemode\": \"area\", \"sizeref\": 2414.0825}, \"name\": \"Argentina\", \"showlegend\": true, \"type\": \"scattergeo\"}, {\"geo\": \"geo\", \"hovertemplate\": \"<b>%{hovertext}</b><br><br>Country_Region=Australia<br>Cases=%{marker.size}<br>iso_alpha=%{location}<extra></extra>\", \"hovertext\": [6714.0], \"legendgroup\": \"Australia\", \"locations\": [\"AUS\"], \"marker\": {\"color\": \"#19d3f3\", \"size\": [6714], \"sizemode\": \"area\", \"sizeref\": 2414.0825}, \"name\": \"Australia\", \"showlegend\": true, \"type\": \"scattergeo\"}, {\"geo\": \"geo\", \"hovertemplate\": \"<b>%{hovertext}</b><br><br>Country_Region=Austria<br>Cases=%{marker.size}<br>iso_alpha=%{location}<extra></extra>\", \"hovertext\": [15225.0], \"legendgroup\": \"Austria\", \"locations\": [\"AUT\"], \"marker\": {\"color\": \"#FF6692\", \"size\": [15225], \"sizemode\": \"area\", \"sizeref\": 2414.0825}, \"name\": \"Austria\", \"showlegend\": true, \"type\": \"scattergeo\"}, {\"geo\": \"geo\", \"hovertemplate\": \"<b>%{hovertext}</b><br><br>Country_Region=Bahrain<br>Cases=%{marker.size}<br>iso_alpha=%{location}<extra></extra>\", \"hovertext\": [2647.0], \"legendgroup\": \"Bahrain\", \"locations\": [\"BHR\"], \"marker\": {\"color\": \"#B6E880\", \"size\": [2647], \"sizemode\": \"area\", \"sizeref\": 2414.0825}, \"name\": \"Bahrain\", \"showlegend\": true, \"type\": \"scattergeo\"}, {\"geo\": \"geo\", \"hovertemplate\": \"<b>%{hovertext}</b><br><br>Country_Region=Bangladesh<br>Cases=%{marker.size}<br>iso_alpha=%{location}<extra></extra>\", \"hovertext\": [5416.0], \"legendgroup\": \"Bangladesh\", \"locations\": [\"BGD\"], \"marker\": {\"color\": \"#FF97FF\", \"size\": [5416], \"sizemode\": \"area\", \"sizeref\": 2414.0825}, \"name\": \"Bangladesh\", \"showlegend\": true, \"type\": \"scattergeo\"}, {\"geo\": \"geo\", \"hovertemplate\": \"<b>%{hovertext}</b><br><br>Country_Region=Belgium<br>Cases=%{marker.size}<br>iso_alpha=%{location}<extra></extra>\", \"hovertext\": [46134.0], \"legendgroup\": \"Belgium\", \"locations\": [\"BEL\"], \"marker\": {\"color\": \"#FECB52\", \"size\": [46134], \"sizemode\": \"area\", \"sizeref\": 2414.0825}, \"name\": \"Belgium\", \"showlegend\": true, \"type\": \"scattergeo\"}, {\"geo\": \"geo\", \"hovertemplate\": \"<b>%{hovertext}</b><br><br>Country_Region=Benin<br>Cases=%{marker.size}<br>iso_alpha=%{location}<extra></extra>\", \"hovertext\": [64.0], \"legendgroup\": \"Benin\", \"locations\": [\"BEN\"], \"marker\": {\"color\": \"#636efa\", \"size\": [64], \"sizemode\": \"area\", \"sizeref\": 2414.0825}, \"name\": \"Benin\", \"showlegend\": true, \"type\": \"scattergeo\"}, {\"geo\": \"geo\", \"hovertemplate\": \"<b>%{hovertext}</b><br><br>Country_Region=Bolivia<br>Cases=%{marker.size}<br>iso_alpha=%{location}<extra></extra>\", \"hovertext\": [950.0], \"legendgroup\": \"Bolivia\", \"locations\": [\"BOL\"], \"marker\": {\"color\": \"#EF553B\", \"size\": [950], \"sizemode\": \"area\", \"sizeref\": 2414.0825}, \"name\": \"Bolivia\", \"showlegend\": true, \"type\": \"scattergeo\"}, {\"geo\": \"geo\", \"hovertemplate\": \"<b>%{hovertext}</b><br><br>Country_Region=Bosnia and Herzegovina<br>Cases=%{marker.size}<br>iso_alpha=%{location}<extra></extra>\", \"hovertext\": [1516.0], \"legendgroup\": \"Bosnia and Herzegovina\", \"locations\": [\"BIH\"], \"marker\": {\"color\": \"#00cc96\", \"size\": [1516], \"sizemode\": \"area\", \"sizeref\": 2414.0825}, \"name\": \"Bosnia and Herzegovina\", \"showlegend\": true, \"type\": \"scattergeo\"}, {\"geo\": \"geo\", \"hovertemplate\": \"<b>%{hovertext}</b><br><br>Country_Region=Botswana<br>Cases=%{marker.size}<br>iso_alpha=%{location}<extra></extra>\", \"hovertext\": [22.0], \"legendgroup\": \"Botswana\", \"locations\": [\"BWA\"], \"marker\": {\"color\": \"#ab63fa\", \"size\": [22], \"sizemode\": \"area\", \"sizeref\": 2414.0825}, \"name\": \"Botswana\", \"showlegend\": true, \"type\": \"scattergeo\"}, {\"geo\": \"geo\", \"hovertemplate\": \"<b>%{hovertext}</b><br><br>Country_Region=Brazil<br>Cases=%{marker.size}<br>iso_alpha=%{location}<extra></extra>\", \"hovertext\": [63100.0], \"legendgroup\": \"Brazil\", \"locations\": [\"BRA\"], \"marker\": {\"color\": \"#FFA15A\", \"size\": [63100], \"sizemode\": \"area\", \"sizeref\": 2414.0825}, \"name\": \"Brazil\", \"showlegend\": true, \"type\": \"scattergeo\"}, {\"geo\": \"geo\", \"hovertemplate\": \"<b>%{hovertext}</b><br><br>Country_Region=Bulgaria<br>Cases=%{marker.size}<br>iso_alpha=%{location}<extra></extra>\", \"hovertext\": [1300.0], \"legendgroup\": \"Bulgaria\", \"locations\": [\"BGR\"], \"marker\": {\"color\": \"#19d3f3\", \"size\": [1300], \"sizemode\": \"area\", \"sizeref\": 2414.0825}, \"name\": \"Bulgaria\", \"showlegend\": true, \"type\": \"scattergeo\"}, {\"geo\": \"geo\", \"hovertemplate\": \"<b>%{hovertext}</b><br><br>Country_Region=Burkina Faso<br>Cases=%{marker.size}<br>iso_alpha=%{location}<extra></extra>\", \"hovertext\": [632.0], \"legendgroup\": \"Burkina Faso\", \"locations\": [\"BFA\"], \"marker\": {\"color\": \"#FF6692\", \"size\": [632], \"sizemode\": \"area\", \"sizeref\": 2414.0825}, \"name\": \"Burkina Faso\", \"showlegend\": true, \"type\": \"scattergeo\"}, {\"geo\": \"geo\", \"hovertemplate\": \"<b>%{hovertext}</b><br><br>Country_Region=Burundi<br>Cases=%{marker.size}<br>iso_alpha=%{location}<extra></extra>\", \"hovertext\": [11.0], \"legendgroup\": \"Burundi\", \"locations\": [\"BDI\"], \"marker\": {\"color\": \"#B6E880\", \"size\": [11], \"sizemode\": \"area\", \"sizeref\": 2414.0825}, \"name\": \"Burundi\", \"showlegend\": true, \"type\": \"scattergeo\"}, {\"geo\": \"geo\", \"hovertemplate\": \"<b>%{hovertext}</b><br><br>Country_Region=Cambodia<br>Cases=%{marker.size}<br>iso_alpha=%{location}<extra></extra>\", \"hovertext\": [122.0], \"legendgroup\": \"Cambodia\", \"locations\": [\"KHM\"], \"marker\": {\"color\": \"#FF97FF\", \"size\": [122], \"sizemode\": \"area\", \"sizeref\": 2414.0825}, \"name\": \"Cambodia\", \"showlegend\": true, \"type\": \"scattergeo\"}, {\"geo\": \"geo\", \"hovertemplate\": \"<b>%{hovertext}</b><br><br>Country_Region=Cameroon<br>Cases=%{marker.size}<br>iso_alpha=%{location}<extra></extra>\", \"hovertext\": [1621.0], \"legendgroup\": \"Cameroon\", \"locations\": [\"CMR\"], \"marker\": {\"color\": \"#FECB52\", \"size\": [1621], \"sizemode\": \"area\", \"sizeref\": 2414.0825}, \"name\": \"Cameroon\", \"showlegend\": true, \"type\": \"scattergeo\"}, {\"geo\": \"geo\", \"hovertemplate\": \"<b>%{hovertext}</b><br><br>Country_Region=Canada<br>Cases=%{marker.size}<br>iso_alpha=%{location}<extra></extra>\", \"hovertext\": [47146.0], \"legendgroup\": \"Canada\", \"locations\": [\"CAN\"], \"marker\": {\"color\": \"#636efa\", \"size\": [47146], \"sizemode\": \"area\", \"sizeref\": 2414.0825}, \"name\": \"Canada\", \"showlegend\": true, \"type\": \"scattergeo\"}, {\"geo\": \"geo\", \"hovertemplate\": \"<b>%{hovertext}</b><br><br>Country_Region=Central African Republic<br>Cases=%{marker.size}<br>iso_alpha=%{location}<extra></extra>\", \"hovertext\": [19.0], \"legendgroup\": \"Central African Republic\", \"locations\": [\"CAF\"], \"marker\": {\"color\": \"#EF553B\", \"size\": [19], \"sizemode\": \"area\", \"sizeref\": 2414.0825}, \"name\": \"Central African Republic\", \"showlegend\": true, \"type\": \"scattergeo\"}, {\"geo\": \"geo\", \"hovertemplate\": \"<b>%{hovertext}</b><br><br>Country_Region=Chad<br>Cases=%{marker.size}<br>iso_alpha=%{location}<extra></extra>\", \"hovertext\": [46.0], \"legendgroup\": \"Chad\", \"locations\": [\"TCD\"], \"marker\": {\"color\": \"#00cc96\", \"size\": [46], \"sizemode\": \"area\", \"sizeref\": 2414.0825}, \"name\": \"Chad\", \"showlegend\": true, \"type\": \"scattergeo\"}, {\"geo\": \"geo\", \"hovertemplate\": \"<b>%{hovertext}</b><br><br>Country_Region=Chile<br>Cases=%{marker.size}<br>iso_alpha=%{location}<extra></extra>\", \"hovertext\": [13331.0], \"legendgroup\": \"Chile\", \"locations\": [\"CHL\"], \"marker\": {\"color\": \"#ab63fa\", \"size\": [13331], \"sizemode\": \"area\", \"sizeref\": 2414.0825}, \"name\": \"Chile\", \"showlegend\": true, \"type\": \"scattergeo\"}, {\"geo\": \"geo\", \"hovertemplate\": \"<b>%{hovertext}</b><br><br>Country_Region=China<br>Cases=%{marker.size}<br>iso_alpha=%{location}<extra></extra>\", \"hovertext\": [83912.0], \"legendgroup\": \"China\", \"locations\": [\"CHN\"], \"marker\": {\"color\": \"#FFA15A\", \"size\": [83912], \"sizemode\": \"area\", \"sizeref\": 2414.0825}, \"name\": \"China\", \"showlegend\": true, \"type\": \"scattergeo\"}, {\"geo\": \"geo\", \"hovertemplate\": \"<b>%{hovertext}</b><br><br>Country_Region=Colombia<br>Cases=%{marker.size}<br>iso_alpha=%{location}<extra></extra>\", \"hovertext\": [5379.0], \"legendgroup\": \"Colombia\", \"locations\": [\"COL\"], \"marker\": {\"color\": \"#19d3f3\", \"size\": [5379], \"sizemode\": \"area\", \"sizeref\": 2414.0825}, \"name\": \"Colombia\", \"showlegend\": true, \"type\": \"scattergeo\"}, {\"geo\": \"geo\", \"hovertemplate\": \"<b>%{hovertext}</b><br><br>Country_Region=Costa Rica<br>Cases=%{marker.size}<br>iso_alpha=%{location}<extra></extra>\", \"hovertext\": [695.0], \"legendgroup\": \"Costa Rica\", \"locations\": [\"CRI\"], \"marker\": {\"color\": \"#FF6692\", \"size\": [695], \"sizemode\": \"area\", \"sizeref\": 2414.0825}, \"name\": \"Costa Rica\", \"showlegend\": true, \"type\": \"scattergeo\"}, {\"geo\": \"geo\", \"hovertemplate\": \"<b>%{hovertext}</b><br><br>Country_Region=Cote d'Ivoire<br>Cases=%{marker.size}<br>iso_alpha=%{location}<extra></extra>\", \"hovertext\": [1150.0], \"legendgroup\": \"Cote d'Ivoire\", \"locations\": [\"CIV\"], \"marker\": {\"color\": \"#B6E880\", \"size\": [1150], \"sizemode\": \"area\", \"sizeref\": 2414.0825}, \"name\": \"Cote d'Ivoire\", \"showlegend\": true, \"type\": \"scattergeo\"}, {\"geo\": \"geo\", \"hovertemplate\": \"<b>%{hovertext}</b><br><br>Country_Region=Croatia<br>Cases=%{marker.size}<br>iso_alpha=%{location}<extra></extra>\", \"hovertext\": [2030.0], \"legendgroup\": \"Croatia\", \"locations\": [\"HRV\"], \"marker\": {\"color\": \"#FF97FF\", \"size\": [2030], \"sizemode\": \"area\", \"sizeref\": 2414.0825}, \"name\": \"Croatia\", \"showlegend\": true, \"type\": \"scattergeo\"}, {\"geo\": \"geo\", \"hovertemplate\": \"<b>%{hovertext}</b><br><br>Country_Region=Cuba<br>Cases=%{marker.size}<br>iso_alpha=%{location}<extra></extra>\", \"hovertext\": [1369.0], \"legendgroup\": \"Cuba\", \"locations\": [\"CUB\"], \"marker\": {\"color\": \"#FECB52\", \"size\": [1369], \"sizemode\": \"area\", \"sizeref\": 2414.0825}, \"name\": \"Cuba\", \"showlegend\": true, \"type\": \"scattergeo\"}, {\"geo\": \"geo\", \"hovertemplate\": \"<b>%{hovertext}</b><br><br>Country_Region=Denmark<br>Cases=%{marker.size}<br>iso_alpha=%{location}<extra></extra>\", \"hovertext\": [8773.0], \"legendgroup\": \"Denmark\", \"locations\": [\"DNK\"], \"marker\": {\"color\": \"#636efa\", \"size\": [8773], \"sizemode\": \"area\", \"sizeref\": 2414.0825}, \"name\": \"Denmark\", \"showlegend\": true, \"type\": \"scattergeo\"}, {\"geo\": \"geo\", \"hovertemplate\": \"<b>%{hovertext}</b><br><br>Country_Region=Djibouti<br>Cases=%{marker.size}<br>iso_alpha=%{location}<extra></extra>\", \"hovertext\": [1023.0], \"legendgroup\": \"Djibouti\", \"locations\": [\"DJI\"], \"marker\": {\"color\": \"#EF553B\", \"size\": [1023], \"sizemode\": \"area\", \"sizeref\": 2414.0825}, \"name\": \"Djibouti\", \"showlegend\": true, \"type\": \"scattergeo\"}, {\"geo\": \"geo\", \"hovertemplate\": \"<b>%{hovertext}</b><br><br>Country_Region=Dominican Republic<br>Cases=%{marker.size}<br>iso_alpha=%{location}<extra></extra>\", \"hovertext\": [6135.0], \"legendgroup\": \"Dominican Republic\", \"locations\": [\"DOM\"], \"marker\": {\"color\": \"#00cc96\", \"size\": [6135], \"sizemode\": \"area\", \"sizeref\": 2414.0825}, \"name\": \"Dominican Republic\", \"showlegend\": true, \"type\": \"scattergeo\"}, {\"geo\": \"geo\", \"hovertemplate\": \"<b>%{hovertext}</b><br><br>Country_Region=Ecuador<br>Cases=%{marker.size}<br>iso_alpha=%{location}<extra></extra>\", \"hovertext\": [22719.0], \"legendgroup\": \"Ecuador\", \"locations\": [\"ECU\"], \"marker\": {\"color\": \"#ab63fa\", \"size\": [22719], \"sizemode\": \"area\", \"sizeref\": 2414.0825}, \"name\": \"Ecuador\", \"showlegend\": true, \"type\": \"scattergeo\"}, {\"geo\": \"geo\", \"hovertemplate\": \"<b>%{hovertext}</b><br><br>Country_Region=Egypt<br>Cases=%{marker.size}<br>iso_alpha=%{location}<extra></extra>\", \"hovertext\": [4534.0], \"legendgroup\": \"Egypt\", \"locations\": [\"EGY\"], \"marker\": {\"color\": \"#FFA15A\", \"size\": [4534], \"sizemode\": \"area\", \"sizeref\": 2414.0825}, \"name\": \"Egypt\", \"showlegend\": true, \"type\": \"scattergeo\"}, {\"geo\": \"geo\", \"hovertemplate\": \"<b>%{hovertext}</b><br><br>Country_Region=El Salvador<br>Cases=%{marker.size}<br>iso_alpha=%{location}<extra></extra>\", \"hovertext\": [298.0], \"legendgroup\": \"El Salvador\", \"locations\": [\"SLV\"], \"marker\": {\"color\": \"#19d3f3\", \"size\": [298], \"sizemode\": \"area\", \"sizeref\": 2414.0825}, \"name\": \"El Salvador\", \"showlegend\": true, \"type\": \"scattergeo\"}, {\"geo\": \"geo\", \"hovertemplate\": \"<b>%{hovertext}</b><br><br>Country_Region=Equatorial Guinea<br>Cases=%{marker.size}<br>iso_alpha=%{location}<extra></extra>\", \"hovertext\": [258.0], \"legendgroup\": \"Equatorial Guinea\", \"locations\": [\"GNQ\"], \"marker\": {\"color\": \"#FF6692\", \"size\": [258], \"sizemode\": \"area\", \"sizeref\": 2414.0825}, \"name\": \"Equatorial Guinea\", \"showlegend\": true, \"type\": \"scattergeo\"}, {\"geo\": \"geo\", \"hovertemplate\": \"<b>%{hovertext}</b><br><br>Country_Region=Eritrea<br>Cases=%{marker.size}<br>iso_alpha=%{location}<extra></extra>\", \"hovertext\": [39.0], \"legendgroup\": \"Eritrea\", \"locations\": [\"ERI\"], \"marker\": {\"color\": \"#B6E880\", \"size\": [39], \"sizemode\": \"area\", \"sizeref\": 2414.0825}, \"name\": \"Eritrea\", \"showlegend\": true, \"type\": \"scattergeo\"}, {\"geo\": \"geo\", \"hovertemplate\": \"<b>%{hovertext}</b><br><br>Country_Region=Ethiopia<br>Cases=%{marker.size}<br>iso_alpha=%{location}<extra></extra>\", \"hovertext\": [123.0], \"legendgroup\": \"Ethiopia\", \"locations\": [\"ETH\"], \"marker\": {\"color\": \"#FF97FF\", \"size\": [123], \"sizemode\": \"area\", \"sizeref\": 2414.0825}, \"name\": \"Ethiopia\", \"showlegend\": true, \"type\": \"scattergeo\"}, {\"geo\": \"geo\", \"hovertemplate\": \"<b>%{hovertext}</b><br><br>Country_Region=Finland<br>Cases=%{marker.size}<br>iso_alpha=%{location}<extra></extra>\", \"hovertext\": [4576.0], \"legendgroup\": \"Finland\", \"locations\": [\"FIN\"], \"marker\": {\"color\": \"#FECB52\", \"size\": [4576], \"sizemode\": \"area\", \"sizeref\": 2414.0825}, \"name\": \"Finland\", \"showlegend\": true, \"type\": \"scattergeo\"}, {\"geo\": \"geo\", \"hovertemplate\": \"<b>%{hovertext}</b><br><br>Country_Region=France<br>Cases=%{marker.size}<br>iso_alpha=%{location}<extra></extra>\", \"hovertext\": [162220.0], \"legendgroup\": \"France\", \"locations\": [\"FRA\"], \"marker\": {\"color\": \"#636efa\", \"size\": [162220], \"sizemode\": \"area\", \"sizeref\": 2414.0825}, \"name\": \"France\", \"showlegend\": true, \"type\": \"scattergeo\"}, {\"geo\": \"geo\", \"hovertemplate\": \"<b>%{hovertext}</b><br><br>Country_Region=Gabon<br>Cases=%{marker.size}<br>iso_alpha=%{location}<extra></extra>\", \"hovertext\": [176.0], \"legendgroup\": \"Gabon\", \"locations\": [\"GAB\"], \"marker\": {\"color\": \"#EF553B\", \"size\": [176], \"sizemode\": \"area\", \"sizeref\": 2414.0825}, \"name\": \"Gabon\", \"showlegend\": true, \"type\": \"scattergeo\"}, {\"geo\": \"geo\", \"hovertemplate\": \"<b>%{hovertext}</b><br><br>Country_Region=Gambia<br>Cases=%{marker.size}<br>iso_alpha=%{location}<extra></extra>\", \"hovertext\": [10.0], \"legendgroup\": \"Gambia\", \"locations\": [\"GMB\"], \"marker\": {\"color\": \"#00cc96\", \"size\": [10], \"sizemode\": \"area\", \"sizeref\": 2414.0825}, \"name\": \"Gambia\", \"showlegend\": true, \"type\": \"scattergeo\"}, {\"geo\": \"geo\", \"hovertemplate\": \"<b>%{hovertext}</b><br><br>Country_Region=Germany<br>Cases=%{marker.size}<br>iso_alpha=%{location}<extra></extra>\", \"hovertext\": [157770.0], \"legendgroup\": \"Germany\", \"locations\": [\"DEU\"], \"marker\": {\"color\": \"#ab63fa\", \"size\": [157770], \"sizemode\": \"area\", \"sizeref\": 2414.0825}, \"name\": \"Germany\", \"showlegend\": true, \"type\": \"scattergeo\"}, {\"geo\": \"geo\", \"hovertemplate\": \"<b>%{hovertext}</b><br><br>Country_Region=Ghana<br>Cases=%{marker.size}<br>iso_alpha=%{location}<extra></extra>\", \"hovertext\": [1550.0], \"legendgroup\": \"Ghana\", \"locations\": [\"GHA\"], \"marker\": {\"color\": \"#FFA15A\", \"size\": [1550], \"sizemode\": \"area\", \"sizeref\": 2414.0825}, \"name\": \"Ghana\", \"showlegend\": true, \"type\": \"scattergeo\"}, {\"geo\": \"geo\", \"hovertemplate\": \"<b>%{hovertext}</b><br><br>Country_Region=Greece<br>Cases=%{marker.size}<br>iso_alpha=%{location}<extra></extra>\", \"hovertext\": [2517.0], \"legendgroup\": \"Greece\", \"locations\": [\"GRC\"], \"marker\": {\"color\": \"#19d3f3\", \"size\": [2517], \"sizemode\": \"area\", \"sizeref\": 2414.0825}, \"name\": \"Greece\", \"showlegend\": true, \"type\": \"scattergeo\"}, {\"geo\": \"geo\", \"hovertemplate\": \"<b>%{hovertext}</b><br><br>Country_Region=Guatemala<br>Cases=%{marker.size}<br>iso_alpha=%{location}<extra></extra>\", \"hovertext\": [500.0], \"legendgroup\": \"Guatemala\", \"locations\": [\"GTM\"], \"marker\": {\"color\": \"#FF6692\", \"size\": [500], \"sizemode\": \"area\", \"sizeref\": 2414.0825}, \"name\": \"Guatemala\", \"showlegend\": true, \"type\": \"scattergeo\"}, {\"geo\": \"geo\", \"hovertemplate\": \"<b>%{hovertext}</b><br><br>Country_Region=Guinea<br>Cases=%{marker.size}<br>iso_alpha=%{location}<extra></extra>\", \"hovertext\": [996.0], \"legendgroup\": \"Guinea\", \"locations\": [\"GIN\"], \"marker\": {\"color\": \"#B6E880\", \"size\": [996], \"sizemode\": \"area\", \"sizeref\": 2414.0825}, \"name\": \"Guinea\", \"showlegend\": true, \"type\": \"scattergeo\"}, {\"geo\": \"geo\", \"hovertemplate\": \"<b>%{hovertext}</b><br><br>Country_Region=Guinea-Bissau<br>Cases=%{marker.size}<br>iso_alpha=%{location}<extra></extra>\", \"hovertext\": [53.0], \"legendgroup\": \"Guinea-Bissau\", \"locations\": [\"GNB\"], \"marker\": {\"color\": \"#FF97FF\", \"size\": [53], \"sizemode\": \"area\", \"sizeref\": 2414.0825}, \"name\": \"Guinea-Bissau\", \"showlegend\": true, \"type\": \"scattergeo\"}, {\"geo\": \"geo\", \"hovertemplate\": \"<b>%{hovertext}</b><br><br>Country_Region=Haiti<br>Cases=%{marker.size}<br>iso_alpha=%{location}<extra></extra>\", \"hovertext\": [74.0], \"legendgroup\": \"Haiti\", \"locations\": [\"HTI\"], \"marker\": {\"color\": \"#FECB52\", \"size\": [74], \"sizemode\": \"area\", \"sizeref\": 2414.0825}, \"name\": \"Haiti\", \"showlegend\": true, \"type\": \"scattergeo\"}, {\"geo\": \"geo\", \"hovertemplate\": \"<b>%{hovertext}</b><br><br>Country_Region=Honduras<br>Cases=%{marker.size}<br>iso_alpha=%{location}<extra></extra>\", \"hovertext\": [627.0], \"legendgroup\": \"Honduras\", \"locations\": [\"HND\"], \"marker\": {\"color\": \"#636efa\", \"size\": [627], \"sizemode\": \"area\", \"sizeref\": 2414.0825}, \"name\": \"Honduras\", \"showlegend\": true, \"type\": \"scattergeo\"}, {\"geo\": \"geo\", \"hovertemplate\": \"<b>%{hovertext}</b><br><br>Country_Region=Hungary<br>Cases=%{marker.size}<br>iso_alpha=%{location}<extra></extra>\", \"hovertext\": [2500.0], \"legendgroup\": \"Hungary\", \"locations\": [\"HUN\"], \"marker\": {\"color\": \"#EF553B\", \"size\": [2500], \"sizemode\": \"area\", \"sizeref\": 2414.0825}, \"name\": \"Hungary\", \"showlegend\": true, \"type\": \"scattergeo\"}, {\"geo\": \"geo\", \"hovertemplate\": \"<b>%{hovertext}</b><br><br>Country_Region=Iceland<br>Cases=%{marker.size}<br>iso_alpha=%{location}<extra></extra>\", \"hovertext\": [1792.0], \"legendgroup\": \"Iceland\", \"locations\": [\"ISL\"], \"marker\": {\"color\": \"#00cc96\", \"size\": [1792], \"sizemode\": \"area\", \"sizeref\": 2414.0825}, \"name\": \"Iceland\", \"showlegend\": true, \"type\": \"scattergeo\"}, {\"geo\": \"geo\", \"hovertemplate\": \"<b>%{hovertext}</b><br><br>Country_Region=India<br>Cases=%{marker.size}<br>iso_alpha=%{location}<extra></extra>\", \"hovertext\": [27890.0], \"legendgroup\": \"India\", \"locations\": [\"IND\"], \"marker\": {\"color\": \"#ab63fa\", \"size\": [27890], \"sizemode\": \"area\", \"sizeref\": 2414.0825}, \"name\": \"India\", \"showlegend\": true, \"type\": \"scattergeo\"}, {\"geo\": \"geo\", \"hovertemplate\": \"<b>%{hovertext}</b><br><br>Country_Region=Indonesia<br>Cases=%{marker.size}<br>iso_alpha=%{location}<extra></extra>\", \"hovertext\": [8882.0], \"legendgroup\": \"Indonesia\", \"locations\": [\"IDN\"], \"marker\": {\"color\": \"#FFA15A\", \"size\": [8882], \"sizemode\": \"area\", \"sizeref\": 2414.0825}, \"name\": \"Indonesia\", \"showlegend\": true, \"type\": \"scattergeo\"}, {\"geo\": \"geo\", \"hovertemplate\": \"<b>%{hovertext}</b><br><br>Country_Region=Iran<br>Cases=%{marker.size}<br>iso_alpha=%{location}<extra></extra>\", \"hovertext\": [90481.0], \"legendgroup\": \"Iran\", \"locations\": [\"IRN\"], \"marker\": {\"color\": \"#19d3f3\", \"size\": [90481], \"sizemode\": \"area\", \"sizeref\": 2414.0825}, \"name\": \"Iran\", \"showlegend\": true, \"type\": \"scattergeo\"}, {\"geo\": \"geo\", \"hovertemplate\": \"<b>%{hovertext}</b><br><br>Country_Region=Iraq<br>Cases=%{marker.size}<br>iso_alpha=%{location}<extra></extra>\", \"hovertext\": [1820.0], \"legendgroup\": \"Iraq\", \"locations\": [\"IRQ\"], \"marker\": {\"color\": \"#FF6692\", \"size\": [1820], \"sizemode\": \"area\", \"sizeref\": 2414.0825}, \"name\": \"Iraq\", \"showlegend\": true, \"type\": \"scattergeo\"}, {\"geo\": \"geo\", \"hovertemplate\": \"<b>%{hovertext}</b><br><br>Country_Region=Ireland<br>Cases=%{marker.size}<br>iso_alpha=%{location}<extra></extra>\", \"hovertext\": [19262.0], \"legendgroup\": \"Ireland\", \"locations\": [\"IRL\"], \"marker\": {\"color\": \"#B6E880\", \"size\": [19262], \"sizemode\": \"area\", \"sizeref\": 2414.0825}, \"name\": \"Ireland\", \"showlegend\": true, \"type\": \"scattergeo\"}, {\"geo\": \"geo\", \"hovertemplate\": \"<b>%{hovertext}</b><br><br>Country_Region=Israel<br>Cases=%{marker.size}<br>iso_alpha=%{location}<extra></extra>\", \"hovertext\": [15443.0], \"legendgroup\": \"Israel\", \"locations\": [\"ISR\"], \"marker\": {\"color\": \"#FF97FF\", \"size\": [15443], \"sizemode\": \"area\", \"sizeref\": 2414.0825}, \"name\": \"Israel\", \"showlegend\": true, \"type\": \"scattergeo\"}, {\"geo\": \"geo\", \"hovertemplate\": \"<b>%{hovertext}</b><br><br>Country_Region=Italy<br>Cases=%{marker.size}<br>iso_alpha=%{location}<extra></extra>\", \"hovertext\": [197675.0], \"legendgroup\": \"Italy\", \"locations\": [\"ITA\"], \"marker\": {\"color\": \"#FECB52\", \"size\": [197675], \"sizemode\": \"area\", \"sizeref\": 2414.0825}, \"name\": \"Italy\", \"showlegend\": true, \"type\": \"scattergeo\"}, {\"geo\": \"geo\", \"hovertemplate\": \"<b>%{hovertext}</b><br><br>Country_Region=Jamaica<br>Cases=%{marker.size}<br>iso_alpha=%{location}<extra></extra>\", \"hovertext\": [350.0], \"legendgroup\": \"Jamaica\", \"locations\": [\"JAM\"], \"marker\": {\"color\": \"#636efa\", \"size\": [350], \"sizemode\": \"area\", \"sizeref\": 2414.0825}, \"name\": \"Jamaica\", \"showlegend\": true, \"type\": \"scattergeo\"}, {\"geo\": \"geo\", \"hovertemplate\": \"<b>%{hovertext}</b><br><br>Country_Region=Japan<br>Cases=%{marker.size}<br>iso_alpha=%{location}<extra></extra>\", \"hovertext\": [13441.0], \"legendgroup\": \"Japan\", \"locations\": [\"JPN\"], \"marker\": {\"color\": \"#EF553B\", \"size\": [13441], \"sizemode\": \"area\", \"sizeref\": 2414.0825}, \"name\": \"Japan\", \"showlegend\": true, \"type\": \"scattergeo\"}, {\"geo\": \"geo\", \"hovertemplate\": \"<b>%{hovertext}</b><br><br>Country_Region=Jordan<br>Cases=%{marker.size}<br>iso_alpha=%{location}<extra></extra>\", \"hovertext\": [447.0], \"legendgroup\": \"Jordan\", \"locations\": [\"JOR\"], \"marker\": {\"color\": \"#00cc96\", \"size\": [447], \"sizemode\": \"area\", \"sizeref\": 2414.0825}, \"name\": \"Jordan\", \"showlegend\": true, \"type\": \"scattergeo\"}, {\"geo\": \"geo\", \"hovertemplate\": \"<b>%{hovertext}</b><br><br>Country_Region=Kenya<br>Cases=%{marker.size}<br>iso_alpha=%{location}<extra></extra>\", \"hovertext\": [355.0], \"legendgroup\": \"Kenya\", \"locations\": [\"KEN\"], \"marker\": {\"color\": \"#ab63fa\", \"size\": [355], \"sizemode\": \"area\", \"sizeref\": 2414.0825}, \"name\": \"Kenya\", \"showlegend\": true, \"type\": \"scattergeo\"}, {\"geo\": \"geo\", \"hovertemplate\": \"<b>%{hovertext}</b><br><br>Country_Region=Kuwait<br>Cases=%{marker.size}<br>iso_alpha=%{location}<extra></extra>\", \"hovertext\": [3075.0], \"legendgroup\": \"Kuwait\", \"locations\": [\"KWT\"], \"marker\": {\"color\": \"#FFA15A\", \"size\": [3075], \"sizemode\": \"area\", \"sizeref\": 2414.0825}, \"name\": \"Kuwait\", \"showlegend\": true, \"type\": \"scattergeo\"}, {\"geo\": \"geo\", \"hovertemplate\": \"<b>%{hovertext}</b><br><br>Country_Region=Lebanon<br>Cases=%{marker.size}<br>iso_alpha=%{location}<extra></extra>\", \"hovertext\": [707.0], \"legendgroup\": \"Lebanon\", \"locations\": [\"LBN\"], \"marker\": {\"color\": \"#19d3f3\", \"size\": [707], \"sizemode\": \"area\", \"sizeref\": 2414.0825}, \"name\": \"Lebanon\", \"showlegend\": true, \"type\": \"scattergeo\"}, {\"geo\": \"geo\", \"hovertemplate\": \"<b>%{hovertext}</b><br><br>Country_Region=Liberia<br>Cases=%{marker.size}<br>iso_alpha=%{location}<extra></extra>\", \"hovertext\": [124.0], \"legendgroup\": \"Liberia\", \"locations\": [\"LBR\"], \"marker\": {\"color\": \"#FF6692\", \"size\": [124], \"sizemode\": \"area\", \"sizeref\": 2414.0825}, \"name\": \"Liberia\", \"showlegend\": true, \"type\": \"scattergeo\"}, {\"geo\": \"geo\", \"hovertemplate\": \"<b>%{hovertext}</b><br><br>Country_Region=Libya<br>Cases=%{marker.size}<br>iso_alpha=%{location}<extra></extra>\", \"hovertext\": [61.0], \"legendgroup\": \"Libya\", \"locations\": [\"LBY\"], \"marker\": {\"color\": \"#B6E880\", \"size\": [61], \"sizemode\": \"area\", \"sizeref\": 2414.0825}, \"name\": \"Libya\", \"showlegend\": true, \"type\": \"scattergeo\"}, {\"geo\": \"geo\", \"hovertemplate\": \"<b>%{hovertext}</b><br><br>Country_Region=Madagascar<br>Cases=%{marker.size}<br>iso_alpha=%{location}<extra></extra>\", \"hovertext\": [124.0], \"legendgroup\": \"Madagascar\", \"locations\": [\"MDG\"], \"marker\": {\"color\": \"#FF97FF\", \"size\": [124], \"sizemode\": \"area\", \"sizeref\": 2414.0825}, \"name\": \"Madagascar\", \"showlegend\": true, \"type\": \"scattergeo\"}, {\"geo\": \"geo\", \"hovertemplate\": \"<b>%{hovertext}</b><br><br>Country_Region=Malawi<br>Cases=%{marker.size}<br>iso_alpha=%{location}<extra></extra>\", \"hovertext\": [34.0], \"legendgroup\": \"Malawi\", \"locations\": [\"MWI\"], \"marker\": {\"color\": \"#FECB52\", \"size\": [34], \"sizemode\": \"area\", \"sizeref\": 2414.0825}, \"name\": \"Malawi\", \"showlegend\": true, \"type\": \"scattergeo\"}, {\"geo\": \"geo\", \"hovertemplate\": \"<b>%{hovertext}</b><br><br>Country_Region=Malaysia<br>Cases=%{marker.size}<br>iso_alpha=%{location}<extra></extra>\", \"hovertext\": [5780.0], \"legendgroup\": \"Malaysia\", \"locations\": [\"MYS\"], \"marker\": {\"color\": \"#636efa\", \"size\": [5780], \"sizemode\": \"area\", \"sizeref\": 2414.0825}, \"name\": \"Malaysia\", \"showlegend\": true, \"type\": \"scattergeo\"}, {\"geo\": \"geo\", \"hovertemplate\": \"<b>%{hovertext}</b><br><br>Country_Region=Mali<br>Cases=%{marker.size}<br>iso_alpha=%{location}<extra></extra>\", \"hovertext\": [389.0], \"legendgroup\": \"Mali\", \"locations\": [\"MLI\"], \"marker\": {\"color\": \"#EF553B\", \"size\": [389], \"sizemode\": \"area\", \"sizeref\": 2414.0825}, \"name\": \"Mali\", \"showlegend\": true, \"type\": \"scattergeo\"}, {\"geo\": \"geo\", \"hovertemplate\": \"<b>%{hovertext}</b><br><br>Country_Region=Mauritania<br>Cases=%{marker.size}<br>iso_alpha=%{location}<extra></extra>\", \"hovertext\": [7.0], \"legendgroup\": \"Mauritania\", \"locations\": [\"MRT\"], \"marker\": {\"color\": \"#00cc96\", \"size\": [7], \"sizemode\": \"area\", \"sizeref\": 2414.0825}, \"name\": \"Mauritania\", \"showlegend\": true, \"type\": \"scattergeo\"}, {\"geo\": \"geo\", \"hovertemplate\": \"<b>%{hovertext}</b><br><br>Country_Region=Mauritius<br>Cases=%{marker.size}<br>iso_alpha=%{location}<extra></extra>\", \"hovertext\": [332.0], \"legendgroup\": \"Mauritius\", \"locations\": [\"MUS\"], \"marker\": {\"color\": \"#ab63fa\", \"size\": [332], \"sizemode\": \"area\", \"sizeref\": 2414.0825}, \"name\": \"Mauritius\", \"showlegend\": true, \"type\": \"scattergeo\"}, {\"geo\": \"geo\", \"hovertemplate\": \"<b>%{hovertext}</b><br><br>Country_Region=Mexico<br>Cases=%{marker.size}<br>iso_alpha=%{location}<extra></extra>\", \"hovertext\": [14677.0], \"legendgroup\": \"Mexico\", \"locations\": [\"MEX\"], \"marker\": {\"color\": \"#FFA15A\", \"size\": [14677], \"sizemode\": \"area\", \"sizeref\": 2414.0825}, \"name\": \"Mexico\", \"showlegend\": true, \"type\": \"scattergeo\"}, {\"geo\": \"geo\", \"hovertemplate\": \"<b>%{hovertext}</b><br><br>Country_Region=Mongolia<br>Cases=%{marker.size}<br>iso_alpha=%{location}<extra></extra>\", \"hovertext\": [38.0], \"legendgroup\": \"Mongolia\", \"locations\": [\"MNG\"], \"marker\": {\"color\": \"#19d3f3\", \"size\": [38], \"sizemode\": \"area\", \"sizeref\": 2414.0825}, \"name\": \"Mongolia\", \"showlegend\": true, \"type\": \"scattergeo\"}, {\"geo\": \"geo\", \"hovertemplate\": \"<b>%{hovertext}</b><br><br>Country_Region=Montenegro<br>Cases=%{marker.size}<br>iso_alpha=%{location}<extra></extra>\", \"hovertext\": [321.0], \"legendgroup\": \"Montenegro\", \"locations\": [\"MNE\"], \"marker\": {\"color\": \"#FF6692\", \"size\": [321], \"sizemode\": \"area\", \"sizeref\": 2414.0825}, \"name\": \"Montenegro\", \"showlegend\": true, \"type\": \"scattergeo\"}, {\"geo\": \"geo\", \"hovertemplate\": \"<b>%{hovertext}</b><br><br>Country_Region=Morocco<br>Cases=%{marker.size}<br>iso_alpha=%{location}<extra></extra>\", \"hovertext\": [4065.0], \"legendgroup\": \"Morocco\", \"locations\": [\"MAR\"], \"marker\": {\"color\": \"#B6E880\", \"size\": [4065], \"sizemode\": \"area\", \"sizeref\": 2414.0825}, \"name\": \"Morocco\", \"showlegend\": true, \"type\": \"scattergeo\"}, {\"geo\": \"geo\", \"hovertemplate\": \"<b>%{hovertext}</b><br><br>Country_Region=Mozambique<br>Cases=%{marker.size}<br>iso_alpha=%{location}<extra></extra>\", \"hovertext\": [76.0], \"legendgroup\": \"Mozambique\", \"locations\": [\"MOZ\"], \"marker\": {\"color\": \"#FF97FF\", \"size\": [76], \"sizemode\": \"area\", \"sizeref\": 2414.0825}, \"name\": \"Mozambique\", \"showlegend\": true, \"type\": \"scattergeo\"}, {\"geo\": \"geo\", \"hovertemplate\": \"<b>%{hovertext}</b><br><br>Country_Region=Namibia<br>Cases=%{marker.size}<br>iso_alpha=%{location}<extra></extra>\", \"hovertext\": [16.0], \"legendgroup\": \"Namibia\", \"locations\": [\"NAM\"], \"marker\": {\"color\": \"#FECB52\", \"size\": [16], \"sizemode\": \"area\", \"sizeref\": 2414.0825}, \"name\": \"Namibia\", \"showlegend\": true, \"type\": \"scattergeo\"}, {\"geo\": \"geo\", \"hovertemplate\": \"<b>%{hovertext}</b><br><br>Country_Region=Nepal<br>Cases=%{marker.size}<br>iso_alpha=%{location}<extra></extra>\", \"hovertext\": [52.0], \"legendgroup\": \"Nepal\", \"locations\": [\"NPL\"], \"marker\": {\"color\": \"#636efa\", \"size\": [52], \"sizemode\": \"area\", \"sizeref\": 2414.0825}, \"name\": \"Nepal\", \"showlegend\": true, \"type\": \"scattergeo\"}, {\"geo\": \"geo\", \"hovertemplate\": \"<b>%{hovertext}</b><br><br>Country_Region=Netherlands<br>Cases=%{marker.size}<br>iso_alpha=%{location}<extra></extra>\", \"hovertext\": [38040.0], \"legendgroup\": \"Netherlands\", \"locations\": [\"NLD\"], \"marker\": {\"color\": \"#EF553B\", \"size\": [38040], \"sizemode\": \"area\", \"sizeref\": 2414.0825}, \"name\": \"Netherlands\", \"showlegend\": true, \"type\": \"scattergeo\"}, {\"geo\": \"geo\", \"hovertemplate\": \"<b>%{hovertext}</b><br><br>Country_Region=New Zealand<br>Cases=%{marker.size}<br>iso_alpha=%{location}<extra></extra>\", \"hovertext\": [1469.0], \"legendgroup\": \"New Zealand\", \"locations\": [\"NZL\"], \"marker\": {\"color\": \"#00cc96\", \"size\": [1469], \"sizemode\": \"area\", \"sizeref\": 2414.0825}, \"name\": \"New Zealand\", \"showlegend\": true, \"type\": \"scattergeo\"}, {\"geo\": \"geo\", \"hovertemplate\": \"<b>%{hovertext}</b><br><br>Country_Region=Nicaragua<br>Cases=%{marker.size}<br>iso_alpha=%{location}<extra></extra>\", \"hovertext\": [13.0], \"legendgroup\": \"Nicaragua\", \"locations\": [\"NIC\"], \"marker\": {\"color\": \"#ab63fa\", \"size\": [13], \"sizemode\": \"area\", \"sizeref\": 2414.0825}, \"name\": \"Nicaragua\", \"showlegend\": true, \"type\": \"scattergeo\"}, {\"geo\": \"geo\", \"hovertemplate\": \"<b>%{hovertext}</b><br><br>Country_Region=Niger<br>Cases=%{marker.size}<br>iso_alpha=%{location}<extra></extra>\", \"hovertext\": [696.0], \"legendgroup\": \"Niger\", \"locations\": [\"NER\"], \"marker\": {\"color\": \"#FFA15A\", \"size\": [696], \"sizemode\": \"area\", \"sizeref\": 2414.0825}, \"name\": \"Niger\", \"showlegend\": true, \"type\": \"scattergeo\"}, {\"geo\": \"geo\", \"hovertemplate\": \"<b>%{hovertext}</b><br><br>Country_Region=Nigeria<br>Cases=%{marker.size}<br>iso_alpha=%{location}<extra></extra>\", \"hovertext\": [1273.0], \"legendgroup\": \"Nigeria\", \"locations\": [\"NGA\"], \"marker\": {\"color\": \"#19d3f3\", \"size\": [1273], \"sizemode\": \"area\", \"sizeref\": 2414.0825}, \"name\": \"Nigeria\", \"showlegend\": true, \"type\": \"scattergeo\"}, {\"geo\": \"geo\", \"hovertemplate\": \"<b>%{hovertext}</b><br><br>Country_Region=Norway<br>Cases=%{marker.size}<br>iso_alpha=%{location}<extra></extra>\", \"hovertext\": [7527.0], \"legendgroup\": \"Norway\", \"locations\": [\"NOR\"], \"marker\": {\"color\": \"#FF6692\", \"size\": [7527], \"sizemode\": \"area\", \"sizeref\": 2414.0825}, \"name\": \"Norway\", \"showlegend\": true, \"type\": \"scattergeo\"}, {\"geo\": \"geo\", \"hovertemplate\": \"<b>%{hovertext}</b><br><br>Country_Region=Oman<br>Cases=%{marker.size}<br>iso_alpha=%{location}<extra></extra>\", \"hovertext\": [1998.0], \"legendgroup\": \"Oman\", \"locations\": [\"OMN\"], \"marker\": {\"color\": \"#B6E880\", \"size\": [1998], \"sizemode\": \"area\", \"sizeref\": 2414.0825}, \"name\": \"Oman\", \"showlegend\": true, \"type\": \"scattergeo\"}, {\"geo\": \"geo\", \"hovertemplate\": \"<b>%{hovertext}</b><br><br>Country_Region=Pakistan<br>Cases=%{marker.size}<br>iso_alpha=%{location}<extra></extra>\", \"hovertext\": [13328.0], \"legendgroup\": \"Pakistan\", \"locations\": [\"PAK\"], \"marker\": {\"color\": \"#FF97FF\", \"size\": [13328], \"sizemode\": \"area\", \"sizeref\": 2414.0825}, \"name\": \"Pakistan\", \"showlegend\": true, \"type\": \"scattergeo\"}, {\"geo\": \"geo\", \"hovertemplate\": \"<b>%{hovertext}</b><br><br>Country_Region=Panama<br>Cases=%{marker.size}<br>iso_alpha=%{location}<extra></extra>\", \"hovertext\": [5779.0], \"legendgroup\": \"Panama\", \"locations\": [\"PAN\"], \"marker\": {\"color\": \"#FECB52\", \"size\": [5779], \"sizemode\": \"area\", \"sizeref\": 2414.0825}, \"name\": \"Panama\", \"showlegend\": true, \"type\": \"scattergeo\"}, {\"geo\": \"geo\", \"hovertemplate\": \"<b>%{hovertext}</b><br><br>Country_Region=Paraguay<br>Cases=%{marker.size}<br>iso_alpha=%{location}<extra></extra>\", \"hovertext\": [228.0], \"legendgroup\": \"Paraguay\", \"locations\": [\"PRY\"], \"marker\": {\"color\": \"#636efa\", \"size\": [228], \"sizemode\": \"area\", \"sizeref\": 2414.0825}, \"name\": \"Paraguay\", \"showlegend\": true, \"type\": \"scattergeo\"}, {\"geo\": \"geo\", \"hovertemplate\": \"<b>%{hovertext}</b><br><br>Country_Region=Peru<br>Cases=%{marker.size}<br>iso_alpha=%{location}<extra></extra>\", \"hovertext\": [27517.0], \"legendgroup\": \"Peru\", \"locations\": [\"PER\"], \"marker\": {\"color\": \"#EF553B\", \"size\": [27517], \"sizemode\": \"area\", \"sizeref\": 2414.0825}, \"name\": \"Peru\", \"showlegend\": true, \"type\": \"scattergeo\"}, {\"geo\": \"geo\", \"hovertemplate\": \"<b>%{hovertext}</b><br><br>Country_Region=Philippines<br>Cases=%{marker.size}<br>iso_alpha=%{location}<extra></extra>\", \"hovertext\": [7579.0], \"legendgroup\": \"Philippines\", \"locations\": [\"PHL\"], \"marker\": {\"color\": \"#00cc96\", \"size\": [7579], \"sizemode\": \"area\", \"sizeref\": 2414.0825}, \"name\": \"Philippines\", \"showlegend\": true, \"type\": \"scattergeo\"}, {\"geo\": \"geo\", \"hovertemplate\": \"<b>%{hovertext}</b><br><br>Country_Region=Poland<br>Cases=%{marker.size}<br>iso_alpha=%{location}<extra></extra>\", \"hovertext\": [11617.0], \"legendgroup\": \"Poland\", \"locations\": [\"POL\"], \"marker\": {\"color\": \"#ab63fa\", \"size\": [11617], \"sizemode\": \"area\", \"sizeref\": 2414.0825}, \"name\": \"Poland\", \"showlegend\": true, \"type\": \"scattergeo\"}, {\"geo\": \"geo\", \"hovertemplate\": \"<b>%{hovertext}</b><br><br>Country_Region=Portugal<br>Cases=%{marker.size}<br>iso_alpha=%{location}<extra></extra>\", \"hovertext\": [23864.0], \"legendgroup\": \"Portugal\", \"locations\": [\"PRT\"], \"marker\": {\"color\": \"#FFA15A\", \"size\": [23864], \"sizemode\": \"area\", \"sizeref\": 2414.0825}, \"name\": \"Portugal\", \"showlegend\": true, \"type\": \"scattergeo\"}, {\"geo\": \"geo\", \"hovertemplate\": \"<b>%{hovertext}</b><br><br>Country_Region=Romania<br>Cases=%{marker.size}<br>iso_alpha=%{location}<extra></extra>\", \"hovertext\": [11036.0], \"legendgroup\": \"Romania\", \"locations\": [\"ROU\"], \"marker\": {\"color\": \"#19d3f3\", \"size\": [11036], \"sizemode\": \"area\", \"sizeref\": 2414.0825}, \"name\": \"Romania\", \"showlegend\": true, \"type\": \"scattergeo\"}, {\"geo\": \"geo\", \"hovertemplate\": \"<b>%{hovertext}</b><br><br>Country_Region=Rwanda<br>Cases=%{marker.size}<br>iso_alpha=%{location}<extra></extra>\", \"hovertext\": [191.0], \"legendgroup\": \"Rwanda\", \"locations\": [\"RWA\"], \"marker\": {\"color\": \"#FF6692\", \"size\": [191], \"sizemode\": \"area\", \"sizeref\": 2414.0825}, \"name\": \"Rwanda\", \"showlegend\": true, \"type\": \"scattergeo\"}, {\"geo\": \"geo\", \"hovertemplate\": \"<b>%{hovertext}</b><br><br>Country_Region=Sao Tome and Principe<br>Cases=%{marker.size}<br>iso_alpha=%{location}<extra></extra>\", \"hovertext\": [4.0], \"legendgroup\": \"Sao Tome and Principe\", \"locations\": [\"STP\"], \"marker\": {\"color\": \"#B6E880\", \"size\": [4], \"sizemode\": \"area\", \"sizeref\": 2414.0825}, \"name\": \"Sao Tome and Principe\", \"showlegend\": true, \"type\": \"scattergeo\"}, {\"geo\": \"geo\", \"hovertemplate\": \"<b>%{hovertext}</b><br><br>Country_Region=Saudi Arabia<br>Cases=%{marker.size}<br>iso_alpha=%{location}<extra></extra>\", \"hovertext\": [17522.0], \"legendgroup\": \"Saudi Arabia\", \"locations\": [\"SAU\"], \"marker\": {\"color\": \"#FF97FF\", \"size\": [17522], \"sizemode\": \"area\", \"sizeref\": 2414.0825}, \"name\": \"Saudi Arabia\", \"showlegend\": true, \"type\": \"scattergeo\"}, {\"geo\": \"geo\", \"hovertemplate\": \"<b>%{hovertext}</b><br><br>Country_Region=Senegal<br>Cases=%{marker.size}<br>iso_alpha=%{location}<extra></extra>\", \"hovertext\": [671.0], \"legendgroup\": \"Senegal\", \"locations\": [\"SEN\"], \"marker\": {\"color\": \"#FECB52\", \"size\": [671], \"sizemode\": \"area\", \"sizeref\": 2414.0825}, \"name\": \"Senegal\", \"showlegend\": true, \"type\": \"scattergeo\"}, {\"geo\": \"geo\", \"hovertemplate\": \"<b>%{hovertext}</b><br><br>Country_Region=Serbia<br>Cases=%{marker.size}<br>iso_alpha=%{location}<extra></extra>\", \"hovertext\": [6630.0], \"legendgroup\": \"Serbia\", \"locations\": [\"SRB\"], \"marker\": {\"color\": \"#636efa\", \"size\": [6630], \"sizemode\": \"area\", \"sizeref\": 2414.0825}, \"name\": \"Serbia\", \"showlegend\": true, \"type\": \"scattergeo\"}, {\"geo\": \"geo\", \"hovertemplate\": \"<b>%{hovertext}</b><br><br>Country_Region=Sierra Leone<br>Cases=%{marker.size}<br>iso_alpha=%{location}<extra></extra>\", \"hovertext\": [93.0], \"legendgroup\": \"Sierra Leone\", \"locations\": [\"SLE\"], \"marker\": {\"color\": \"#EF553B\", \"size\": [93], \"sizemode\": \"area\", \"sizeref\": 2414.0825}, \"name\": \"Sierra Leone\", \"showlegend\": true, \"type\": \"scattergeo\"}, {\"geo\": \"geo\", \"hovertemplate\": \"<b>%{hovertext}</b><br><br>Country_Region=Singapore<br>Cases=%{marker.size}<br>iso_alpha=%{location}<extra></extra>\", \"hovertext\": [13624.0], \"legendgroup\": \"Singapore\", \"locations\": [\"SGP\"], \"marker\": {\"color\": \"#00cc96\", \"size\": [13624], \"sizemode\": \"area\", \"sizeref\": 2414.0825}, \"name\": \"Singapore\", \"showlegend\": true, \"type\": \"scattergeo\"}, {\"geo\": \"geo\", \"hovertemplate\": \"<b>%{hovertext}</b><br><br>Country_Region=Slovenia<br>Cases=%{marker.size}<br>iso_alpha=%{location}<extra></extra>\", \"hovertext\": [1396.0], \"legendgroup\": \"Slovenia\", \"locations\": [\"SVN\"], \"marker\": {\"color\": \"#ab63fa\", \"size\": [1396], \"sizemode\": \"area\", \"sizeref\": 2414.0825}, \"name\": \"Slovenia\", \"showlegend\": true, \"type\": \"scattergeo\"}, {\"geo\": \"geo\", \"hovertemplate\": \"<b>%{hovertext}</b><br><br>Country_Region=Somalia<br>Cases=%{marker.size}<br>iso_alpha=%{location}<extra></extra>\", \"hovertext\": [436.0], \"legendgroup\": \"Somalia\", \"locations\": [\"SOM\"], \"marker\": {\"color\": \"#FFA15A\", \"size\": [436], \"sizemode\": \"area\", \"sizeref\": 2414.0825}, \"name\": \"Somalia\", \"showlegend\": true, \"type\": \"scattergeo\"}, {\"geo\": \"geo\", \"hovertemplate\": \"<b>%{hovertext}</b><br><br>Country_Region=South Africa<br>Cases=%{marker.size}<br>iso_alpha=%{location}<extra></extra>\", \"hovertext\": [4546.0], \"legendgroup\": \"South Africa\", \"locations\": [\"ZAF\"], \"marker\": {\"color\": \"#19d3f3\", \"size\": [4546], \"sizemode\": \"area\", \"sizeref\": 2414.0825}, \"name\": \"South Africa\", \"showlegend\": true, \"type\": \"scattergeo\"}, {\"geo\": \"geo\", \"hovertemplate\": \"<b>%{hovertext}</b><br><br>Country_Region=Spain<br>Cases=%{marker.size}<br>iso_alpha=%{location}<extra></extra>\", \"hovertext\": [226629.0], \"legendgroup\": \"Spain\", \"locations\": [\"ESP\"], \"marker\": {\"color\": \"#FF6692\", \"size\": [226629], \"sizemode\": \"area\", \"sizeref\": 2414.0825}, \"name\": \"Spain\", \"showlegend\": true, \"type\": \"scattergeo\"}, {\"geo\": \"geo\", \"hovertemplate\": \"<b>%{hovertext}</b><br><br>Country_Region=Sri Lanka<br>Cases=%{marker.size}<br>iso_alpha=%{location}<extra></extra>\", \"hovertext\": [523.0], \"legendgroup\": \"Sri Lanka\", \"locations\": [\"LKA\"], \"marker\": {\"color\": \"#B6E880\", \"size\": [523], \"sizemode\": \"area\", \"sizeref\": 2414.0825}, \"name\": \"Sri Lanka\", \"showlegend\": true, \"type\": \"scattergeo\"}, {\"geo\": \"geo\", \"hovertemplate\": \"<b>%{hovertext}</b><br><br>Country_Region=Sudan<br>Cases=%{marker.size}<br>iso_alpha=%{location}<extra></extra>\", \"hovertext\": [237.0], \"legendgroup\": \"Sudan\", \"locations\": [\"SDN\"], \"marker\": {\"color\": \"#FF97FF\", \"size\": [237], \"sizemode\": \"area\", \"sizeref\": 2414.0825}, \"name\": \"Sudan\", \"showlegend\": true, \"type\": \"scattergeo\"}, {\"geo\": \"geo\", \"hovertemplate\": \"<b>%{hovertext}</b><br><br>Country_Region=Sweden<br>Cases=%{marker.size}<br>iso_alpha=%{location}<extra></extra>\", \"hovertext\": [18640.0], \"legendgroup\": \"Sweden\", \"locations\": [\"SWE\"], \"marker\": {\"color\": \"#FECB52\", \"size\": [18640], \"sizemode\": \"area\", \"sizeref\": 2414.0825}, \"name\": \"Sweden\", \"showlegend\": true, \"type\": \"scattergeo\"}, {\"geo\": \"geo\", \"hovertemplate\": \"<b>%{hovertext}</b><br><br>Country_Region=Switzerland<br>Cases=%{marker.size}<br>iso_alpha=%{location}<extra></extra>\", \"hovertext\": [29061.0], \"legendgroup\": \"Switzerland\", \"locations\": [\"CHE\"], \"marker\": {\"color\": \"#636efa\", \"size\": [29061], \"sizemode\": \"area\", \"sizeref\": 2414.0825}, \"name\": \"Switzerland\", \"showlegend\": true, \"type\": \"scattergeo\"}, {\"geo\": \"geo\", \"hovertemplate\": \"<b>%{hovertext}</b><br><br>Country_Region=Syria<br>Cases=%{marker.size}<br>iso_alpha=%{location}<extra></extra>\", \"hovertext\": [43.0], \"legendgroup\": \"Syria\", \"locations\": [\"SYR\"], \"marker\": {\"color\": \"#EF553B\", \"size\": [43], \"sizemode\": \"area\", \"sizeref\": 2414.0825}, \"name\": \"Syria\", \"showlegend\": true, \"type\": \"scattergeo\"}, {\"geo\": \"geo\", \"hovertemplate\": \"<b>%{hovertext}</b><br><br>Country_Region=Tanzania<br>Cases=%{marker.size}<br>iso_alpha=%{location}<extra></extra>\", \"hovertext\": [299.0], \"legendgroup\": \"Tanzania\", \"locations\": [\"TZA\"], \"marker\": {\"color\": \"#00cc96\", \"size\": [299], \"sizemode\": \"area\", \"sizeref\": 2414.0825}, \"name\": \"Tanzania\", \"showlegend\": true, \"type\": \"scattergeo\"}, {\"geo\": \"geo\", \"hovertemplate\": \"<b>%{hovertext}</b><br><br>Country_Region=Thailand<br>Cases=%{marker.size}<br>iso_alpha=%{location}<extra></extra>\", \"hovertext\": [2922.0], \"legendgroup\": \"Thailand\", \"locations\": [\"THA\"], \"marker\": {\"color\": \"#ab63fa\", \"size\": [2922], \"sizemode\": \"area\", \"sizeref\": 2414.0825}, \"name\": \"Thailand\", \"showlegend\": true, \"type\": \"scattergeo\"}, {\"geo\": \"geo\", \"hovertemplate\": \"<b>%{hovertext}</b><br><br>Country_Region=Togo<br>Cases=%{marker.size}<br>iso_alpha=%{location}<extra></extra>\", \"hovertext\": [98.0], \"legendgroup\": \"Togo\", \"locations\": [\"TGO\"], \"marker\": {\"color\": \"#FFA15A\", \"size\": [98], \"sizemode\": \"area\", \"sizeref\": 2414.0825}, \"name\": \"Togo\", \"showlegend\": true, \"type\": \"scattergeo\"}, {\"geo\": \"geo\", \"hovertemplate\": \"<b>%{hovertext}</b><br><br>Country_Region=Trinidad and Tobago<br>Cases=%{marker.size}<br>iso_alpha=%{location}<extra></extra>\", \"hovertext\": [115.0], \"legendgroup\": \"Trinidad and Tobago\", \"locations\": [\"TTO\"], \"marker\": {\"color\": \"#19d3f3\", \"size\": [115], \"sizemode\": \"area\", \"sizeref\": 2414.0825}, \"name\": \"Trinidad and Tobago\", \"showlegend\": true, \"type\": \"scattergeo\"}, {\"geo\": \"geo\", \"hovertemplate\": \"<b>%{hovertext}</b><br><br>Country_Region=Tunisia<br>Cases=%{marker.size}<br>iso_alpha=%{location}<extra></extra>\", \"hovertext\": [949.0], \"legendgroup\": \"Tunisia\", \"locations\": [\"TUN\"], \"marker\": {\"color\": \"#FF6692\", \"size\": [949], \"sizemode\": \"area\", \"sizeref\": 2414.0825}, \"name\": \"Tunisia\", \"showlegend\": true, \"type\": \"scattergeo\"}, {\"geo\": \"geo\", \"hovertemplate\": \"<b>%{hovertext}</b><br><br>Country_Region=Turkey<br>Cases=%{marker.size}<br>iso_alpha=%{location}<extra></extra>\", \"hovertext\": [110130.0], \"legendgroup\": \"Turkey\", \"locations\": [\"TUR\"], \"marker\": {\"color\": \"#B6E880\", \"size\": [110130], \"sizemode\": \"area\", \"sizeref\": 2414.0825}, \"name\": \"Turkey\", \"showlegend\": true, \"type\": \"scattergeo\"}, {\"geo\": \"geo\", \"hovertemplate\": \"<b>%{hovertext}</b><br><br>Country_Region=US<br>Cases=%{marker.size}<br>iso_alpha=%{location}<extra></extra>\", \"hovertext\": [965633.0], \"legendgroup\": \"US\", \"locations\": [\"USA\"], \"marker\": {\"color\": \"#FF97FF\", \"size\": [965633], \"sizemode\": \"area\", \"sizeref\": 2414.0825}, \"name\": \"US\", \"showlegend\": true, \"type\": \"scattergeo\"}, {\"geo\": \"geo\", \"hovertemplate\": \"<b>%{hovertext}</b><br><br>Country_Region=Uganda<br>Cases=%{marker.size}<br>iso_alpha=%{location}<extra></extra>\", \"hovertext\": [79.0], \"legendgroup\": \"Uganda\", \"locations\": [\"UGA\"], \"marker\": {\"color\": \"#FECB52\", \"size\": [79], \"sizemode\": \"area\", \"sizeref\": 2414.0825}, \"name\": \"Uganda\", \"showlegend\": true, \"type\": \"scattergeo\"}, {\"geo\": \"geo\", \"hovertemplate\": \"<b>%{hovertext}</b><br><br>Country_Region=United Kingdom<br>Cases=%{marker.size}<br>iso_alpha=%{location}<extra></extra>\", \"hovertext\": [154037.0], \"legendgroup\": \"United Kingdom\", \"locations\": [\"GBR\"], \"marker\": {\"color\": \"#636efa\", \"size\": [154037], \"sizemode\": \"area\", \"sizeref\": 2414.0825}, \"name\": \"United Kingdom\", \"showlegend\": true, \"type\": \"scattergeo\"}, {\"geo\": \"geo\", \"hovertemplate\": \"<b>%{hovertext}</b><br><br>Country_Region=Uruguay<br>Cases=%{marker.size}<br>iso_alpha=%{location}<extra></extra>\", \"hovertext\": [606.0], \"legendgroup\": \"Uruguay\", \"locations\": [\"URY\"], \"marker\": {\"color\": \"#EF553B\", \"size\": [606], \"sizemode\": \"area\", \"sizeref\": 2414.0825}, \"name\": \"Uruguay\", \"showlegend\": true, \"type\": \"scattergeo\"}, {\"geo\": \"geo\", \"hovertemplate\": \"<b>%{hovertext}</b><br><br>Country_Region=Venezuela<br>Cases=%{marker.size}<br>iso_alpha=%{location}<extra></extra>\", \"hovertext\": [325.0], \"legendgroup\": \"Venezuela\", \"locations\": [\"VEN\"], \"marker\": {\"color\": \"#00cc96\", \"size\": [325], \"sizemode\": \"area\", \"sizeref\": 2414.0825}, \"name\": \"Venezuela\", \"showlegend\": true, \"type\": \"scattergeo\"}, {\"geo\": \"geo\", \"hovertemplate\": \"<b>%{hovertext}</b><br><br>Country_Region=Vietnam<br>Cases=%{marker.size}<br>iso_alpha=%{location}<extra></extra>\", \"hovertext\": [270.0], \"legendgroup\": \"Vietnam\", \"locations\": [\"VNM\"], \"marker\": {\"color\": \"#ab63fa\", \"size\": [270], \"sizemode\": \"area\", \"sizeref\": 2414.0825}, \"name\": \"Vietnam\", \"showlegend\": true, \"type\": \"scattergeo\"}, {\"geo\": \"geo\", \"hovertemplate\": \"<b>%{hovertext}</b><br><br>Country_Region=West Bank and Gaza<br>Cases=%{marker.size}<br>iso_alpha=%{location}<extra></extra>\", \"hovertext\": [342.0], \"legendgroup\": \"West Bank and Gaza\", \"locations\": [\"PSE\"], \"marker\": {\"color\": \"#FFA15A\", \"size\": [342], \"sizemode\": \"area\", \"sizeref\": 2414.0825}, \"name\": \"West Bank and Gaza\", \"showlegend\": true, \"type\": \"scattergeo\"}, {\"geo\": \"geo\", \"hovertemplate\": \"<b>%{hovertext}</b><br><br>Country_Region=Zambia<br>Cases=%{marker.size}<br>iso_alpha=%{location}<extra></extra>\", \"hovertext\": [88.0], \"legendgroup\": \"Zambia\", \"locations\": [\"ZMB\"], \"marker\": {\"color\": \"#19d3f3\", \"size\": [88], \"sizemode\": \"area\", \"sizeref\": 2414.0825}, \"name\": \"Zambia\", \"showlegend\": true, \"type\": \"scattergeo\"}, {\"geo\": \"geo\", \"hovertemplate\": \"<b>%{hovertext}</b><br><br>Country_Region=Zimbabwe<br>Cases=%{marker.size}<br>iso_alpha=%{location}<extra></extra>\", \"hovertext\": [31.0], \"legendgroup\": \"Zimbabwe\", \"locations\": [\"ZWE\"], \"marker\": {\"color\": \"#FF6692\", \"size\": [31], \"sizemode\": \"area\", \"sizeref\": 2414.0825}, \"name\": \"Zimbabwe\", \"showlegend\": true, \"type\": \"scattergeo\"}],\n",
       "                        {\"geo\": {\"center\": {}, \"domain\": {\"x\": [0.0, 1.0], \"y\": [0.0, 1.0]}, \"projection\": {\"type\": \"natural earth\"}}, \"legend\": {\"itemsizing\": \"constant\", \"title\": {\"text\": \"Country_Region\"}, \"tracegroupgap\": 0}, \"margin\": {\"t\": 60}, \"template\": {\"data\": {\"bar\": [{\"error_x\": {\"color\": \"#2a3f5f\"}, \"error_y\": {\"color\": \"#2a3f5f\"}, \"marker\": {\"line\": {\"color\": \"#E5ECF6\", \"width\": 0.5}}, \"type\": \"bar\"}], \"barpolar\": [{\"marker\": {\"line\": {\"color\": \"#E5ECF6\", \"width\": 0.5}}, \"type\": \"barpolar\"}], \"carpet\": [{\"aaxis\": {\"endlinecolor\": \"#2a3f5f\", \"gridcolor\": \"white\", \"linecolor\": \"white\", \"minorgridcolor\": \"white\", \"startlinecolor\": \"#2a3f5f\"}, \"baxis\": {\"endlinecolor\": \"#2a3f5f\", \"gridcolor\": \"white\", \"linecolor\": \"white\", \"minorgridcolor\": \"white\", \"startlinecolor\": \"#2a3f5f\"}, \"type\": \"carpet\"}], \"choropleth\": [{\"colorbar\": {\"outlinewidth\": 0, \"ticks\": \"\"}, \"type\": \"choropleth\"}], \"contour\": [{\"colorbar\": {\"outlinewidth\": 0, \"ticks\": \"\"}, \"colorscale\": [[0.0, \"#0d0887\"], [0.1111111111111111, \"#46039f\"], [0.2222222222222222, \"#7201a8\"], [0.3333333333333333, \"#9c179e\"], [0.4444444444444444, \"#bd3786\"], [0.5555555555555556, \"#d8576b\"], [0.6666666666666666, \"#ed7953\"], [0.7777777777777778, \"#fb9f3a\"], [0.8888888888888888, \"#fdca26\"], [1.0, \"#f0f921\"]], \"type\": \"contour\"}], \"contourcarpet\": [{\"colorbar\": {\"outlinewidth\": 0, \"ticks\": \"\"}, \"type\": \"contourcarpet\"}], \"heatmap\": [{\"colorbar\": {\"outlinewidth\": 0, \"ticks\": \"\"}, \"colorscale\": [[0.0, \"#0d0887\"], [0.1111111111111111, \"#46039f\"], [0.2222222222222222, \"#7201a8\"], [0.3333333333333333, \"#9c179e\"], [0.4444444444444444, \"#bd3786\"], [0.5555555555555556, \"#d8576b\"], [0.6666666666666666, \"#ed7953\"], [0.7777777777777778, \"#fb9f3a\"], [0.8888888888888888, \"#fdca26\"], [1.0, \"#f0f921\"]], \"type\": \"heatmap\"}], \"heatmapgl\": [{\"colorbar\": {\"outlinewidth\": 0, \"ticks\": \"\"}, \"colorscale\": [[0.0, \"#0d0887\"], [0.1111111111111111, \"#46039f\"], [0.2222222222222222, \"#7201a8\"], [0.3333333333333333, \"#9c179e\"], [0.4444444444444444, \"#bd3786\"], [0.5555555555555556, \"#d8576b\"], [0.6666666666666666, \"#ed7953\"], [0.7777777777777778, \"#fb9f3a\"], [0.8888888888888888, \"#fdca26\"], [1.0, \"#f0f921\"]], \"type\": \"heatmapgl\"}], \"histogram\": [{\"marker\": {\"colorbar\": {\"outlinewidth\": 0, \"ticks\": \"\"}}, \"type\": \"histogram\"}], \"histogram2d\": [{\"colorbar\": {\"outlinewidth\": 0, \"ticks\": \"\"}, \"colorscale\": [[0.0, \"#0d0887\"], [0.1111111111111111, \"#46039f\"], [0.2222222222222222, \"#7201a8\"], [0.3333333333333333, \"#9c179e\"], [0.4444444444444444, \"#bd3786\"], [0.5555555555555556, \"#d8576b\"], [0.6666666666666666, \"#ed7953\"], [0.7777777777777778, \"#fb9f3a\"], [0.8888888888888888, \"#fdca26\"], [1.0, \"#f0f921\"]], \"type\": \"histogram2d\"}], \"histogram2dcontour\": [{\"colorbar\": {\"outlinewidth\": 0, \"ticks\": \"\"}, \"colorscale\": [[0.0, \"#0d0887\"], [0.1111111111111111, \"#46039f\"], [0.2222222222222222, \"#7201a8\"], [0.3333333333333333, \"#9c179e\"], [0.4444444444444444, \"#bd3786\"], [0.5555555555555556, \"#d8576b\"], [0.6666666666666666, \"#ed7953\"], [0.7777777777777778, \"#fb9f3a\"], [0.8888888888888888, \"#fdca26\"], [1.0, \"#f0f921\"]], \"type\": \"histogram2dcontour\"}], \"mesh3d\": [{\"colorbar\": {\"outlinewidth\": 0, \"ticks\": \"\"}, \"type\": \"mesh3d\"}], \"parcoords\": [{\"line\": {\"colorbar\": {\"outlinewidth\": 0, \"ticks\": \"\"}}, \"type\": \"parcoords\"}], \"pie\": [{\"automargin\": true, \"type\": \"pie\"}], \"scatter\": [{\"marker\": {\"colorbar\": {\"outlinewidth\": 0, \"ticks\": \"\"}}, \"type\": \"scatter\"}], \"scatter3d\": [{\"line\": {\"colorbar\": {\"outlinewidth\": 0, \"ticks\": \"\"}}, \"marker\": {\"colorbar\": {\"outlinewidth\": 0, \"ticks\": \"\"}}, \"type\": \"scatter3d\"}], \"scattercarpet\": [{\"marker\": {\"colorbar\": {\"outlinewidth\": 0, \"ticks\": \"\"}}, \"type\": \"scattercarpet\"}], \"scattergeo\": [{\"marker\": {\"colorbar\": {\"outlinewidth\": 0, \"ticks\": \"\"}}, \"type\": \"scattergeo\"}], \"scattergl\": [{\"marker\": {\"colorbar\": {\"outlinewidth\": 0, \"ticks\": \"\"}}, \"type\": \"scattergl\"}], \"scattermapbox\": [{\"marker\": {\"colorbar\": {\"outlinewidth\": 0, \"ticks\": \"\"}}, \"type\": \"scattermapbox\"}], \"scatterpolar\": [{\"marker\": {\"colorbar\": {\"outlinewidth\": 0, \"ticks\": \"\"}}, \"type\": \"scatterpolar\"}], \"scatterpolargl\": [{\"marker\": {\"colorbar\": {\"outlinewidth\": 0, \"ticks\": \"\"}}, \"type\": \"scatterpolargl\"}], \"scatterternary\": [{\"marker\": {\"colorbar\": {\"outlinewidth\": 0, \"ticks\": \"\"}}, \"type\": \"scatterternary\"}], \"surface\": [{\"colorbar\": {\"outlinewidth\": 0, \"ticks\": \"\"}, \"colorscale\": [[0.0, \"#0d0887\"], [0.1111111111111111, \"#46039f\"], [0.2222222222222222, \"#7201a8\"], [0.3333333333333333, \"#9c179e\"], [0.4444444444444444, \"#bd3786\"], [0.5555555555555556, \"#d8576b\"], [0.6666666666666666, \"#ed7953\"], [0.7777777777777778, \"#fb9f3a\"], [0.8888888888888888, \"#fdca26\"], [1.0, \"#f0f921\"]], \"type\": \"surface\"}], \"table\": [{\"cells\": {\"fill\": {\"color\": \"#EBF0F8\"}, \"line\": {\"color\": \"white\"}}, \"header\": {\"fill\": {\"color\": \"#C8D4E3\"}, \"line\": {\"color\": \"white\"}}, \"type\": \"table\"}]}, \"layout\": {\"annotationdefaults\": {\"arrowcolor\": \"#2a3f5f\", \"arrowhead\": 0, \"arrowwidth\": 1}, \"coloraxis\": {\"colorbar\": {\"outlinewidth\": 0, \"ticks\": \"\"}}, \"colorscale\": {\"diverging\": [[0, \"#8e0152\"], [0.1, \"#c51b7d\"], [0.2, \"#de77ae\"], [0.3, \"#f1b6da\"], [0.4, \"#fde0ef\"], [0.5, \"#f7f7f7\"], [0.6, \"#e6f5d0\"], [0.7, \"#b8e186\"], [0.8, \"#7fbc41\"], [0.9, \"#4d9221\"], [1, \"#276419\"]], \"sequential\": [[0.0, \"#0d0887\"], [0.1111111111111111, \"#46039f\"], [0.2222222222222222, \"#7201a8\"], [0.3333333333333333, \"#9c179e\"], [0.4444444444444444, \"#bd3786\"], [0.5555555555555556, \"#d8576b\"], [0.6666666666666666, \"#ed7953\"], [0.7777777777777778, \"#fb9f3a\"], [0.8888888888888888, \"#fdca26\"], [1.0, \"#f0f921\"]], \"sequentialminus\": [[0.0, \"#0d0887\"], [0.1111111111111111, \"#46039f\"], [0.2222222222222222, \"#7201a8\"], [0.3333333333333333, \"#9c179e\"], [0.4444444444444444, \"#bd3786\"], [0.5555555555555556, \"#d8576b\"], [0.6666666666666666, \"#ed7953\"], [0.7777777777777778, \"#fb9f3a\"], [0.8888888888888888, \"#fdca26\"], [1.0, \"#f0f921\"]]}, \"colorway\": [\"#636efa\", \"#EF553B\", \"#00cc96\", \"#ab63fa\", \"#FFA15A\", \"#19d3f3\", \"#FF6692\", \"#B6E880\", \"#FF97FF\", \"#FECB52\"], \"font\": {\"color\": \"#2a3f5f\"}, \"geo\": {\"bgcolor\": \"white\", \"lakecolor\": \"white\", \"landcolor\": \"#E5ECF6\", \"showlakes\": true, \"showland\": true, \"subunitcolor\": \"white\"}, \"hoverlabel\": {\"align\": \"left\"}, \"hovermode\": \"closest\", \"mapbox\": {\"style\": \"light\"}, \"paper_bgcolor\": \"white\", \"plot_bgcolor\": \"#E5ECF6\", \"polar\": {\"angularaxis\": {\"gridcolor\": \"white\", \"linecolor\": \"white\", \"ticks\": \"\"}, \"bgcolor\": \"#E5ECF6\", \"radialaxis\": {\"gridcolor\": \"white\", \"linecolor\": \"white\", \"ticks\": \"\"}}, \"scene\": {\"xaxis\": {\"backgroundcolor\": \"#E5ECF6\", \"gridcolor\": \"white\", \"gridwidth\": 2, \"linecolor\": \"white\", \"showbackground\": true, \"ticks\": \"\", \"zerolinecolor\": \"white\"}, \"yaxis\": {\"backgroundcolor\": \"#E5ECF6\", \"gridcolor\": \"white\", \"gridwidth\": 2, \"linecolor\": \"white\", \"showbackground\": true, \"ticks\": \"\", \"zerolinecolor\": \"white\"}, \"zaxis\": {\"backgroundcolor\": \"#E5ECF6\", \"gridcolor\": \"white\", \"gridwidth\": 2, \"linecolor\": \"white\", \"showbackground\": true, \"ticks\": \"\", \"zerolinecolor\": \"white\"}}, \"shapedefaults\": {\"line\": {\"color\": \"#2a3f5f\"}}, \"ternary\": {\"aaxis\": {\"gridcolor\": \"white\", \"linecolor\": \"white\", \"ticks\": \"\"}, \"baxis\": {\"gridcolor\": \"white\", \"linecolor\": \"white\", \"ticks\": \"\"}, \"bgcolor\": \"#E5ECF6\", \"caxis\": {\"gridcolor\": \"white\", \"linecolor\": \"white\", \"ticks\": \"\"}}, \"title\": {\"x\": 0.05}, \"xaxis\": {\"automargin\": true, \"gridcolor\": \"white\", \"linecolor\": \"white\", \"ticks\": \"\", \"title\": {\"standoff\": 15}, \"zerolinecolor\": \"white\", \"zerolinewidth\": 2}, \"yaxis\": {\"automargin\": true, \"gridcolor\": \"white\", \"linecolor\": \"white\", \"ticks\": \"\", \"title\": {\"standoff\": 15}, \"zerolinecolor\": \"white\", \"zerolinewidth\": 2}}}},\n",
       "                        {\"responsive\": true}\n",
       "                    ).then(function(){\n",
       "                            \n",
       "var gd = document.getElementById('19fad306-bd19-4138-8e30-a43e102dbf41');\n",
       "var x = new MutationObserver(function (mutations, observer) {{\n",
       "        var display = window.getComputedStyle(gd).display;\n",
       "        if (!display || display === 'none') {{\n",
       "            console.log([gd, 'removed!']);\n",
       "            Plotly.purge(gd);\n",
       "            observer.disconnect();\n",
       "        }}\n",
       "}});\n",
       "\n",
       "// Listen for the removal of the full notebook cells\n",
       "var notebookContainer = gd.closest('#notebook-container');\n",
       "if (notebookContainer) {{\n",
       "    x.observe(notebookContainer, {childList: true});\n",
       "}}\n",
       "\n",
       "// Listen for the clearing of the current output cell\n",
       "var outputEl = gd.closest('.output');\n",
       "if (outputEl) {{\n",
       "    x.observe(outputEl, {childList: true});\n",
       "}}\n",
       "\n",
       "                        })\n",
       "                };\n",
       "                });\n",
       "            </script>\n",
       "        </div>"
      ]
     },
     "metadata": {},
     "output_type": "display_data"
    }
   ],
   "source": [
    "fig1 = px.scatter_geo(iso_data, locations=\"iso_alpha\", color=\"Country_Region\",\n",
    "                     hover_name=\"Cases\", size=\"Cases\",\n",
    "                      projection=\"natural earth\")\n",
    "fig1.show()"
   ]
  },
  {
   "cell_type": "markdown",
   "metadata": {},
   "source": [
    "# Figure 3 - Choropleth map for world with colorscale (Hover and point using Plotly graph object"
   ]
  },
  {
   "cell_type": "code",
   "execution_count": 21,
   "metadata": {},
   "outputs": [
    {
     "data": {
      "application/vnd.jupyter.widget-view+json": {
       "model_id": "7e38bc547b4f4044bd55597079a13683",
       "version_major": 2,
       "version_minor": 0
      },
      "text/plain": [
       "FigureWidget({\n",
       "    'data': [{'autocolorscale': False,\n",
       "              'colorbar': {'title': {'text': 'Cases'}},\n",
       "…"
      ]
     },
     "metadata": {},
     "output_type": "display_data"
    }
   ],
   "source": [
    "fig2 = go.Figure(data=go.Choropleth(\n",
    "    locations = iso_data['iso_alpha'],\n",
    "    z = iso_data['Cases'],\n",
    "    text = iso_data['Country_Region'],\n",
    "    colorscale = 'RdPu',\n",
    "    autocolorscale=False,\n",
    "    marker_line_color='darkgray',\n",
    "    marker_line_width=0.8,\n",
    "    colorbar_title = 'Cases',\n",
    "))\n",
    "\n",
    "fig2.update_layout(\n",
    "    title_text='Cases Around the World',\n",
    "    geo=dict(\n",
    "        showframe=False,\n",
    "        showcoastlines=False,\n",
    "        projection_type='equirectangular'\n",
    "    ),\n",
    "    annotations = [dict(\n",
    "        x=0.55,\n",
    "        y=0.1,\n",
    "        xref='paper',\n",
    "        yref='paper',\n",
    "        text='Source: https://plotly.com/python/choropleth-maps/#world-choropleth-map',\n",
    "        showarrow = False\n",
    "    )]\n",
    ")\n",
    "\n",
    "# fig2.show()\n",
    "f2 = go.FigureWidget(fig2)\n",
    "f2"
   ]
  },
  {
   "cell_type": "code",
   "execution_count": 22,
   "metadata": {},
   "outputs": [],
   "source": [
    "#Tried to create a callback function but failed\n",
    "# create our callback function\n",
    "#def update_point(trace, points, selector):\n",
    " #   print(\"Here\")\n",
    "\n",
    "\n",
    "#f2.on_click(update_point)"
   ]
  },
  {
   "cell_type": "markdown",
   "metadata": {},
   "source": [
    "# US specific Data"
   ]
  },
  {
   "cell_type": "code",
   "execution_count": 23,
   "metadata": {},
   "outputs": [
    {
     "data": {
      "text/html": [
       "<div>\n",
       "<style scoped>\n",
       "    .dataframe tbody tr th:only-of-type {\n",
       "        vertical-align: middle;\n",
       "    }\n",
       "\n",
       "    .dataframe tbody tr th {\n",
       "        vertical-align: top;\n",
       "    }\n",
       "\n",
       "    .dataframe thead th {\n",
       "        text-align: right;\n",
       "    }\n",
       "</style>\n",
       "<table border=\"1\" class=\"dataframe\">\n",
       "  <thead>\n",
       "    <tr style=\"text-align: right;\">\n",
       "      <th></th>\n",
       "      <th>Case_Type</th>\n",
       "      <th>People_Total_Tested_Count</th>\n",
       "      <th>Cases</th>\n",
       "      <th>Difference</th>\n",
       "      <th>Date</th>\n",
       "      <th>Combined_Key</th>\n",
       "      <th>Country_Region</th>\n",
       "      <th>Province_State</th>\n",
       "      <th>Admin2</th>\n",
       "      <th>iso2</th>\n",
       "      <th>iso3</th>\n",
       "      <th>FIPS</th>\n",
       "      <th>Lat</th>\n",
       "      <th>Long</th>\n",
       "      <th>Population_Count</th>\n",
       "      <th>People_Hospitalized_Cumulative_Count</th>\n",
       "      <th>Data_Source</th>\n",
       "      <th>Prep_Flow_Runtime</th>\n",
       "      <th>country</th>\n",
       "      <th>iso_alpha</th>\n",
       "    </tr>\n",
       "  </thead>\n",
       "  <tbody>\n",
       "    <tr>\n",
       "      <td>38784</td>\n",
       "      <td>Deaths</td>\n",
       "      <td>NaN</td>\n",
       "      <td>0</td>\n",
       "      <td>0</td>\n",
       "      <td>2020-02-02</td>\n",
       "      <td>Floyd, Indiana, US</td>\n",
       "      <td>US</td>\n",
       "      <td>Indiana</td>\n",
       "      <td>Floyd</td>\n",
       "      <td>US</td>\n",
       "      <td>USA</td>\n",
       "      <td>18043.0</td>\n",
       "      <td>38.321180</td>\n",
       "      <td>-85.903854</td>\n",
       "      <td>78522.0</td>\n",
       "      <td>NaN</td>\n",
       "      <td>2019 Novel Coronavirus COVID-19 (2019-nCoV) Da...</td>\n",
       "      <td>4/26/2020 11:21:38 PM</td>\n",
       "      <td>US</td>\n",
       "      <td>USA</td>\n",
       "    </tr>\n",
       "    <tr>\n",
       "      <td>38785</td>\n",
       "      <td>Confirmed</td>\n",
       "      <td>NaN</td>\n",
       "      <td>0</td>\n",
       "      <td>0</td>\n",
       "      <td>2020-03-09</td>\n",
       "      <td>Grayson, Kentucky, US</td>\n",
       "      <td>US</td>\n",
       "      <td>Kentucky</td>\n",
       "      <td>Grayson</td>\n",
       "      <td>US</td>\n",
       "      <td>USA</td>\n",
       "      <td>21085.0</td>\n",
       "      <td>37.462311</td>\n",
       "      <td>-86.342490</td>\n",
       "      <td>26427.0</td>\n",
       "      <td>NaN</td>\n",
       "      <td>2019 Novel Coronavirus COVID-19 (2019-nCoV) Da...</td>\n",
       "      <td>4/26/2020 11:21:38 PM</td>\n",
       "      <td>US</td>\n",
       "      <td>USA</td>\n",
       "    </tr>\n",
       "    <tr>\n",
       "      <td>38786</td>\n",
       "      <td>Deaths</td>\n",
       "      <td>NaN</td>\n",
       "      <td>0</td>\n",
       "      <td>0</td>\n",
       "      <td>2020-03-25</td>\n",
       "      <td>Mackinac, Michigan, US</td>\n",
       "      <td>US</td>\n",
       "      <td>Michigan</td>\n",
       "      <td>Mackinac</td>\n",
       "      <td>US</td>\n",
       "      <td>USA</td>\n",
       "      <td>26097.0</td>\n",
       "      <td>46.070290</td>\n",
       "      <td>-85.049805</td>\n",
       "      <td>10799.0</td>\n",
       "      <td>NaN</td>\n",
       "      <td>2019 Novel Coronavirus COVID-19 (2019-nCoV) Da...</td>\n",
       "      <td>4/26/2020 11:21:38 PM</td>\n",
       "      <td>US</td>\n",
       "      <td>USA</td>\n",
       "    </tr>\n",
       "    <tr>\n",
       "      <td>38787</td>\n",
       "      <td>Deaths</td>\n",
       "      <td>NaN</td>\n",
       "      <td>0</td>\n",
       "      <td>0</td>\n",
       "      <td>2020-01-23</td>\n",
       "      <td>Hancock, Georgia, US</td>\n",
       "      <td>US</td>\n",
       "      <td>Georgia</td>\n",
       "      <td>Hancock</td>\n",
       "      <td>US</td>\n",
       "      <td>USA</td>\n",
       "      <td>13141.0</td>\n",
       "      <td>33.272157</td>\n",
       "      <td>-82.997669</td>\n",
       "      <td>8457.0</td>\n",
       "      <td>NaN</td>\n",
       "      <td>2019 Novel Coronavirus COVID-19 (2019-nCoV) Da...</td>\n",
       "      <td>4/26/2020 11:21:38 PM</td>\n",
       "      <td>US</td>\n",
       "      <td>USA</td>\n",
       "    </tr>\n",
       "    <tr>\n",
       "      <td>38788</td>\n",
       "      <td>Deaths</td>\n",
       "      <td>NaN</td>\n",
       "      <td>0</td>\n",
       "      <td>0</td>\n",
       "      <td>2020-03-02</td>\n",
       "      <td>Lewis, Idaho, US</td>\n",
       "      <td>US</td>\n",
       "      <td>Idaho</td>\n",
       "      <td>Lewis</td>\n",
       "      <td>US</td>\n",
       "      <td>USA</td>\n",
       "      <td>16061.0</td>\n",
       "      <td>46.233153</td>\n",
       "      <td>-116.434146</td>\n",
       "      <td>3838.0</td>\n",
       "      <td>NaN</td>\n",
       "      <td>2019 Novel Coronavirus COVID-19 (2019-nCoV) Da...</td>\n",
       "      <td>4/26/2020 11:21:38 PM</td>\n",
       "      <td>US</td>\n",
       "      <td>USA</td>\n",
       "    </tr>\n",
       "    <tr>\n",
       "      <td>...</td>\n",
       "      <td>...</td>\n",
       "      <td>...</td>\n",
       "      <td>...</td>\n",
       "      <td>...</td>\n",
       "      <td>...</td>\n",
       "      <td>...</td>\n",
       "      <td>...</td>\n",
       "      <td>...</td>\n",
       "      <td>...</td>\n",
       "      <td>...</td>\n",
       "      <td>...</td>\n",
       "      <td>...</td>\n",
       "      <td>...</td>\n",
       "      <td>...</td>\n",
       "      <td>...</td>\n",
       "      <td>...</td>\n",
       "      <td>...</td>\n",
       "      <td>...</td>\n",
       "      <td>...</td>\n",
       "      <td>...</td>\n",
       "    </tr>\n",
       "    <tr>\n",
       "      <td>664699</td>\n",
       "      <td>Deaths</td>\n",
       "      <td>NaN</td>\n",
       "      <td>0</td>\n",
       "      <td>0</td>\n",
       "      <td>2020-01-22</td>\n",
       "      <td>Clermont, Ohio, US</td>\n",
       "      <td>US</td>\n",
       "      <td>Ohio</td>\n",
       "      <td>Clermont</td>\n",
       "      <td>US</td>\n",
       "      <td>USA</td>\n",
       "      <td>39025.0</td>\n",
       "      <td>39.048475</td>\n",
       "      <td>-84.153758</td>\n",
       "      <td>206428.0</td>\n",
       "      <td>NaN</td>\n",
       "      <td>2019 Novel Coronavirus COVID-19 (2019-nCoV) Da...</td>\n",
       "      <td>4/26/2020 11:21:38 PM</td>\n",
       "      <td>US</td>\n",
       "      <td>USA</td>\n",
       "    </tr>\n",
       "    <tr>\n",
       "      <td>664700</td>\n",
       "      <td>Confirmed</td>\n",
       "      <td>NaN</td>\n",
       "      <td>0</td>\n",
       "      <td>0</td>\n",
       "      <td>2020-01-22</td>\n",
       "      <td>Traill, North Dakota, US</td>\n",
       "      <td>US</td>\n",
       "      <td>North Dakota</td>\n",
       "      <td>Traill</td>\n",
       "      <td>US</td>\n",
       "      <td>USA</td>\n",
       "      <td>38097.0</td>\n",
       "      <td>47.453678</td>\n",
       "      <td>-97.163233</td>\n",
       "      <td>8036.0</td>\n",
       "      <td>NaN</td>\n",
       "      <td>2019 Novel Coronavirus COVID-19 (2019-nCoV) Da...</td>\n",
       "      <td>4/26/2020 11:21:38 PM</td>\n",
       "      <td>US</td>\n",
       "      <td>USA</td>\n",
       "    </tr>\n",
       "    <tr>\n",
       "      <td>664701</td>\n",
       "      <td>Deaths</td>\n",
       "      <td>NaN</td>\n",
       "      <td>0</td>\n",
       "      <td>0</td>\n",
       "      <td>2020-01-22</td>\n",
       "      <td>Loup, Nebraska, US</td>\n",
       "      <td>US</td>\n",
       "      <td>Nebraska</td>\n",
       "      <td>Loup</td>\n",
       "      <td>US</td>\n",
       "      <td>USA</td>\n",
       "      <td>31115.0</td>\n",
       "      <td>41.913720</td>\n",
       "      <td>-99.454404</td>\n",
       "      <td>664.0</td>\n",
       "      <td>NaN</td>\n",
       "      <td>2019 Novel Coronavirus COVID-19 (2019-nCoV) Da...</td>\n",
       "      <td>4/26/2020 11:21:38 PM</td>\n",
       "      <td>US</td>\n",
       "      <td>USA</td>\n",
       "    </tr>\n",
       "    <tr>\n",
       "      <td>664702</td>\n",
       "      <td>Deaths</td>\n",
       "      <td>NaN</td>\n",
       "      <td>0</td>\n",
       "      <td>0</td>\n",
       "      <td>2020-01-22</td>\n",
       "      <td>Mercer, North Dakota, US</td>\n",
       "      <td>US</td>\n",
       "      <td>North Dakota</td>\n",
       "      <td>Mercer</td>\n",
       "      <td>US</td>\n",
       "      <td>USA</td>\n",
       "      <td>38057.0</td>\n",
       "      <td>47.312131</td>\n",
       "      <td>-101.831840</td>\n",
       "      <td>8187.0</td>\n",
       "      <td>NaN</td>\n",
       "      <td>2019 Novel Coronavirus COVID-19 (2019-nCoV) Da...</td>\n",
       "      <td>4/26/2020 11:21:38 PM</td>\n",
       "      <td>US</td>\n",
       "      <td>USA</td>\n",
       "    </tr>\n",
       "    <tr>\n",
       "      <td>664703</td>\n",
       "      <td>Confirmed</td>\n",
       "      <td>NaN</td>\n",
       "      <td>0</td>\n",
       "      <td>0</td>\n",
       "      <td>2020-01-22</td>\n",
       "      <td>Walker, Georgia, US</td>\n",
       "      <td>US</td>\n",
       "      <td>Georgia</td>\n",
       "      <td>Walker</td>\n",
       "      <td>US</td>\n",
       "      <td>USA</td>\n",
       "      <td>13295.0</td>\n",
       "      <td>34.733764</td>\n",
       "      <td>-85.301652</td>\n",
       "      <td>69761.0</td>\n",
       "      <td>NaN</td>\n",
       "      <td>2019 Novel Coronavirus COVID-19 (2019-nCoV) Da...</td>\n",
       "      <td>4/26/2020 11:21:38 PM</td>\n",
       "      <td>US</td>\n",
       "      <td>USA</td>\n",
       "    </tr>\n",
       "  </tbody>\n",
       "</table>\n",
       "<p>625920 rows × 20 columns</p>\n",
       "</div>"
      ],
      "text/plain": [
       "        Case_Type  People_Total_Tested_Count  Cases  Difference       Date  \\\n",
       "38784      Deaths                        NaN      0           0 2020-02-02   \n",
       "38785   Confirmed                        NaN      0           0 2020-03-09   \n",
       "38786      Deaths                        NaN      0           0 2020-03-25   \n",
       "38787      Deaths                        NaN      0           0 2020-01-23   \n",
       "38788      Deaths                        NaN      0           0 2020-03-02   \n",
       "...           ...                        ...    ...         ...        ...   \n",
       "664699     Deaths                        NaN      0           0 2020-01-22   \n",
       "664700  Confirmed                        NaN      0           0 2020-01-22   \n",
       "664701     Deaths                        NaN      0           0 2020-01-22   \n",
       "664702     Deaths                        NaN      0           0 2020-01-22   \n",
       "664703  Confirmed                        NaN      0           0 2020-01-22   \n",
       "\n",
       "                    Combined_Key Country_Region Province_State    Admin2 iso2  \\\n",
       "38784         Floyd, Indiana, US             US        Indiana     Floyd   US   \n",
       "38785      Grayson, Kentucky, US             US       Kentucky   Grayson   US   \n",
       "38786     Mackinac, Michigan, US             US       Michigan  Mackinac   US   \n",
       "38787       Hancock, Georgia, US             US        Georgia   Hancock   US   \n",
       "38788           Lewis, Idaho, US             US          Idaho     Lewis   US   \n",
       "...                          ...            ...            ...       ...  ...   \n",
       "664699        Clermont, Ohio, US             US           Ohio  Clermont   US   \n",
       "664700  Traill, North Dakota, US             US   North Dakota    Traill   US   \n",
       "664701        Loup, Nebraska, US             US       Nebraska      Loup   US   \n",
       "664702  Mercer, North Dakota, US             US   North Dakota    Mercer   US   \n",
       "664703       Walker, Georgia, US             US        Georgia    Walker   US   \n",
       "\n",
       "       iso3     FIPS        Lat        Long  Population_Count  \\\n",
       "38784   USA  18043.0  38.321180  -85.903854           78522.0   \n",
       "38785   USA  21085.0  37.462311  -86.342490           26427.0   \n",
       "38786   USA  26097.0  46.070290  -85.049805           10799.0   \n",
       "38787   USA  13141.0  33.272157  -82.997669            8457.0   \n",
       "38788   USA  16061.0  46.233153 -116.434146            3838.0   \n",
       "...     ...      ...        ...         ...               ...   \n",
       "664699  USA  39025.0  39.048475  -84.153758          206428.0   \n",
       "664700  USA  38097.0  47.453678  -97.163233            8036.0   \n",
       "664701  USA  31115.0  41.913720  -99.454404             664.0   \n",
       "664702  USA  38057.0  47.312131 -101.831840            8187.0   \n",
       "664703  USA  13295.0  34.733764  -85.301652           69761.0   \n",
       "\n",
       "        People_Hospitalized_Cumulative_Count  \\\n",
       "38784                                    NaN   \n",
       "38785                                    NaN   \n",
       "38786                                    NaN   \n",
       "38787                                    NaN   \n",
       "38788                                    NaN   \n",
       "...                                      ...   \n",
       "664699                                   NaN   \n",
       "664700                                   NaN   \n",
       "664701                                   NaN   \n",
       "664702                                   NaN   \n",
       "664703                                   NaN   \n",
       "\n",
       "                                              Data_Source  \\\n",
       "38784   2019 Novel Coronavirus COVID-19 (2019-nCoV) Da...   \n",
       "38785   2019 Novel Coronavirus COVID-19 (2019-nCoV) Da...   \n",
       "38786   2019 Novel Coronavirus COVID-19 (2019-nCoV) Da...   \n",
       "38787   2019 Novel Coronavirus COVID-19 (2019-nCoV) Da...   \n",
       "38788   2019 Novel Coronavirus COVID-19 (2019-nCoV) Da...   \n",
       "...                                                   ...   \n",
       "664699  2019 Novel Coronavirus COVID-19 (2019-nCoV) Da...   \n",
       "664700  2019 Novel Coronavirus COVID-19 (2019-nCoV) Da...   \n",
       "664701  2019 Novel Coronavirus COVID-19 (2019-nCoV) Da...   \n",
       "664702  2019 Novel Coronavirus COVID-19 (2019-nCoV) Da...   \n",
       "664703  2019 Novel Coronavirus COVID-19 (2019-nCoV) Da...   \n",
       "\n",
       "            Prep_Flow_Runtime country iso_alpha  \n",
       "38784   4/26/2020 11:21:38 PM      US       USA  \n",
       "38785   4/26/2020 11:21:38 PM      US       USA  \n",
       "38786   4/26/2020 11:21:38 PM      US       USA  \n",
       "38787   4/26/2020 11:21:38 PM      US       USA  \n",
       "38788   4/26/2020 11:21:38 PM      US       USA  \n",
       "...                       ...     ...       ...  \n",
       "664699  4/26/2020 11:21:38 PM      US       USA  \n",
       "664700  4/26/2020 11:21:38 PM      US       USA  \n",
       "664701  4/26/2020 11:21:38 PM      US       USA  \n",
       "664702  4/26/2020 11:21:38 PM      US       USA  \n",
       "664703  4/26/2020 11:21:38 PM      US       USA  \n",
       "\n",
       "[625920 rows x 20 columns]"
      ]
     },
     "execution_count": 23,
     "metadata": {},
     "output_type": "execute_result"
    }
   ],
   "source": [
    "us = df.loc[df['Country_Region'] == \"US\"]\n",
    "us"
   ]
  },
  {
   "cell_type": "code",
   "execution_count": 24,
   "metadata": {},
   "outputs": [
    {
     "data": {
      "text/plain": [
       "Date\n",
       "2020-01-22          1\n",
       "2020-01-23          1\n",
       "2020-01-24          2\n",
       "2020-01-25          2\n",
       "2020-01-26          5\n",
       "               ...   \n",
       "2020-04-22     882410\n",
       "2020-04-23     918739\n",
       "2020-04-24     956696\n",
       "2020-04-25     991754\n",
       "2020-04-26    1020511\n",
       "Name: Cases, Length: 96, dtype: int64"
      ]
     },
     "execution_count": 24,
     "metadata": {},
     "output_type": "execute_result"
    }
   ],
   "source": [
    "us_cases = us.groupby(\"Date\")[\"Cases\"].sum()\n",
    "us_cases"
   ]
  },
  {
   "cell_type": "markdown",
   "metadata": {},
   "source": [
    "# Figure 4 - Dropdown line graph for USA specific cases overtime"
   ]
  },
  {
   "cell_type": "code",
   "execution_count": 25,
   "metadata": {},
   "outputs": [
    {
     "data": {
      "application/vnd.jupyter.widget-view+json": {
       "model_id": "ba9a6dfea9ef4359aba8b1610dbad424",
       "version_major": 2,
       "version_minor": 0
      },
      "text/plain": [
       "interactive(children=(Dropdown(description='log', options=('Linear', 'Log'), value='Linear'), Output()), _dom_…"
      ]
     },
     "metadata": {},
     "output_type": "display_data"
    }
   ],
   "source": [
    "us_temp = us.groupby(\"Date\",as_index=False)[\"Cases\"].sum()\n",
    "def plot_us_cases(log=\"Linear\"):\n",
    "    if log==\"Linear\":\n",
    "        fig_loglin = px.line(us_temp, x=\"Date\", y=\"Cases\", title='Cases over time')\n",
    "    else:\n",
    "        fig_loglin = px.line(us_temp, x=\"Date\", y=\"Cases\", title='Cases over time',log_y = True)\n",
    "    fig_loglin.show()\n",
    "ipywidgets.interact(plot_us_cases, log=['Linear','Log']);"
   ]
  },
  {
   "cell_type": "code",
   "execution_count": 26,
   "metadata": {},
   "outputs": [
    {
     "data": {
      "text/plain": [
       "2803429"
      ]
     },
     "execution_count": 26,
     "metadata": {},
     "output_type": "execute_result"
    }
   ],
   "source": [
    "total_count = recent_cases.sum(skipna = True)\n",
    "total_count"
   ]
  },
  {
   "cell_type": "code",
   "execution_count": 27,
   "metadata": {},
   "outputs": [],
   "source": [
    "# State abbr needed because map only works with state codes.\n",
    "state_abbrev = {\n",
    "    'Alabama': 'AL',\n",
    "    'Alaska': 'AK',\n",
    "    'American Samoa': 'AS',\n",
    "    'Arizona': 'AZ',\n",
    "    'Arkansas': 'AR',\n",
    "    'California': 'CA',\n",
    "    'Colorado': 'CO',\n",
    "    'Connecticut': 'CT',\n",
    "    'Delaware': 'DE',\n",
    "    'District of Columbia': 'DC',\n",
    "    'Florida': 'FL',\n",
    "    'Georgia': 'GA',\n",
    "    'Guam': 'GU',\n",
    "    'Hawaii': 'HI',\n",
    "    'Idaho': 'ID',\n",
    "    'Illinois': 'IL',\n",
    "    'Indiana': 'IN',\n",
    "    'Iowa': 'IA',\n",
    "    'Kansas': 'KS',\n",
    "    'Kentucky': 'KY',\n",
    "    'Louisiana': 'LA',\n",
    "    'Maine': 'ME',\n",
    "    'Maryland': 'MD',\n",
    "    'Massachusetts': 'MA',\n",
    "    'Michigan': 'MI',\n",
    "    'Minnesota': 'MN',\n",
    "    'Mississippi': 'MS',\n",
    "    'Missouri': 'MO',\n",
    "    'Montana': 'MT',\n",
    "    'Nebraska': 'NE',\n",
    "    'Nevada': 'NV',\n",
    "    'New Hampshire': 'NH',\n",
    "    'New Jersey': 'NJ',\n",
    "    'New Mexico': 'NM',\n",
    "    'New York': 'NY',\n",
    "    'North Carolina': 'NC',\n",
    "    'North Dakota': 'ND',\n",
    "    'Northern Mariana Islands':'MP',\n",
    "    'Ohio': 'OH',\n",
    "    'Oklahoma': 'OK',\n",
    "    'Oregon': 'OR',\n",
    "    'Pennsylvania': 'PA',\n",
    "    'Puerto Rico': 'PR',\n",
    "    'Rhode Island': 'RI',\n",
    "    'South Carolina': 'SC',\n",
    "    'South Dakota': 'SD',\n",
    "    'Tennessee': 'TN',\n",
    "    'Texas': 'TX',\n",
    "    'Utah': 'UT',\n",
    "    'Vermont': 'VT',\n",
    "    'Virgin Islands': 'VI',\n",
    "    'Virginia': 'VA',\n",
    "    'Washington': 'WA',\n",
    "    'West Virginia': 'WV',\n",
    "    'Wisconsin': 'WI',\n",
    "    'Wyoming': 'WY'\n",
    "}"
   ]
  },
  {
   "cell_type": "code",
   "execution_count": 28,
   "metadata": {},
   "outputs": [],
   "source": [
    "# DF with recent confirmed numbers of each state\n",
    "us_data = df.loc[(df['Country_Region'] == \"US\") & (df['Case_Type'] == \"Confirmed\") & (df['Date'] == recent_date)]\n",
    "#us_data.head()"
   ]
  },
  {
   "cell_type": "code",
   "execution_count": 29,
   "metadata": {},
   "outputs": [
    {
     "name": "stderr",
     "output_type": "stream",
     "text": [
      "/opt/anaconda3/lib/python3.7/site-packages/ipykernel_launcher.py:5: SettingWithCopyWarning:\n",
      "\n",
      "\n",
      "A value is trying to be set on a copy of a slice from a DataFrame.\n",
      "Try using .loc[row_indexer,col_indexer] = value instead\n",
      "\n",
      "See the caveats in the documentation: http://pandas.pydata.org/pandas-docs/stable/user_guide/indexing.html#returning-a-view-versus-a-copy\n",
      "\n"
     ]
    },
    {
     "data": {
      "text/html": [
       "<div>\n",
       "<style scoped>\n",
       "    .dataframe tbody tr th:only-of-type {\n",
       "        vertical-align: middle;\n",
       "    }\n",
       "\n",
       "    .dataframe tbody tr th {\n",
       "        vertical-align: top;\n",
       "    }\n",
       "\n",
       "    .dataframe thead th {\n",
       "        text-align: right;\n",
       "    }\n",
       "</style>\n",
       "<table border=\"1\" class=\"dataframe\">\n",
       "  <thead>\n",
       "    <tr style=\"text-align: right;\">\n",
       "      <th></th>\n",
       "      <th>Province_State</th>\n",
       "      <th>Province_Code</th>\n",
       "      <th>Cases</th>\n",
       "    </tr>\n",
       "  </thead>\n",
       "  <tbody>\n",
       "    <tr>\n",
       "      <td>0</td>\n",
       "      <td>Alabama</td>\n",
       "      <td>AL</td>\n",
       "      <td>6421</td>\n",
       "    </tr>\n",
       "    <tr>\n",
       "      <td>1</td>\n",
       "      <td>Alaska</td>\n",
       "      <td>AK</td>\n",
       "      <td>340</td>\n",
       "    </tr>\n",
       "    <tr>\n",
       "      <td>2</td>\n",
       "      <td>American Samoa</td>\n",
       "      <td>AS</td>\n",
       "      <td>0</td>\n",
       "    </tr>\n",
       "    <tr>\n",
       "      <td>3</td>\n",
       "      <td>Arizona</td>\n",
       "      <td>AZ</td>\n",
       "      <td>6534</td>\n",
       "    </tr>\n",
       "    <tr>\n",
       "      <td>4</td>\n",
       "      <td>Arkansas</td>\n",
       "      <td>AR</td>\n",
       "      <td>3001</td>\n",
       "    </tr>\n",
       "    <tr>\n",
       "      <td>5</td>\n",
       "      <td>California</td>\n",
       "      <td>CA</td>\n",
       "      <td>43558</td>\n",
       "    </tr>\n",
       "    <tr>\n",
       "      <td>6</td>\n",
       "      <td>Colorado</td>\n",
       "      <td>CO</td>\n",
       "      <td>13441</td>\n",
       "    </tr>\n",
       "    <tr>\n",
       "      <td>7</td>\n",
       "      <td>Connecticut</td>\n",
       "      <td>CT</td>\n",
       "      <td>25269</td>\n",
       "    </tr>\n",
       "    <tr>\n",
       "      <td>8</td>\n",
       "      <td>Delaware</td>\n",
       "      <td>DE</td>\n",
       "      <td>4034</td>\n",
       "    </tr>\n",
       "    <tr>\n",
       "      <td>9</td>\n",
       "      <td>District of Columbia</td>\n",
       "      <td>DC</td>\n",
       "      <td>3841</td>\n",
       "    </tr>\n",
       "    <tr>\n",
       "      <td>10</td>\n",
       "      <td>Florida</td>\n",
       "      <td>FL</td>\n",
       "      <td>31532</td>\n",
       "    </tr>\n",
       "    <tr>\n",
       "      <td>11</td>\n",
       "      <td>Georgia</td>\n",
       "      <td>GA</td>\n",
       "      <td>23486</td>\n",
       "    </tr>\n",
       "    <tr>\n",
       "      <td>12</td>\n",
       "      <td>Guam</td>\n",
       "      <td>GU</td>\n",
       "      <td>141</td>\n",
       "    </tr>\n",
       "    <tr>\n",
       "      <td>13</td>\n",
       "      <td>Hawaii</td>\n",
       "      <td>HI</td>\n",
       "      <td>606</td>\n",
       "    </tr>\n",
       "    <tr>\n",
       "      <td>14</td>\n",
       "      <td>Idaho</td>\n",
       "      <td>ID</td>\n",
       "      <td>1897</td>\n",
       "    </tr>\n",
       "    <tr>\n",
       "      <td>15</td>\n",
       "      <td>Illinois</td>\n",
       "      <td>IL</td>\n",
       "      <td>43903</td>\n",
       "    </tr>\n",
       "    <tr>\n",
       "      <td>16</td>\n",
       "      <td>Indiana</td>\n",
       "      <td>IN</td>\n",
       "      <td>15012</td>\n",
       "    </tr>\n",
       "    <tr>\n",
       "      <td>17</td>\n",
       "      <td>Iowa</td>\n",
       "      <td>IA</td>\n",
       "      <td>5476</td>\n",
       "    </tr>\n",
       "    <tr>\n",
       "      <td>18</td>\n",
       "      <td>Kansas</td>\n",
       "      <td>KS</td>\n",
       "      <td>3277</td>\n",
       "    </tr>\n",
       "    <tr>\n",
       "      <td>19</td>\n",
       "      <td>Kentucky</td>\n",
       "      <td>KY</td>\n",
       "      <td>4085</td>\n",
       "    </tr>\n",
       "    <tr>\n",
       "      <td>20</td>\n",
       "      <td>Louisiana</td>\n",
       "      <td>LA</td>\n",
       "      <td>26773</td>\n",
       "    </tr>\n",
       "    <tr>\n",
       "      <td>21</td>\n",
       "      <td>Maine</td>\n",
       "      <td>ME</td>\n",
       "      <td>1015</td>\n",
       "    </tr>\n",
       "    <tr>\n",
       "      <td>22</td>\n",
       "      <td>Maryland</td>\n",
       "      <td>MD</td>\n",
       "      <td>18581</td>\n",
       "    </tr>\n",
       "    <tr>\n",
       "      <td>23</td>\n",
       "      <td>Massachusetts</td>\n",
       "      <td>MA</td>\n",
       "      <td>54938</td>\n",
       "    </tr>\n",
       "    <tr>\n",
       "      <td>24</td>\n",
       "      <td>Michigan</td>\n",
       "      <td>MI</td>\n",
       "      <td>37778</td>\n",
       "    </tr>\n",
       "    <tr>\n",
       "      <td>25</td>\n",
       "      <td>Minnesota</td>\n",
       "      <td>MN</td>\n",
       "      <td>3602</td>\n",
       "    </tr>\n",
       "    <tr>\n",
       "      <td>26</td>\n",
       "      <td>Mississippi</td>\n",
       "      <td>MS</td>\n",
       "      <td>5911</td>\n",
       "    </tr>\n",
       "    <tr>\n",
       "      <td>27</td>\n",
       "      <td>Missouri</td>\n",
       "      <td>MO</td>\n",
       "      <td>7120</td>\n",
       "    </tr>\n",
       "    <tr>\n",
       "      <td>28</td>\n",
       "      <td>Montana</td>\n",
       "      <td>MT</td>\n",
       "      <td>448</td>\n",
       "    </tr>\n",
       "    <tr>\n",
       "      <td>29</td>\n",
       "      <td>Nebraska</td>\n",
       "      <td>NE</td>\n",
       "      <td>3030</td>\n",
       "    </tr>\n",
       "    <tr>\n",
       "      <td>30</td>\n",
       "      <td>Nevada</td>\n",
       "      <td>NV</td>\n",
       "      <td>4734</td>\n",
       "    </tr>\n",
       "    <tr>\n",
       "      <td>31</td>\n",
       "      <td>New Hampshire</td>\n",
       "      <td>NH</td>\n",
       "      <td>1864</td>\n",
       "    </tr>\n",
       "    <tr>\n",
       "      <td>32</td>\n",
       "      <td>New Jersey</td>\n",
       "      <td>NJ</td>\n",
       "      <td>109038</td>\n",
       "    </tr>\n",
       "    <tr>\n",
       "      <td>33</td>\n",
       "      <td>New Mexico</td>\n",
       "      <td>NM</td>\n",
       "      <td>2726</td>\n",
       "    </tr>\n",
       "    <tr>\n",
       "      <td>34</td>\n",
       "      <td>New York</td>\n",
       "      <td>NY</td>\n",
       "      <td>288045</td>\n",
       "    </tr>\n",
       "    <tr>\n",
       "      <td>35</td>\n",
       "      <td>North Carolina</td>\n",
       "      <td>NC</td>\n",
       "      <td>8997</td>\n",
       "    </tr>\n",
       "    <tr>\n",
       "      <td>36</td>\n",
       "      <td>North Dakota</td>\n",
       "      <td>ND</td>\n",
       "      <td>867</td>\n",
       "    </tr>\n",
       "    <tr>\n",
       "      <td>37</td>\n",
       "      <td>Northern Mariana Islands</td>\n",
       "      <td>MP</td>\n",
       "      <td>14</td>\n",
       "    </tr>\n",
       "    <tr>\n",
       "      <td>38</td>\n",
       "      <td>Ohio</td>\n",
       "      <td>OH</td>\n",
       "      <td>15972</td>\n",
       "    </tr>\n",
       "    <tr>\n",
       "      <td>39</td>\n",
       "      <td>Oklahoma</td>\n",
       "      <td>OK</td>\n",
       "      <td>3254</td>\n",
       "    </tr>\n",
       "    <tr>\n",
       "      <td>40</td>\n",
       "      <td>Oregon</td>\n",
       "      <td>OR</td>\n",
       "      <td>2311</td>\n",
       "    </tr>\n",
       "    <tr>\n",
       "      <td>41</td>\n",
       "      <td>Pennsylvania</td>\n",
       "      <td>PA</td>\n",
       "      <td>42616</td>\n",
       "    </tr>\n",
       "    <tr>\n",
       "      <td>42</td>\n",
       "      <td>Puerto Rico</td>\n",
       "      <td>PR</td>\n",
       "      <td>1371</td>\n",
       "    </tr>\n",
       "    <tr>\n",
       "      <td>43</td>\n",
       "      <td>Rhode Island</td>\n",
       "      <td>RI</td>\n",
       "      <td>7439</td>\n",
       "    </tr>\n",
       "    <tr>\n",
       "      <td>44</td>\n",
       "      <td>South Carolina</td>\n",
       "      <td>SC</td>\n",
       "      <td>5498</td>\n",
       "    </tr>\n",
       "    <tr>\n",
       "      <td>45</td>\n",
       "      <td>South Dakota</td>\n",
       "      <td>SD</td>\n",
       "      <td>2212</td>\n",
       "    </tr>\n",
       "    <tr>\n",
       "      <td>46</td>\n",
       "      <td>Tennessee</td>\n",
       "      <td>TN</td>\n",
       "      <td>9667</td>\n",
       "    </tr>\n",
       "    <tr>\n",
       "      <td>47</td>\n",
       "      <td>Texas</td>\n",
       "      <td>TX</td>\n",
       "      <td>24967</td>\n",
       "    </tr>\n",
       "    <tr>\n",
       "      <td>48</td>\n",
       "      <td>Utah</td>\n",
       "      <td>UT</td>\n",
       "      <td>4123</td>\n",
       "    </tr>\n",
       "    <tr>\n",
       "      <td>49</td>\n",
       "      <td>Vermont</td>\n",
       "      <td>VT</td>\n",
       "      <td>851</td>\n",
       "    </tr>\n",
       "    <tr>\n",
       "      <td>50</td>\n",
       "      <td>Virgin Islands</td>\n",
       "      <td>VI</td>\n",
       "      <td>57</td>\n",
       "    </tr>\n",
       "    <tr>\n",
       "      <td>51</td>\n",
       "      <td>Virginia</td>\n",
       "      <td>VA</td>\n",
       "      <td>12970</td>\n",
       "    </tr>\n",
       "    <tr>\n",
       "      <td>52</td>\n",
       "      <td>Washington</td>\n",
       "      <td>WA</td>\n",
       "      <td>13521</td>\n",
       "    </tr>\n",
       "    <tr>\n",
       "      <td>53</td>\n",
       "      <td>West Virginia</td>\n",
       "      <td>WV</td>\n",
       "      <td>1055</td>\n",
       "    </tr>\n",
       "    <tr>\n",
       "      <td>54</td>\n",
       "      <td>Wisconsin</td>\n",
       "      <td>WI</td>\n",
       "      <td>5912</td>\n",
       "    </tr>\n",
       "    <tr>\n",
       "      <td>55</td>\n",
       "      <td>Wyoming</td>\n",
       "      <td>WY</td>\n",
       "      <td>502</td>\n",
       "    </tr>\n",
       "  </tbody>\n",
       "</table>\n",
       "</div>"
      ],
      "text/plain": [
       "              Province_State Province_Code   Cases\n",
       "0                    Alabama            AL    6421\n",
       "1                     Alaska            AK     340\n",
       "2             American Samoa            AS       0\n",
       "3                    Arizona            AZ    6534\n",
       "4                   Arkansas            AR    3001\n",
       "5                 California            CA   43558\n",
       "6                   Colorado            CO   13441\n",
       "7                Connecticut            CT   25269\n",
       "8                   Delaware            DE    4034\n",
       "9       District of Columbia            DC    3841\n",
       "10                   Florida            FL   31532\n",
       "11                   Georgia            GA   23486\n",
       "12                      Guam            GU     141\n",
       "13                    Hawaii            HI     606\n",
       "14                     Idaho            ID    1897\n",
       "15                  Illinois            IL   43903\n",
       "16                   Indiana            IN   15012\n",
       "17                      Iowa            IA    5476\n",
       "18                    Kansas            KS    3277\n",
       "19                  Kentucky            KY    4085\n",
       "20                 Louisiana            LA   26773\n",
       "21                     Maine            ME    1015\n",
       "22                  Maryland            MD   18581\n",
       "23             Massachusetts            MA   54938\n",
       "24                  Michigan            MI   37778\n",
       "25                 Minnesota            MN    3602\n",
       "26               Mississippi            MS    5911\n",
       "27                  Missouri            MO    7120\n",
       "28                   Montana            MT     448\n",
       "29                  Nebraska            NE    3030\n",
       "30                    Nevada            NV    4734\n",
       "31             New Hampshire            NH    1864\n",
       "32                New Jersey            NJ  109038\n",
       "33                New Mexico            NM    2726\n",
       "34                  New York            NY  288045\n",
       "35            North Carolina            NC    8997\n",
       "36              North Dakota            ND     867\n",
       "37  Northern Mariana Islands            MP      14\n",
       "38                      Ohio            OH   15972\n",
       "39                  Oklahoma            OK    3254\n",
       "40                    Oregon            OR    2311\n",
       "41              Pennsylvania            PA   42616\n",
       "42               Puerto Rico            PR    1371\n",
       "43              Rhode Island            RI    7439\n",
       "44            South Carolina            SC    5498\n",
       "45              South Dakota            SD    2212\n",
       "46                 Tennessee            TN    9667\n",
       "47                     Texas            TX   24967\n",
       "48                      Utah            UT    4123\n",
       "49                   Vermont            VT     851\n",
       "50            Virgin Islands            VI      57\n",
       "51                  Virginia            VA   12970\n",
       "52                Washington            WA   13521\n",
       "53             West Virginia            WV    1055\n",
       "54                 Wisconsin            WI    5912\n",
       "55                   Wyoming            WY     502"
      ]
     },
     "execution_count": 29,
     "metadata": {},
     "output_type": "execute_result"
    }
   ],
   "source": [
    "#Get df with province names changed to ABBR, for map.\n",
    "# us_abbrev_data = us_data.replace({\"Province_State\":state_abbrev}).groupby(\"Province_State\", as_index=False)[\"Cases\"].sum()\n",
    "# us_abbrev_data\n",
    "\n",
    "us_data['Province_Code'] = us_data['Province_State'].map(state_abbrev)\n",
    "us_abbrev_data = us_data.groupby([\"Province_State\",\"Province_Code\"], as_index=False)[\"Cases\"].sum()\n",
    "us_abbrev_data"
   ]
  },
  {
   "cell_type": "code",
   "execution_count": 30,
   "metadata": {},
   "outputs": [],
   "source": [
    "for col in us_abbrev_data.columns:\n",
    "    us_abbrev_data[col] = us_abbrev_data[col].astype(str)\n",
    "\n",
    "us_abbrev_data['text'] = us_abbrev_data[\"Province_State\"]"
   ]
  },
  {
   "cell_type": "markdown",
   "metadata": {},
   "source": [
    "The main visualizations to look at are Viz 1 which shows increase in cases overtime, viz 3 which shows a worldmap with cases in bubblemap showing the intensity with size of the bubble and viz 6 which was US specific. These interactive visualizations can be linked in the next part of my assignment where we can create dashboard using plotly or voila. There visualizations are easy to understand which shows information when you hover your mouse on a particular area. Most of the information is mentioned in the comments above. Viz 3 represents an aggregate summary of the cases by shaded portions. The change in color can be analyzed using the colorscale which shows us the confirmed cases. The specific count can be seen by pointing the mouse at the state you want the information about."
   ]
  },
  {
   "cell_type": "markdown",
   "metadata": {},
   "source": [
    "### Other similar datasets which can be used in future are:\n",
    "    1. https://github.com/beoutbreakprepared/nCoV2019/tree/master/dataset_archive --The nCov is another famous dataset that shows the sex,travel history, hospital admitted to, date admitted etc and it's updated regularly as well and thus needed for detailed information about cases.\n",
    "    2. https://vizhub.healthdata.org/gbd-compare/ -- shows previous medical history and symptoms for the confirmed cases over the world\n",
    "    3. https://github.com/echen102/COVID-19-TweetIDs -- The repository contains an ongoing collection of tweets IDs associated with the novel coronavirus COVID-19 with the time and specific keywords"
   ]
  },
  {
   "cell_type": "code",
   "execution_count": 31,
   "metadata": {},
   "outputs": [
    {
     "data": {
      "text/plain": [
       "'/Users/shazmeenshaikh'"
      ]
     },
     "execution_count": 31,
     "metadata": {},
     "output_type": "execute_result"
    }
   ],
   "source": [
    "os.getcwd()"
   ]
  },
  {
   "cell_type": "code",
   "execution_count": 32,
   "metadata": {},
   "outputs": [],
   "source": [
    "url_us = \"https://raw.githubusercontent.com/nytimes/covid-19-data/master/us-states.csv\"\n",
    "data = pd.read_csv(url_us,parse_dates = ['date'])"
   ]
  },
  {
   "cell_type": "code",
   "execution_count": 33,
   "metadata": {},
   "outputs": [
    {
     "data": {
      "text/html": [
       "<div>\n",
       "<style scoped>\n",
       "    .dataframe tbody tr th:only-of-type {\n",
       "        vertical-align: middle;\n",
       "    }\n",
       "\n",
       "    .dataframe tbody tr th {\n",
       "        vertical-align: top;\n",
       "    }\n",
       "\n",
       "    .dataframe thead th {\n",
       "        text-align: right;\n",
       "    }\n",
       "</style>\n",
       "<table border=\"1\" class=\"dataframe\">\n",
       "  <thead>\n",
       "    <tr style=\"text-align: right;\">\n",
       "      <th></th>\n",
       "      <th>date</th>\n",
       "      <th>state</th>\n",
       "      <th>fips</th>\n",
       "      <th>cases</th>\n",
       "      <th>deaths</th>\n",
       "    </tr>\n",
       "  </thead>\n",
       "  <tbody>\n",
       "    <tr>\n",
       "      <td>0</td>\n",
       "      <td>2020-01-21</td>\n",
       "      <td>Washington</td>\n",
       "      <td>53</td>\n",
       "      <td>1</td>\n",
       "      <td>0</td>\n",
       "    </tr>\n",
       "    <tr>\n",
       "      <td>1</td>\n",
       "      <td>2020-01-22</td>\n",
       "      <td>Washington</td>\n",
       "      <td>53</td>\n",
       "      <td>1</td>\n",
       "      <td>0</td>\n",
       "    </tr>\n",
       "    <tr>\n",
       "      <td>2</td>\n",
       "      <td>2020-01-23</td>\n",
       "      <td>Washington</td>\n",
       "      <td>53</td>\n",
       "      <td>1</td>\n",
       "      <td>0</td>\n",
       "    </tr>\n",
       "    <tr>\n",
       "      <td>4</td>\n",
       "      <td>2020-01-24</td>\n",
       "      <td>Washington</td>\n",
       "      <td>53</td>\n",
       "      <td>1</td>\n",
       "      <td>0</td>\n",
       "    </tr>\n",
       "    <tr>\n",
       "      <td>7</td>\n",
       "      <td>2020-01-25</td>\n",
       "      <td>Washington</td>\n",
       "      <td>53</td>\n",
       "      <td>1</td>\n",
       "      <td>0</td>\n",
       "    </tr>\n",
       "    <tr>\n",
       "      <td>...</td>\n",
       "      <td>...</td>\n",
       "      <td>...</td>\n",
       "      <td>...</td>\n",
       "      <td>...</td>\n",
       "      <td>...</td>\n",
       "    </tr>\n",
       "    <tr>\n",
       "      <td>2815</td>\n",
       "      <td>2020-04-22</td>\n",
       "      <td>Washington</td>\n",
       "      <td>53</td>\n",
       "      <td>12539</td>\n",
       "      <td>696</td>\n",
       "    </tr>\n",
       "    <tr>\n",
       "      <td>2870</td>\n",
       "      <td>2020-04-23</td>\n",
       "      <td>Washington</td>\n",
       "      <td>53</td>\n",
       "      <td>12906</td>\n",
       "      <td>717</td>\n",
       "    </tr>\n",
       "    <tr>\n",
       "      <td>2925</td>\n",
       "      <td>2020-04-24</td>\n",
       "      <td>Washington</td>\n",
       "      <td>53</td>\n",
       "      <td>13120</td>\n",
       "      <td>731</td>\n",
       "    </tr>\n",
       "    <tr>\n",
       "      <td>2980</td>\n",
       "      <td>2020-04-25</td>\n",
       "      <td>Washington</td>\n",
       "      <td>53</td>\n",
       "      <td>13484</td>\n",
       "      <td>743</td>\n",
       "    </tr>\n",
       "    <tr>\n",
       "      <td>3035</td>\n",
       "      <td>2020-04-26</td>\n",
       "      <td>Washington</td>\n",
       "      <td>53</td>\n",
       "      <td>13663</td>\n",
       "      <td>757</td>\n",
       "    </tr>\n",
       "  </tbody>\n",
       "</table>\n",
       "<p>97 rows × 5 columns</p>\n",
       "</div>"
      ],
      "text/plain": [
       "           date       state  fips  cases  deaths\n",
       "0    2020-01-21  Washington    53      1       0\n",
       "1    2020-01-22  Washington    53      1       0\n",
       "2    2020-01-23  Washington    53      1       0\n",
       "4    2020-01-24  Washington    53      1       0\n",
       "7    2020-01-25  Washington    53      1       0\n",
       "...         ...         ...   ...    ...     ...\n",
       "2815 2020-04-22  Washington    53  12539     696\n",
       "2870 2020-04-23  Washington    53  12906     717\n",
       "2925 2020-04-24  Washington    53  13120     731\n",
       "2980 2020-04-25  Washington    53  13484     743\n",
       "3035 2020-04-26  Washington    53  13663     757\n",
       "\n",
       "[97 rows x 5 columns]"
      ]
     },
     "execution_count": 33,
     "metadata": {},
     "output_type": "execute_result"
    }
   ],
   "source": [
    "sample_data = data.loc[data['state'] == 'Washington']\n",
    "sample_data"
   ]
  },
  {
   "cell_type": "code",
   "execution_count": 34,
   "metadata": {},
   "outputs": [],
   "source": [
    "if not os.path.exists('us_states.geo.json'):\n",
    "  url = 'https://raw.githubusercontent.com/PublicaMundi/MappingAPI/master/data/geojson/us-states.json'\n",
    "  r = requests.get(url)\n",
    "  with open('us_states.geo.json', 'w') as f:\n",
    "    f.write(r.content.decode(\"utf-8\"))"
   ]
  },
  {
   "cell_type": "code",
   "execution_count": 35,
   "metadata": {},
   "outputs": [],
   "source": [
    "with open('us_states.geo.json') as f:\n",
    "    states = json.load(f)"
   ]
  },
  {
   "cell_type": "markdown",
   "metadata": {},
   "source": [
    "# Figure 5 - GeoJSON map with line graph over time for every state"
   ]
  },
  {
   "cell_type": "code",
   "execution_count": 36,
   "metadata": {},
   "outputs": [
    {
     "data": {
      "application/vnd.jupyter.widget-view+json": {
       "model_id": "93beca02d9204d73b58c40c9856f88ee",
       "version_major": 2,
       "version_minor": 0
      },
      "text/plain": [
       "Map(center=[39.8283, -98.5795], controls=(ZoomControl(options=['position', 'zoom_in_text', 'zoom_in_title', 'z…"
      ]
     },
     "metadata": {},
     "output_type": "display_data"
    }
   ],
   "source": [
    "m = Map(center= (39.8283, -98.5795),zoom=4)\n",
    "\n",
    "geo = GeoJSON(data=states, style={'fillColor': 'red', 'weight': 0.1}, hover_style={'fillColor': '#1f77b4'}, name='States')\n",
    "m.add_layer(geo)\n",
    "\n",
    "m"
   ]
  },
  {
   "cell_type": "code",
   "execution_count": 37,
   "metadata": {},
   "outputs": [
    {
     "data": {
      "text/plain": [
       "246       0.00k\n",
       "261       0.00k\n",
       "276       0.00k\n",
       "293       0.01k\n",
       "313       0.02k\n",
       "338       0.04k\n",
       "369       0.09k\n",
       "404       0.11k\n",
       "440       0.14k\n",
       "478       0.17k\n",
       "521       0.22k\n",
       "568       0.33k\n",
       "618       0.42k\n",
       "669       0.61k\n",
       "722       0.73k\n",
       "775       0.95k\n",
       "828       1.37k\n",
       "882       2.38k\n",
       "936       4.15k\n",
       "990       7.10k\n",
       "1044     10.36k\n",
       "1098     15.17k\n",
       "1152     20.88k\n",
       "1206     25.66k\n",
       "1260     33.07k\n",
       "1314     38.99k\n",
       "1368     44.63k\n",
       "1422     53.36k\n",
       "1477     59.57k\n",
       "1532     67.17k\n",
       "1587     75.83k\n",
       "1642     83.89k\n",
       "1697     92.38k\n",
       "1752    102.87k\n",
       "1807    115.00k\n",
       "1862    122.91k\n",
       "1917    130.69k\n",
       "1972    140.08k\n",
       "2027    149.40k\n",
       "2082    159.94k\n",
       "2137    170.51k\n",
       "2192    180.46k\n",
       "2247    188.69k\n",
       "2302    195.03k\n",
       "2357    202.21k\n",
       "2412    213.78k\n",
       "2467    222.28k\n",
       "2522    229.64k\n",
       "2577    236.76k\n",
       "2632    242.82k\n",
       "2687    247.54k\n",
       "2742    251.72k\n",
       "2797    257.25k\n",
       "2852    263.46k\n",
       "2907    271.62k\n",
       "2962    282.17k\n",
       "3017    288.08k\n",
       "Name: cases, dtype: object"
      ]
     },
     "execution_count": 37,
     "metadata": {},
     "output_type": "execute_result"
    }
   ],
   "source": [
    "state_current = \"New York\"\n",
    "current_data = data[data['state'] == state_current]\n",
    "x_data = current_data['date']\n",
    "y_data = current_data['cases']/1000\n",
    "y_data.map('{:,.2f}k'.format)"
   ]
  },
  {
   "cell_type": "code",
   "execution_count": 38,
   "metadata": {},
   "outputs": [
    {
     "data": {
      "application/vnd.jupyter.widget-view+json": {
       "model_id": "e1c2ea22db85451387e523bd45ec79f1",
       "version_major": 2,
       "version_minor": 0
      },
      "text/plain": [
       "Figure(animation_duration=500, axes=[Axis(grid_lines='none', label='Time', label_offset='40px', num_ticks=10, …"
      ]
     },
     "metadata": {},
     "output_type": "display_data"
    }
   ],
   "source": [
    "date_start = data['date'].min()\n",
    "date_end = data['date'].max()\n",
    "date_scale = DateScale(min=date_start, max=date_end)\n",
    "\n",
    "x_scale = LinearScale()\n",
    "\n",
    "lines = Lines(x=x_data, y=y_data, scales={'x': date_scale, 'y': x_scale},colors=[\"Red\"],stroke_width=1)\n",
    "\n",
    "ax_x = Axis(label='Time', scale=date_scale, num_ticks=10, tick_format='%d-%m',grid_lines='none',label_offset=\"40px\",tick_rotate = 40 )\n",
    "ax_y = Axis(label=\"Cases (in thousands)\", scale=x_scale, orientation='vertical', side='left',grid_lines=\"none\",label_offset=\"40px\")\n",
    "\n",
    "figure = Figure(axes=[ax_x, ax_y], title=state_current, marks=[lines], animation_duration=500,\n",
    "                layout={'max_height': '300px', 'max_width': '400px'})\n",
    "figure"
   ]
  },
  {
   "cell_type": "code",
   "execution_count": 39,
   "metadata": {},
   "outputs": [],
   "source": [
    "def update_figure(state_name):\n",
    "    \"\"\"\n",
    "    Problem: The line starts at first reported case. Not before.\n",
    "    \"\"\"\n",
    "    temp_data = data[data['state'] == state_name]\n",
    "    cases = temp_data['cases']/1000\n",
    "    cases.map('{:,.2f}k'.format)\n",
    "    lines.y = cases\n",
    "    lines.x = temp_data[['date']]\n",
    "#     ax_y.label = state_current\n",
    "    \n",
    "    lines.scales['x']=date_scale\n",
    "#     ax_x.scale = date_scale\n",
    "    figure.title = state_name"
   ]
  },
  {
   "cell_type": "code",
   "execution_count": 40,
   "metadata": {},
   "outputs": [],
   "source": [
    "update_figure(\"Washington\")"
   ]
  },
  {
   "cell_type": "code",
   "execution_count": 41,
   "metadata": {},
   "outputs": [],
   "source": [
    "widget_control = WidgetControl(widget=figure, position='bottomright')\n",
    "\n",
    "m.add_control(widget_control)\n",
    "\n",
    "def on_hover(event, feature, **kwargs):\n",
    "    global state_name\n",
    "\n",
    "    state_name = feature['properties']['name']\n",
    "    update_figure(state_name)\n",
    "\n",
    "geo.on_hover(on_hover)"
   ]
  },
  {
   "cell_type": "markdown",
   "metadata": {},
   "source": [
    "# Figure 6 - Choropleth map for the USA with colorscale (Hover and point using Plotly graph object)"
   ]
  },
  {
   "cell_type": "code",
   "execution_count": 42,
   "metadata": {},
   "outputs": [
    {
     "data": {
      "application/vnd.plotly.v1+json": {
       "config": {
        "plotlyServerURL": "https://plot.ly"
       },
       "data": [
        {
         "colorbar": {
          "title": {
           "text": "Confirmed Cases"
          }
         },
         "colorscale": [
          [
           0,
           "rgb(252, 222, 156)"
          ],
          [
           0.16666666666666666,
           "rgb(250, 164, 118)"
          ],
          [
           0.3333333333333333,
           "rgb(240, 116, 110)"
          ],
          [
           0.5,
           "rgb(227, 79, 111)"
          ],
          [
           0.6666666666666666,
           "rgb(220, 57, 119)"
          ],
          [
           0.8333333333333334,
           "rgb(185, 37, 122)"
          ],
          [
           1,
           "rgb(124, 29, 111)"
          ]
         ],
         "locationmode": "USA-states",
         "locations": [
          "AL",
          "AK",
          "AS",
          "AZ",
          "AR",
          "CA",
          "CO",
          "CT",
          "DE",
          "DC",
          "FL",
          "GA",
          "GU",
          "HI",
          "ID",
          "IL",
          "IN",
          "IA",
          "KS",
          "KY",
          "LA",
          "ME",
          "MD",
          "MA",
          "MI",
          "MN",
          "MS",
          "MO",
          "MT",
          "NE",
          "NV",
          "NH",
          "NJ",
          "NM",
          "NY",
          "NC",
          "ND",
          "MP",
          "OH",
          "OK",
          "OR",
          "PA",
          "PR",
          "RI",
          "SC",
          "SD",
          "TN",
          "TX",
          "UT",
          "VT",
          "VI",
          "VA",
          "WA",
          "WV",
          "WI",
          "WY"
         ],
         "text": [
          "Alabama",
          "Alaska",
          "American Samoa",
          "Arizona",
          "Arkansas",
          "California",
          "Colorado",
          "Connecticut",
          "Delaware",
          "District of Columbia",
          "Florida",
          "Georgia",
          "Guam",
          "Hawaii",
          "Idaho",
          "Illinois",
          "Indiana",
          "Iowa",
          "Kansas",
          "Kentucky",
          "Louisiana",
          "Maine",
          "Maryland",
          "Massachusetts",
          "Michigan",
          "Minnesota",
          "Mississippi",
          "Missouri",
          "Montana",
          "Nebraska",
          "Nevada",
          "New Hampshire",
          "New Jersey",
          "New Mexico",
          "New York",
          "North Carolina",
          "North Dakota",
          "Northern Mariana Islands",
          "Ohio",
          "Oklahoma",
          "Oregon",
          "Pennsylvania",
          "Puerto Rico",
          "Rhode Island",
          "South Carolina",
          "South Dakota",
          "Tennessee",
          "Texas",
          "Utah",
          "Vermont",
          "Virgin Islands",
          "Virginia",
          "Washington",
          "West Virginia",
          "Wisconsin",
          "Wyoming"
         ],
         "type": "choropleth",
         "z": [
          6421,
          340,
          0,
          6534,
          3001,
          43558,
          13441,
          25269,
          4034,
          3841,
          31532,
          23486,
          141,
          606,
          1897,
          43903,
          15012,
          5476,
          3277,
          4085,
          26773,
          1015,
          18581,
          54938,
          37778,
          3602,
          5911,
          7120,
          448,
          3030,
          4734,
          1864,
          109038,
          2726,
          288045,
          8997,
          867,
          14,
          15972,
          3254,
          2311,
          42616,
          1371,
          7439,
          5498,
          2212,
          9667,
          24967,
          4123,
          851,
          57,
          12970,
          13521,
          1055,
          5912,
          502
         ]
        }
       ],
       "layout": {
        "geo": {
         "scope": "usa"
        },
        "template": {
         "data": {
          "bar": [
           {
            "error_x": {
             "color": "#2a3f5f"
            },
            "error_y": {
             "color": "#2a3f5f"
            },
            "marker": {
             "line": {
              "color": "#E5ECF6",
              "width": 0.5
             }
            },
            "type": "bar"
           }
          ],
          "barpolar": [
           {
            "marker": {
             "line": {
              "color": "#E5ECF6",
              "width": 0.5
             }
            },
            "type": "barpolar"
           }
          ],
          "carpet": [
           {
            "aaxis": {
             "endlinecolor": "#2a3f5f",
             "gridcolor": "white",
             "linecolor": "white",
             "minorgridcolor": "white",
             "startlinecolor": "#2a3f5f"
            },
            "baxis": {
             "endlinecolor": "#2a3f5f",
             "gridcolor": "white",
             "linecolor": "white",
             "minorgridcolor": "white",
             "startlinecolor": "#2a3f5f"
            },
            "type": "carpet"
           }
          ],
          "choropleth": [
           {
            "colorbar": {
             "outlinewidth": 0,
             "ticks": ""
            },
            "type": "choropleth"
           }
          ],
          "contour": [
           {
            "colorbar": {
             "outlinewidth": 0,
             "ticks": ""
            },
            "colorscale": [
             [
              0,
              "#0d0887"
             ],
             [
              0.1111111111111111,
              "#46039f"
             ],
             [
              0.2222222222222222,
              "#7201a8"
             ],
             [
              0.3333333333333333,
              "#9c179e"
             ],
             [
              0.4444444444444444,
              "#bd3786"
             ],
             [
              0.5555555555555556,
              "#d8576b"
             ],
             [
              0.6666666666666666,
              "#ed7953"
             ],
             [
              0.7777777777777778,
              "#fb9f3a"
             ],
             [
              0.8888888888888888,
              "#fdca26"
             ],
             [
              1,
              "#f0f921"
             ]
            ],
            "type": "contour"
           }
          ],
          "contourcarpet": [
           {
            "colorbar": {
             "outlinewidth": 0,
             "ticks": ""
            },
            "type": "contourcarpet"
           }
          ],
          "heatmap": [
           {
            "colorbar": {
             "outlinewidth": 0,
             "ticks": ""
            },
            "colorscale": [
             [
              0,
              "#0d0887"
             ],
             [
              0.1111111111111111,
              "#46039f"
             ],
             [
              0.2222222222222222,
              "#7201a8"
             ],
             [
              0.3333333333333333,
              "#9c179e"
             ],
             [
              0.4444444444444444,
              "#bd3786"
             ],
             [
              0.5555555555555556,
              "#d8576b"
             ],
             [
              0.6666666666666666,
              "#ed7953"
             ],
             [
              0.7777777777777778,
              "#fb9f3a"
             ],
             [
              0.8888888888888888,
              "#fdca26"
             ],
             [
              1,
              "#f0f921"
             ]
            ],
            "type": "heatmap"
           }
          ],
          "heatmapgl": [
           {
            "colorbar": {
             "outlinewidth": 0,
             "ticks": ""
            },
            "colorscale": [
             [
              0,
              "#0d0887"
             ],
             [
              0.1111111111111111,
              "#46039f"
             ],
             [
              0.2222222222222222,
              "#7201a8"
             ],
             [
              0.3333333333333333,
              "#9c179e"
             ],
             [
              0.4444444444444444,
              "#bd3786"
             ],
             [
              0.5555555555555556,
              "#d8576b"
             ],
             [
              0.6666666666666666,
              "#ed7953"
             ],
             [
              0.7777777777777778,
              "#fb9f3a"
             ],
             [
              0.8888888888888888,
              "#fdca26"
             ],
             [
              1,
              "#f0f921"
             ]
            ],
            "type": "heatmapgl"
           }
          ],
          "histogram": [
           {
            "marker": {
             "colorbar": {
              "outlinewidth": 0,
              "ticks": ""
             }
            },
            "type": "histogram"
           }
          ],
          "histogram2d": [
           {
            "colorbar": {
             "outlinewidth": 0,
             "ticks": ""
            },
            "colorscale": [
             [
              0,
              "#0d0887"
             ],
             [
              0.1111111111111111,
              "#46039f"
             ],
             [
              0.2222222222222222,
              "#7201a8"
             ],
             [
              0.3333333333333333,
              "#9c179e"
             ],
             [
              0.4444444444444444,
              "#bd3786"
             ],
             [
              0.5555555555555556,
              "#d8576b"
             ],
             [
              0.6666666666666666,
              "#ed7953"
             ],
             [
              0.7777777777777778,
              "#fb9f3a"
             ],
             [
              0.8888888888888888,
              "#fdca26"
             ],
             [
              1,
              "#f0f921"
             ]
            ],
            "type": "histogram2d"
           }
          ],
          "histogram2dcontour": [
           {
            "colorbar": {
             "outlinewidth": 0,
             "ticks": ""
            },
            "colorscale": [
             [
              0,
              "#0d0887"
             ],
             [
              0.1111111111111111,
              "#46039f"
             ],
             [
              0.2222222222222222,
              "#7201a8"
             ],
             [
              0.3333333333333333,
              "#9c179e"
             ],
             [
              0.4444444444444444,
              "#bd3786"
             ],
             [
              0.5555555555555556,
              "#d8576b"
             ],
             [
              0.6666666666666666,
              "#ed7953"
             ],
             [
              0.7777777777777778,
              "#fb9f3a"
             ],
             [
              0.8888888888888888,
              "#fdca26"
             ],
             [
              1,
              "#f0f921"
             ]
            ],
            "type": "histogram2dcontour"
           }
          ],
          "mesh3d": [
           {
            "colorbar": {
             "outlinewidth": 0,
             "ticks": ""
            },
            "type": "mesh3d"
           }
          ],
          "parcoords": [
           {
            "line": {
             "colorbar": {
              "outlinewidth": 0,
              "ticks": ""
             }
            },
            "type": "parcoords"
           }
          ],
          "pie": [
           {
            "automargin": true,
            "type": "pie"
           }
          ],
          "scatter": [
           {
            "marker": {
             "colorbar": {
              "outlinewidth": 0,
              "ticks": ""
             }
            },
            "type": "scatter"
           }
          ],
          "scatter3d": [
           {
            "line": {
             "colorbar": {
              "outlinewidth": 0,
              "ticks": ""
             }
            },
            "marker": {
             "colorbar": {
              "outlinewidth": 0,
              "ticks": ""
             }
            },
            "type": "scatter3d"
           }
          ],
          "scattercarpet": [
           {
            "marker": {
             "colorbar": {
              "outlinewidth": 0,
              "ticks": ""
             }
            },
            "type": "scattercarpet"
           }
          ],
          "scattergeo": [
           {
            "marker": {
             "colorbar": {
              "outlinewidth": 0,
              "ticks": ""
             }
            },
            "type": "scattergeo"
           }
          ],
          "scattergl": [
           {
            "marker": {
             "colorbar": {
              "outlinewidth": 0,
              "ticks": ""
             }
            },
            "type": "scattergl"
           }
          ],
          "scattermapbox": [
           {
            "marker": {
             "colorbar": {
              "outlinewidth": 0,
              "ticks": ""
             }
            },
            "type": "scattermapbox"
           }
          ],
          "scatterpolar": [
           {
            "marker": {
             "colorbar": {
              "outlinewidth": 0,
              "ticks": ""
             }
            },
            "type": "scatterpolar"
           }
          ],
          "scatterpolargl": [
           {
            "marker": {
             "colorbar": {
              "outlinewidth": 0,
              "ticks": ""
             }
            },
            "type": "scatterpolargl"
           }
          ],
          "scatterternary": [
           {
            "marker": {
             "colorbar": {
              "outlinewidth": 0,
              "ticks": ""
             }
            },
            "type": "scatterternary"
           }
          ],
          "surface": [
           {
            "colorbar": {
             "outlinewidth": 0,
             "ticks": ""
            },
            "colorscale": [
             [
              0,
              "#0d0887"
             ],
             [
              0.1111111111111111,
              "#46039f"
             ],
             [
              0.2222222222222222,
              "#7201a8"
             ],
             [
              0.3333333333333333,
              "#9c179e"
             ],
             [
              0.4444444444444444,
              "#bd3786"
             ],
             [
              0.5555555555555556,
              "#d8576b"
             ],
             [
              0.6666666666666666,
              "#ed7953"
             ],
             [
              0.7777777777777778,
              "#fb9f3a"
             ],
             [
              0.8888888888888888,
              "#fdca26"
             ],
             [
              1,
              "#f0f921"
             ]
            ],
            "type": "surface"
           }
          ],
          "table": [
           {
            "cells": {
             "fill": {
              "color": "#EBF0F8"
             },
             "line": {
              "color": "white"
             }
            },
            "header": {
             "fill": {
              "color": "#C8D4E3"
             },
             "line": {
              "color": "white"
             }
            },
            "type": "table"
           }
          ]
         },
         "layout": {
          "annotationdefaults": {
           "arrowcolor": "#2a3f5f",
           "arrowhead": 0,
           "arrowwidth": 1
          },
          "coloraxis": {
           "colorbar": {
            "outlinewidth": 0,
            "ticks": ""
           }
          },
          "colorscale": {
           "diverging": [
            [
             0,
             "#8e0152"
            ],
            [
             0.1,
             "#c51b7d"
            ],
            [
             0.2,
             "#de77ae"
            ],
            [
             0.3,
             "#f1b6da"
            ],
            [
             0.4,
             "#fde0ef"
            ],
            [
             0.5,
             "#f7f7f7"
            ],
            [
             0.6,
             "#e6f5d0"
            ],
            [
             0.7,
             "#b8e186"
            ],
            [
             0.8,
             "#7fbc41"
            ],
            [
             0.9,
             "#4d9221"
            ],
            [
             1,
             "#276419"
            ]
           ],
           "sequential": [
            [
             0,
             "#0d0887"
            ],
            [
             0.1111111111111111,
             "#46039f"
            ],
            [
             0.2222222222222222,
             "#7201a8"
            ],
            [
             0.3333333333333333,
             "#9c179e"
            ],
            [
             0.4444444444444444,
             "#bd3786"
            ],
            [
             0.5555555555555556,
             "#d8576b"
            ],
            [
             0.6666666666666666,
             "#ed7953"
            ],
            [
             0.7777777777777778,
             "#fb9f3a"
            ],
            [
             0.8888888888888888,
             "#fdca26"
            ],
            [
             1,
             "#f0f921"
            ]
           ],
           "sequentialminus": [
            [
             0,
             "#0d0887"
            ],
            [
             0.1111111111111111,
             "#46039f"
            ],
            [
             0.2222222222222222,
             "#7201a8"
            ],
            [
             0.3333333333333333,
             "#9c179e"
            ],
            [
             0.4444444444444444,
             "#bd3786"
            ],
            [
             0.5555555555555556,
             "#d8576b"
            ],
            [
             0.6666666666666666,
             "#ed7953"
            ],
            [
             0.7777777777777778,
             "#fb9f3a"
            ],
            [
             0.8888888888888888,
             "#fdca26"
            ],
            [
             1,
             "#f0f921"
            ]
           ]
          },
          "colorway": [
           "#636efa",
           "#EF553B",
           "#00cc96",
           "#ab63fa",
           "#FFA15A",
           "#19d3f3",
           "#FF6692",
           "#B6E880",
           "#FF97FF",
           "#FECB52"
          ],
          "font": {
           "color": "#2a3f5f"
          },
          "geo": {
           "bgcolor": "white",
           "lakecolor": "white",
           "landcolor": "#E5ECF6",
           "showlakes": true,
           "showland": true,
           "subunitcolor": "white"
          },
          "hoverlabel": {
           "align": "left"
          },
          "hovermode": "closest",
          "mapbox": {
           "style": "light"
          },
          "paper_bgcolor": "white",
          "plot_bgcolor": "#E5ECF6",
          "polar": {
           "angularaxis": {
            "gridcolor": "white",
            "linecolor": "white",
            "ticks": ""
           },
           "bgcolor": "#E5ECF6",
           "radialaxis": {
            "gridcolor": "white",
            "linecolor": "white",
            "ticks": ""
           }
          },
          "scene": {
           "xaxis": {
            "backgroundcolor": "#E5ECF6",
            "gridcolor": "white",
            "gridwidth": 2,
            "linecolor": "white",
            "showbackground": true,
            "ticks": "",
            "zerolinecolor": "white"
           },
           "yaxis": {
            "backgroundcolor": "#E5ECF6",
            "gridcolor": "white",
            "gridwidth": 2,
            "linecolor": "white",
            "showbackground": true,
            "ticks": "",
            "zerolinecolor": "white"
           },
           "zaxis": {
            "backgroundcolor": "#E5ECF6",
            "gridcolor": "white",
            "gridwidth": 2,
            "linecolor": "white",
            "showbackground": true,
            "ticks": "",
            "zerolinecolor": "white"
           }
          },
          "shapedefaults": {
           "line": {
            "color": "#2a3f5f"
           }
          },
          "ternary": {
           "aaxis": {
            "gridcolor": "white",
            "linecolor": "white",
            "ticks": ""
           },
           "baxis": {
            "gridcolor": "white",
            "linecolor": "white",
            "ticks": ""
           },
           "bgcolor": "#E5ECF6",
           "caxis": {
            "gridcolor": "white",
            "linecolor": "white",
            "ticks": ""
           }
          },
          "title": {
           "x": 0.05
          },
          "xaxis": {
           "automargin": true,
           "gridcolor": "white",
           "linecolor": "white",
           "ticks": "",
           "title": {
            "standoff": 15
           },
           "zerolinecolor": "white",
           "zerolinewidth": 2
          },
          "yaxis": {
           "automargin": true,
           "gridcolor": "white",
           "linecolor": "white",
           "ticks": "",
           "title": {
            "standoff": 15
           },
           "zerolinecolor": "white",
           "zerolinewidth": 2
          }
         }
        },
        "title": {
         "text": "COVID-19 Cases in USA"
        }
       }
      },
      "text/html": [
       "<div>\n",
       "        \n",
       "        \n",
       "            <div id=\"644b5b90-8d89-48a8-8028-fe6bf62c3adb\" class=\"plotly-graph-div\" style=\"height:525px; width:100%;\"></div>\n",
       "            <script type=\"text/javascript\">\n",
       "                require([\"plotly\"], function(Plotly) {\n",
       "                    window.PLOTLYENV=window.PLOTLYENV || {};\n",
       "                    \n",
       "                if (document.getElementById(\"644b5b90-8d89-48a8-8028-fe6bf62c3adb\")) {\n",
       "                    Plotly.newPlot(\n",
       "                        '644b5b90-8d89-48a8-8028-fe6bf62c3adb',\n",
       "                        [{\"colorbar\": {\"title\": {\"text\": \"Confirmed Cases\"}}, \"colorscale\": [[0.0, \"rgb(252, 222, 156)\"], [0.16666666666666666, \"rgb(250, 164, 118)\"], [0.3333333333333333, \"rgb(240, 116, 110)\"], [0.5, \"rgb(227, 79, 111)\"], [0.6666666666666666, \"rgb(220, 57, 119)\"], [0.8333333333333334, \"rgb(185, 37, 122)\"], [1.0, \"rgb(124, 29, 111)\"]], \"locationmode\": \"USA-states\", \"locations\": [\"AL\", \"AK\", \"AS\", \"AZ\", \"AR\", \"CA\", \"CO\", \"CT\", \"DE\", \"DC\", \"FL\", \"GA\", \"GU\", \"HI\", \"ID\", \"IL\", \"IN\", \"IA\", \"KS\", \"KY\", \"LA\", \"ME\", \"MD\", \"MA\", \"MI\", \"MN\", \"MS\", \"MO\", \"MT\", \"NE\", \"NV\", \"NH\", \"NJ\", \"NM\", \"NY\", \"NC\", \"ND\", \"MP\", \"OH\", \"OK\", \"OR\", \"PA\", \"PR\", \"RI\", \"SC\", \"SD\", \"TN\", \"TX\", \"UT\", \"VT\", \"VI\", \"VA\", \"WA\", \"WV\", \"WI\", \"WY\"], \"text\": [\"Alabama\", \"Alaska\", \"American Samoa\", \"Arizona\", \"Arkansas\", \"California\", \"Colorado\", \"Connecticut\", \"Delaware\", \"District of Columbia\", \"Florida\", \"Georgia\", \"Guam\", \"Hawaii\", \"Idaho\", \"Illinois\", \"Indiana\", \"Iowa\", \"Kansas\", \"Kentucky\", \"Louisiana\", \"Maine\", \"Maryland\", \"Massachusetts\", \"Michigan\", \"Minnesota\", \"Mississippi\", \"Missouri\", \"Montana\", \"Nebraska\", \"Nevada\", \"New Hampshire\", \"New Jersey\", \"New Mexico\", \"New York\", \"North Carolina\", \"North Dakota\", \"Northern Mariana Islands\", \"Ohio\", \"Oklahoma\", \"Oregon\", \"Pennsylvania\", \"Puerto Rico\", \"Rhode Island\", \"South Carolina\", \"South Dakota\", \"Tennessee\", \"Texas\", \"Utah\", \"Vermont\", \"Virgin Islands\", \"Virginia\", \"Washington\", \"West Virginia\", \"Wisconsin\", \"Wyoming\"], \"type\": \"choropleth\", \"z\": [6421, 340, 0, 6534, 3001, 43558, 13441, 25269, 4034, 3841, 31532, 23486, 141, 606, 1897, 43903, 15012, 5476, 3277, 4085, 26773, 1015, 18581, 54938, 37778, 3602, 5911, 7120, 448, 3030, 4734, 1864, 109038, 2726, 288045, 8997, 867, 14, 15972, 3254, 2311, 42616, 1371, 7439, 5498, 2212, 9667, 24967, 4123, 851, 57, 12970, 13521, 1055, 5912, 502]}],\n",
       "                        {\"geo\": {\"scope\": \"usa\"}, \"template\": {\"data\": {\"bar\": [{\"error_x\": {\"color\": \"#2a3f5f\"}, \"error_y\": {\"color\": \"#2a3f5f\"}, \"marker\": {\"line\": {\"color\": \"#E5ECF6\", \"width\": 0.5}}, \"type\": \"bar\"}], \"barpolar\": [{\"marker\": {\"line\": {\"color\": \"#E5ECF6\", \"width\": 0.5}}, \"type\": \"barpolar\"}], \"carpet\": [{\"aaxis\": {\"endlinecolor\": \"#2a3f5f\", \"gridcolor\": \"white\", \"linecolor\": \"white\", \"minorgridcolor\": \"white\", \"startlinecolor\": \"#2a3f5f\"}, \"baxis\": {\"endlinecolor\": \"#2a3f5f\", \"gridcolor\": \"white\", \"linecolor\": \"white\", \"minorgridcolor\": \"white\", \"startlinecolor\": \"#2a3f5f\"}, \"type\": \"carpet\"}], \"choropleth\": [{\"colorbar\": {\"outlinewidth\": 0, \"ticks\": \"\"}, \"type\": \"choropleth\"}], \"contour\": [{\"colorbar\": {\"outlinewidth\": 0, \"ticks\": \"\"}, \"colorscale\": [[0.0, \"#0d0887\"], [0.1111111111111111, \"#46039f\"], [0.2222222222222222, \"#7201a8\"], [0.3333333333333333, \"#9c179e\"], [0.4444444444444444, \"#bd3786\"], [0.5555555555555556, \"#d8576b\"], [0.6666666666666666, \"#ed7953\"], [0.7777777777777778, \"#fb9f3a\"], [0.8888888888888888, \"#fdca26\"], [1.0, \"#f0f921\"]], \"type\": \"contour\"}], \"contourcarpet\": [{\"colorbar\": {\"outlinewidth\": 0, \"ticks\": \"\"}, \"type\": \"contourcarpet\"}], \"heatmap\": [{\"colorbar\": {\"outlinewidth\": 0, \"ticks\": \"\"}, \"colorscale\": [[0.0, \"#0d0887\"], [0.1111111111111111, \"#46039f\"], [0.2222222222222222, \"#7201a8\"], [0.3333333333333333, \"#9c179e\"], [0.4444444444444444, \"#bd3786\"], [0.5555555555555556, \"#d8576b\"], [0.6666666666666666, \"#ed7953\"], [0.7777777777777778, \"#fb9f3a\"], [0.8888888888888888, \"#fdca26\"], [1.0, \"#f0f921\"]], \"type\": \"heatmap\"}], \"heatmapgl\": [{\"colorbar\": {\"outlinewidth\": 0, \"ticks\": \"\"}, \"colorscale\": [[0.0, \"#0d0887\"], [0.1111111111111111, \"#46039f\"], [0.2222222222222222, \"#7201a8\"], [0.3333333333333333, \"#9c179e\"], [0.4444444444444444, \"#bd3786\"], [0.5555555555555556, \"#d8576b\"], [0.6666666666666666, \"#ed7953\"], [0.7777777777777778, \"#fb9f3a\"], [0.8888888888888888, \"#fdca26\"], [1.0, \"#f0f921\"]], \"type\": \"heatmapgl\"}], \"histogram\": [{\"marker\": {\"colorbar\": {\"outlinewidth\": 0, \"ticks\": \"\"}}, \"type\": \"histogram\"}], \"histogram2d\": [{\"colorbar\": {\"outlinewidth\": 0, \"ticks\": \"\"}, \"colorscale\": [[0.0, \"#0d0887\"], [0.1111111111111111, \"#46039f\"], [0.2222222222222222, \"#7201a8\"], [0.3333333333333333, \"#9c179e\"], [0.4444444444444444, \"#bd3786\"], [0.5555555555555556, \"#d8576b\"], [0.6666666666666666, \"#ed7953\"], [0.7777777777777778, \"#fb9f3a\"], [0.8888888888888888, \"#fdca26\"], [1.0, \"#f0f921\"]], \"type\": \"histogram2d\"}], \"histogram2dcontour\": [{\"colorbar\": {\"outlinewidth\": 0, \"ticks\": \"\"}, \"colorscale\": [[0.0, \"#0d0887\"], [0.1111111111111111, \"#46039f\"], [0.2222222222222222, \"#7201a8\"], [0.3333333333333333, \"#9c179e\"], [0.4444444444444444, \"#bd3786\"], [0.5555555555555556, \"#d8576b\"], [0.6666666666666666, \"#ed7953\"], [0.7777777777777778, \"#fb9f3a\"], [0.8888888888888888, \"#fdca26\"], [1.0, \"#f0f921\"]], \"type\": \"histogram2dcontour\"}], \"mesh3d\": [{\"colorbar\": {\"outlinewidth\": 0, \"ticks\": \"\"}, \"type\": \"mesh3d\"}], \"parcoords\": [{\"line\": {\"colorbar\": {\"outlinewidth\": 0, \"ticks\": \"\"}}, \"type\": \"parcoords\"}], \"pie\": [{\"automargin\": true, \"type\": \"pie\"}], \"scatter\": [{\"marker\": {\"colorbar\": {\"outlinewidth\": 0, \"ticks\": \"\"}}, \"type\": \"scatter\"}], \"scatter3d\": [{\"line\": {\"colorbar\": {\"outlinewidth\": 0, \"ticks\": \"\"}}, \"marker\": {\"colorbar\": {\"outlinewidth\": 0, \"ticks\": \"\"}}, \"type\": \"scatter3d\"}], \"scattercarpet\": [{\"marker\": {\"colorbar\": {\"outlinewidth\": 0, \"ticks\": \"\"}}, \"type\": \"scattercarpet\"}], \"scattergeo\": [{\"marker\": {\"colorbar\": {\"outlinewidth\": 0, \"ticks\": \"\"}}, \"type\": \"scattergeo\"}], \"scattergl\": [{\"marker\": {\"colorbar\": {\"outlinewidth\": 0, \"ticks\": \"\"}}, \"type\": \"scattergl\"}], \"scattermapbox\": [{\"marker\": {\"colorbar\": {\"outlinewidth\": 0, \"ticks\": \"\"}}, \"type\": \"scattermapbox\"}], \"scatterpolar\": [{\"marker\": {\"colorbar\": {\"outlinewidth\": 0, \"ticks\": \"\"}}, \"type\": \"scatterpolar\"}], \"scatterpolargl\": [{\"marker\": {\"colorbar\": {\"outlinewidth\": 0, \"ticks\": \"\"}}, \"type\": \"scatterpolargl\"}], \"scatterternary\": [{\"marker\": {\"colorbar\": {\"outlinewidth\": 0, \"ticks\": \"\"}}, \"type\": \"scatterternary\"}], \"surface\": [{\"colorbar\": {\"outlinewidth\": 0, \"ticks\": \"\"}, \"colorscale\": [[0.0, \"#0d0887\"], [0.1111111111111111, \"#46039f\"], [0.2222222222222222, \"#7201a8\"], [0.3333333333333333, \"#9c179e\"], [0.4444444444444444, \"#bd3786\"], [0.5555555555555556, \"#d8576b\"], [0.6666666666666666, \"#ed7953\"], [0.7777777777777778, \"#fb9f3a\"], [0.8888888888888888, \"#fdca26\"], [1.0, \"#f0f921\"]], \"type\": \"surface\"}], \"table\": [{\"cells\": {\"fill\": {\"color\": \"#EBF0F8\"}, \"line\": {\"color\": \"white\"}}, \"header\": {\"fill\": {\"color\": \"#C8D4E3\"}, \"line\": {\"color\": \"white\"}}, \"type\": \"table\"}]}, \"layout\": {\"annotationdefaults\": {\"arrowcolor\": \"#2a3f5f\", \"arrowhead\": 0, \"arrowwidth\": 1}, \"coloraxis\": {\"colorbar\": {\"outlinewidth\": 0, \"ticks\": \"\"}}, \"colorscale\": {\"diverging\": [[0, \"#8e0152\"], [0.1, \"#c51b7d\"], [0.2, \"#de77ae\"], [0.3, \"#f1b6da\"], [0.4, \"#fde0ef\"], [0.5, \"#f7f7f7\"], [0.6, \"#e6f5d0\"], [0.7, \"#b8e186\"], [0.8, \"#7fbc41\"], [0.9, \"#4d9221\"], [1, \"#276419\"]], \"sequential\": [[0.0, \"#0d0887\"], [0.1111111111111111, \"#46039f\"], [0.2222222222222222, \"#7201a8\"], [0.3333333333333333, \"#9c179e\"], [0.4444444444444444, \"#bd3786\"], [0.5555555555555556, \"#d8576b\"], [0.6666666666666666, \"#ed7953\"], [0.7777777777777778, \"#fb9f3a\"], [0.8888888888888888, \"#fdca26\"], [1.0, \"#f0f921\"]], \"sequentialminus\": [[0.0, \"#0d0887\"], [0.1111111111111111, \"#46039f\"], [0.2222222222222222, \"#7201a8\"], [0.3333333333333333, \"#9c179e\"], [0.4444444444444444, \"#bd3786\"], [0.5555555555555556, \"#d8576b\"], [0.6666666666666666, \"#ed7953\"], [0.7777777777777778, \"#fb9f3a\"], [0.8888888888888888, \"#fdca26\"], [1.0, \"#f0f921\"]]}, \"colorway\": [\"#636efa\", \"#EF553B\", \"#00cc96\", \"#ab63fa\", \"#FFA15A\", \"#19d3f3\", \"#FF6692\", \"#B6E880\", \"#FF97FF\", \"#FECB52\"], \"font\": {\"color\": \"#2a3f5f\"}, \"geo\": {\"bgcolor\": \"white\", \"lakecolor\": \"white\", \"landcolor\": \"#E5ECF6\", \"showlakes\": true, \"showland\": true, \"subunitcolor\": \"white\"}, \"hoverlabel\": {\"align\": \"left\"}, \"hovermode\": \"closest\", \"mapbox\": {\"style\": \"light\"}, \"paper_bgcolor\": \"white\", \"plot_bgcolor\": \"#E5ECF6\", \"polar\": {\"angularaxis\": {\"gridcolor\": \"white\", \"linecolor\": \"white\", \"ticks\": \"\"}, \"bgcolor\": \"#E5ECF6\", \"radialaxis\": {\"gridcolor\": \"white\", \"linecolor\": \"white\", \"ticks\": \"\"}}, \"scene\": {\"xaxis\": {\"backgroundcolor\": \"#E5ECF6\", \"gridcolor\": \"white\", \"gridwidth\": 2, \"linecolor\": \"white\", \"showbackground\": true, \"ticks\": \"\", \"zerolinecolor\": \"white\"}, \"yaxis\": {\"backgroundcolor\": \"#E5ECF6\", \"gridcolor\": \"white\", \"gridwidth\": 2, \"linecolor\": \"white\", \"showbackground\": true, \"ticks\": \"\", \"zerolinecolor\": \"white\"}, \"zaxis\": {\"backgroundcolor\": \"#E5ECF6\", \"gridcolor\": \"white\", \"gridwidth\": 2, \"linecolor\": \"white\", \"showbackground\": true, \"ticks\": \"\", \"zerolinecolor\": \"white\"}}, \"shapedefaults\": {\"line\": {\"color\": \"#2a3f5f\"}}, \"ternary\": {\"aaxis\": {\"gridcolor\": \"white\", \"linecolor\": \"white\", \"ticks\": \"\"}, \"baxis\": {\"gridcolor\": \"white\", \"linecolor\": \"white\", \"ticks\": \"\"}, \"bgcolor\": \"#E5ECF6\", \"caxis\": {\"gridcolor\": \"white\", \"linecolor\": \"white\", \"ticks\": \"\"}}, \"title\": {\"x\": 0.05}, \"xaxis\": {\"automargin\": true, \"gridcolor\": \"white\", \"linecolor\": \"white\", \"ticks\": \"\", \"title\": {\"standoff\": 15}, \"zerolinecolor\": \"white\", \"zerolinewidth\": 2}, \"yaxis\": {\"automargin\": true, \"gridcolor\": \"white\", \"linecolor\": \"white\", \"ticks\": \"\", \"title\": {\"standoff\": 15}, \"zerolinecolor\": \"white\", \"zerolinewidth\": 2}}}, \"title\": {\"text\": \"COVID-19 Cases in USA\"}},\n",
       "                        {\"responsive\": true}\n",
       "                    ).then(function(){\n",
       "                            \n",
       "var gd = document.getElementById('644b5b90-8d89-48a8-8028-fe6bf62c3adb');\n",
       "var x = new MutationObserver(function (mutations, observer) {{\n",
       "        var display = window.getComputedStyle(gd).display;\n",
       "        if (!display || display === 'none') {{\n",
       "            console.log([gd, 'removed!']);\n",
       "            Plotly.purge(gd);\n",
       "            observer.disconnect();\n",
       "        }}\n",
       "}});\n",
       "\n",
       "// Listen for the removal of the full notebook cells\n",
       "var notebookContainer = gd.closest('#notebook-container');\n",
       "if (notebookContainer) {{\n",
       "    x.observe(notebookContainer, {childList: true});\n",
       "}}\n",
       "\n",
       "// Listen for the clearing of the current output cell\n",
       "var outputEl = gd.closest('.output');\n",
       "if (outputEl) {{\n",
       "    x.observe(outputEl, {childList: true});\n",
       "}}\n",
       "\n",
       "                        })\n",
       "                };\n",
       "                });\n",
       "            </script>\n",
       "        </div>"
      ]
     },
     "metadata": {},
     "output_type": "display_data"
    }
   ],
   "source": [
    "fig = go.Figure(data=go.Choropleth(\n",
    "    locations=us_abbrev_data['Province_Code'], # Spatial coordinates\n",
    "    z = us_abbrev_data['Cases'].astype(int), # Data to be color-coded\n",
    "    locationmode = 'USA-states', # set of locations match entries in `locations`\n",
    "    colorscale = 'sunsetdark',\n",
    "    text=us_abbrev_data['text'],\n",
    "    colorbar_title = \"Confirmed Cases\",\n",
    "))\n",
    "\n",
    "fig.update_layout(\n",
    "    title_text = 'COVID-19 Cases in USA',\n",
    "    geo_scope='usa', # limite map scope to USA\n",
    ")\n",
    "\n",
    "fig.show()"
   ]
  },
  {
   "cell_type": "markdown",
   "metadata": {},
   "source": [
    "# Description: \n",
    "__Coronavirus disease 2019 (COVID-19)__ is an infectious disease caused by severe acute respiratory syndrome coronavirus 2 (SARS-CoV-2). The disease was first identified in December 2019 in Wuhan, the capital of China's Hubei province, and has since spread globally, resulting in the ongoing 2019–20 coronavirus pandemic. (1) This dataset was shared publicly and is available from many different websites. All the data collected and displayed is made freely available, initially as google sheets and now in a GitHub repository. I've created a similar dashboard using dataset available. It illustrates the location and number of confirmed COVID-19 cases for all affected countries. \n",
    "\n",
    "Initially, you can see a filled graph for cases overtime all over the world as __Figure 1__ . you can select a particular window for looking closely at the graph. There is toggle option and slider on the date lets you select a particular time frame.\n",
    "The world cases are shown with a world map. __Figure 2__ represents a bubble map. Bubble map has Hover and point feature for all the countries in the world map. You can use the Zoom and pan functionality. One can click on the country name to show the bubble for only those particular countries on the right. The larger the bubble, the more number of cases. __Figure 3__ represents a Chorolopeth map. It is a geographical map which shows the variation in the number of cases. It uses different shades from the colour scale range. The above graph represents that the USA has the most number of cases amongst all with the purple shade. Other countries like Spain, Italy, France and Germany also show a large number of cases and thus are coloured in pink.\n",
    "\n",
    "As of 27 April 2020, more than 3 million cases have been reported across 185 countries and territories, resulting in more than 206,000 deaths. More than 865,000 people have recovered. Out of these confirmed cases, the USA is about to hit 1 million confirmed cases. Thus, taking a keen interest in the details, I created a map specifically for the states affected in the USA. __Figure 4__ is an extremely interactive graph and one of the main visualization for looking at the affected states and the increase overtime with a line graph. The graph has date as X-axis and cases in Y-axis.__Figure 5__ shows us the total number of cases in USA overtime in both log and linear fashion which can be chosen from the dropdown menu.For those who have a visual learning style, I have created a choropleth map as __Figure 6__ for states in the USA which has pretty much the same features as figure 2"
   ]
  },
  {
   "cell_type": "markdown",
   "metadata": {},
   "source": [
    "References: \n",
    "\n",
    "    1.https://en.wikipedia.org/wiki/Coronavirus_disease_2019\n",
    "    \n",
    "    2.https://data.world/covid-19-data-resource-hub/covid-19-case-counts/workspace/file?filename=COVID-19+Cases.csv (dataset)\n",
    "    \n",
    "    3.https://github.com/CSSEGISandData/COVID-19\n",
    "    \n",
    "    4.https://github.com/nytimes/covid-19-data (dataset)\n",
    "    \n",
    "    5.https://uiuc-ischool-dataviz.github.io/spring2020/ (class notebooks really helped with basics)\n",
    "    \n",
    "    6.https://ipyleaflet.readthedocs.io/en/latest/api_reference/map.html\n",
    "    "
   ]
  },
  {
   "cell_type": "code",
   "execution_count": null,
   "metadata": {},
   "outputs": [],
   "source": []
  }
 ],
 "metadata": {
  "kernelspec": {
   "display_name": "Python 3",
   "language": "python",
   "name": "python3"
  },
  "language_info": {
   "codemirror_mode": {
    "name": "ipython",
    "version": 3
   },
   "file_extension": ".py",
   "mimetype": "text/x-python",
   "name": "python",
   "nbconvert_exporter": "python",
   "pygments_lexer": "ipython3",
   "version": "3.7.4"
  }
 },
 "nbformat": 4,
 "nbformat_minor": 2
}
