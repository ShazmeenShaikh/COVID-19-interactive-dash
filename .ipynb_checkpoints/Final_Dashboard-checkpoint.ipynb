{
 "cells": [
  {
   "cell_type": "markdown",
   "metadata": {},
   "source": [
    "# COVID-19 Dashboard: Figures for the Pandemic\n"
   ]
  },
  {
   "cell_type": "markdown",
   "metadata": {},
   "source": [
    "# What is COVID-19?\n",
    "__Coronavirus disease 2019 (COVID-19)__ is an infectious disease caused by severe acute respiratory syndrome coronavirus 2 (SARS-CoV-2). The disease was first identified in December 2019 in Wuhan, the capital of China's Hubei province, and has since spread globally, resulting in the ongoing 2019–20 coronavirus pandemic. (1) This dataset was shared publicly and is available from many different websites. All the data collected and displayed is made freely available, initially as google sheets and now in a GitHub repository. I've created a similar dashboard using dataset available. It illustrates the location and number of confirmed COVID-19 cases for all affected countries.\n",
    "\n",
    "In the following notebook, there are various interactive maps and graphs made using sliders, hovering your mouse on, toggle spike lines, drop-down menu and visualization using colour. Each of them requires a widely different kind of coding to be executed. \n",
    "Not all the datasets are coded from scratch, and reference from various websites was used. Reference can include the structure or even a single line from codes.\n",
    "\n",
    "Although starting with world data, I have focused on US dataset within the notebook since it has the highest amount of cases and most information on. I have provided markdowns throughout the notebook for better understanding rather than having it in a single paragraph.\n",
    "\n",
    "# Dataset Description:\n",
    "\n",
    "DATASET SOURCE: https://data.world/covid-19-data-resource-hub/covid-19-case-counts/workspace/file?filename=COVID-19+Cases.csv\n",
    "\n",
    "DATASET LINKS: https://query.data.world/s/tr6q6z7xmck47oiftpnfmyjx6g4qck // https://raw.githubusercontent.com/nytimes/covid-19-data/master/us-states.csv \n",
    "\n",
    "The dataset is constantly updating cases obtained from DataWorld through John Hopkins. It has several attributes like case type: Confirmed cases and reported deaths, number of cases: How many people tested positive for all times, date: Jan 23, 2020 - Present, country region: Provided for all countries, etc. More information can be found on this link: https://data.world/covid-19-data-resource-hub/covid-19-case-counts/workspace/data-dictionary\n",
    "\n",
    "**Dataset gets updated daily as per the links I'm reading the data from**\n",
    "\n",
    "\n",
    "# What do we need to understand? \n",
    "\n",
    "Figures speak louder than words, and Data Visualization is the perfect way to describe the pandemic to you and me. The **aim** of this project is to raise awareness of the COVID-19 situation among every internet user in the simplest way possible. We are looking at various type of images which you can point and click. We can look at the spread of COVID-19 by hovering our mouses on the map. The main visualization(figure 2) can be related to the rest of the visualizations. You can zoom in and out, drag, rotate the map, hover and look for the number of cases in each country, click only on the countries you want to look at from the list of country names on the right. Information on the rest of the visualizations and how to use them can be found below.\n",
    "\n",
    "# What are we looking at?\n",
    "Initially, you can see a filled graph for cases overtime all over the world as __Figure 1__. You can select a particular window for looking closely at the graph. There are toggle option and slider on the date lets you select a particular time frame.\n",
    "The world cases are shown with a world map. __Figure 2__ represents a bubble map. Bubble map has Hover and point feature for all the countries in the world map. You can use the Zoom and pan functionality. One can click on the country name to show the bubble for only those particular countries on the right. The larger the bubble, the more number of cases. __Figure 3__ represents a Chorolopeth map. It is a geographical map which shows the variation in the number of cases. It uses different shades from the colour scale range. The above graph represents that the USA has the most number of cases amongst all with the purple shade. Other countries like Spain, Italy, France and Germany also show a large number of cases and thus are coloured in pink.\n",
    "\n",
    "As of Apr 27 2020, more than 3 million cases have been reported across 185 countries and territories, resulting in more than 206,000 deaths. More than 865,000 people have recovered. Out of these confirmed cases, the USA is about to hit 1 million confirmed cases. Thus, taking a keen interest in the details, I created a map specifically for the states affected in the USA. __Figure 4__ is an extremely interactive graph and one of the main visualizations for looking at the affected states and the increased overtime with a line graph. The graph has the date as X-axis and cases in Y-axis.__Figure 5__ shows us the total number of cases in USA overtime in both log and linear fashion which can be chosen from the drop-down menu. For those who have a visual learning style, I have created a choropleth map as __Figure 6__ for states in the USA which has pretty much the same features as figure 2"
   ]
  },
  {
   "cell_type": "code",
   "execution_count": 1,
   "metadata": {},
   "outputs": [],
   "source": [
    "%matplotlib inline\n",
    "import matplotlib.pyplot as plt\n",
    "import matplotlib.colors as mpl_colors\n",
    "import pandas as pd\n",
    "import numpy as np\n",
    "import ipywidgets\n",
    "import os"
   ]
  },
  {
   "cell_type": "code",
   "execution_count": 2,
   "metadata": {},
   "outputs": [
    {
     "data": {
      "text/html": [
       "        <script type=\"text/javascript\">\n",
       "        window.PlotlyConfig = {MathJaxConfig: 'local'};\n",
       "        if (window.MathJax) {MathJax.Hub.Config({SVG: {font: \"STIX-Web\"}});}\n",
       "        if (typeof require !== 'undefined') {\n",
       "        require.undef(\"plotly\");\n",
       "        requirejs.config({\n",
       "            paths: {\n",
       "                'plotly': ['https://cdn.plot.ly/plotly-latest.min']\n",
       "            }\n",
       "        });\n",
       "        require(['plotly'], function(Plotly) {\n",
       "            window._Plotly = Plotly;\n",
       "        });\n",
       "        }\n",
       "        </script>\n",
       "        "
      ]
     },
     "metadata": {},
     "output_type": "display_data"
    }
   ],
   "source": [
    "from plotly.offline import plot, iplot, init_notebook_mode\n",
    "init_notebook_mode(connected=True)\n",
    "import plotly.express as px\n",
    "import ipywidgets\n",
    "import plotly.offline as py\n",
    "import plotly.graph_objs as go"
   ]
  },
  {
   "cell_type": "code",
   "execution_count": 3,
   "metadata": {},
   "outputs": [],
   "source": [
    "import json\n",
    "from bqplot import Lines, Figure, LinearScale, DateScale, Axis\n",
    "import bqplot.pyplot as bqpl\n",
    "from ipyleaflet import Map, GeoJSON, WidgetControl\n",
    "from pathlib import Path\n",
    "import requests "
   ]
  },
  {
   "cell_type": "code",
   "execution_count": 4,
   "metadata": {},
   "outputs": [
    {
     "name": "stderr",
     "output_type": "stream",
     "text": [
      "/opt/anaconda3/lib/python3.7/site-packages/IPython/core/interactiveshell.py:3058: DtypeWarning:\n",
      "\n",
      "Columns (8) have mixed types. Specify dtype option on import or set low_memory=False.\n",
      "\n"
     ]
    }
   ],
   "source": [
    "dfs = pd.read_csv(\"https://query.data.world/s/tr6q6z7xmck47oiftpnfmyjx6g4qck\",\n",
    "                parse_dates=['Date'])"
   ]
  },
  {
   "cell_type": "code",
   "execution_count": 5,
   "metadata": {},
   "outputs": [
    {
     "data": {
      "text/html": [
       "<div>\n",
       "<style scoped>\n",
       "    .dataframe tbody tr th:only-of-type {\n",
       "        vertical-align: middle;\n",
       "    }\n",
       "\n",
       "    .dataframe tbody tr th {\n",
       "        vertical-align: top;\n",
       "    }\n",
       "\n",
       "    .dataframe thead th {\n",
       "        text-align: right;\n",
       "    }\n",
       "</style>\n",
       "<table border=\"1\" class=\"dataframe\">\n",
       "  <thead>\n",
       "    <tr style=\"text-align: right;\">\n",
       "      <th></th>\n",
       "      <th>Case_Type</th>\n",
       "      <th>People_Total_Tested_Count</th>\n",
       "      <th>Cases</th>\n",
       "      <th>Difference</th>\n",
       "      <th>Date</th>\n",
       "      <th>Combined_Key</th>\n",
       "      <th>Country_Region</th>\n",
       "      <th>Province_State</th>\n",
       "      <th>Admin2</th>\n",
       "      <th>iso2</th>\n",
       "      <th>iso3</th>\n",
       "      <th>FIPS</th>\n",
       "      <th>Lat</th>\n",
       "      <th>Long</th>\n",
       "      <th>Population_Count</th>\n",
       "      <th>People_Hospitalized_Cumulative_Count</th>\n",
       "      <th>Data_Source</th>\n",
       "      <th>Prep_Flow_Runtime</th>\n",
       "    </tr>\n",
       "  </thead>\n",
       "  <tbody>\n",
       "    <tr>\n",
       "      <td>0</td>\n",
       "      <td>Confirmed</td>\n",
       "      <td>NaN</td>\n",
       "      <td>0</td>\n",
       "      <td>0</td>\n",
       "      <td>2020-02-03</td>\n",
       "      <td>Switzerland</td>\n",
       "      <td>Switzerland</td>\n",
       "      <td>NaN</td>\n",
       "      <td>NaN</td>\n",
       "      <td>CH</td>\n",
       "      <td>CHE</td>\n",
       "      <td>NaN</td>\n",
       "      <td>46.8182</td>\n",
       "      <td>8.2275</td>\n",
       "      <td>8654618.0</td>\n",
       "      <td>NaN</td>\n",
       "      <td>2019 Novel Coronavirus COVID-19 (2019-nCoV) Da...</td>\n",
       "      <td>5/2/2020 11:35:41 PM</td>\n",
       "    </tr>\n",
       "    <tr>\n",
       "      <td>1</td>\n",
       "      <td>Deaths</td>\n",
       "      <td>NaN</td>\n",
       "      <td>0</td>\n",
       "      <td>0</td>\n",
       "      <td>2020-03-01</td>\n",
       "      <td>Cyprus</td>\n",
       "      <td>Cyprus</td>\n",
       "      <td>NaN</td>\n",
       "      <td>NaN</td>\n",
       "      <td>CY</td>\n",
       "      <td>CYP</td>\n",
       "      <td>NaN</td>\n",
       "      <td>35.1264</td>\n",
       "      <td>33.4299</td>\n",
       "      <td>1207361.0</td>\n",
       "      <td>NaN</td>\n",
       "      <td>2019 Novel Coronavirus COVID-19 (2019-nCoV) Da...</td>\n",
       "      <td>5/2/2020 11:35:41 PM</td>\n",
       "    </tr>\n",
       "    <tr>\n",
       "      <td>2</td>\n",
       "      <td>Confirmed</td>\n",
       "      <td>NaN</td>\n",
       "      <td>23</td>\n",
       "      <td>0</td>\n",
       "      <td>2020-04-21</td>\n",
       "      <td>Antigua and Barbuda</td>\n",
       "      <td>Antigua and Barbuda</td>\n",
       "      <td>NaN</td>\n",
       "      <td>NaN</td>\n",
       "      <td>AG</td>\n",
       "      <td>ATG</td>\n",
       "      <td>NaN</td>\n",
       "      <td>17.0608</td>\n",
       "      <td>-61.7964</td>\n",
       "      <td>97928.0</td>\n",
       "      <td>NaN</td>\n",
       "      <td>2019 Novel Coronavirus COVID-19 (2019-nCoV) Da...</td>\n",
       "      <td>5/2/2020 11:35:41 PM</td>\n",
       "    </tr>\n",
       "    <tr>\n",
       "      <td>3</td>\n",
       "      <td>Deaths</td>\n",
       "      <td>NaN</td>\n",
       "      <td>0</td>\n",
       "      <td>0</td>\n",
       "      <td>2020-02-11</td>\n",
       "      <td>Jamaica</td>\n",
       "      <td>Jamaica</td>\n",
       "      <td>NaN</td>\n",
       "      <td>NaN</td>\n",
       "      <td>JM</td>\n",
       "      <td>JAM</td>\n",
       "      <td>NaN</td>\n",
       "      <td>18.1096</td>\n",
       "      <td>-77.2975</td>\n",
       "      <td>2961161.0</td>\n",
       "      <td>NaN</td>\n",
       "      <td>2019 Novel Coronavirus COVID-19 (2019-nCoV) Da...</td>\n",
       "      <td>5/2/2020 11:35:41 PM</td>\n",
       "    </tr>\n",
       "    <tr>\n",
       "      <td>4</td>\n",
       "      <td>Confirmed</td>\n",
       "      <td>NaN</td>\n",
       "      <td>0</td>\n",
       "      <td>0</td>\n",
       "      <td>2020-02-06</td>\n",
       "      <td>Belize</td>\n",
       "      <td>Belize</td>\n",
       "      <td>NaN</td>\n",
       "      <td>NaN</td>\n",
       "      <td>BZ</td>\n",
       "      <td>BLZ</td>\n",
       "      <td>NaN</td>\n",
       "      <td>17.1899</td>\n",
       "      <td>-88.4976</td>\n",
       "      <td>397621.0</td>\n",
       "      <td>NaN</td>\n",
       "      <td>2019 Novel Coronavirus COVID-19 (2019-nCoV) Da...</td>\n",
       "      <td>5/2/2020 11:35:41 PM</td>\n",
       "    </tr>\n",
       "  </tbody>\n",
       "</table>\n",
       "</div>"
      ],
      "text/plain": [
       "   Case_Type  People_Total_Tested_Count  Cases  Difference       Date  \\\n",
       "0  Confirmed                        NaN      0           0 2020-02-03   \n",
       "1     Deaths                        NaN      0           0 2020-03-01   \n",
       "2  Confirmed                        NaN     23           0 2020-04-21   \n",
       "3     Deaths                        NaN      0           0 2020-02-11   \n",
       "4  Confirmed                        NaN      0           0 2020-02-06   \n",
       "\n",
       "          Combined_Key       Country_Region Province_State Admin2 iso2 iso3  \\\n",
       "0          Switzerland          Switzerland            NaN    NaN   CH  CHE   \n",
       "1               Cyprus               Cyprus            NaN    NaN   CY  CYP   \n",
       "2  Antigua and Barbuda  Antigua and Barbuda            NaN    NaN   AG  ATG   \n",
       "3              Jamaica              Jamaica            NaN    NaN   JM  JAM   \n",
       "4               Belize               Belize            NaN    NaN   BZ  BLZ   \n",
       "\n",
       "   FIPS      Lat     Long  Population_Count  \\\n",
       "0   NaN  46.8182   8.2275         8654618.0   \n",
       "1   NaN  35.1264  33.4299         1207361.0   \n",
       "2   NaN  17.0608 -61.7964           97928.0   \n",
       "3   NaN  18.1096 -77.2975         2961161.0   \n",
       "4   NaN  17.1899 -88.4976          397621.0   \n",
       "\n",
       "   People_Hospitalized_Cumulative_Count  \\\n",
       "0                                   NaN   \n",
       "1                                   NaN   \n",
       "2                                   NaN   \n",
       "3                                   NaN   \n",
       "4                                   NaN   \n",
       "\n",
       "                                         Data_Source     Prep_Flow_Runtime  \n",
       "0  2019 Novel Coronavirus COVID-19 (2019-nCoV) Da...  5/2/2020 11:35:41 PM  \n",
       "1  2019 Novel Coronavirus COVID-19 (2019-nCoV) Da...  5/2/2020 11:35:41 PM  \n",
       "2  2019 Novel Coronavirus COVID-19 (2019-nCoV) Da...  5/2/2020 11:35:41 PM  \n",
       "3  2019 Novel Coronavirus COVID-19 (2019-nCoV) Da...  5/2/2020 11:35:41 PM  \n",
       "4  2019 Novel Coronavirus COVID-19 (2019-nCoV) Da...  5/2/2020 11:35:41 PM  "
      ]
     },
     "execution_count": 5,
     "metadata": {},
     "output_type": "execute_result"
    }
   ],
   "source": [
    "dfs.head()"
   ]
  },
  {
   "cell_type": "code",
   "execution_count": 6,
   "metadata": {
    "scrolled": true
   },
   "outputs": [
    {
     "data": {
      "text/html": [
       "<div>\n",
       "<style scoped>\n",
       "    .dataframe tbody tr th:only-of-type {\n",
       "        vertical-align: middle;\n",
       "    }\n",
       "\n",
       "    .dataframe tbody tr th {\n",
       "        vertical-align: top;\n",
       "    }\n",
       "\n",
       "    .dataframe thead th {\n",
       "        text-align: right;\n",
       "    }\n",
       "</style>\n",
       "<table border=\"1\" class=\"dataframe\">\n",
       "  <thead>\n",
       "    <tr style=\"text-align: right;\">\n",
       "      <th></th>\n",
       "      <th>country</th>\n",
       "      <th>continent</th>\n",
       "      <th>year</th>\n",
       "      <th>lifeExp</th>\n",
       "      <th>pop</th>\n",
       "      <th>gdpPercap</th>\n",
       "      <th>iso_alpha</th>\n",
       "      <th>iso_num</th>\n",
       "    </tr>\n",
       "  </thead>\n",
       "  <tbody>\n",
       "    <tr>\n",
       "      <td>11</td>\n",
       "      <td>Afghanistan</td>\n",
       "      <td>Asia</td>\n",
       "      <td>2007</td>\n",
       "      <td>43.828</td>\n",
       "      <td>31889923</td>\n",
       "      <td>974.580338</td>\n",
       "      <td>AFG</td>\n",
       "      <td>4</td>\n",
       "    </tr>\n",
       "    <tr>\n",
       "      <td>23</td>\n",
       "      <td>Albania</td>\n",
       "      <td>Europe</td>\n",
       "      <td>2007</td>\n",
       "      <td>76.423</td>\n",
       "      <td>3600523</td>\n",
       "      <td>5937.029526</td>\n",
       "      <td>ALB</td>\n",
       "      <td>8</td>\n",
       "    </tr>\n",
       "    <tr>\n",
       "      <td>35</td>\n",
       "      <td>Algeria</td>\n",
       "      <td>Africa</td>\n",
       "      <td>2007</td>\n",
       "      <td>72.301</td>\n",
       "      <td>33333216</td>\n",
       "      <td>6223.367465</td>\n",
       "      <td>DZA</td>\n",
       "      <td>12</td>\n",
       "    </tr>\n",
       "    <tr>\n",
       "      <td>47</td>\n",
       "      <td>Angola</td>\n",
       "      <td>Africa</td>\n",
       "      <td>2007</td>\n",
       "      <td>42.731</td>\n",
       "      <td>12420476</td>\n",
       "      <td>4797.231267</td>\n",
       "      <td>AGO</td>\n",
       "      <td>24</td>\n",
       "    </tr>\n",
       "    <tr>\n",
       "      <td>59</td>\n",
       "      <td>Argentina</td>\n",
       "      <td>Americas</td>\n",
       "      <td>2007</td>\n",
       "      <td>75.320</td>\n",
       "      <td>40301927</td>\n",
       "      <td>12779.379640</td>\n",
       "      <td>ARG</td>\n",
       "      <td>32</td>\n",
       "    </tr>\n",
       "  </tbody>\n",
       "</table>\n",
       "</div>"
      ],
      "text/plain": [
       "        country continent  year  lifeExp       pop     gdpPercap iso_alpha  \\\n",
       "11  Afghanistan      Asia  2007   43.828  31889923    974.580338       AFG   \n",
       "23      Albania    Europe  2007   76.423   3600523   5937.029526       ALB   \n",
       "35      Algeria    Africa  2007   72.301  33333216   6223.367465       DZA   \n",
       "47       Angola    Africa  2007   42.731  12420476   4797.231267       AGO   \n",
       "59    Argentina  Americas  2007   75.320  40301927  12779.379640       ARG   \n",
       "\n",
       "    iso_num  \n",
       "11        4  \n",
       "23        8  \n",
       "35       12  \n",
       "47       24  \n",
       "59       32  "
      ]
     },
     "execution_count": 6,
     "metadata": {},
     "output_type": "execute_result"
    }
   ],
   "source": [
    "sample = px.data.gapminder().query(\"year==2007\")\n",
    "sample.head()"
   ]
  },
  {
   "cell_type": "code",
   "execution_count": 7,
   "metadata": {},
   "outputs": [],
   "source": [
    "sample.replace(to_replace =\"United States\", value =\"US\",inplace = True) \n",
    "#Had to replace United States with US in order to match both the dataset."
   ]
  },
  {
   "cell_type": "code",
   "execution_count": 8,
   "metadata": {},
   "outputs": [
    {
     "data": {
      "text/html": [
       "<div>\n",
       "<style scoped>\n",
       "    .dataframe tbody tr th:only-of-type {\n",
       "        vertical-align: middle;\n",
       "    }\n",
       "\n",
       "    .dataframe tbody tr th {\n",
       "        vertical-align: top;\n",
       "    }\n",
       "\n",
       "    .dataframe thead th {\n",
       "        text-align: right;\n",
       "    }\n",
       "</style>\n",
       "<table border=\"1\" class=\"dataframe\">\n",
       "  <thead>\n",
       "    <tr style=\"text-align: right;\">\n",
       "      <th></th>\n",
       "      <th>country</th>\n",
       "      <th>iso_alpha</th>\n",
       "    </tr>\n",
       "  </thead>\n",
       "  <tbody>\n",
       "    <tr>\n",
       "      <td>11</td>\n",
       "      <td>Afghanistan</td>\n",
       "      <td>AFG</td>\n",
       "    </tr>\n",
       "    <tr>\n",
       "      <td>23</td>\n",
       "      <td>Albania</td>\n",
       "      <td>ALB</td>\n",
       "    </tr>\n",
       "    <tr>\n",
       "      <td>35</td>\n",
       "      <td>Algeria</td>\n",
       "      <td>DZA</td>\n",
       "    </tr>\n",
       "    <tr>\n",
       "      <td>47</td>\n",
       "      <td>Angola</td>\n",
       "      <td>AGO</td>\n",
       "    </tr>\n",
       "    <tr>\n",
       "      <td>59</td>\n",
       "      <td>Argentina</td>\n",
       "      <td>ARG</td>\n",
       "    </tr>\n",
       "  </tbody>\n",
       "</table>\n",
       "</div>"
      ],
      "text/plain": [
       "        country iso_alpha\n",
       "11  Afghanistan       AFG\n",
       "23      Albania       ALB\n",
       "35      Algeria       DZA\n",
       "47       Angola       AGO\n",
       "59    Argentina       ARG"
      ]
     },
     "execution_count": 8,
     "metadata": {},
     "output_type": "execute_result"
    }
   ],
   "source": [
    "#extracted 2 required column from sample dataset\n",
    "temp = sample[['country', 'iso_alpha']]\n",
    "temp.head()"
   ]
  },
  {
   "cell_type": "code",
   "execution_count": 9,
   "metadata": {},
   "outputs": [
    {
     "data": {
      "text/html": [
       "<div>\n",
       "<style scoped>\n",
       "    .dataframe tbody tr th:only-of-type {\n",
       "        vertical-align: middle;\n",
       "    }\n",
       "\n",
       "    .dataframe tbody tr th {\n",
       "        vertical-align: top;\n",
       "    }\n",
       "\n",
       "    .dataframe thead th {\n",
       "        text-align: right;\n",
       "    }\n",
       "</style>\n",
       "<table border=\"1\" class=\"dataframe\">\n",
       "  <thead>\n",
       "    <tr style=\"text-align: right;\">\n",
       "      <th></th>\n",
       "      <th>country</th>\n",
       "      <th>iso_alpha</th>\n",
       "    </tr>\n",
       "  </thead>\n",
       "  <tbody>\n",
       "    <tr>\n",
       "      <td>0</td>\n",
       "      <td>Russia</td>\n",
       "      <td>RUS</td>\n",
       "    </tr>\n",
       "    <tr>\n",
       "      <td>11</td>\n",
       "      <td>Afghanistan</td>\n",
       "      <td>AFG</td>\n",
       "    </tr>\n",
       "    <tr>\n",
       "      <td>23</td>\n",
       "      <td>Albania</td>\n",
       "      <td>ALB</td>\n",
       "    </tr>\n",
       "    <tr>\n",
       "      <td>35</td>\n",
       "      <td>Algeria</td>\n",
       "      <td>DZA</td>\n",
       "    </tr>\n",
       "    <tr>\n",
       "      <td>47</td>\n",
       "      <td>Angola</td>\n",
       "      <td>AGO</td>\n",
       "    </tr>\n",
       "    <tr>\n",
       "      <td>...</td>\n",
       "      <td>...</td>\n",
       "      <td>...</td>\n",
       "    </tr>\n",
       "    <tr>\n",
       "      <td>1655</td>\n",
       "      <td>Vietnam</td>\n",
       "      <td>VNM</td>\n",
       "    </tr>\n",
       "    <tr>\n",
       "      <td>1667</td>\n",
       "      <td>West Bank and Gaza</td>\n",
       "      <td>PSE</td>\n",
       "    </tr>\n",
       "    <tr>\n",
       "      <td>1679</td>\n",
       "      <td>Yemen, Rep.</td>\n",
       "      <td>YEM</td>\n",
       "    </tr>\n",
       "    <tr>\n",
       "      <td>1691</td>\n",
       "      <td>Zambia</td>\n",
       "      <td>ZMB</td>\n",
       "    </tr>\n",
       "    <tr>\n",
       "      <td>1703</td>\n",
       "      <td>Zimbabwe</td>\n",
       "      <td>ZWE</td>\n",
       "    </tr>\n",
       "  </tbody>\n",
       "</table>\n",
       "<p>143 rows × 2 columns</p>\n",
       "</div>"
      ],
      "text/plain": [
       "                 country iso_alpha\n",
       "0                 Russia       RUS\n",
       "11           Afghanistan       AFG\n",
       "23               Albania       ALB\n",
       "35               Algeria       DZA\n",
       "47                Angola       AGO\n",
       "...                  ...       ...\n",
       "1655             Vietnam       VNM\n",
       "1667  West Bank and Gaza       PSE\n",
       "1679         Yemen, Rep.       YEM\n",
       "1691              Zambia       ZMB\n",
       "1703            Zimbabwe       ZWE\n",
       "\n",
       "[143 rows x 2 columns]"
      ]
     },
     "execution_count": 9,
     "metadata": {},
     "output_type": "execute_result"
    }
   ],
   "source": [
    "#There was no row for russia and thus I had to create a row in the final dataset\n",
    "df2 = pd.DataFrame([['Russia','RUS']], columns=['country','iso_alpha'])\n",
    "pd.concat([df2,temp])"
   ]
  },
  {
   "cell_type": "code",
   "execution_count": 10,
   "metadata": {},
   "outputs": [
    {
     "data": {
      "text/html": [
       "<div>\n",
       "<style scoped>\n",
       "    .dataframe tbody tr th:only-of-type {\n",
       "        vertical-align: middle;\n",
       "    }\n",
       "\n",
       "    .dataframe tbody tr th {\n",
       "        vertical-align: top;\n",
       "    }\n",
       "\n",
       "    .dataframe thead th {\n",
       "        text-align: right;\n",
       "    }\n",
       "</style>\n",
       "<table border=\"1\" class=\"dataframe\">\n",
       "  <thead>\n",
       "    <tr style=\"text-align: right;\">\n",
       "      <th></th>\n",
       "      <th>Case_Type</th>\n",
       "      <th>People_Total_Tested_Count</th>\n",
       "      <th>Cases</th>\n",
       "      <th>Difference</th>\n",
       "      <th>Date</th>\n",
       "      <th>Combined_Key</th>\n",
       "      <th>Country_Region</th>\n",
       "      <th>Province_State</th>\n",
       "      <th>Admin2</th>\n",
       "      <th>iso2</th>\n",
       "      <th>iso3</th>\n",
       "      <th>FIPS</th>\n",
       "      <th>Lat</th>\n",
       "      <th>Long</th>\n",
       "      <th>Population_Count</th>\n",
       "      <th>People_Hospitalized_Cumulative_Count</th>\n",
       "      <th>Data_Source</th>\n",
       "      <th>Prep_Flow_Runtime</th>\n",
       "      <th>country</th>\n",
       "      <th>iso_alpha</th>\n",
       "    </tr>\n",
       "  </thead>\n",
       "  <tbody>\n",
       "    <tr>\n",
       "      <td>0</td>\n",
       "      <td>Confirmed</td>\n",
       "      <td>NaN</td>\n",
       "      <td>0</td>\n",
       "      <td>0</td>\n",
       "      <td>2020-02-03</td>\n",
       "      <td>Switzerland</td>\n",
       "      <td>Switzerland</td>\n",
       "      <td>NaN</td>\n",
       "      <td>NaN</td>\n",
       "      <td>CH</td>\n",
       "      <td>CHE</td>\n",
       "      <td>NaN</td>\n",
       "      <td>46.8182</td>\n",
       "      <td>8.2275</td>\n",
       "      <td>8654618.0</td>\n",
       "      <td>NaN</td>\n",
       "      <td>2019 Novel Coronavirus COVID-19 (2019-nCoV) Da...</td>\n",
       "      <td>5/2/2020 11:35:41 PM</td>\n",
       "      <td>Switzerland</td>\n",
       "      <td>CHE</td>\n",
       "    </tr>\n",
       "    <tr>\n",
       "      <td>1</td>\n",
       "      <td>Deaths</td>\n",
       "      <td>NaN</td>\n",
       "      <td>1106</td>\n",
       "      <td>70</td>\n",
       "      <td>2020-04-12</td>\n",
       "      <td>Switzerland</td>\n",
       "      <td>Switzerland</td>\n",
       "      <td>NaN</td>\n",
       "      <td>NaN</td>\n",
       "      <td>CH</td>\n",
       "      <td>CHE</td>\n",
       "      <td>NaN</td>\n",
       "      <td>46.8182</td>\n",
       "      <td>8.2275</td>\n",
       "      <td>8654618.0</td>\n",
       "      <td>NaN</td>\n",
       "      <td>2019 Novel Coronavirus COVID-19 (2019-nCoV) Da...</td>\n",
       "      <td>5/2/2020 11:35:41 PM</td>\n",
       "      <td>Switzerland</td>\n",
       "      <td>CHE</td>\n",
       "    </tr>\n",
       "    <tr>\n",
       "      <td>2</td>\n",
       "      <td>Confirmed</td>\n",
       "      <td>NaN</td>\n",
       "      <td>18</td>\n",
       "      <td>10</td>\n",
       "      <td>2020-02-29</td>\n",
       "      <td>Switzerland</td>\n",
       "      <td>Switzerland</td>\n",
       "      <td>NaN</td>\n",
       "      <td>NaN</td>\n",
       "      <td>CH</td>\n",
       "      <td>CHE</td>\n",
       "      <td>NaN</td>\n",
       "      <td>46.8182</td>\n",
       "      <td>8.2275</td>\n",
       "      <td>8654618.0</td>\n",
       "      <td>NaN</td>\n",
       "      <td>2019 Novel Coronavirus COVID-19 (2019-nCoV) Da...</td>\n",
       "      <td>5/2/2020 11:35:41 PM</td>\n",
       "      <td>Switzerland</td>\n",
       "      <td>CHE</td>\n",
       "    </tr>\n",
       "    <tr>\n",
       "      <td>3</td>\n",
       "      <td>Confirmed</td>\n",
       "      <td>NaN</td>\n",
       "      <td>214</td>\n",
       "      <td>100</td>\n",
       "      <td>2020-03-06</td>\n",
       "      <td>Switzerland</td>\n",
       "      <td>Switzerland</td>\n",
       "      <td>NaN</td>\n",
       "      <td>NaN</td>\n",
       "      <td>CH</td>\n",
       "      <td>CHE</td>\n",
       "      <td>NaN</td>\n",
       "      <td>46.8182</td>\n",
       "      <td>8.2275</td>\n",
       "      <td>8654618.0</td>\n",
       "      <td>NaN</td>\n",
       "      <td>2019 Novel Coronavirus COVID-19 (2019-nCoV) Da...</td>\n",
       "      <td>5/2/2020 11:35:41 PM</td>\n",
       "      <td>Switzerland</td>\n",
       "      <td>CHE</td>\n",
       "    </tr>\n",
       "    <tr>\n",
       "      <td>4</td>\n",
       "      <td>Deaths</td>\n",
       "      <td>NaN</td>\n",
       "      <td>0</td>\n",
       "      <td>0</td>\n",
       "      <td>2020-02-16</td>\n",
       "      <td>Switzerland</td>\n",
       "      <td>Switzerland</td>\n",
       "      <td>NaN</td>\n",
       "      <td>NaN</td>\n",
       "      <td>CH</td>\n",
       "      <td>CHE</td>\n",
       "      <td>NaN</td>\n",
       "      <td>46.8182</td>\n",
       "      <td>8.2275</td>\n",
       "      <td>8654618.0</td>\n",
       "      <td>NaN</td>\n",
       "      <td>2019 Novel Coronavirus COVID-19 (2019-nCoV) Da...</td>\n",
       "      <td>5/2/2020 11:35:41 PM</td>\n",
       "      <td>Switzerland</td>\n",
       "      <td>CHE</td>\n",
       "    </tr>\n",
       "  </tbody>\n",
       "</table>\n",
       "</div>"
      ],
      "text/plain": [
       "   Case_Type  People_Total_Tested_Count  Cases  Difference       Date  \\\n",
       "0  Confirmed                        NaN      0           0 2020-02-03   \n",
       "1     Deaths                        NaN   1106          70 2020-04-12   \n",
       "2  Confirmed                        NaN     18          10 2020-02-29   \n",
       "3  Confirmed                        NaN    214         100 2020-03-06   \n",
       "4     Deaths                        NaN      0           0 2020-02-16   \n",
       "\n",
       "  Combined_Key Country_Region Province_State Admin2 iso2 iso3  FIPS      Lat  \\\n",
       "0  Switzerland    Switzerland            NaN    NaN   CH  CHE   NaN  46.8182   \n",
       "1  Switzerland    Switzerland            NaN    NaN   CH  CHE   NaN  46.8182   \n",
       "2  Switzerland    Switzerland            NaN    NaN   CH  CHE   NaN  46.8182   \n",
       "3  Switzerland    Switzerland            NaN    NaN   CH  CHE   NaN  46.8182   \n",
       "4  Switzerland    Switzerland            NaN    NaN   CH  CHE   NaN  46.8182   \n",
       "\n",
       "     Long  Population_Count  People_Hospitalized_Cumulative_Count  \\\n",
       "0  8.2275         8654618.0                                   NaN   \n",
       "1  8.2275         8654618.0                                   NaN   \n",
       "2  8.2275         8654618.0                                   NaN   \n",
       "3  8.2275         8654618.0                                   NaN   \n",
       "4  8.2275         8654618.0                                   NaN   \n",
       "\n",
       "                                         Data_Source     Prep_Flow_Runtime  \\\n",
       "0  2019 Novel Coronavirus COVID-19 (2019-nCoV) Da...  5/2/2020 11:35:41 PM   \n",
       "1  2019 Novel Coronavirus COVID-19 (2019-nCoV) Da...  5/2/2020 11:35:41 PM   \n",
       "2  2019 Novel Coronavirus COVID-19 (2019-nCoV) Da...  5/2/2020 11:35:41 PM   \n",
       "3  2019 Novel Coronavirus COVID-19 (2019-nCoV) Da...  5/2/2020 11:35:41 PM   \n",
       "4  2019 Novel Coronavirus COVID-19 (2019-nCoV) Da...  5/2/2020 11:35:41 PM   \n",
       "\n",
       "       country iso_alpha  \n",
       "0  Switzerland       CHE  \n",
       "1  Switzerland       CHE  \n",
       "2  Switzerland       CHE  \n",
       "3  Switzerland       CHE  \n",
       "4  Switzerland       CHE  "
      ]
     },
     "execution_count": 10,
     "metadata": {},
     "output_type": "execute_result"
    }
   ],
   "source": [
    "#merged both the datset\n",
    "df = pd.merge(dfs, temp, left_on='Country_Region', right_on='country')\n",
    "df.head()"
   ]
  },
  {
   "cell_type": "code",
   "execution_count": 11,
   "metadata": {},
   "outputs": [],
   "source": [
    "#pip install plotly==4.6.0"
   ]
  },
  {
   "cell_type": "markdown",
   "metadata": {},
   "source": [
    "We will sort the cases based on date and display it using an interactive dashboard where we can view cases for a particular window frame."
   ]
  },
  {
   "cell_type": "code",
   "execution_count": 12,
   "metadata": {},
   "outputs": [
    {
     "data": {
      "text/html": [
       "<div>\n",
       "<style scoped>\n",
       "    .dataframe tbody tr th:only-of-type {\n",
       "        vertical-align: middle;\n",
       "    }\n",
       "\n",
       "    .dataframe tbody tr th {\n",
       "        vertical-align: top;\n",
       "    }\n",
       "\n",
       "    .dataframe thead th {\n",
       "        text-align: right;\n",
       "    }\n",
       "</style>\n",
       "<table border=\"1\" class=\"dataframe\">\n",
       "  <thead>\n",
       "    <tr style=\"text-align: right;\">\n",
       "      <th></th>\n",
       "      <th>Date</th>\n",
       "      <th>Case</th>\n",
       "      <th>Count</th>\n",
       "    </tr>\n",
       "  </thead>\n",
       "  <tbody>\n",
       "    <tr>\n",
       "      <td>0</td>\n",
       "      <td>2020-01-22</td>\n",
       "      <td>Cases</td>\n",
       "      <td>570</td>\n",
       "    </tr>\n",
       "    <tr>\n",
       "      <td>1</td>\n",
       "      <td>2020-01-23</td>\n",
       "      <td>Cases</td>\n",
       "      <td>670</td>\n",
       "    </tr>\n",
       "    <tr>\n",
       "      <td>2</td>\n",
       "      <td>2020-01-24</td>\n",
       "      <td>Cases</td>\n",
       "      <td>962</td>\n",
       "    </tr>\n",
       "    <tr>\n",
       "      <td>3</td>\n",
       "      <td>2020-01-25</td>\n",
       "      <td>Cases</td>\n",
       "      <td>1471</td>\n",
       "    </tr>\n",
       "    <tr>\n",
       "      <td>4</td>\n",
       "      <td>2020-01-26</td>\n",
       "      <td>Cases</td>\n",
       "      <td>2167</td>\n",
       "    </tr>\n",
       "  </tbody>\n",
       "</table>\n",
       "</div>"
      ],
      "text/plain": [
       "        Date   Case  Count\n",
       "0 2020-01-22  Cases    570\n",
       "1 2020-01-23  Cases    670\n",
       "2 2020-01-24  Cases    962\n",
       "3 2020-01-25  Cases   1471\n",
       "4 2020-01-26  Cases   2167"
      ]
     },
     "execution_count": 12,
     "metadata": {},
     "output_type": "execute_result"
    }
   ],
   "source": [
    "#Case count over time for the world using df.melt function\n",
    "#reference: https://pandas.pydata.org/docs/reference/api/pandas.melt.html\n",
    "Case_Count= df.groupby('Date')['Cases'].sum().reset_index()\n",
    "Case_Count = Case_Count.melt(id_vars=\"Date\", value_vars=['Cases'],\n",
    "                 var_name='Case', value_name='Count')\n",
    "Case_Count.head()"
   ]
  },
  {
   "cell_type": "markdown",
   "metadata": {},
   "source": [
    "# Figure 1 -Cases over time with a slider for selecting window frame"
   ]
  },
  {
   "cell_type": "code",
   "execution_count": 13,
   "metadata": {
    "scrolled": false
   },
   "outputs": [
    {
     "data": {
      "application/vnd.plotly.v1+json": {
       "config": {
        "plotlyServerURL": "https://plot.ly"
       },
       "data": [
        {
         "hovertemplate": "Case=Cases<br>Date=%{x}<br>Count=%{y}<extra></extra>",
         "legendgroup": "Cases",
         "line": {
          "color": "Crimson"
         },
         "mode": "lines",
         "name": "Cases",
         "orientation": "v",
         "showlegend": true,
         "stackgroup": "1",
         "type": "scatter",
         "x": [
          "2020-01-22T00:00:00",
          "2020-01-23T00:00:00",
          "2020-01-24T00:00:00",
          "2020-01-25T00:00:00",
          "2020-01-26T00:00:00",
          "2020-01-27T00:00:00",
          "2020-01-28T00:00:00",
          "2020-01-29T00:00:00",
          "2020-01-30T00:00:00",
          "2020-01-31T00:00:00",
          "2020-02-01T00:00:00",
          "2020-02-02T00:00:00",
          "2020-02-03T00:00:00",
          "2020-02-04T00:00:00",
          "2020-02-05T00:00:00",
          "2020-02-06T00:00:00",
          "2020-02-07T00:00:00",
          "2020-02-08T00:00:00",
          "2020-02-09T00:00:00",
          "2020-02-10T00:00:00",
          "2020-02-11T00:00:00",
          "2020-02-12T00:00:00",
          "2020-02-13T00:00:00",
          "2020-02-14T00:00:00",
          "2020-02-15T00:00:00",
          "2020-02-16T00:00:00",
          "2020-02-17T00:00:00",
          "2020-02-18T00:00:00",
          "2020-02-19T00:00:00",
          "2020-02-20T00:00:00",
          "2020-02-21T00:00:00",
          "2020-02-22T00:00:00",
          "2020-02-23T00:00:00",
          "2020-02-24T00:00:00",
          "2020-02-25T00:00:00",
          "2020-02-26T00:00:00",
          "2020-02-27T00:00:00",
          "2020-02-28T00:00:00",
          "2020-02-29T00:00:00",
          "2020-03-01T00:00:00",
          "2020-03-02T00:00:00",
          "2020-03-03T00:00:00",
          "2020-03-04T00:00:00",
          "2020-03-05T00:00:00",
          "2020-03-06T00:00:00",
          "2020-03-07T00:00:00",
          "2020-03-08T00:00:00",
          "2020-03-09T00:00:00",
          "2020-03-10T00:00:00",
          "2020-03-11T00:00:00",
          "2020-03-12T00:00:00",
          "2020-03-13T00:00:00",
          "2020-03-14T00:00:00",
          "2020-03-15T00:00:00",
          "2020-03-16T00:00:00",
          "2020-03-17T00:00:00",
          "2020-03-18T00:00:00",
          "2020-03-19T00:00:00",
          "2020-03-20T00:00:00",
          "2020-03-21T00:00:00",
          "2020-03-22T00:00:00",
          "2020-03-23T00:00:00",
          "2020-03-24T00:00:00",
          "2020-03-25T00:00:00",
          "2020-03-26T00:00:00",
          "2020-03-27T00:00:00",
          "2020-03-28T00:00:00",
          "2020-03-29T00:00:00",
          "2020-03-30T00:00:00",
          "2020-03-31T00:00:00",
          "2020-04-01T00:00:00",
          "2020-04-02T00:00:00",
          "2020-04-03T00:00:00",
          "2020-04-04T00:00:00",
          "2020-04-05T00:00:00",
          "2020-04-06T00:00:00",
          "2020-04-07T00:00:00",
          "2020-04-08T00:00:00",
          "2020-04-09T00:00:00",
          "2020-04-10T00:00:00",
          "2020-04-11T00:00:00",
          "2020-04-12T00:00:00",
          "2020-04-13T00:00:00",
          "2020-04-14T00:00:00",
          "2020-04-15T00:00:00",
          "2020-04-16T00:00:00",
          "2020-04-17T00:00:00",
          "2020-04-18T00:00:00",
          "2020-04-19T00:00:00",
          "2020-04-20T00:00:00",
          "2020-04-21T00:00:00",
          "2020-04-22T00:00:00",
          "2020-04-23T00:00:00",
          "2020-04-24T00:00:00",
          "2020-04-25T00:00:00",
          "2020-04-26T00:00:00",
          "2020-04-27T00:00:00",
          "2020-04-28T00:00:00",
          "2020-04-29T00:00:00",
          "2020-04-30T00:00:00",
          "2020-05-01T00:00:00",
          "2020-05-02T00:00:00"
         ],
         "xaxis": "x",
         "y": [
          570,
          670,
          962,
          1471,
          2167,
          3000,
          5697,
          6283,
          8388,
          10113,
          12269,
          17117,
          20275,
          24350,
          28162,
          31382,
          35002,
          37815,
          40940,
          43585,
          45724,
          46108,
          61508,
          68134,
          70355,
          72578,
          74608,
          76536,
          77074,
          77667,
          78190,
          79917,
          80081,
          80573,
          81350,
          82084,
          82978,
          83817,
          84959,
          86773,
          88177,
          89916,
          91832,
          94205,
          97691,
          101340,
          105222,
          108997,
          113993,
          121082,
          123563,
          140754,
          151906,
          162798,
          177497,
          193275,
          212810,
          240098,
          270257,
          303361,
          336862,
          378855,
          420192,
          471326,
          535023,
          600714,
          670065,
          731510,
          796535,
          874568,
          953249,
          1037646,
          1123717,
          1206980,
          1283176,
          1358043,
          1437905,
          1525182,
          1614332,
          1709762,
          1790101,
          1890590,
          1961658,
          2033725,
          2115875,
          2213069,
          2302576,
          2375812,
          2455453,
          2523570,
          2599436,
          2673030,
          2760600,
          2844831,
          2926695,
          2994359,
          3058170,
          3128200,
          3200805,
          3279843,
          3360620,
          3436010
         ],
         "yaxis": "y"
        }
       ],
       "layout": {
        "height": 800,
        "legend": {
         "title": {
          "text": "Case"
         },
         "tracegroupgap": 0
        },
        "template": {
         "data": {
          "bar": [
           {
            "error_x": {
             "color": "#2a3f5f"
            },
            "error_y": {
             "color": "#2a3f5f"
            },
            "marker": {
             "line": {
              "color": "#E5ECF6",
              "width": 0.5
             }
            },
            "type": "bar"
           }
          ],
          "barpolar": [
           {
            "marker": {
             "line": {
              "color": "#E5ECF6",
              "width": 0.5
             }
            },
            "type": "barpolar"
           }
          ],
          "carpet": [
           {
            "aaxis": {
             "endlinecolor": "#2a3f5f",
             "gridcolor": "white",
             "linecolor": "white",
             "minorgridcolor": "white",
             "startlinecolor": "#2a3f5f"
            },
            "baxis": {
             "endlinecolor": "#2a3f5f",
             "gridcolor": "white",
             "linecolor": "white",
             "minorgridcolor": "white",
             "startlinecolor": "#2a3f5f"
            },
            "type": "carpet"
           }
          ],
          "choropleth": [
           {
            "colorbar": {
             "outlinewidth": 0,
             "ticks": ""
            },
            "type": "choropleth"
           }
          ],
          "contour": [
           {
            "colorbar": {
             "outlinewidth": 0,
             "ticks": ""
            },
            "colorscale": [
             [
              0,
              "#0d0887"
             ],
             [
              0.1111111111111111,
              "#46039f"
             ],
             [
              0.2222222222222222,
              "#7201a8"
             ],
             [
              0.3333333333333333,
              "#9c179e"
             ],
             [
              0.4444444444444444,
              "#bd3786"
             ],
             [
              0.5555555555555556,
              "#d8576b"
             ],
             [
              0.6666666666666666,
              "#ed7953"
             ],
             [
              0.7777777777777778,
              "#fb9f3a"
             ],
             [
              0.8888888888888888,
              "#fdca26"
             ],
             [
              1,
              "#f0f921"
             ]
            ],
            "type": "contour"
           }
          ],
          "contourcarpet": [
           {
            "colorbar": {
             "outlinewidth": 0,
             "ticks": ""
            },
            "type": "contourcarpet"
           }
          ],
          "heatmap": [
           {
            "colorbar": {
             "outlinewidth": 0,
             "ticks": ""
            },
            "colorscale": [
             [
              0,
              "#0d0887"
             ],
             [
              0.1111111111111111,
              "#46039f"
             ],
             [
              0.2222222222222222,
              "#7201a8"
             ],
             [
              0.3333333333333333,
              "#9c179e"
             ],
             [
              0.4444444444444444,
              "#bd3786"
             ],
             [
              0.5555555555555556,
              "#d8576b"
             ],
             [
              0.6666666666666666,
              "#ed7953"
             ],
             [
              0.7777777777777778,
              "#fb9f3a"
             ],
             [
              0.8888888888888888,
              "#fdca26"
             ],
             [
              1,
              "#f0f921"
             ]
            ],
            "type": "heatmap"
           }
          ],
          "heatmapgl": [
           {
            "colorbar": {
             "outlinewidth": 0,
             "ticks": ""
            },
            "colorscale": [
             [
              0,
              "#0d0887"
             ],
             [
              0.1111111111111111,
              "#46039f"
             ],
             [
              0.2222222222222222,
              "#7201a8"
             ],
             [
              0.3333333333333333,
              "#9c179e"
             ],
             [
              0.4444444444444444,
              "#bd3786"
             ],
             [
              0.5555555555555556,
              "#d8576b"
             ],
             [
              0.6666666666666666,
              "#ed7953"
             ],
             [
              0.7777777777777778,
              "#fb9f3a"
             ],
             [
              0.8888888888888888,
              "#fdca26"
             ],
             [
              1,
              "#f0f921"
             ]
            ],
            "type": "heatmapgl"
           }
          ],
          "histogram": [
           {
            "marker": {
             "colorbar": {
              "outlinewidth": 0,
              "ticks": ""
             }
            },
            "type": "histogram"
           }
          ],
          "histogram2d": [
           {
            "colorbar": {
             "outlinewidth": 0,
             "ticks": ""
            },
            "colorscale": [
             [
              0,
              "#0d0887"
             ],
             [
              0.1111111111111111,
              "#46039f"
             ],
             [
              0.2222222222222222,
              "#7201a8"
             ],
             [
              0.3333333333333333,
              "#9c179e"
             ],
             [
              0.4444444444444444,
              "#bd3786"
             ],
             [
              0.5555555555555556,
              "#d8576b"
             ],
             [
              0.6666666666666666,
              "#ed7953"
             ],
             [
              0.7777777777777778,
              "#fb9f3a"
             ],
             [
              0.8888888888888888,
              "#fdca26"
             ],
             [
              1,
              "#f0f921"
             ]
            ],
            "type": "histogram2d"
           }
          ],
          "histogram2dcontour": [
           {
            "colorbar": {
             "outlinewidth": 0,
             "ticks": ""
            },
            "colorscale": [
             [
              0,
              "#0d0887"
             ],
             [
              0.1111111111111111,
              "#46039f"
             ],
             [
              0.2222222222222222,
              "#7201a8"
             ],
             [
              0.3333333333333333,
              "#9c179e"
             ],
             [
              0.4444444444444444,
              "#bd3786"
             ],
             [
              0.5555555555555556,
              "#d8576b"
             ],
             [
              0.6666666666666666,
              "#ed7953"
             ],
             [
              0.7777777777777778,
              "#fb9f3a"
             ],
             [
              0.8888888888888888,
              "#fdca26"
             ],
             [
              1,
              "#f0f921"
             ]
            ],
            "type": "histogram2dcontour"
           }
          ],
          "mesh3d": [
           {
            "colorbar": {
             "outlinewidth": 0,
             "ticks": ""
            },
            "type": "mesh3d"
           }
          ],
          "parcoords": [
           {
            "line": {
             "colorbar": {
              "outlinewidth": 0,
              "ticks": ""
             }
            },
            "type": "parcoords"
           }
          ],
          "pie": [
           {
            "automargin": true,
            "type": "pie"
           }
          ],
          "scatter": [
           {
            "marker": {
             "colorbar": {
              "outlinewidth": 0,
              "ticks": ""
             }
            },
            "type": "scatter"
           }
          ],
          "scatter3d": [
           {
            "line": {
             "colorbar": {
              "outlinewidth": 0,
              "ticks": ""
             }
            },
            "marker": {
             "colorbar": {
              "outlinewidth": 0,
              "ticks": ""
             }
            },
            "type": "scatter3d"
           }
          ],
          "scattercarpet": [
           {
            "marker": {
             "colorbar": {
              "outlinewidth": 0,
              "ticks": ""
             }
            },
            "type": "scattercarpet"
           }
          ],
          "scattergeo": [
           {
            "marker": {
             "colorbar": {
              "outlinewidth": 0,
              "ticks": ""
             }
            },
            "type": "scattergeo"
           }
          ],
          "scattergl": [
           {
            "marker": {
             "colorbar": {
              "outlinewidth": 0,
              "ticks": ""
             }
            },
            "type": "scattergl"
           }
          ],
          "scattermapbox": [
           {
            "marker": {
             "colorbar": {
              "outlinewidth": 0,
              "ticks": ""
             }
            },
            "type": "scattermapbox"
           }
          ],
          "scatterpolar": [
           {
            "marker": {
             "colorbar": {
              "outlinewidth": 0,
              "ticks": ""
             }
            },
            "type": "scatterpolar"
           }
          ],
          "scatterpolargl": [
           {
            "marker": {
             "colorbar": {
              "outlinewidth": 0,
              "ticks": ""
             }
            },
            "type": "scatterpolargl"
           }
          ],
          "scatterternary": [
           {
            "marker": {
             "colorbar": {
              "outlinewidth": 0,
              "ticks": ""
             }
            },
            "type": "scatterternary"
           }
          ],
          "surface": [
           {
            "colorbar": {
             "outlinewidth": 0,
             "ticks": ""
            },
            "colorscale": [
             [
              0,
              "#0d0887"
             ],
             [
              0.1111111111111111,
              "#46039f"
             ],
             [
              0.2222222222222222,
              "#7201a8"
             ],
             [
              0.3333333333333333,
              "#9c179e"
             ],
             [
              0.4444444444444444,
              "#bd3786"
             ],
             [
              0.5555555555555556,
              "#d8576b"
             ],
             [
              0.6666666666666666,
              "#ed7953"
             ],
             [
              0.7777777777777778,
              "#fb9f3a"
             ],
             [
              0.8888888888888888,
              "#fdca26"
             ],
             [
              1,
              "#f0f921"
             ]
            ],
            "type": "surface"
           }
          ],
          "table": [
           {
            "cells": {
             "fill": {
              "color": "#EBF0F8"
             },
             "line": {
              "color": "white"
             }
            },
            "header": {
             "fill": {
              "color": "#C8D4E3"
             },
             "line": {
              "color": "white"
             }
            },
            "type": "table"
           }
          ]
         },
         "layout": {
          "annotationdefaults": {
           "arrowcolor": "#2a3f5f",
           "arrowhead": 0,
           "arrowwidth": 1
          },
          "coloraxis": {
           "colorbar": {
            "outlinewidth": 0,
            "ticks": ""
           }
          },
          "colorscale": {
           "diverging": [
            [
             0,
             "#8e0152"
            ],
            [
             0.1,
             "#c51b7d"
            ],
            [
             0.2,
             "#de77ae"
            ],
            [
             0.3,
             "#f1b6da"
            ],
            [
             0.4,
             "#fde0ef"
            ],
            [
             0.5,
             "#f7f7f7"
            ],
            [
             0.6,
             "#e6f5d0"
            ],
            [
             0.7,
             "#b8e186"
            ],
            [
             0.8,
             "#7fbc41"
            ],
            [
             0.9,
             "#4d9221"
            ],
            [
             1,
             "#276419"
            ]
           ],
           "sequential": [
            [
             0,
             "#0d0887"
            ],
            [
             0.1111111111111111,
             "#46039f"
            ],
            [
             0.2222222222222222,
             "#7201a8"
            ],
            [
             0.3333333333333333,
             "#9c179e"
            ],
            [
             0.4444444444444444,
             "#bd3786"
            ],
            [
             0.5555555555555556,
             "#d8576b"
            ],
            [
             0.6666666666666666,
             "#ed7953"
            ],
            [
             0.7777777777777778,
             "#fb9f3a"
            ],
            [
             0.8888888888888888,
             "#fdca26"
            ],
            [
             1,
             "#f0f921"
            ]
           ],
           "sequentialminus": [
            [
             0,
             "#0d0887"
            ],
            [
             0.1111111111111111,
             "#46039f"
            ],
            [
             0.2222222222222222,
             "#7201a8"
            ],
            [
             0.3333333333333333,
             "#9c179e"
            ],
            [
             0.4444444444444444,
             "#bd3786"
            ],
            [
             0.5555555555555556,
             "#d8576b"
            ],
            [
             0.6666666666666666,
             "#ed7953"
            ],
            [
             0.7777777777777778,
             "#fb9f3a"
            ],
            [
             0.8888888888888888,
             "#fdca26"
            ],
            [
             1,
             "#f0f921"
            ]
           ]
          },
          "colorway": [
           "#636efa",
           "#EF553B",
           "#00cc96",
           "#ab63fa",
           "#FFA15A",
           "#19d3f3",
           "#FF6692",
           "#B6E880",
           "#FF97FF",
           "#FECB52"
          ],
          "font": {
           "color": "#2a3f5f"
          },
          "geo": {
           "bgcolor": "white",
           "lakecolor": "white",
           "landcolor": "#E5ECF6",
           "showlakes": true,
           "showland": true,
           "subunitcolor": "white"
          },
          "hoverlabel": {
           "align": "left"
          },
          "hovermode": "closest",
          "mapbox": {
           "style": "light"
          },
          "paper_bgcolor": "white",
          "plot_bgcolor": "#E5ECF6",
          "polar": {
           "angularaxis": {
            "gridcolor": "white",
            "linecolor": "white",
            "ticks": ""
           },
           "bgcolor": "#E5ECF6",
           "radialaxis": {
            "gridcolor": "white",
            "linecolor": "white",
            "ticks": ""
           }
          },
          "scene": {
           "xaxis": {
            "backgroundcolor": "#E5ECF6",
            "gridcolor": "white",
            "gridwidth": 2,
            "linecolor": "white",
            "showbackground": true,
            "ticks": "",
            "zerolinecolor": "white"
           },
           "yaxis": {
            "backgroundcolor": "#E5ECF6",
            "gridcolor": "white",
            "gridwidth": 2,
            "linecolor": "white",
            "showbackground": true,
            "ticks": "",
            "zerolinecolor": "white"
           },
           "zaxis": {
            "backgroundcolor": "#E5ECF6",
            "gridcolor": "white",
            "gridwidth": 2,
            "linecolor": "white",
            "showbackground": true,
            "ticks": "",
            "zerolinecolor": "white"
           }
          },
          "shapedefaults": {
           "line": {
            "color": "#2a3f5f"
           }
          },
          "ternary": {
           "aaxis": {
            "gridcolor": "white",
            "linecolor": "white",
            "ticks": ""
           },
           "baxis": {
            "gridcolor": "white",
            "linecolor": "white",
            "ticks": ""
           },
           "bgcolor": "#E5ECF6",
           "caxis": {
            "gridcolor": "white",
            "linecolor": "white",
            "ticks": ""
           }
          },
          "title": {
           "x": 0.05
          },
          "xaxis": {
           "automargin": true,
           "gridcolor": "white",
           "linecolor": "white",
           "ticks": "",
           "title": {
            "standoff": 15
           },
           "zerolinecolor": "white",
           "zerolinewidth": 2
          },
          "yaxis": {
           "automargin": true,
           "gridcolor": "white",
           "linecolor": "white",
           "ticks": "",
           "title": {
            "standoff": 15
           },
           "zerolinecolor": "white",
           "zerolinewidth": 2
          }
         }
        },
        "title": {
         "text": "Cases over time"
        },
        "xaxis": {
         "anchor": "y",
         "domain": [
          0,
          1
         ],
         "rangeslider": {
          "visible": true
         },
         "title": {
          "text": "Date"
         }
        },
        "yaxis": {
         "anchor": "x",
         "domain": [
          0,
          1
         ],
         "title": {
          "text": "Count"
         }
        }
       }
      },
      "text/html": [
       "<div>\n",
       "        \n",
       "        \n",
       "            <div id=\"4341ccf6-b6c3-476d-89ce-05e82b269c78\" class=\"plotly-graph-div\" style=\"height:800px; width:100%;\"></div>\n",
       "            <script type=\"text/javascript\">\n",
       "                require([\"plotly\"], function(Plotly) {\n",
       "                    window.PLOTLYENV=window.PLOTLYENV || {};\n",
       "                    \n",
       "                if (document.getElementById(\"4341ccf6-b6c3-476d-89ce-05e82b269c78\")) {\n",
       "                    Plotly.newPlot(\n",
       "                        '4341ccf6-b6c3-476d-89ce-05e82b269c78',\n",
       "                        [{\"hovertemplate\": \"Case=Cases<br>Date=%{x}<br>Count=%{y}<extra></extra>\", \"legendgroup\": \"Cases\", \"line\": {\"color\": \"Crimson\"}, \"mode\": \"lines\", \"name\": \"Cases\", \"orientation\": \"v\", \"showlegend\": true, \"stackgroup\": \"1\", \"type\": \"scatter\", \"x\": [\"2020-01-22T00:00:00\", \"2020-01-23T00:00:00\", \"2020-01-24T00:00:00\", \"2020-01-25T00:00:00\", \"2020-01-26T00:00:00\", \"2020-01-27T00:00:00\", \"2020-01-28T00:00:00\", \"2020-01-29T00:00:00\", \"2020-01-30T00:00:00\", \"2020-01-31T00:00:00\", \"2020-02-01T00:00:00\", \"2020-02-02T00:00:00\", \"2020-02-03T00:00:00\", \"2020-02-04T00:00:00\", \"2020-02-05T00:00:00\", \"2020-02-06T00:00:00\", \"2020-02-07T00:00:00\", \"2020-02-08T00:00:00\", \"2020-02-09T00:00:00\", \"2020-02-10T00:00:00\", \"2020-02-11T00:00:00\", \"2020-02-12T00:00:00\", \"2020-02-13T00:00:00\", \"2020-02-14T00:00:00\", \"2020-02-15T00:00:00\", \"2020-02-16T00:00:00\", \"2020-02-17T00:00:00\", \"2020-02-18T00:00:00\", \"2020-02-19T00:00:00\", \"2020-02-20T00:00:00\", \"2020-02-21T00:00:00\", \"2020-02-22T00:00:00\", \"2020-02-23T00:00:00\", \"2020-02-24T00:00:00\", \"2020-02-25T00:00:00\", \"2020-02-26T00:00:00\", \"2020-02-27T00:00:00\", \"2020-02-28T00:00:00\", \"2020-02-29T00:00:00\", \"2020-03-01T00:00:00\", \"2020-03-02T00:00:00\", \"2020-03-03T00:00:00\", \"2020-03-04T00:00:00\", \"2020-03-05T00:00:00\", \"2020-03-06T00:00:00\", \"2020-03-07T00:00:00\", \"2020-03-08T00:00:00\", \"2020-03-09T00:00:00\", \"2020-03-10T00:00:00\", \"2020-03-11T00:00:00\", \"2020-03-12T00:00:00\", \"2020-03-13T00:00:00\", \"2020-03-14T00:00:00\", \"2020-03-15T00:00:00\", \"2020-03-16T00:00:00\", \"2020-03-17T00:00:00\", \"2020-03-18T00:00:00\", \"2020-03-19T00:00:00\", \"2020-03-20T00:00:00\", \"2020-03-21T00:00:00\", \"2020-03-22T00:00:00\", \"2020-03-23T00:00:00\", \"2020-03-24T00:00:00\", \"2020-03-25T00:00:00\", \"2020-03-26T00:00:00\", \"2020-03-27T00:00:00\", \"2020-03-28T00:00:00\", \"2020-03-29T00:00:00\", \"2020-03-30T00:00:00\", \"2020-03-31T00:00:00\", \"2020-04-01T00:00:00\", \"2020-04-02T00:00:00\", \"2020-04-03T00:00:00\", \"2020-04-04T00:00:00\", \"2020-04-05T00:00:00\", \"2020-04-06T00:00:00\", \"2020-04-07T00:00:00\", \"2020-04-08T00:00:00\", \"2020-04-09T00:00:00\", \"2020-04-10T00:00:00\", \"2020-04-11T00:00:00\", \"2020-04-12T00:00:00\", \"2020-04-13T00:00:00\", \"2020-04-14T00:00:00\", \"2020-04-15T00:00:00\", \"2020-04-16T00:00:00\", \"2020-04-17T00:00:00\", \"2020-04-18T00:00:00\", \"2020-04-19T00:00:00\", \"2020-04-20T00:00:00\", \"2020-04-21T00:00:00\", \"2020-04-22T00:00:00\", \"2020-04-23T00:00:00\", \"2020-04-24T00:00:00\", \"2020-04-25T00:00:00\", \"2020-04-26T00:00:00\", \"2020-04-27T00:00:00\", \"2020-04-28T00:00:00\", \"2020-04-29T00:00:00\", \"2020-04-30T00:00:00\", \"2020-05-01T00:00:00\", \"2020-05-02T00:00:00\"], \"xaxis\": \"x\", \"y\": [570, 670, 962, 1471, 2167, 3000, 5697, 6283, 8388, 10113, 12269, 17117, 20275, 24350, 28162, 31382, 35002, 37815, 40940, 43585, 45724, 46108, 61508, 68134, 70355, 72578, 74608, 76536, 77074, 77667, 78190, 79917, 80081, 80573, 81350, 82084, 82978, 83817, 84959, 86773, 88177, 89916, 91832, 94205, 97691, 101340, 105222, 108997, 113993, 121082, 123563, 140754, 151906, 162798, 177497, 193275, 212810, 240098, 270257, 303361, 336862, 378855, 420192, 471326, 535023, 600714, 670065, 731510, 796535, 874568, 953249, 1037646, 1123717, 1206980, 1283176, 1358043, 1437905, 1525182, 1614332, 1709762, 1790101, 1890590, 1961658, 2033725, 2115875, 2213069, 2302576, 2375812, 2455453, 2523570, 2599436, 2673030, 2760600, 2844831, 2926695, 2994359, 3058170, 3128200, 3200805, 3279843, 3360620, 3436010], \"yaxis\": \"y\"}],\n",
       "                        {\"height\": 800, \"legend\": {\"title\": {\"text\": \"Case\"}, \"tracegroupgap\": 0}, \"template\": {\"data\": {\"bar\": [{\"error_x\": {\"color\": \"#2a3f5f\"}, \"error_y\": {\"color\": \"#2a3f5f\"}, \"marker\": {\"line\": {\"color\": \"#E5ECF6\", \"width\": 0.5}}, \"type\": \"bar\"}], \"barpolar\": [{\"marker\": {\"line\": {\"color\": \"#E5ECF6\", \"width\": 0.5}}, \"type\": \"barpolar\"}], \"carpet\": [{\"aaxis\": {\"endlinecolor\": \"#2a3f5f\", \"gridcolor\": \"white\", \"linecolor\": \"white\", \"minorgridcolor\": \"white\", \"startlinecolor\": \"#2a3f5f\"}, \"baxis\": {\"endlinecolor\": \"#2a3f5f\", \"gridcolor\": \"white\", \"linecolor\": \"white\", \"minorgridcolor\": \"white\", \"startlinecolor\": \"#2a3f5f\"}, \"type\": \"carpet\"}], \"choropleth\": [{\"colorbar\": {\"outlinewidth\": 0, \"ticks\": \"\"}, \"type\": \"choropleth\"}], \"contour\": [{\"colorbar\": {\"outlinewidth\": 0, \"ticks\": \"\"}, \"colorscale\": [[0.0, \"#0d0887\"], [0.1111111111111111, \"#46039f\"], [0.2222222222222222, \"#7201a8\"], [0.3333333333333333, \"#9c179e\"], [0.4444444444444444, \"#bd3786\"], [0.5555555555555556, \"#d8576b\"], [0.6666666666666666, \"#ed7953\"], [0.7777777777777778, \"#fb9f3a\"], [0.8888888888888888, \"#fdca26\"], [1.0, \"#f0f921\"]], \"type\": \"contour\"}], \"contourcarpet\": [{\"colorbar\": {\"outlinewidth\": 0, \"ticks\": \"\"}, \"type\": \"contourcarpet\"}], \"heatmap\": [{\"colorbar\": {\"outlinewidth\": 0, \"ticks\": \"\"}, \"colorscale\": [[0.0, \"#0d0887\"], [0.1111111111111111, \"#46039f\"], [0.2222222222222222, \"#7201a8\"], [0.3333333333333333, \"#9c179e\"], [0.4444444444444444, \"#bd3786\"], [0.5555555555555556, \"#d8576b\"], [0.6666666666666666, \"#ed7953\"], [0.7777777777777778, \"#fb9f3a\"], [0.8888888888888888, \"#fdca26\"], [1.0, \"#f0f921\"]], \"type\": \"heatmap\"}], \"heatmapgl\": [{\"colorbar\": {\"outlinewidth\": 0, \"ticks\": \"\"}, \"colorscale\": [[0.0, \"#0d0887\"], [0.1111111111111111, \"#46039f\"], [0.2222222222222222, \"#7201a8\"], [0.3333333333333333, \"#9c179e\"], [0.4444444444444444, \"#bd3786\"], [0.5555555555555556, \"#d8576b\"], [0.6666666666666666, \"#ed7953\"], [0.7777777777777778, \"#fb9f3a\"], [0.8888888888888888, \"#fdca26\"], [1.0, \"#f0f921\"]], \"type\": \"heatmapgl\"}], \"histogram\": [{\"marker\": {\"colorbar\": {\"outlinewidth\": 0, \"ticks\": \"\"}}, \"type\": \"histogram\"}], \"histogram2d\": [{\"colorbar\": {\"outlinewidth\": 0, \"ticks\": \"\"}, \"colorscale\": [[0.0, \"#0d0887\"], [0.1111111111111111, \"#46039f\"], [0.2222222222222222, \"#7201a8\"], [0.3333333333333333, \"#9c179e\"], [0.4444444444444444, \"#bd3786\"], [0.5555555555555556, \"#d8576b\"], [0.6666666666666666, \"#ed7953\"], [0.7777777777777778, \"#fb9f3a\"], [0.8888888888888888, \"#fdca26\"], [1.0, \"#f0f921\"]], \"type\": \"histogram2d\"}], \"histogram2dcontour\": [{\"colorbar\": {\"outlinewidth\": 0, \"ticks\": \"\"}, \"colorscale\": [[0.0, \"#0d0887\"], [0.1111111111111111, \"#46039f\"], [0.2222222222222222, \"#7201a8\"], [0.3333333333333333, \"#9c179e\"], [0.4444444444444444, \"#bd3786\"], [0.5555555555555556, \"#d8576b\"], [0.6666666666666666, \"#ed7953\"], [0.7777777777777778, \"#fb9f3a\"], [0.8888888888888888, \"#fdca26\"], [1.0, \"#f0f921\"]], \"type\": \"histogram2dcontour\"}], \"mesh3d\": [{\"colorbar\": {\"outlinewidth\": 0, \"ticks\": \"\"}, \"type\": \"mesh3d\"}], \"parcoords\": [{\"line\": {\"colorbar\": {\"outlinewidth\": 0, \"ticks\": \"\"}}, \"type\": \"parcoords\"}], \"pie\": [{\"automargin\": true, \"type\": \"pie\"}], \"scatter\": [{\"marker\": {\"colorbar\": {\"outlinewidth\": 0, \"ticks\": \"\"}}, \"type\": \"scatter\"}], \"scatter3d\": [{\"line\": {\"colorbar\": {\"outlinewidth\": 0, \"ticks\": \"\"}}, \"marker\": {\"colorbar\": {\"outlinewidth\": 0, \"ticks\": \"\"}}, \"type\": \"scatter3d\"}], \"scattercarpet\": [{\"marker\": {\"colorbar\": {\"outlinewidth\": 0, \"ticks\": \"\"}}, \"type\": \"scattercarpet\"}], \"scattergeo\": [{\"marker\": {\"colorbar\": {\"outlinewidth\": 0, \"ticks\": \"\"}}, \"type\": \"scattergeo\"}], \"scattergl\": [{\"marker\": {\"colorbar\": {\"outlinewidth\": 0, \"ticks\": \"\"}}, \"type\": \"scattergl\"}], \"scattermapbox\": [{\"marker\": {\"colorbar\": {\"outlinewidth\": 0, \"ticks\": \"\"}}, \"type\": \"scattermapbox\"}], \"scatterpolar\": [{\"marker\": {\"colorbar\": {\"outlinewidth\": 0, \"ticks\": \"\"}}, \"type\": \"scatterpolar\"}], \"scatterpolargl\": [{\"marker\": {\"colorbar\": {\"outlinewidth\": 0, \"ticks\": \"\"}}, \"type\": \"scatterpolargl\"}], \"scatterternary\": [{\"marker\": {\"colorbar\": {\"outlinewidth\": 0, \"ticks\": \"\"}}, \"type\": \"scatterternary\"}], \"surface\": [{\"colorbar\": {\"outlinewidth\": 0, \"ticks\": \"\"}, \"colorscale\": [[0.0, \"#0d0887\"], [0.1111111111111111, \"#46039f\"], [0.2222222222222222, \"#7201a8\"], [0.3333333333333333, \"#9c179e\"], [0.4444444444444444, \"#bd3786\"], [0.5555555555555556, \"#d8576b\"], [0.6666666666666666, \"#ed7953\"], [0.7777777777777778, \"#fb9f3a\"], [0.8888888888888888, \"#fdca26\"], [1.0, \"#f0f921\"]], \"type\": \"surface\"}], \"table\": [{\"cells\": {\"fill\": {\"color\": \"#EBF0F8\"}, \"line\": {\"color\": \"white\"}}, \"header\": {\"fill\": {\"color\": \"#C8D4E3\"}, \"line\": {\"color\": \"white\"}}, \"type\": \"table\"}]}, \"layout\": {\"annotationdefaults\": {\"arrowcolor\": \"#2a3f5f\", \"arrowhead\": 0, \"arrowwidth\": 1}, \"coloraxis\": {\"colorbar\": {\"outlinewidth\": 0, \"ticks\": \"\"}}, \"colorscale\": {\"diverging\": [[0, \"#8e0152\"], [0.1, \"#c51b7d\"], [0.2, \"#de77ae\"], [0.3, \"#f1b6da\"], [0.4, \"#fde0ef\"], [0.5, \"#f7f7f7\"], [0.6, \"#e6f5d0\"], [0.7, \"#b8e186\"], [0.8, \"#7fbc41\"], [0.9, \"#4d9221\"], [1, \"#276419\"]], \"sequential\": [[0.0, \"#0d0887\"], [0.1111111111111111, \"#46039f\"], [0.2222222222222222, \"#7201a8\"], [0.3333333333333333, \"#9c179e\"], [0.4444444444444444, \"#bd3786\"], [0.5555555555555556, \"#d8576b\"], [0.6666666666666666, \"#ed7953\"], [0.7777777777777778, \"#fb9f3a\"], [0.8888888888888888, \"#fdca26\"], [1.0, \"#f0f921\"]], \"sequentialminus\": [[0.0, \"#0d0887\"], [0.1111111111111111, \"#46039f\"], [0.2222222222222222, \"#7201a8\"], [0.3333333333333333, \"#9c179e\"], [0.4444444444444444, \"#bd3786\"], [0.5555555555555556, \"#d8576b\"], [0.6666666666666666, \"#ed7953\"], [0.7777777777777778, \"#fb9f3a\"], [0.8888888888888888, \"#fdca26\"], [1.0, \"#f0f921\"]]}, \"colorway\": [\"#636efa\", \"#EF553B\", \"#00cc96\", \"#ab63fa\", \"#FFA15A\", \"#19d3f3\", \"#FF6692\", \"#B6E880\", \"#FF97FF\", \"#FECB52\"], \"font\": {\"color\": \"#2a3f5f\"}, \"geo\": {\"bgcolor\": \"white\", \"lakecolor\": \"white\", \"landcolor\": \"#E5ECF6\", \"showlakes\": true, \"showland\": true, \"subunitcolor\": \"white\"}, \"hoverlabel\": {\"align\": \"left\"}, \"hovermode\": \"closest\", \"mapbox\": {\"style\": \"light\"}, \"paper_bgcolor\": \"white\", \"plot_bgcolor\": \"#E5ECF6\", \"polar\": {\"angularaxis\": {\"gridcolor\": \"white\", \"linecolor\": \"white\", \"ticks\": \"\"}, \"bgcolor\": \"#E5ECF6\", \"radialaxis\": {\"gridcolor\": \"white\", \"linecolor\": \"white\", \"ticks\": \"\"}}, \"scene\": {\"xaxis\": {\"backgroundcolor\": \"#E5ECF6\", \"gridcolor\": \"white\", \"gridwidth\": 2, \"linecolor\": \"white\", \"showbackground\": true, \"ticks\": \"\", \"zerolinecolor\": \"white\"}, \"yaxis\": {\"backgroundcolor\": \"#E5ECF6\", \"gridcolor\": \"white\", \"gridwidth\": 2, \"linecolor\": \"white\", \"showbackground\": true, \"ticks\": \"\", \"zerolinecolor\": \"white\"}, \"zaxis\": {\"backgroundcolor\": \"#E5ECF6\", \"gridcolor\": \"white\", \"gridwidth\": 2, \"linecolor\": \"white\", \"showbackground\": true, \"ticks\": \"\", \"zerolinecolor\": \"white\"}}, \"shapedefaults\": {\"line\": {\"color\": \"#2a3f5f\"}}, \"ternary\": {\"aaxis\": {\"gridcolor\": \"white\", \"linecolor\": \"white\", \"ticks\": \"\"}, \"baxis\": {\"gridcolor\": \"white\", \"linecolor\": \"white\", \"ticks\": \"\"}, \"bgcolor\": \"#E5ECF6\", \"caxis\": {\"gridcolor\": \"white\", \"linecolor\": \"white\", \"ticks\": \"\"}}, \"title\": {\"x\": 0.05}, \"xaxis\": {\"automargin\": true, \"gridcolor\": \"white\", \"linecolor\": \"white\", \"ticks\": \"\", \"title\": {\"standoff\": 15}, \"zerolinecolor\": \"white\", \"zerolinewidth\": 2}, \"yaxis\": {\"automargin\": true, \"gridcolor\": \"white\", \"linecolor\": \"white\", \"ticks\": \"\", \"title\": {\"standoff\": 15}, \"zerolinecolor\": \"white\", \"zerolinewidth\": 2}}}, \"title\": {\"text\": \"Cases over time\"}, \"xaxis\": {\"anchor\": \"y\", \"domain\": [0.0, 1.0], \"rangeslider\": {\"visible\": true}, \"title\": {\"text\": \"Date\"}}, \"yaxis\": {\"anchor\": \"x\", \"domain\": [0.0, 1.0], \"title\": {\"text\": \"Count\"}}},\n",
       "                        {\"responsive\": true}\n",
       "                    ).then(function(){\n",
       "                            \n",
       "var gd = document.getElementById('4341ccf6-b6c3-476d-89ce-05e82b269c78');\n",
       "var x = new MutationObserver(function (mutations, observer) {{\n",
       "        var display = window.getComputedStyle(gd).display;\n",
       "        if (!display || display === 'none') {{\n",
       "            console.log([gd, 'removed!']);\n",
       "            Plotly.purge(gd);\n",
       "            observer.disconnect();\n",
       "        }}\n",
       "}});\n",
       "\n",
       "// Listen for the removal of the full notebook cells\n",
       "var notebookContainer = gd.closest('#notebook-container');\n",
       "if (notebookContainer) {{\n",
       "    x.observe(notebookContainer, {childList: true});\n",
       "}}\n",
       "\n",
       "// Listen for the clearing of the current output cell\n",
       "var outputEl = gd.closest('.output');\n",
       "if (outputEl) {{\n",
       "    x.observe(outputEl, {childList: true});\n",
       "}}\n",
       "\n",
       "                        })\n",
       "                };\n",
       "                });\n",
       "            </script>\n",
       "        </div>"
      ]
     },
     "metadata": {},
     "output_type": "display_data"
    }
   ],
   "source": [
    "# using plotly express\n",
    "fig = px.area(Case_Count, x=\"Date\", y=\"Count\", color='Case', height=800,\n",
    "             title='Cases over time', color_discrete_sequence = ['Crimson'], orientation = 'v')\n",
    "fig.update_layout(xaxis_rangeslider_visible=True)\n",
    "fig.show()"
   ]
  },
  {
   "cell_type": "markdown",
   "metadata": {},
   "source": [
    "Trial and error using confirmed cases."
   ]
  },
  {
   "cell_type": "code",
   "execution_count": 14,
   "metadata": {},
   "outputs": [
    {
     "data": {
      "text/html": [
       "<div>\n",
       "<style scoped>\n",
       "    .dataframe tbody tr th:only-of-type {\n",
       "        vertical-align: middle;\n",
       "    }\n",
       "\n",
       "    .dataframe tbody tr th {\n",
       "        vertical-align: top;\n",
       "    }\n",
       "\n",
       "    .dataframe thead th {\n",
       "        text-align: right;\n",
       "    }\n",
       "</style>\n",
       "<table border=\"1\" class=\"dataframe\">\n",
       "  <thead>\n",
       "    <tr style=\"text-align: right;\">\n",
       "      <th></th>\n",
       "      <th>Case_Type</th>\n",
       "      <th>People_Total_Tested_Count</th>\n",
       "      <th>Cases</th>\n",
       "      <th>Difference</th>\n",
       "      <th>Date</th>\n",
       "      <th>Combined_Key</th>\n",
       "      <th>Country_Region</th>\n",
       "      <th>Province_State</th>\n",
       "      <th>Admin2</th>\n",
       "      <th>iso2</th>\n",
       "      <th>iso3</th>\n",
       "      <th>FIPS</th>\n",
       "      <th>Lat</th>\n",
       "      <th>Long</th>\n",
       "      <th>Population_Count</th>\n",
       "      <th>People_Hospitalized_Cumulative_Count</th>\n",
       "      <th>Data_Source</th>\n",
       "      <th>Prep_Flow_Runtime</th>\n",
       "      <th>country</th>\n",
       "      <th>iso_alpha</th>\n",
       "    </tr>\n",
       "  </thead>\n",
       "  <tbody>\n",
       "    <tr>\n",
       "      <td>0</td>\n",
       "      <td>Confirmed</td>\n",
       "      <td>NaN</td>\n",
       "      <td>0</td>\n",
       "      <td>0</td>\n",
       "      <td>2020-02-03</td>\n",
       "      <td>Switzerland</td>\n",
       "      <td>Switzerland</td>\n",
       "      <td>NaN</td>\n",
       "      <td>NaN</td>\n",
       "      <td>CH</td>\n",
       "      <td>CHE</td>\n",
       "      <td>NaN</td>\n",
       "      <td>46.8182</td>\n",
       "      <td>8.2275</td>\n",
       "      <td>8654618.0</td>\n",
       "      <td>NaN</td>\n",
       "      <td>2019 Novel Coronavirus COVID-19 (2019-nCoV) Da...</td>\n",
       "      <td>5/2/2020 11:35:41 PM</td>\n",
       "      <td>Switzerland</td>\n",
       "      <td>CHE</td>\n",
       "    </tr>\n",
       "    <tr>\n",
       "      <td>2</td>\n",
       "      <td>Confirmed</td>\n",
       "      <td>NaN</td>\n",
       "      <td>18</td>\n",
       "      <td>10</td>\n",
       "      <td>2020-02-29</td>\n",
       "      <td>Switzerland</td>\n",
       "      <td>Switzerland</td>\n",
       "      <td>NaN</td>\n",
       "      <td>NaN</td>\n",
       "      <td>CH</td>\n",
       "      <td>CHE</td>\n",
       "      <td>NaN</td>\n",
       "      <td>46.8182</td>\n",
       "      <td>8.2275</td>\n",
       "      <td>8654618.0</td>\n",
       "      <td>NaN</td>\n",
       "      <td>2019 Novel Coronavirus COVID-19 (2019-nCoV) Da...</td>\n",
       "      <td>5/2/2020 11:35:41 PM</td>\n",
       "      <td>Switzerland</td>\n",
       "      <td>CHE</td>\n",
       "    </tr>\n",
       "    <tr>\n",
       "      <td>3</td>\n",
       "      <td>Confirmed</td>\n",
       "      <td>NaN</td>\n",
       "      <td>214</td>\n",
       "      <td>100</td>\n",
       "      <td>2020-03-06</td>\n",
       "      <td>Switzerland</td>\n",
       "      <td>Switzerland</td>\n",
       "      <td>NaN</td>\n",
       "      <td>NaN</td>\n",
       "      <td>CH</td>\n",
       "      <td>CHE</td>\n",
       "      <td>NaN</td>\n",
       "      <td>46.8182</td>\n",
       "      <td>8.2275</td>\n",
       "      <td>8654618.0</td>\n",
       "      <td>NaN</td>\n",
       "      <td>2019 Novel Coronavirus COVID-19 (2019-nCoV) Da...</td>\n",
       "      <td>5/2/2020 11:35:41 PM</td>\n",
       "      <td>Switzerland</td>\n",
       "      <td>CHE</td>\n",
       "    </tr>\n",
       "    <tr>\n",
       "      <td>13</td>\n",
       "      <td>Confirmed</td>\n",
       "      <td>NaN</td>\n",
       "      <td>8</td>\n",
       "      <td>7</td>\n",
       "      <td>2020-02-27</td>\n",
       "      <td>Switzerland</td>\n",
       "      <td>Switzerland</td>\n",
       "      <td>NaN</td>\n",
       "      <td>NaN</td>\n",
       "      <td>CH</td>\n",
       "      <td>CHE</td>\n",
       "      <td>NaN</td>\n",
       "      <td>46.8182</td>\n",
       "      <td>8.2275</td>\n",
       "      <td>8654618.0</td>\n",
       "      <td>NaN</td>\n",
       "      <td>2019 Novel Coronavirus COVID-19 (2019-nCoV) Da...</td>\n",
       "      <td>5/2/2020 11:35:41 PM</td>\n",
       "      <td>Switzerland</td>\n",
       "      <td>CHE</td>\n",
       "    </tr>\n",
       "    <tr>\n",
       "      <td>15</td>\n",
       "      <td>Confirmed</td>\n",
       "      <td>NaN</td>\n",
       "      <td>19606</td>\n",
       "      <td>779</td>\n",
       "      <td>2020-04-03</td>\n",
       "      <td>Switzerland</td>\n",
       "      <td>Switzerland</td>\n",
       "      <td>NaN</td>\n",
       "      <td>NaN</td>\n",
       "      <td>CH</td>\n",
       "      <td>CHE</td>\n",
       "      <td>NaN</td>\n",
       "      <td>46.8182</td>\n",
       "      <td>8.2275</td>\n",
       "      <td>8654618.0</td>\n",
       "      <td>NaN</td>\n",
       "      <td>2019 Novel Coronavirus COVID-19 (2019-nCoV) Da...</td>\n",
       "      <td>5/2/2020 11:35:41 PM</td>\n",
       "      <td>Switzerland</td>\n",
       "      <td>CHE</td>\n",
       "    </tr>\n",
       "  </tbody>\n",
       "</table>\n",
       "</div>"
      ],
      "text/plain": [
       "    Case_Type  People_Total_Tested_Count  Cases  Difference       Date  \\\n",
       "0   Confirmed                        NaN      0           0 2020-02-03   \n",
       "2   Confirmed                        NaN     18          10 2020-02-29   \n",
       "3   Confirmed                        NaN    214         100 2020-03-06   \n",
       "13  Confirmed                        NaN      8           7 2020-02-27   \n",
       "15  Confirmed                        NaN  19606         779 2020-04-03   \n",
       "\n",
       "   Combined_Key Country_Region Province_State Admin2 iso2 iso3  FIPS      Lat  \\\n",
       "0   Switzerland    Switzerland            NaN    NaN   CH  CHE   NaN  46.8182   \n",
       "2   Switzerland    Switzerland            NaN    NaN   CH  CHE   NaN  46.8182   \n",
       "3   Switzerland    Switzerland            NaN    NaN   CH  CHE   NaN  46.8182   \n",
       "13  Switzerland    Switzerland            NaN    NaN   CH  CHE   NaN  46.8182   \n",
       "15  Switzerland    Switzerland            NaN    NaN   CH  CHE   NaN  46.8182   \n",
       "\n",
       "      Long  Population_Count  People_Hospitalized_Cumulative_Count  \\\n",
       "0   8.2275         8654618.0                                   NaN   \n",
       "2   8.2275         8654618.0                                   NaN   \n",
       "3   8.2275         8654618.0                                   NaN   \n",
       "13  8.2275         8654618.0                                   NaN   \n",
       "15  8.2275         8654618.0                                   NaN   \n",
       "\n",
       "                                          Data_Source     Prep_Flow_Runtime  \\\n",
       "0   2019 Novel Coronavirus COVID-19 (2019-nCoV) Da...  5/2/2020 11:35:41 PM   \n",
       "2   2019 Novel Coronavirus COVID-19 (2019-nCoV) Da...  5/2/2020 11:35:41 PM   \n",
       "3   2019 Novel Coronavirus COVID-19 (2019-nCoV) Da...  5/2/2020 11:35:41 PM   \n",
       "13  2019 Novel Coronavirus COVID-19 (2019-nCoV) Da...  5/2/2020 11:35:41 PM   \n",
       "15  2019 Novel Coronavirus COVID-19 (2019-nCoV) Da...  5/2/2020 11:35:41 PM   \n",
       "\n",
       "        country iso_alpha  \n",
       "0   Switzerland       CHE  \n",
       "2   Switzerland       CHE  \n",
       "3   Switzerland       CHE  \n",
       "13  Switzerland       CHE  \n",
       "15  Switzerland       CHE  "
      ]
     },
     "execution_count": 14,
     "metadata": {},
     "output_type": "execute_result"
    }
   ],
   "source": [
    "Confirmed_Cases = df.loc[df['Case_Type'] == \"Confirmed\"]\n",
    "Confirmed_Cases.head()"
   ]
  },
  {
   "cell_type": "code",
   "execution_count": 15,
   "metadata": {},
   "outputs": [
    {
     "data": {
      "text/plain": [
       "Country_Region\n",
       "Afghanistan    2469\n",
       "Albania         789\n",
       "Algeria        4295\n",
       "Angola           35\n",
       "Argentina      4681\n",
       "Name: Cases, dtype: int64"
      ]
     },
     "execution_count": 15,
     "metadata": {},
     "output_type": "execute_result"
    }
   ],
   "source": [
    "recent_date = df['Date'].max()\n",
    "recent_cases = df.loc[(df['Date'] == recent_date) & (df['Case_Type']==\"Confirmed\")].groupby(\"Country_Region\")[\"Cases\"].sum()\n",
    "recent_cases.head()"
   ]
  },
  {
   "cell_type": "code",
   "execution_count": 16,
   "metadata": {},
   "outputs": [
    {
     "data": {
      "text/html": [
       "<div>\n",
       "<style scoped>\n",
       "    .dataframe tbody tr th:only-of-type {\n",
       "        vertical-align: middle;\n",
       "    }\n",
       "\n",
       "    .dataframe tbody tr th {\n",
       "        vertical-align: top;\n",
       "    }\n",
       "\n",
       "    .dataframe thead th {\n",
       "        text-align: right;\n",
       "    }\n",
       "</style>\n",
       "<table border=\"1\" class=\"dataframe\">\n",
       "  <thead>\n",
       "    <tr style=\"text-align: right;\">\n",
       "      <th></th>\n",
       "      <th>Country_Region</th>\n",
       "      <th>Cases</th>\n",
       "    </tr>\n",
       "  </thead>\n",
       "  <tbody>\n",
       "    <tr>\n",
       "      <td>0</td>\n",
       "      <td>Afghanistan</td>\n",
       "      <td>2469</td>\n",
       "    </tr>\n",
       "    <tr>\n",
       "      <td>1</td>\n",
       "      <td>Albania</td>\n",
       "      <td>789</td>\n",
       "    </tr>\n",
       "    <tr>\n",
       "      <td>2</td>\n",
       "      <td>Algeria</td>\n",
       "      <td>4295</td>\n",
       "    </tr>\n",
       "    <tr>\n",
       "      <td>3</td>\n",
       "      <td>Angola</td>\n",
       "      <td>35</td>\n",
       "    </tr>\n",
       "    <tr>\n",
       "      <td>4</td>\n",
       "      <td>Argentina</td>\n",
       "      <td>4681</td>\n",
       "    </tr>\n",
       "  </tbody>\n",
       "</table>\n",
       "</div>"
      ],
      "text/plain": [
       "  Country_Region  Cases\n",
       "0    Afghanistan   2469\n",
       "1        Albania    789\n",
       "2        Algeria   4295\n",
       "3         Angola     35\n",
       "4      Argentina   4681"
      ]
     },
     "execution_count": 16,
     "metadata": {},
     "output_type": "execute_result"
    }
   ],
   "source": [
    "#creating a dataframe from the list above\n",
    "Country_Wise_Sort = df.loc[(df['Date'] == recent_date) & (df['Case_Type']==\"Confirmed\")].groupby(\"Country_Region\", as_index = False)[\"Cases\"].sum()\n",
    "Country_Wise_Sort.head()"
   ]
  },
  {
   "cell_type": "code",
   "execution_count": 17,
   "metadata": {},
   "outputs": [
    {
     "data": {
      "text/html": [
       "<div>\n",
       "<style scoped>\n",
       "    .dataframe tbody tr th:only-of-type {\n",
       "        vertical-align: middle;\n",
       "    }\n",
       "\n",
       "    .dataframe tbody tr th {\n",
       "        vertical-align: top;\n",
       "    }\n",
       "\n",
       "    .dataframe thead th {\n",
       "        text-align: right;\n",
       "    }\n",
       "</style>\n",
       "<table border=\"1\" class=\"dataframe\">\n",
       "  <thead>\n",
       "    <tr style=\"text-align: right;\">\n",
       "      <th></th>\n",
       "      <th>Country_Region</th>\n",
       "      <th>Cases</th>\n",
       "    </tr>\n",
       "  </thead>\n",
       "  <tbody>\n",
       "    <tr>\n",
       "      <td>119</td>\n",
       "      <td>US</td>\n",
       "      <td>1132387</td>\n",
       "    </tr>\n",
       "    <tr>\n",
       "      <td>107</td>\n",
       "      <td>Spain</td>\n",
       "      <td>216582</td>\n",
       "    </tr>\n",
       "    <tr>\n",
       "      <td>60</td>\n",
       "      <td>Italy</td>\n",
       "      <td>209328</td>\n",
       "    </tr>\n",
       "    <tr>\n",
       "      <td>121</td>\n",
       "      <td>United Kingdom</td>\n",
       "      <td>183500</td>\n",
       "    </tr>\n",
       "    <tr>\n",
       "      <td>41</td>\n",
       "      <td>France</td>\n",
       "      <td>168518</td>\n",
       "    </tr>\n",
       "  </tbody>\n",
       "</table>\n",
       "</div>"
      ],
      "text/plain": [
       "     Country_Region    Cases\n",
       "119              US  1132387\n",
       "107           Spain   216582\n",
       "60            Italy   209328\n",
       "121  United Kingdom   183500\n",
       "41           France   168518"
      ]
     },
     "execution_count": 17,
     "metadata": {},
     "output_type": "execute_result"
    }
   ],
   "source": [
    "#we create a table to visualize the most hit country by the case\n",
    "Most_Cases = Country_Wise_Sort.sort_values('Cases', ascending= False)\n",
    "Most_Cases.head()"
   ]
  },
  {
   "cell_type": "code",
   "execution_count": 18,
   "metadata": {
    "scrolled": false
   },
   "outputs": [
    {
     "data": {
      "text/html": [
       "<div>\n",
       "<style scoped>\n",
       "    .dataframe tbody tr th:only-of-type {\n",
       "        vertical-align: middle;\n",
       "    }\n",
       "\n",
       "    .dataframe tbody tr th {\n",
       "        vertical-align: top;\n",
       "    }\n",
       "\n",
       "    .dataframe thead th {\n",
       "        text-align: right;\n",
       "    }\n",
       "</style>\n",
       "<table border=\"1\" class=\"dataframe\">\n",
       "  <thead>\n",
       "    <tr style=\"text-align: right;\">\n",
       "      <th></th>\n",
       "      <th>Country_Region</th>\n",
       "      <th>iso_alpha</th>\n",
       "      <th>Cases</th>\n",
       "    </tr>\n",
       "  </thead>\n",
       "  <tbody>\n",
       "    <tr>\n",
       "      <td>119</td>\n",
       "      <td>US</td>\n",
       "      <td>USA</td>\n",
       "      <td>1132387</td>\n",
       "    </tr>\n",
       "    <tr>\n",
       "      <td>107</td>\n",
       "      <td>Spain</td>\n",
       "      <td>ESP</td>\n",
       "      <td>216582</td>\n",
       "    </tr>\n",
       "    <tr>\n",
       "      <td>60</td>\n",
       "      <td>Italy</td>\n",
       "      <td>ITA</td>\n",
       "      <td>209328</td>\n",
       "    </tr>\n",
       "    <tr>\n",
       "      <td>121</td>\n",
       "      <td>United Kingdom</td>\n",
       "      <td>GBR</td>\n",
       "      <td>183500</td>\n",
       "    </tr>\n",
       "    <tr>\n",
       "      <td>41</td>\n",
       "      <td>France</td>\n",
       "      <td>FRA</td>\n",
       "      <td>168518</td>\n",
       "    </tr>\n",
       "  </tbody>\n",
       "</table>\n",
       "</div>"
      ],
      "text/plain": [
       "     Country_Region iso_alpha    Cases\n",
       "119              US       USA  1132387\n",
       "107           Spain       ESP   216582\n",
       "60            Italy       ITA   209328\n",
       "121  United Kingdom       GBR   183500\n",
       "41           France       FRA   168518"
      ]
     },
     "execution_count": 18,
     "metadata": {},
     "output_type": "execute_result"
    }
   ],
   "source": [
    "#viewed countries with top cases\n",
    "iso_data = df.loc[(df['Date'] == recent_date) & (df['Case_Type']==\"Confirmed\")].groupby([\"Country_Region\",\"iso_alpha\"],as_index=False)[\"Cases\"].sum()\n",
    "iso_data.sort_values('Cases',ascending = False).head()"
   ]
  },
  {
   "cell_type": "markdown",
   "metadata": {},
   "source": [
    "# Figure 2 - Bubblemap with Hover and point feature with world map (Zoom and pan feature using plotly)"
   ]
  },
  {
   "cell_type": "code",
   "execution_count": 19,
   "metadata": {},
   "outputs": [
    {
     "data": {
      "application/vnd.plotly.v1+json": {
       "config": {
        "plotlyServerURL": "https://plot.ly"
       },
       "data": [
        {
         "geo": "geo",
         "hovertemplate": "<b>%{hovertext}</b><br><br>Country_Region=Afghanistan<br>Cases=%{marker.size}<br>iso_alpha=%{location}<extra></extra>",
         "hovertext": [
          2469
         ],
         "legendgroup": "Afghanistan",
         "locations": [
          "AFG"
         ],
         "marker": {
          "color": "#636efa",
          "size": [
           2469
          ],
          "sizemode": "area",
          "sizeref": 2830.9675
         },
         "name": "Afghanistan",
         "showlegend": true,
         "type": "scattergeo"
        },
        {
         "geo": "geo",
         "hovertemplate": "<b>%{hovertext}</b><br><br>Country_Region=Albania<br>Cases=%{marker.size}<br>iso_alpha=%{location}<extra></extra>",
         "hovertext": [
          789
         ],
         "legendgroup": "Albania",
         "locations": [
          "ALB"
         ],
         "marker": {
          "color": "#EF553B",
          "size": [
           789
          ],
          "sizemode": "area",
          "sizeref": 2830.9675
         },
         "name": "Albania",
         "showlegend": true,
         "type": "scattergeo"
        },
        {
         "geo": "geo",
         "hovertemplate": "<b>%{hovertext}</b><br><br>Country_Region=Algeria<br>Cases=%{marker.size}<br>iso_alpha=%{location}<extra></extra>",
         "hovertext": [
          4295
         ],
         "legendgroup": "Algeria",
         "locations": [
          "DZA"
         ],
         "marker": {
          "color": "#00cc96",
          "size": [
           4295
          ],
          "sizemode": "area",
          "sizeref": 2830.9675
         },
         "name": "Algeria",
         "showlegend": true,
         "type": "scattergeo"
        },
        {
         "geo": "geo",
         "hovertemplate": "<b>%{hovertext}</b><br><br>Country_Region=Angola<br>Cases=%{marker.size}<br>iso_alpha=%{location}<extra></extra>",
         "hovertext": [
          35
         ],
         "legendgroup": "Angola",
         "locations": [
          "AGO"
         ],
         "marker": {
          "color": "#ab63fa",
          "size": [
           35
          ],
          "sizemode": "area",
          "sizeref": 2830.9675
         },
         "name": "Angola",
         "showlegend": true,
         "type": "scattergeo"
        },
        {
         "geo": "geo",
         "hovertemplate": "<b>%{hovertext}</b><br><br>Country_Region=Argentina<br>Cases=%{marker.size}<br>iso_alpha=%{location}<extra></extra>",
         "hovertext": [
          4681
         ],
         "legendgroup": "Argentina",
         "locations": [
          "ARG"
         ],
         "marker": {
          "color": "#FFA15A",
          "size": [
           4681
          ],
          "sizemode": "area",
          "sizeref": 2830.9675
         },
         "name": "Argentina",
         "showlegend": true,
         "type": "scattergeo"
        },
        {
         "geo": "geo",
         "hovertemplate": "<b>%{hovertext}</b><br><br>Country_Region=Australia<br>Cases=%{marker.size}<br>iso_alpha=%{location}<extra></extra>",
         "hovertext": [
          6799
         ],
         "legendgroup": "Australia",
         "locations": [
          "AUS"
         ],
         "marker": {
          "color": "#19d3f3",
          "size": [
           6799
          ],
          "sizemode": "area",
          "sizeref": 2830.9675
         },
         "name": "Australia",
         "showlegend": true,
         "type": "scattergeo"
        },
        {
         "geo": "geo",
         "hovertemplate": "<b>%{hovertext}</b><br><br>Country_Region=Austria<br>Cases=%{marker.size}<br>iso_alpha=%{location}<extra></extra>",
         "hovertext": [
          15558
         ],
         "legendgroup": "Austria",
         "locations": [
          "AUT"
         ],
         "marker": {
          "color": "#FF6692",
          "size": [
           15558
          ],
          "sizemode": "area",
          "sizeref": 2830.9675
         },
         "name": "Austria",
         "showlegend": true,
         "type": "scattergeo"
        },
        {
         "geo": "geo",
         "hovertemplate": "<b>%{hovertext}</b><br><br>Country_Region=Bahrain<br>Cases=%{marker.size}<br>iso_alpha=%{location}<extra></extra>",
         "hovertext": [
          3284
         ],
         "legendgroup": "Bahrain",
         "locations": [
          "BHR"
         ],
         "marker": {
          "color": "#B6E880",
          "size": [
           3284
          ],
          "sizemode": "area",
          "sizeref": 2830.9675
         },
         "name": "Bahrain",
         "showlegend": true,
         "type": "scattergeo"
        },
        {
         "geo": "geo",
         "hovertemplate": "<b>%{hovertext}</b><br><br>Country_Region=Bangladesh<br>Cases=%{marker.size}<br>iso_alpha=%{location}<extra></extra>",
         "hovertext": [
          8790
         ],
         "legendgroup": "Bangladesh",
         "locations": [
          "BGD"
         ],
         "marker": {
          "color": "#FF97FF",
          "size": [
           8790
          ],
          "sizemode": "area",
          "sizeref": 2830.9675
         },
         "name": "Bangladesh",
         "showlegend": true,
         "type": "scattergeo"
        },
        {
         "geo": "geo",
         "hovertemplate": "<b>%{hovertext}</b><br><br>Country_Region=Belgium<br>Cases=%{marker.size}<br>iso_alpha=%{location}<extra></extra>",
         "hovertext": [
          49517
         ],
         "legendgroup": "Belgium",
         "locations": [
          "BEL"
         ],
         "marker": {
          "color": "#FECB52",
          "size": [
           49517
          ],
          "sizemode": "area",
          "sizeref": 2830.9675
         },
         "name": "Belgium",
         "showlegend": true,
         "type": "scattergeo"
        },
        {
         "geo": "geo",
         "hovertemplate": "<b>%{hovertext}</b><br><br>Country_Region=Benin<br>Cases=%{marker.size}<br>iso_alpha=%{location}<extra></extra>",
         "hovertext": [
          90
         ],
         "legendgroup": "Benin",
         "locations": [
          "BEN"
         ],
         "marker": {
          "color": "#636efa",
          "size": [
           90
          ],
          "sizemode": "area",
          "sizeref": 2830.9675
         },
         "name": "Benin",
         "showlegend": true,
         "type": "scattergeo"
        },
        {
         "geo": "geo",
         "hovertemplate": "<b>%{hovertext}</b><br><br>Country_Region=Bolivia<br>Cases=%{marker.size}<br>iso_alpha=%{location}<extra></extra>",
         "hovertext": [
          1229
         ],
         "legendgroup": "Bolivia",
         "locations": [
          "BOL"
         ],
         "marker": {
          "color": "#EF553B",
          "size": [
           1229
          ],
          "sizemode": "area",
          "sizeref": 2830.9675
         },
         "name": "Bolivia",
         "showlegend": true,
         "type": "scattergeo"
        },
        {
         "geo": "geo",
         "hovertemplate": "<b>%{hovertext}</b><br><br>Country_Region=Bosnia and Herzegovina<br>Cases=%{marker.size}<br>iso_alpha=%{location}<extra></extra>",
         "hovertext": [
          1839
         ],
         "legendgroup": "Bosnia and Herzegovina",
         "locations": [
          "BIH"
         ],
         "marker": {
          "color": "#00cc96",
          "size": [
           1839
          ],
          "sizemode": "area",
          "sizeref": 2830.9675
         },
         "name": "Bosnia and Herzegovina",
         "showlegend": true,
         "type": "scattergeo"
        },
        {
         "geo": "geo",
         "hovertemplate": "<b>%{hovertext}</b><br><br>Country_Region=Botswana<br>Cases=%{marker.size}<br>iso_alpha=%{location}<extra></extra>",
         "hovertext": [
          23
         ],
         "legendgroup": "Botswana",
         "locations": [
          "BWA"
         ],
         "marker": {
          "color": "#ab63fa",
          "size": [
           23
          ],
          "sizemode": "area",
          "sizeref": 2830.9675
         },
         "name": "Botswana",
         "showlegend": true,
         "type": "scattergeo"
        },
        {
         "geo": "geo",
         "hovertemplate": "<b>%{hovertext}</b><br><br>Country_Region=Brazil<br>Cases=%{marker.size}<br>iso_alpha=%{location}<extra></extra>",
         "hovertext": [
          97100
         ],
         "legendgroup": "Brazil",
         "locations": [
          "BRA"
         ],
         "marker": {
          "color": "#FFA15A",
          "size": [
           97100
          ],
          "sizemode": "area",
          "sizeref": 2830.9675
         },
         "name": "Brazil",
         "showlegend": true,
         "type": "scattergeo"
        },
        {
         "geo": "geo",
         "hovertemplate": "<b>%{hovertext}</b><br><br>Country_Region=Bulgaria<br>Cases=%{marker.size}<br>iso_alpha=%{location}<extra></extra>",
         "hovertext": [
          1594
         ],
         "legendgroup": "Bulgaria",
         "locations": [
          "BGR"
         ],
         "marker": {
          "color": "#19d3f3",
          "size": [
           1594
          ],
          "sizemode": "area",
          "sizeref": 2830.9675
         },
         "name": "Bulgaria",
         "showlegend": true,
         "type": "scattergeo"
        },
        {
         "geo": "geo",
         "hovertemplate": "<b>%{hovertext}</b><br><br>Country_Region=Burkina Faso<br>Cases=%{marker.size}<br>iso_alpha=%{location}<extra></extra>",
         "hovertext": [
          652
         ],
         "legendgroup": "Burkina Faso",
         "locations": [
          "BFA"
         ],
         "marker": {
          "color": "#FF6692",
          "size": [
           652
          ],
          "sizemode": "area",
          "sizeref": 2830.9675
         },
         "name": "Burkina Faso",
         "showlegend": true,
         "type": "scattergeo"
        },
        {
         "geo": "geo",
         "hovertemplate": "<b>%{hovertext}</b><br><br>Country_Region=Burundi<br>Cases=%{marker.size}<br>iso_alpha=%{location}<extra></extra>",
         "hovertext": [
          15
         ],
         "legendgroup": "Burundi",
         "locations": [
          "BDI"
         ],
         "marker": {
          "color": "#B6E880",
          "size": [
           15
          ],
          "sizemode": "area",
          "sizeref": 2830.9675
         },
         "name": "Burundi",
         "showlegend": true,
         "type": "scattergeo"
        },
        {
         "geo": "geo",
         "hovertemplate": "<b>%{hovertext}</b><br><br>Country_Region=Cambodia<br>Cases=%{marker.size}<br>iso_alpha=%{location}<extra></extra>",
         "hovertext": [
          122
         ],
         "legendgroup": "Cambodia",
         "locations": [
          "KHM"
         ],
         "marker": {
          "color": "#FF97FF",
          "size": [
           122
          ],
          "sizemode": "area",
          "sizeref": 2830.9675
         },
         "name": "Cambodia",
         "showlegend": true,
         "type": "scattergeo"
        },
        {
         "geo": "geo",
         "hovertemplate": "<b>%{hovertext}</b><br><br>Country_Region=Cameroon<br>Cases=%{marker.size}<br>iso_alpha=%{location}<extra></extra>",
         "hovertext": [
          2077
         ],
         "legendgroup": "Cameroon",
         "locations": [
          "CMR"
         ],
         "marker": {
          "color": "#FECB52",
          "size": [
           2077
          ],
          "sizemode": "area",
          "sizeref": 2830.9675
         },
         "name": "Cameroon",
         "showlegend": true,
         "type": "scattergeo"
        },
        {
         "geo": "geo",
         "hovertemplate": "<b>%{hovertext}</b><br><br>Country_Region=Canada<br>Cases=%{marker.size}<br>iso_alpha=%{location}<extra></extra>",
         "hovertext": [
          57912
         ],
         "legendgroup": "Canada",
         "locations": [
          "CAN"
         ],
         "marker": {
          "color": "#636efa",
          "size": [
           57912
          ],
          "sizemode": "area",
          "sizeref": 2830.9675
         },
         "name": "Canada",
         "showlegend": true,
         "type": "scattergeo"
        },
        {
         "geo": "geo",
         "hovertemplate": "<b>%{hovertext}</b><br><br>Country_Region=Central African Republic<br>Cases=%{marker.size}<br>iso_alpha=%{location}<extra></extra>",
         "hovertext": [
          72
         ],
         "legendgroup": "Central African Republic",
         "locations": [
          "CAF"
         ],
         "marker": {
          "color": "#EF553B",
          "size": [
           72
          ],
          "sizemode": "area",
          "sizeref": 2830.9675
         },
         "name": "Central African Republic",
         "showlegend": true,
         "type": "scattergeo"
        },
        {
         "geo": "geo",
         "hovertemplate": "<b>%{hovertext}</b><br><br>Country_Region=Chad<br>Cases=%{marker.size}<br>iso_alpha=%{location}<extra></extra>",
         "hovertext": [
          117
         ],
         "legendgroup": "Chad",
         "locations": [
          "TCD"
         ],
         "marker": {
          "color": "#00cc96",
          "size": [
           117
          ],
          "sizemode": "area",
          "sizeref": 2830.9675
         },
         "name": "Chad",
         "showlegend": true,
         "type": "scattergeo"
        },
        {
         "geo": "geo",
         "hovertemplate": "<b>%{hovertext}</b><br><br>Country_Region=Chile<br>Cases=%{marker.size}<br>iso_alpha=%{location}<extra></extra>",
         "hovertext": [
          18435
         ],
         "legendgroup": "Chile",
         "locations": [
          "CHL"
         ],
         "marker": {
          "color": "#ab63fa",
          "size": [
           18435
          ],
          "sizemode": "area",
          "sizeref": 2830.9675
         },
         "name": "Chile",
         "showlegend": true,
         "type": "scattergeo"
        },
        {
         "geo": "geo",
         "hovertemplate": "<b>%{hovertext}</b><br><br>Country_Region=China<br>Cases=%{marker.size}<br>iso_alpha=%{location}<extra></extra>",
         "hovertext": [
          83959
         ],
         "legendgroup": "China",
         "locations": [
          "CHN"
         ],
         "marker": {
          "color": "#FFA15A",
          "size": [
           83959
          ],
          "sizemode": "area",
          "sizeref": 2830.9675
         },
         "name": "China",
         "showlegend": true,
         "type": "scattergeo"
        },
        {
         "geo": "geo",
         "hovertemplate": "<b>%{hovertext}</b><br><br>Country_Region=Colombia<br>Cases=%{marker.size}<br>iso_alpha=%{location}<extra></extra>",
         "hovertext": [
          7285
         ],
         "legendgroup": "Colombia",
         "locations": [
          "COL"
         ],
         "marker": {
          "color": "#19d3f3",
          "size": [
           7285
          ],
          "sizemode": "area",
          "sizeref": 2830.9675
         },
         "name": "Colombia",
         "showlegend": true,
         "type": "scattergeo"
        },
        {
         "geo": "geo",
         "hovertemplate": "<b>%{hovertext}</b><br><br>Country_Region=Comoros<br>Cases=%{marker.size}<br>iso_alpha=%{location}<extra></extra>",
         "hovertext": [
          3
         ],
         "legendgroup": "Comoros",
         "locations": [
          "COM"
         ],
         "marker": {
          "color": "#FF6692",
          "size": [
           3
          ],
          "sizemode": "area",
          "sizeref": 2830.9675
         },
         "name": "Comoros",
         "showlegend": true,
         "type": "scattergeo"
        },
        {
         "geo": "geo",
         "hovertemplate": "<b>%{hovertext}</b><br><br>Country_Region=Costa Rica<br>Cases=%{marker.size}<br>iso_alpha=%{location}<extra></extra>",
         "hovertext": [
          733
         ],
         "legendgroup": "Costa Rica",
         "locations": [
          "CRI"
         ],
         "marker": {
          "color": "#B6E880",
          "size": [
           733
          ],
          "sizemode": "area",
          "sizeref": 2830.9675
         },
         "name": "Costa Rica",
         "showlegend": true,
         "type": "scattergeo"
        },
        {
         "geo": "geo",
         "hovertemplate": "<b>%{hovertext}</b><br><br>Country_Region=Cote d'Ivoire<br>Cases=%{marker.size}<br>iso_alpha=%{location}<extra></extra>",
         "hovertext": [
          1362
         ],
         "legendgroup": "Cote d'Ivoire",
         "locations": [
          "CIV"
         ],
         "marker": {
          "color": "#FF97FF",
          "size": [
           1362
          ],
          "sizemode": "area",
          "sizeref": 2830.9675
         },
         "name": "Cote d'Ivoire",
         "showlegend": true,
         "type": "scattergeo"
        },
        {
         "geo": "geo",
         "hovertemplate": "<b>%{hovertext}</b><br><br>Country_Region=Croatia<br>Cases=%{marker.size}<br>iso_alpha=%{location}<extra></extra>",
         "hovertext": [
          2088
         ],
         "legendgroup": "Croatia",
         "locations": [
          "HRV"
         ],
         "marker": {
          "color": "#FECB52",
          "size": [
           2088
          ],
          "sizemode": "area",
          "sizeref": 2830.9675
         },
         "name": "Croatia",
         "showlegend": true,
         "type": "scattergeo"
        },
        {
         "geo": "geo",
         "hovertemplate": "<b>%{hovertext}</b><br><br>Country_Region=Cuba<br>Cases=%{marker.size}<br>iso_alpha=%{location}<extra></extra>",
         "hovertext": [
          1611
         ],
         "legendgroup": "Cuba",
         "locations": [
          "CUB"
         ],
         "marker": {
          "color": "#636efa",
          "size": [
           1611
          ],
          "sizemode": "area",
          "sizeref": 2830.9675
         },
         "name": "Cuba",
         "showlegend": true,
         "type": "scattergeo"
        },
        {
         "geo": "geo",
         "hovertemplate": "<b>%{hovertext}</b><br><br>Country_Region=Denmark<br>Cases=%{marker.size}<br>iso_alpha=%{location}<extra></extra>",
         "hovertext": [
          9605
         ],
         "legendgroup": "Denmark",
         "locations": [
          "DNK"
         ],
         "marker": {
          "color": "#EF553B",
          "size": [
           9605
          ],
          "sizemode": "area",
          "sizeref": 2830.9675
         },
         "name": "Denmark",
         "showlegend": true,
         "type": "scattergeo"
        },
        {
         "geo": "geo",
         "hovertemplate": "<b>%{hovertext}</b><br><br>Country_Region=Djibouti<br>Cases=%{marker.size}<br>iso_alpha=%{location}<extra></extra>",
         "hovertext": [
          1112
         ],
         "legendgroup": "Djibouti",
         "locations": [
          "DJI"
         ],
         "marker": {
          "color": "#00cc96",
          "size": [
           1112
          ],
          "sizemode": "area",
          "sizeref": 2830.9675
         },
         "name": "Djibouti",
         "showlegend": true,
         "type": "scattergeo"
        },
        {
         "geo": "geo",
         "hovertemplate": "<b>%{hovertext}</b><br><br>Country_Region=Dominican Republic<br>Cases=%{marker.size}<br>iso_alpha=%{location}<extra></extra>",
         "hovertext": [
          7578
         ],
         "legendgroup": "Dominican Republic",
         "locations": [
          "DOM"
         ],
         "marker": {
          "color": "#ab63fa",
          "size": [
           7578
          ],
          "sizemode": "area",
          "sizeref": 2830.9675
         },
         "name": "Dominican Republic",
         "showlegend": true,
         "type": "scattergeo"
        },
        {
         "geo": "geo",
         "hovertemplate": "<b>%{hovertext}</b><br><br>Country_Region=Ecuador<br>Cases=%{marker.size}<br>iso_alpha=%{location}<extra></extra>",
         "hovertext": [
          27464
         ],
         "legendgroup": "Ecuador",
         "locations": [
          "ECU"
         ],
         "marker": {
          "color": "#FFA15A",
          "size": [
           27464
          ],
          "sizemode": "area",
          "sizeref": 2830.9675
         },
         "name": "Ecuador",
         "showlegend": true,
         "type": "scattergeo"
        },
        {
         "geo": "geo",
         "hovertemplate": "<b>%{hovertext}</b><br><br>Country_Region=Egypt<br>Cases=%{marker.size}<br>iso_alpha=%{location}<extra></extra>",
         "hovertext": [
          6193
         ],
         "legendgroup": "Egypt",
         "locations": [
          "EGY"
         ],
         "marker": {
          "color": "#19d3f3",
          "size": [
           6193
          ],
          "sizemode": "area",
          "sizeref": 2830.9675
         },
         "name": "Egypt",
         "showlegend": true,
         "type": "scattergeo"
        },
        {
         "geo": "geo",
         "hovertemplate": "<b>%{hovertext}</b><br><br>Country_Region=El Salvador<br>Cases=%{marker.size}<br>iso_alpha=%{location}<extra></extra>",
         "hovertext": [
          446
         ],
         "legendgroup": "El Salvador",
         "locations": [
          "SLV"
         ],
         "marker": {
          "color": "#FF6692",
          "size": [
           446
          ],
          "sizemode": "area",
          "sizeref": 2830.9675
         },
         "name": "El Salvador",
         "showlegend": true,
         "type": "scattergeo"
        },
        {
         "geo": "geo",
         "hovertemplate": "<b>%{hovertext}</b><br><br>Country_Region=Equatorial Guinea<br>Cases=%{marker.size}<br>iso_alpha=%{location}<extra></extra>",
         "hovertext": [
          315
         ],
         "legendgroup": "Equatorial Guinea",
         "locations": [
          "GNQ"
         ],
         "marker": {
          "color": "#B6E880",
          "size": [
           315
          ],
          "sizemode": "area",
          "sizeref": 2830.9675
         },
         "name": "Equatorial Guinea",
         "showlegend": true,
         "type": "scattergeo"
        },
        {
         "geo": "geo",
         "hovertemplate": "<b>%{hovertext}</b><br><br>Country_Region=Eritrea<br>Cases=%{marker.size}<br>iso_alpha=%{location}<extra></extra>",
         "hovertext": [
          39
         ],
         "legendgroup": "Eritrea",
         "locations": [
          "ERI"
         ],
         "marker": {
          "color": "#FF97FF",
          "size": [
           39
          ],
          "sizemode": "area",
          "sizeref": 2830.9675
         },
         "name": "Eritrea",
         "showlegend": true,
         "type": "scattergeo"
        },
        {
         "geo": "geo",
         "hovertemplate": "<b>%{hovertext}</b><br><br>Country_Region=Ethiopia<br>Cases=%{marker.size}<br>iso_alpha=%{location}<extra></extra>",
         "hovertext": [
          133
         ],
         "legendgroup": "Ethiopia",
         "locations": [
          "ETH"
         ],
         "marker": {
          "color": "#FECB52",
          "size": [
           133
          ],
          "sizemode": "area",
          "sizeref": 2830.9675
         },
         "name": "Ethiopia",
         "showlegend": true,
         "type": "scattergeo"
        },
        {
         "geo": "geo",
         "hovertemplate": "<b>%{hovertext}</b><br><br>Country_Region=Finland<br>Cases=%{marker.size}<br>iso_alpha=%{location}<extra></extra>",
         "hovertext": [
          5176
         ],
         "legendgroup": "Finland",
         "locations": [
          "FIN"
         ],
         "marker": {
          "color": "#636efa",
          "size": [
           5176
          ],
          "sizemode": "area",
          "sizeref": 2830.9675
         },
         "name": "Finland",
         "showlegend": true,
         "type": "scattergeo"
        },
        {
         "geo": "geo",
         "hovertemplate": "<b>%{hovertext}</b><br><br>Country_Region=France<br>Cases=%{marker.size}<br>iso_alpha=%{location}<extra></extra>",
         "hovertext": [
          168518
         ],
         "legendgroup": "France",
         "locations": [
          "FRA"
         ],
         "marker": {
          "color": "#EF553B",
          "size": [
           168518
          ],
          "sizemode": "area",
          "sizeref": 2830.9675
         },
         "name": "France",
         "showlegend": true,
         "type": "scattergeo"
        },
        {
         "geo": "geo",
         "hovertemplate": "<b>%{hovertext}</b><br><br>Country_Region=Gabon<br>Cases=%{marker.size}<br>iso_alpha=%{location}<extra></extra>",
         "hovertext": [
          335
         ],
         "legendgroup": "Gabon",
         "locations": [
          "GAB"
         ],
         "marker": {
          "color": "#00cc96",
          "size": [
           335
          ],
          "sizemode": "area",
          "sizeref": 2830.9675
         },
         "name": "Gabon",
         "showlegend": true,
         "type": "scattergeo"
        },
        {
         "geo": "geo",
         "hovertemplate": "<b>%{hovertext}</b><br><br>Country_Region=Gambia<br>Cases=%{marker.size}<br>iso_alpha=%{location}<extra></extra>",
         "hovertext": [
          17
         ],
         "legendgroup": "Gambia",
         "locations": [
          "GMB"
         ],
         "marker": {
          "color": "#ab63fa",
          "size": [
           17
          ],
          "sizemode": "area",
          "sizeref": 2830.9675
         },
         "name": "Gambia",
         "showlegend": true,
         "type": "scattergeo"
        },
        {
         "geo": "geo",
         "hovertemplate": "<b>%{hovertext}</b><br><br>Country_Region=Germany<br>Cases=%{marker.size}<br>iso_alpha=%{location}<extra></extra>",
         "hovertext": [
          164967
         ],
         "legendgroup": "Germany",
         "locations": [
          "DEU"
         ],
         "marker": {
          "color": "#FFA15A",
          "size": [
           164967
          ],
          "sizemode": "area",
          "sizeref": 2830.9675
         },
         "name": "Germany",
         "showlegend": true,
         "type": "scattergeo"
        },
        {
         "geo": "geo",
         "hovertemplate": "<b>%{hovertext}</b><br><br>Country_Region=Ghana<br>Cases=%{marker.size}<br>iso_alpha=%{location}<extra></extra>",
         "hovertext": [
          2169
         ],
         "legendgroup": "Ghana",
         "locations": [
          "GHA"
         ],
         "marker": {
          "color": "#19d3f3",
          "size": [
           2169
          ],
          "sizemode": "area",
          "sizeref": 2830.9675
         },
         "name": "Ghana",
         "showlegend": true,
         "type": "scattergeo"
        },
        {
         "geo": "geo",
         "hovertemplate": "<b>%{hovertext}</b><br><br>Country_Region=Greece<br>Cases=%{marker.size}<br>iso_alpha=%{location}<extra></extra>",
         "hovertext": [
          2620
         ],
         "legendgroup": "Greece",
         "locations": [
          "GRC"
         ],
         "marker": {
          "color": "#FF6692",
          "size": [
           2620
          ],
          "sizemode": "area",
          "sizeref": 2830.9675
         },
         "name": "Greece",
         "showlegend": true,
         "type": "scattergeo"
        },
        {
         "geo": "geo",
         "hovertemplate": "<b>%{hovertext}</b><br><br>Country_Region=Guatemala<br>Cases=%{marker.size}<br>iso_alpha=%{location}<extra></extra>",
         "hovertext": [
          688
         ],
         "legendgroup": "Guatemala",
         "locations": [
          "GTM"
         ],
         "marker": {
          "color": "#B6E880",
          "size": [
           688
          ],
          "sizemode": "area",
          "sizeref": 2830.9675
         },
         "name": "Guatemala",
         "showlegend": true,
         "type": "scattergeo"
        },
        {
         "geo": "geo",
         "hovertemplate": "<b>%{hovertext}</b><br><br>Country_Region=Guinea<br>Cases=%{marker.size}<br>iso_alpha=%{location}<extra></extra>",
         "hovertext": [
          1586
         ],
         "legendgroup": "Guinea",
         "locations": [
          "GIN"
         ],
         "marker": {
          "color": "#FF97FF",
          "size": [
           1586
          ],
          "sizemode": "area",
          "sizeref": 2830.9675
         },
         "name": "Guinea",
         "showlegend": true,
         "type": "scattergeo"
        },
        {
         "geo": "geo",
         "hovertemplate": "<b>%{hovertext}</b><br><br>Country_Region=Guinea-Bissau<br>Cases=%{marker.size}<br>iso_alpha=%{location}<extra></extra>",
         "hovertext": [
          257
         ],
         "legendgroup": "Guinea-Bissau",
         "locations": [
          "GNB"
         ],
         "marker": {
          "color": "#FECB52",
          "size": [
           257
          ],
          "sizemode": "area",
          "sizeref": 2830.9675
         },
         "name": "Guinea-Bissau",
         "showlegend": true,
         "type": "scattergeo"
        },
        {
         "geo": "geo",
         "hovertemplate": "<b>%{hovertext}</b><br><br>Country_Region=Haiti<br>Cases=%{marker.size}<br>iso_alpha=%{location}<extra></extra>",
         "hovertext": [
          85
         ],
         "legendgroup": "Haiti",
         "locations": [
          "HTI"
         ],
         "marker": {
          "color": "#636efa",
          "size": [
           85
          ],
          "sizemode": "area",
          "sizeref": 2830.9675
         },
         "name": "Haiti",
         "showlegend": true,
         "type": "scattergeo"
        },
        {
         "geo": "geo",
         "hovertemplate": "<b>%{hovertext}</b><br><br>Country_Region=Honduras<br>Cases=%{marker.size}<br>iso_alpha=%{location}<extra></extra>",
         "hovertext": [
          1010
         ],
         "legendgroup": "Honduras",
         "locations": [
          "HND"
         ],
         "marker": {
          "color": "#EF553B",
          "size": [
           1010
          ],
          "sizemode": "area",
          "sizeref": 2830.9675
         },
         "name": "Honduras",
         "showlegend": true,
         "type": "scattergeo"
        },
        {
         "geo": "geo",
         "hovertemplate": "<b>%{hovertext}</b><br><br>Country_Region=Hungary<br>Cases=%{marker.size}<br>iso_alpha=%{location}<extra></extra>",
         "hovertext": [
          2942
         ],
         "legendgroup": "Hungary",
         "locations": [
          "HUN"
         ],
         "marker": {
          "color": "#00cc96",
          "size": [
           2942
          ],
          "sizemode": "area",
          "sizeref": 2830.9675
         },
         "name": "Hungary",
         "showlegend": true,
         "type": "scattergeo"
        },
        {
         "geo": "geo",
         "hovertemplate": "<b>%{hovertext}</b><br><br>Country_Region=Iceland<br>Cases=%{marker.size}<br>iso_alpha=%{location}<extra></extra>",
         "hovertext": [
          1798
         ],
         "legendgroup": "Iceland",
         "locations": [
          "ISL"
         ],
         "marker": {
          "color": "#ab63fa",
          "size": [
           1798
          ],
          "sizemode": "area",
          "sizeref": 2830.9675
         },
         "name": "Iceland",
         "showlegend": true,
         "type": "scattergeo"
        },
        {
         "geo": "geo",
         "hovertemplate": "<b>%{hovertext}</b><br><br>Country_Region=India<br>Cases=%{marker.size}<br>iso_alpha=%{location}<extra></extra>",
         "hovertext": [
          39699
         ],
         "legendgroup": "India",
         "locations": [
          "IND"
         ],
         "marker": {
          "color": "#FFA15A",
          "size": [
           39699
          ],
          "sizemode": "area",
          "sizeref": 2830.9675
         },
         "name": "India",
         "showlegend": true,
         "type": "scattergeo"
        },
        {
         "geo": "geo",
         "hovertemplate": "<b>%{hovertext}</b><br><br>Country_Region=Indonesia<br>Cases=%{marker.size}<br>iso_alpha=%{location}<extra></extra>",
         "hovertext": [
          10843
         ],
         "legendgroup": "Indonesia",
         "locations": [
          "IDN"
         ],
         "marker": {
          "color": "#19d3f3",
          "size": [
           10843
          ],
          "sizemode": "area",
          "sizeref": 2830.9675
         },
         "name": "Indonesia",
         "showlegend": true,
         "type": "scattergeo"
        },
        {
         "geo": "geo",
         "hovertemplate": "<b>%{hovertext}</b><br><br>Country_Region=Iran<br>Cases=%{marker.size}<br>iso_alpha=%{location}<extra></extra>",
         "hovertext": [
          96448
         ],
         "legendgroup": "Iran",
         "locations": [
          "IRN"
         ],
         "marker": {
          "color": "#FF6692",
          "size": [
           96448
          ],
          "sizemode": "area",
          "sizeref": 2830.9675
         },
         "name": "Iran",
         "showlegend": true,
         "type": "scattergeo"
        },
        {
         "geo": "geo",
         "hovertemplate": "<b>%{hovertext}</b><br><br>Country_Region=Iraq<br>Cases=%{marker.size}<br>iso_alpha=%{location}<extra></extra>",
         "hovertext": [
          2219
         ],
         "legendgroup": "Iraq",
         "locations": [
          "IRQ"
         ],
         "marker": {
          "color": "#B6E880",
          "size": [
           2219
          ],
          "sizemode": "area",
          "sizeref": 2830.9675
         },
         "name": "Iraq",
         "showlegend": true,
         "type": "scattergeo"
        },
        {
         "geo": "geo",
         "hovertemplate": "<b>%{hovertext}</b><br><br>Country_Region=Ireland<br>Cases=%{marker.size}<br>iso_alpha=%{location}<extra></extra>",
         "hovertext": [
          21176
         ],
         "legendgroup": "Ireland",
         "locations": [
          "IRL"
         ],
         "marker": {
          "color": "#FF97FF",
          "size": [
           21176
          ],
          "sizemode": "area",
          "sizeref": 2830.9675
         },
         "name": "Ireland",
         "showlegend": true,
         "type": "scattergeo"
        },
        {
         "geo": "geo",
         "hovertemplate": "<b>%{hovertext}</b><br><br>Country_Region=Israel<br>Cases=%{marker.size}<br>iso_alpha=%{location}<extra></extra>",
         "hovertext": [
          16185
         ],
         "legendgroup": "Israel",
         "locations": [
          "ISR"
         ],
         "marker": {
          "color": "#FECB52",
          "size": [
           16185
          ],
          "sizemode": "area",
          "sizeref": 2830.9675
         },
         "name": "Israel",
         "showlegend": true,
         "type": "scattergeo"
        },
        {
         "geo": "geo",
         "hovertemplate": "<b>%{hovertext}</b><br><br>Country_Region=Italy<br>Cases=%{marker.size}<br>iso_alpha=%{location}<extra></extra>",
         "hovertext": [
          209328
         ],
         "legendgroup": "Italy",
         "locations": [
          "ITA"
         ],
         "marker": {
          "color": "#636efa",
          "size": [
           209328
          ],
          "sizemode": "area",
          "sizeref": 2830.9675
         },
         "name": "Italy",
         "showlegend": true,
         "type": "scattergeo"
        },
        {
         "geo": "geo",
         "hovertemplate": "<b>%{hovertext}</b><br><br>Country_Region=Jamaica<br>Cases=%{marker.size}<br>iso_alpha=%{location}<extra></extra>",
         "hovertext": [
          463
         ],
         "legendgroup": "Jamaica",
         "locations": [
          "JAM"
         ],
         "marker": {
          "color": "#EF553B",
          "size": [
           463
          ],
          "sizemode": "area",
          "sizeref": 2830.9675
         },
         "name": "Jamaica",
         "showlegend": true,
         "type": "scattergeo"
        },
        {
         "geo": "geo",
         "hovertemplate": "<b>%{hovertext}</b><br><br>Country_Region=Japan<br>Cases=%{marker.size}<br>iso_alpha=%{location}<extra></extra>",
         "hovertext": [
          14571
         ],
         "legendgroup": "Japan",
         "locations": [
          "JPN"
         ],
         "marker": {
          "color": "#00cc96",
          "size": [
           14571
          ],
          "sizemode": "area",
          "sizeref": 2830.9675
         },
         "name": "Japan",
         "showlegend": true,
         "type": "scattergeo"
        },
        {
         "geo": "geo",
         "hovertemplate": "<b>%{hovertext}</b><br><br>Country_Region=Jordan<br>Cases=%{marker.size}<br>iso_alpha=%{location}<extra></extra>",
         "hovertext": [
          460
         ],
         "legendgroup": "Jordan",
         "locations": [
          "JOR"
         ],
         "marker": {
          "color": "#ab63fa",
          "size": [
           460
          ],
          "sizemode": "area",
          "sizeref": 2830.9675
         },
         "name": "Jordan",
         "showlegend": true,
         "type": "scattergeo"
        },
        {
         "geo": "geo",
         "hovertemplate": "<b>%{hovertext}</b><br><br>Country_Region=Kenya<br>Cases=%{marker.size}<br>iso_alpha=%{location}<extra></extra>",
         "hovertext": [
          435
         ],
         "legendgroup": "Kenya",
         "locations": [
          "KEN"
         ],
         "marker": {
          "color": "#FFA15A",
          "size": [
           435
          ],
          "sizemode": "area",
          "sizeref": 2830.9675
         },
         "name": "Kenya",
         "showlegend": true,
         "type": "scattergeo"
        },
        {
         "geo": "geo",
         "hovertemplate": "<b>%{hovertext}</b><br><br>Country_Region=Kuwait<br>Cases=%{marker.size}<br>iso_alpha=%{location}<extra></extra>",
         "hovertext": [
          4619
         ],
         "legendgroup": "Kuwait",
         "locations": [
          "KWT"
         ],
         "marker": {
          "color": "#19d3f3",
          "size": [
           4619
          ],
          "sizemode": "area",
          "sizeref": 2830.9675
         },
         "name": "Kuwait",
         "showlegend": true,
         "type": "scattergeo"
        },
        {
         "geo": "geo",
         "hovertemplate": "<b>%{hovertext}</b><br><br>Country_Region=Lebanon<br>Cases=%{marker.size}<br>iso_alpha=%{location}<extra></extra>",
         "hovertext": [
          733
         ],
         "legendgroup": "Lebanon",
         "locations": [
          "LBN"
         ],
         "marker": {
          "color": "#FF6692",
          "size": [
           733
          ],
          "sizemode": "area",
          "sizeref": 2830.9675
         },
         "name": "Lebanon",
         "showlegend": true,
         "type": "scattergeo"
        },
        {
         "geo": "geo",
         "hovertemplate": "<b>%{hovertext}</b><br><br>Country_Region=Liberia<br>Cases=%{marker.size}<br>iso_alpha=%{location}<extra></extra>",
         "hovertext": [
          154
         ],
         "legendgroup": "Liberia",
         "locations": [
          "LBR"
         ],
         "marker": {
          "color": "#B6E880",
          "size": [
           154
          ],
          "sizemode": "area",
          "sizeref": 2830.9675
         },
         "name": "Liberia",
         "showlegend": true,
         "type": "scattergeo"
        },
        {
         "geo": "geo",
         "hovertemplate": "<b>%{hovertext}</b><br><br>Country_Region=Libya<br>Cases=%{marker.size}<br>iso_alpha=%{location}<extra></extra>",
         "hovertext": [
          63
         ],
         "legendgroup": "Libya",
         "locations": [
          "LBY"
         ],
         "marker": {
          "color": "#FF97FF",
          "size": [
           63
          ],
          "sizemode": "area",
          "sizeref": 2830.9675
         },
         "name": "Libya",
         "showlegend": true,
         "type": "scattergeo"
        },
        {
         "geo": "geo",
         "hovertemplate": "<b>%{hovertext}</b><br><br>Country_Region=Madagascar<br>Cases=%{marker.size}<br>iso_alpha=%{location}<extra></extra>",
         "hovertext": [
          135
         ],
         "legendgroup": "Madagascar",
         "locations": [
          "MDG"
         ],
         "marker": {
          "color": "#FECB52",
          "size": [
           135
          ],
          "sizemode": "area",
          "sizeref": 2830.9675
         },
         "name": "Madagascar",
         "showlegend": true,
         "type": "scattergeo"
        },
        {
         "geo": "geo",
         "hovertemplate": "<b>%{hovertext}</b><br><br>Country_Region=Malawi<br>Cases=%{marker.size}<br>iso_alpha=%{location}<extra></extra>",
         "hovertext": [
          38
         ],
         "legendgroup": "Malawi",
         "locations": [
          "MWI"
         ],
         "marker": {
          "color": "#636efa",
          "size": [
           38
          ],
          "sizemode": "area",
          "sizeref": 2830.9675
         },
         "name": "Malawi",
         "showlegend": true,
         "type": "scattergeo"
        },
        {
         "geo": "geo",
         "hovertemplate": "<b>%{hovertext}</b><br><br>Country_Region=Malaysia<br>Cases=%{marker.size}<br>iso_alpha=%{location}<extra></extra>",
         "hovertext": [
          6176
         ],
         "legendgroup": "Malaysia",
         "locations": [
          "MYS"
         ],
         "marker": {
          "color": "#EF553B",
          "size": [
           6176
          ],
          "sizemode": "area",
          "sizeref": 2830.9675
         },
         "name": "Malaysia",
         "showlegend": true,
         "type": "scattergeo"
        },
        {
         "geo": "geo",
         "hovertemplate": "<b>%{hovertext}</b><br><br>Country_Region=Mali<br>Cases=%{marker.size}<br>iso_alpha=%{location}<extra></extra>",
         "hovertext": [
          544
         ],
         "legendgroup": "Mali",
         "locations": [
          "MLI"
         ],
         "marker": {
          "color": "#00cc96",
          "size": [
           544
          ],
          "sizemode": "area",
          "sizeref": 2830.9675
         },
         "name": "Mali",
         "showlegend": true,
         "type": "scattergeo"
        },
        {
         "geo": "geo",
         "hovertemplate": "<b>%{hovertext}</b><br><br>Country_Region=Mauritania<br>Cases=%{marker.size}<br>iso_alpha=%{location}<extra></extra>",
         "hovertext": [
          8
         ],
         "legendgroup": "Mauritania",
         "locations": [
          "MRT"
         ],
         "marker": {
          "color": "#ab63fa",
          "size": [
           8
          ],
          "sizemode": "area",
          "sizeref": 2830.9675
         },
         "name": "Mauritania",
         "showlegend": true,
         "type": "scattergeo"
        },
        {
         "geo": "geo",
         "hovertemplate": "<b>%{hovertext}</b><br><br>Country_Region=Mauritius<br>Cases=%{marker.size}<br>iso_alpha=%{location}<extra></extra>",
         "hovertext": [
          332
         ],
         "legendgroup": "Mauritius",
         "locations": [
          "MUS"
         ],
         "marker": {
          "color": "#FFA15A",
          "size": [
           332
          ],
          "sizemode": "area",
          "sizeref": 2830.9675
         },
         "name": "Mauritius",
         "showlegend": true,
         "type": "scattergeo"
        },
        {
         "geo": "geo",
         "hovertemplate": "<b>%{hovertext}</b><br><br>Country_Region=Mexico<br>Cases=%{marker.size}<br>iso_alpha=%{location}<extra></extra>",
         "hovertext": [
          22088
         ],
         "legendgroup": "Mexico",
         "locations": [
          "MEX"
         ],
         "marker": {
          "color": "#19d3f3",
          "size": [
           22088
          ],
          "sizemode": "area",
          "sizeref": 2830.9675
         },
         "name": "Mexico",
         "showlegend": true,
         "type": "scattergeo"
        },
        {
         "geo": "geo",
         "hovertemplate": "<b>%{hovertext}</b><br><br>Country_Region=Mongolia<br>Cases=%{marker.size}<br>iso_alpha=%{location}<extra></extra>",
         "hovertext": [
          39
         ],
         "legendgroup": "Mongolia",
         "locations": [
          "MNG"
         ],
         "marker": {
          "color": "#FF6692",
          "size": [
           39
          ],
          "sizemode": "area",
          "sizeref": 2830.9675
         },
         "name": "Mongolia",
         "showlegend": true,
         "type": "scattergeo"
        },
        {
         "geo": "geo",
         "hovertemplate": "<b>%{hovertext}</b><br><br>Country_Region=Montenegro<br>Cases=%{marker.size}<br>iso_alpha=%{location}<extra></extra>",
         "hovertext": [
          322
         ],
         "legendgroup": "Montenegro",
         "locations": [
          "MNE"
         ],
         "marker": {
          "color": "#B6E880",
          "size": [
           322
          ],
          "sizemode": "area",
          "sizeref": 2830.9675
         },
         "name": "Montenegro",
         "showlegend": true,
         "type": "scattergeo"
        },
        {
         "geo": "geo",
         "hovertemplate": "<b>%{hovertext}</b><br><br>Country_Region=Morocco<br>Cases=%{marker.size}<br>iso_alpha=%{location}<extra></extra>",
         "hovertext": [
          4729
         ],
         "legendgroup": "Morocco",
         "locations": [
          "MAR"
         ],
         "marker": {
          "color": "#FF97FF",
          "size": [
           4729
          ],
          "sizemode": "area",
          "sizeref": 2830.9675
         },
         "name": "Morocco",
         "showlegend": true,
         "type": "scattergeo"
        },
        {
         "geo": "geo",
         "hovertemplate": "<b>%{hovertext}</b><br><br>Country_Region=Mozambique<br>Cases=%{marker.size}<br>iso_alpha=%{location}<extra></extra>",
         "hovertext": [
          79
         ],
         "legendgroup": "Mozambique",
         "locations": [
          "MOZ"
         ],
         "marker": {
          "color": "#FECB52",
          "size": [
           79
          ],
          "sizemode": "area",
          "sizeref": 2830.9675
         },
         "name": "Mozambique",
         "showlegend": true,
         "type": "scattergeo"
        },
        {
         "geo": "geo",
         "hovertemplate": "<b>%{hovertext}</b><br><br>Country_Region=Namibia<br>Cases=%{marker.size}<br>iso_alpha=%{location}<extra></extra>",
         "hovertext": [
          16
         ],
         "legendgroup": "Namibia",
         "locations": [
          "NAM"
         ],
         "marker": {
          "color": "#636efa",
          "size": [
           16
          ],
          "sizemode": "area",
          "sizeref": 2830.9675
         },
         "name": "Namibia",
         "showlegend": true,
         "type": "scattergeo"
        },
        {
         "geo": "geo",
         "hovertemplate": "<b>%{hovertext}</b><br><br>Country_Region=Nepal<br>Cases=%{marker.size}<br>iso_alpha=%{location}<extra></extra>",
         "hovertext": [
          59
         ],
         "legendgroup": "Nepal",
         "locations": [
          "NPL"
         ],
         "marker": {
          "color": "#EF553B",
          "size": [
           59
          ],
          "sizemode": "area",
          "sizeref": 2830.9675
         },
         "name": "Nepal",
         "showlegend": true,
         "type": "scattergeo"
        },
        {
         "geo": "geo",
         "hovertemplate": "<b>%{hovertext}</b><br><br>Country_Region=Netherlands<br>Cases=%{marker.size}<br>iso_alpha=%{location}<extra></extra>",
         "hovertext": [
          40434
         ],
         "legendgroup": "Netherlands",
         "locations": [
          "NLD"
         ],
         "marker": {
          "color": "#00cc96",
          "size": [
           40434
          ],
          "sizemode": "area",
          "sizeref": 2830.9675
         },
         "name": "Netherlands",
         "showlegend": true,
         "type": "scattergeo"
        },
        {
         "geo": "geo",
         "hovertemplate": "<b>%{hovertext}</b><br><br>Country_Region=New Zealand<br>Cases=%{marker.size}<br>iso_alpha=%{location}<extra></extra>",
         "hovertext": [
          1487
         ],
         "legendgroup": "New Zealand",
         "locations": [
          "NZL"
         ],
         "marker": {
          "color": "#ab63fa",
          "size": [
           1487
          ],
          "sizemode": "area",
          "sizeref": 2830.9675
         },
         "name": "New Zealand",
         "showlegend": true,
         "type": "scattergeo"
        },
        {
         "geo": "geo",
         "hovertemplate": "<b>%{hovertext}</b><br><br>Country_Region=Nicaragua<br>Cases=%{marker.size}<br>iso_alpha=%{location}<extra></extra>",
         "hovertext": [
          14
         ],
         "legendgroup": "Nicaragua",
         "locations": [
          "NIC"
         ],
         "marker": {
          "color": "#FFA15A",
          "size": [
           14
          ],
          "sizemode": "area",
          "sizeref": 2830.9675
         },
         "name": "Nicaragua",
         "showlegend": true,
         "type": "scattergeo"
        },
        {
         "geo": "geo",
         "hovertemplate": "<b>%{hovertext}</b><br><br>Country_Region=Niger<br>Cases=%{marker.size}<br>iso_alpha=%{location}<extra></extra>",
         "hovertext": [
          736
         ],
         "legendgroup": "Niger",
         "locations": [
          "NER"
         ],
         "marker": {
          "color": "#19d3f3",
          "size": [
           736
          ],
          "sizemode": "area",
          "sizeref": 2830.9675
         },
         "name": "Niger",
         "showlegend": true,
         "type": "scattergeo"
        },
        {
         "geo": "geo",
         "hovertemplate": "<b>%{hovertext}</b><br><br>Country_Region=Nigeria<br>Cases=%{marker.size}<br>iso_alpha=%{location}<extra></extra>",
         "hovertext": [
          2388
         ],
         "legendgroup": "Nigeria",
         "locations": [
          "NGA"
         ],
         "marker": {
          "color": "#FF6692",
          "size": [
           2388
          ],
          "sizemode": "area",
          "sizeref": 2830.9675
         },
         "name": "Nigeria",
         "showlegend": true,
         "type": "scattergeo"
        },
        {
         "geo": "geo",
         "hovertemplate": "<b>%{hovertext}</b><br><br>Country_Region=Norway<br>Cases=%{marker.size}<br>iso_alpha=%{location}<extra></extra>",
         "hovertext": [
          7809
         ],
         "legendgroup": "Norway",
         "locations": [
          "NOR"
         ],
         "marker": {
          "color": "#B6E880",
          "size": [
           7809
          ],
          "sizemode": "area",
          "sizeref": 2830.9675
         },
         "name": "Norway",
         "showlegend": true,
         "type": "scattergeo"
        },
        {
         "geo": "geo",
         "hovertemplate": "<b>%{hovertext}</b><br><br>Country_Region=Oman<br>Cases=%{marker.size}<br>iso_alpha=%{location}<extra></extra>",
         "hovertext": [
          2483
         ],
         "legendgroup": "Oman",
         "locations": [
          "OMN"
         ],
         "marker": {
          "color": "#FF97FF",
          "size": [
           2483
          ],
          "sizemode": "area",
          "sizeref": 2830.9675
         },
         "name": "Oman",
         "showlegend": true,
         "type": "scattergeo"
        },
        {
         "geo": "geo",
         "hovertemplate": "<b>%{hovertext}</b><br><br>Country_Region=Pakistan<br>Cases=%{marker.size}<br>iso_alpha=%{location}<extra></extra>",
         "hovertext": [
          19103
         ],
         "legendgroup": "Pakistan",
         "locations": [
          "PAK"
         ],
         "marker": {
          "color": "#FECB52",
          "size": [
           19103
          ],
          "sizemode": "area",
          "sizeref": 2830.9675
         },
         "name": "Pakistan",
         "showlegend": true,
         "type": "scattergeo"
        },
        {
         "geo": "geo",
         "hovertemplate": "<b>%{hovertext}</b><br><br>Country_Region=Panama<br>Cases=%{marker.size}<br>iso_alpha=%{location}<extra></extra>",
         "hovertext": [
          7090
         ],
         "legendgroup": "Panama",
         "locations": [
          "PAN"
         ],
         "marker": {
          "color": "#636efa",
          "size": [
           7090
          ],
          "sizemode": "area",
          "sizeref": 2830.9675
         },
         "name": "Panama",
         "showlegend": true,
         "type": "scattergeo"
        },
        {
         "geo": "geo",
         "hovertemplate": "<b>%{hovertext}</b><br><br>Country_Region=Paraguay<br>Cases=%{marker.size}<br>iso_alpha=%{location}<extra></extra>",
         "hovertext": [
          370
         ],
         "legendgroup": "Paraguay",
         "locations": [
          "PRY"
         ],
         "marker": {
          "color": "#EF553B",
          "size": [
           370
          ],
          "sizemode": "area",
          "sizeref": 2830.9675
         },
         "name": "Paraguay",
         "showlegend": true,
         "type": "scattergeo"
        },
        {
         "geo": "geo",
         "hovertemplate": "<b>%{hovertext}</b><br><br>Country_Region=Peru<br>Cases=%{marker.size}<br>iso_alpha=%{location}<extra></extra>",
         "hovertext": [
          42534
         ],
         "legendgroup": "Peru",
         "locations": [
          "PER"
         ],
         "marker": {
          "color": "#00cc96",
          "size": [
           42534
          ],
          "sizemode": "area",
          "sizeref": 2830.9675
         },
         "name": "Peru",
         "showlegend": true,
         "type": "scattergeo"
        },
        {
         "geo": "geo",
         "hovertemplate": "<b>%{hovertext}</b><br><br>Country_Region=Philippines<br>Cases=%{marker.size}<br>iso_alpha=%{location}<extra></extra>",
         "hovertext": [
          8928
         ],
         "legendgroup": "Philippines",
         "locations": [
          "PHL"
         ],
         "marker": {
          "color": "#ab63fa",
          "size": [
           8928
          ],
          "sizemode": "area",
          "sizeref": 2830.9675
         },
         "name": "Philippines",
         "showlegend": true,
         "type": "scattergeo"
        },
        {
         "geo": "geo",
         "hovertemplate": "<b>%{hovertext}</b><br><br>Country_Region=Poland<br>Cases=%{marker.size}<br>iso_alpha=%{location}<extra></extra>",
         "hovertext": [
          13375
         ],
         "legendgroup": "Poland",
         "locations": [
          "POL"
         ],
         "marker": {
          "color": "#FFA15A",
          "size": [
           13375
          ],
          "sizemode": "area",
          "sizeref": 2830.9675
         },
         "name": "Poland",
         "showlegend": true,
         "type": "scattergeo"
        },
        {
         "geo": "geo",
         "hovertemplate": "<b>%{hovertext}</b><br><br>Country_Region=Portugal<br>Cases=%{marker.size}<br>iso_alpha=%{location}<extra></extra>",
         "hovertext": [
          25190
         ],
         "legendgroup": "Portugal",
         "locations": [
          "PRT"
         ],
         "marker": {
          "color": "#19d3f3",
          "size": [
           25190
          ],
          "sizemode": "area",
          "sizeref": 2830.9675
         },
         "name": "Portugal",
         "showlegend": true,
         "type": "scattergeo"
        },
        {
         "geo": "geo",
         "hovertemplate": "<b>%{hovertext}</b><br><br>Country_Region=Romania<br>Cases=%{marker.size}<br>iso_alpha=%{location}<extra></extra>",
         "hovertext": [
          12732
         ],
         "legendgroup": "Romania",
         "locations": [
          "ROU"
         ],
         "marker": {
          "color": "#FF6692",
          "size": [
           12732
          ],
          "sizemode": "area",
          "sizeref": 2830.9675
         },
         "name": "Romania",
         "showlegend": true,
         "type": "scattergeo"
        },
        {
         "geo": "geo",
         "hovertemplate": "<b>%{hovertext}</b><br><br>Country_Region=Rwanda<br>Cases=%{marker.size}<br>iso_alpha=%{location}<extra></extra>",
         "hovertext": [
          255
         ],
         "legendgroup": "Rwanda",
         "locations": [
          "RWA"
         ],
         "marker": {
          "color": "#B6E880",
          "size": [
           255
          ],
          "sizemode": "area",
          "sizeref": 2830.9675
         },
         "name": "Rwanda",
         "showlegend": true,
         "type": "scattergeo"
        },
        {
         "geo": "geo",
         "hovertemplate": "<b>%{hovertext}</b><br><br>Country_Region=Sao Tome and Principe<br>Cases=%{marker.size}<br>iso_alpha=%{location}<extra></extra>",
         "hovertext": [
          16
         ],
         "legendgroup": "Sao Tome and Principe",
         "locations": [
          "STP"
         ],
         "marker": {
          "color": "#FF97FF",
          "size": [
           16
          ],
          "sizemode": "area",
          "sizeref": 2830.9675
         },
         "name": "Sao Tome and Principe",
         "showlegend": true,
         "type": "scattergeo"
        },
        {
         "geo": "geo",
         "hovertemplate": "<b>%{hovertext}</b><br><br>Country_Region=Saudi Arabia<br>Cases=%{marker.size}<br>iso_alpha=%{location}<extra></extra>",
         "hovertext": [
          25459
         ],
         "legendgroup": "Saudi Arabia",
         "locations": [
          "SAU"
         ],
         "marker": {
          "color": "#FECB52",
          "size": [
           25459
          ],
          "sizemode": "area",
          "sizeref": 2830.9675
         },
         "name": "Saudi Arabia",
         "showlegend": true,
         "type": "scattergeo"
        },
        {
         "geo": "geo",
         "hovertemplate": "<b>%{hovertext}</b><br><br>Country_Region=Senegal<br>Cases=%{marker.size}<br>iso_alpha=%{location}<extra></extra>",
         "hovertext": [
          1115
         ],
         "legendgroup": "Senegal",
         "locations": [
          "SEN"
         ],
         "marker": {
          "color": "#636efa",
          "size": [
           1115
          ],
          "sizemode": "area",
          "sizeref": 2830.9675
         },
         "name": "Senegal",
         "showlegend": true,
         "type": "scattergeo"
        },
        {
         "geo": "geo",
         "hovertemplate": "<b>%{hovertext}</b><br><br>Country_Region=Serbia<br>Cases=%{marker.size}<br>iso_alpha=%{location}<extra></extra>",
         "hovertext": [
          9362
         ],
         "legendgroup": "Serbia",
         "locations": [
          "SRB"
         ],
         "marker": {
          "color": "#EF553B",
          "size": [
           9362
          ],
          "sizemode": "area",
          "sizeref": 2830.9675
         },
         "name": "Serbia",
         "showlegend": true,
         "type": "scattergeo"
        },
        {
         "geo": "geo",
         "hovertemplate": "<b>%{hovertext}</b><br><br>Country_Region=Sierra Leone<br>Cases=%{marker.size}<br>iso_alpha=%{location}<extra></extra>",
         "hovertext": [
          155
         ],
         "legendgroup": "Sierra Leone",
         "locations": [
          "SLE"
         ],
         "marker": {
          "color": "#00cc96",
          "size": [
           155
          ],
          "sizemode": "area",
          "sizeref": 2830.9675
         },
         "name": "Sierra Leone",
         "showlegend": true,
         "type": "scattergeo"
        },
        {
         "geo": "geo",
         "hovertemplate": "<b>%{hovertext}</b><br><br>Country_Region=Singapore<br>Cases=%{marker.size}<br>iso_alpha=%{location}<extra></extra>",
         "hovertext": [
          17548
         ],
         "legendgroup": "Singapore",
         "locations": [
          "SGP"
         ],
         "marker": {
          "color": "#ab63fa",
          "size": [
           17548
          ],
          "sizemode": "area",
          "sizeref": 2830.9675
         },
         "name": "Singapore",
         "showlegend": true,
         "type": "scattergeo"
        },
        {
         "geo": "geo",
         "hovertemplate": "<b>%{hovertext}</b><br><br>Country_Region=Slovenia<br>Cases=%{marker.size}<br>iso_alpha=%{location}<extra></extra>",
         "hovertext": [
          1439
         ],
         "legendgroup": "Slovenia",
         "locations": [
          "SVN"
         ],
         "marker": {
          "color": "#FFA15A",
          "size": [
           1439
          ],
          "sizemode": "area",
          "sizeref": 2830.9675
         },
         "name": "Slovenia",
         "showlegend": true,
         "type": "scattergeo"
        },
        {
         "geo": "geo",
         "hovertemplate": "<b>%{hovertext}</b><br><br>Country_Region=Somalia<br>Cases=%{marker.size}<br>iso_alpha=%{location}<extra></extra>",
         "hovertext": [
          671
         ],
         "legendgroup": "Somalia",
         "locations": [
          "SOM"
         ],
         "marker": {
          "color": "#19d3f3",
          "size": [
           671
          ],
          "sizemode": "area",
          "sizeref": 2830.9675
         },
         "name": "Somalia",
         "showlegend": true,
         "type": "scattergeo"
        },
        {
         "geo": "geo",
         "hovertemplate": "<b>%{hovertext}</b><br><br>Country_Region=South Africa<br>Cases=%{marker.size}<br>iso_alpha=%{location}<extra></extra>",
         "hovertext": [
          6336
         ],
         "legendgroup": "South Africa",
         "locations": [
          "ZAF"
         ],
         "marker": {
          "color": "#FF6692",
          "size": [
           6336
          ],
          "sizemode": "area",
          "sizeref": 2830.9675
         },
         "name": "South Africa",
         "showlegend": true,
         "type": "scattergeo"
        },
        {
         "geo": "geo",
         "hovertemplate": "<b>%{hovertext}</b><br><br>Country_Region=Spain<br>Cases=%{marker.size}<br>iso_alpha=%{location}<extra></extra>",
         "hovertext": [
          216582
         ],
         "legendgroup": "Spain",
         "locations": [
          "ESP"
         ],
         "marker": {
          "color": "#B6E880",
          "size": [
           216582
          ],
          "sizemode": "area",
          "sizeref": 2830.9675
         },
         "name": "Spain",
         "showlegend": true,
         "type": "scattergeo"
        },
        {
         "geo": "geo",
         "hovertemplate": "<b>%{hovertext}</b><br><br>Country_Region=Sri Lanka<br>Cases=%{marker.size}<br>iso_alpha=%{location}<extra></extra>",
         "hovertext": [
          705
         ],
         "legendgroup": "Sri Lanka",
         "locations": [
          "LKA"
         ],
         "marker": {
          "color": "#FF97FF",
          "size": [
           705
          ],
          "sizemode": "area",
          "sizeref": 2830.9675
         },
         "name": "Sri Lanka",
         "showlegend": true,
         "type": "scattergeo"
        },
        {
         "geo": "geo",
         "hovertemplate": "<b>%{hovertext}</b><br><br>Country_Region=Sudan<br>Cases=%{marker.size}<br>iso_alpha=%{location}<extra></extra>",
         "hovertext": [
          592
         ],
         "legendgroup": "Sudan",
         "locations": [
          "SDN"
         ],
         "marker": {
          "color": "#FECB52",
          "size": [
           592
          ],
          "sizemode": "area",
          "sizeref": 2830.9675
         },
         "name": "Sudan",
         "showlegend": true,
         "type": "scattergeo"
        },
        {
         "geo": "geo",
         "hovertemplate": "<b>%{hovertext}</b><br><br>Country_Region=Sweden<br>Cases=%{marker.size}<br>iso_alpha=%{location}<extra></extra>",
         "hovertext": [
          22082
         ],
         "legendgroup": "Sweden",
         "locations": [
          "SWE"
         ],
         "marker": {
          "color": "#636efa",
          "size": [
           22082
          ],
          "sizemode": "area",
          "sizeref": 2830.9675
         },
         "name": "Sweden",
         "showlegend": true,
         "type": "scattergeo"
        },
        {
         "geo": "geo",
         "hovertemplate": "<b>%{hovertext}</b><br><br>Country_Region=Switzerland<br>Cases=%{marker.size}<br>iso_alpha=%{location}<extra></extra>",
         "hovertext": [
          29817
         ],
         "legendgroup": "Switzerland",
         "locations": [
          "CHE"
         ],
         "marker": {
          "color": "#EF553B",
          "size": [
           29817
          ],
          "sizemode": "area",
          "sizeref": 2830.9675
         },
         "name": "Switzerland",
         "showlegend": true,
         "type": "scattergeo"
        },
        {
         "geo": "geo",
         "hovertemplate": "<b>%{hovertext}</b><br><br>Country_Region=Syria<br>Cases=%{marker.size}<br>iso_alpha=%{location}<extra></extra>",
         "hovertext": [
          44
         ],
         "legendgroup": "Syria",
         "locations": [
          "SYR"
         ],
         "marker": {
          "color": "#00cc96",
          "size": [
           44
          ],
          "sizemode": "area",
          "sizeref": 2830.9675
         },
         "name": "Syria",
         "showlegend": true,
         "type": "scattergeo"
        },
        {
         "geo": "geo",
         "hovertemplate": "<b>%{hovertext}</b><br><br>Country_Region=Tanzania<br>Cases=%{marker.size}<br>iso_alpha=%{location}<extra></extra>",
         "hovertext": [
          480
         ],
         "legendgroup": "Tanzania",
         "locations": [
          "TZA"
         ],
         "marker": {
          "color": "#ab63fa",
          "size": [
           480
          ],
          "sizemode": "area",
          "sizeref": 2830.9675
         },
         "name": "Tanzania",
         "showlegend": true,
         "type": "scattergeo"
        },
        {
         "geo": "geo",
         "hovertemplate": "<b>%{hovertext}</b><br><br>Country_Region=Thailand<br>Cases=%{marker.size}<br>iso_alpha=%{location}<extra></extra>",
         "hovertext": [
          2966
         ],
         "legendgroup": "Thailand",
         "locations": [
          "THA"
         ],
         "marker": {
          "color": "#FFA15A",
          "size": [
           2966
          ],
          "sizemode": "area",
          "sizeref": 2830.9675
         },
         "name": "Thailand",
         "showlegend": true,
         "type": "scattergeo"
        },
        {
         "geo": "geo",
         "hovertemplate": "<b>%{hovertext}</b><br><br>Country_Region=Togo<br>Cases=%{marker.size}<br>iso_alpha=%{location}<extra></extra>",
         "hovertext": [
          123
         ],
         "legendgroup": "Togo",
         "locations": [
          "TGO"
         ],
         "marker": {
          "color": "#19d3f3",
          "size": [
           123
          ],
          "sizemode": "area",
          "sizeref": 2830.9675
         },
         "name": "Togo",
         "showlegend": true,
         "type": "scattergeo"
        },
        {
         "geo": "geo",
         "hovertemplate": "<b>%{hovertext}</b><br><br>Country_Region=Trinidad and Tobago<br>Cases=%{marker.size}<br>iso_alpha=%{location}<extra></extra>",
         "hovertext": [
          116
         ],
         "legendgroup": "Trinidad and Tobago",
         "locations": [
          "TTO"
         ],
         "marker": {
          "color": "#FF6692",
          "size": [
           116
          ],
          "sizemode": "area",
          "sizeref": 2830.9675
         },
         "name": "Trinidad and Tobago",
         "showlegend": true,
         "type": "scattergeo"
        },
        {
         "geo": "geo",
         "hovertemplate": "<b>%{hovertext}</b><br><br>Country_Region=Tunisia<br>Cases=%{marker.size}<br>iso_alpha=%{location}<extra></extra>",
         "hovertext": [
          1009
         ],
         "legendgroup": "Tunisia",
         "locations": [
          "TUN"
         ],
         "marker": {
          "color": "#B6E880",
          "size": [
           1009
          ],
          "sizemode": "area",
          "sizeref": 2830.9675
         },
         "name": "Tunisia",
         "showlegend": true,
         "type": "scattergeo"
        },
        {
         "geo": "geo",
         "hovertemplate": "<b>%{hovertext}</b><br><br>Country_Region=Turkey<br>Cases=%{marker.size}<br>iso_alpha=%{location}<extra></extra>",
         "hovertext": [
          124375
         ],
         "legendgroup": "Turkey",
         "locations": [
          "TUR"
         ],
         "marker": {
          "color": "#FF97FF",
          "size": [
           124375
          ],
          "sizemode": "area",
          "sizeref": 2830.9675
         },
         "name": "Turkey",
         "showlegend": true,
         "type": "scattergeo"
        },
        {
         "geo": "geo",
         "hovertemplate": "<b>%{hovertext}</b><br><br>Country_Region=US<br>Cases=%{marker.size}<br>iso_alpha=%{location}<extra></extra>",
         "hovertext": [
          1132387
         ],
         "legendgroup": "US",
         "locations": [
          "USA"
         ],
         "marker": {
          "color": "#FECB52",
          "size": [
           1132387
          ],
          "sizemode": "area",
          "sizeref": 2830.9675
         },
         "name": "US",
         "showlegend": true,
         "type": "scattergeo"
        },
        {
         "geo": "geo",
         "hovertemplate": "<b>%{hovertext}</b><br><br>Country_Region=Uganda<br>Cases=%{marker.size}<br>iso_alpha=%{location}<extra></extra>",
         "hovertext": [
          88
         ],
         "legendgroup": "Uganda",
         "locations": [
          "UGA"
         ],
         "marker": {
          "color": "#636efa",
          "size": [
           88
          ],
          "sizemode": "area",
          "sizeref": 2830.9675
         },
         "name": "Uganda",
         "showlegend": true,
         "type": "scattergeo"
        },
        {
         "geo": "geo",
         "hovertemplate": "<b>%{hovertext}</b><br><br>Country_Region=United Kingdom<br>Cases=%{marker.size}<br>iso_alpha=%{location}<extra></extra>",
         "hovertext": [
          183500
         ],
         "legendgroup": "United Kingdom",
         "locations": [
          "GBR"
         ],
         "marker": {
          "color": "#EF553B",
          "size": [
           183500
          ],
          "sizemode": "area",
          "sizeref": 2830.9675
         },
         "name": "United Kingdom",
         "showlegend": true,
         "type": "scattergeo"
        },
        {
         "geo": "geo",
         "hovertemplate": "<b>%{hovertext}</b><br><br>Country_Region=Uruguay<br>Cases=%{marker.size}<br>iso_alpha=%{location}<extra></extra>",
         "hovertext": [
          652
         ],
         "legendgroup": "Uruguay",
         "locations": [
          "URY"
         ],
         "marker": {
          "color": "#00cc96",
          "size": [
           652
          ],
          "sizemode": "area",
          "sizeref": 2830.9675
         },
         "name": "Uruguay",
         "showlegend": true,
         "type": "scattergeo"
        },
        {
         "geo": "geo",
         "hovertemplate": "<b>%{hovertext}</b><br><br>Country_Region=Venezuela<br>Cases=%{marker.size}<br>iso_alpha=%{location}<extra></extra>",
         "hovertext": [
          345
         ],
         "legendgroup": "Venezuela",
         "locations": [
          "VEN"
         ],
         "marker": {
          "color": "#ab63fa",
          "size": [
           345
          ],
          "sizemode": "area",
          "sizeref": 2830.9675
         },
         "name": "Venezuela",
         "showlegend": true,
         "type": "scattergeo"
        },
        {
         "geo": "geo",
         "hovertemplate": "<b>%{hovertext}</b><br><br>Country_Region=Vietnam<br>Cases=%{marker.size}<br>iso_alpha=%{location}<extra></extra>",
         "hovertext": [
          270
         ],
         "legendgroup": "Vietnam",
         "locations": [
          "VNM"
         ],
         "marker": {
          "color": "#FFA15A",
          "size": [
           270
          ],
          "sizemode": "area",
          "sizeref": 2830.9675
         },
         "name": "Vietnam",
         "showlegend": true,
         "type": "scattergeo"
        },
        {
         "geo": "geo",
         "hovertemplate": "<b>%{hovertext}</b><br><br>Country_Region=West Bank and Gaza<br>Cases=%{marker.size}<br>iso_alpha=%{location}<extra></extra>",
         "hovertext": [
          353
         ],
         "legendgroup": "West Bank and Gaza",
         "locations": [
          "PSE"
         ],
         "marker": {
          "color": "#19d3f3",
          "size": [
           353
          ],
          "sizemode": "area",
          "sizeref": 2830.9675
         },
         "name": "West Bank and Gaza",
         "showlegend": true,
         "type": "scattergeo"
        },
        {
         "geo": "geo",
         "hovertemplate": "<b>%{hovertext}</b><br><br>Country_Region=Zambia<br>Cases=%{marker.size}<br>iso_alpha=%{location}<extra></extra>",
         "hovertext": [
          119
         ],
         "legendgroup": "Zambia",
         "locations": [
          "ZMB"
         ],
         "marker": {
          "color": "#FF6692",
          "size": [
           119
          ],
          "sizemode": "area",
          "sizeref": 2830.9675
         },
         "name": "Zambia",
         "showlegend": true,
         "type": "scattergeo"
        },
        {
         "geo": "geo",
         "hovertemplate": "<b>%{hovertext}</b><br><br>Country_Region=Zimbabwe<br>Cases=%{marker.size}<br>iso_alpha=%{location}<extra></extra>",
         "hovertext": [
          34
         ],
         "legendgroup": "Zimbabwe",
         "locations": [
          "ZWE"
         ],
         "marker": {
          "color": "#B6E880",
          "size": [
           34
          ],
          "sizemode": "area",
          "sizeref": 2830.9675
         },
         "name": "Zimbabwe",
         "showlegend": true,
         "type": "scattergeo"
        }
       ],
       "layout": {
        "geo": {
         "center": {},
         "domain": {
          "x": [
           0,
           1
          ],
          "y": [
           0,
           1
          ]
         },
         "projection": {
          "type": "natural earth"
         }
        },
        "legend": {
         "itemsizing": "constant",
         "title": {
          "text": "Country_Region"
         },
         "tracegroupgap": 0
        },
        "margin": {
         "t": 60
        },
        "template": {
         "data": {
          "bar": [
           {
            "error_x": {
             "color": "#2a3f5f"
            },
            "error_y": {
             "color": "#2a3f5f"
            },
            "marker": {
             "line": {
              "color": "#E5ECF6",
              "width": 0.5
             }
            },
            "type": "bar"
           }
          ],
          "barpolar": [
           {
            "marker": {
             "line": {
              "color": "#E5ECF6",
              "width": 0.5
             }
            },
            "type": "barpolar"
           }
          ],
          "carpet": [
           {
            "aaxis": {
             "endlinecolor": "#2a3f5f",
             "gridcolor": "white",
             "linecolor": "white",
             "minorgridcolor": "white",
             "startlinecolor": "#2a3f5f"
            },
            "baxis": {
             "endlinecolor": "#2a3f5f",
             "gridcolor": "white",
             "linecolor": "white",
             "minorgridcolor": "white",
             "startlinecolor": "#2a3f5f"
            },
            "type": "carpet"
           }
          ],
          "choropleth": [
           {
            "colorbar": {
             "outlinewidth": 0,
             "ticks": ""
            },
            "type": "choropleth"
           }
          ],
          "contour": [
           {
            "colorbar": {
             "outlinewidth": 0,
             "ticks": ""
            },
            "colorscale": [
             [
              0,
              "#0d0887"
             ],
             [
              0.1111111111111111,
              "#46039f"
             ],
             [
              0.2222222222222222,
              "#7201a8"
             ],
             [
              0.3333333333333333,
              "#9c179e"
             ],
             [
              0.4444444444444444,
              "#bd3786"
             ],
             [
              0.5555555555555556,
              "#d8576b"
             ],
             [
              0.6666666666666666,
              "#ed7953"
             ],
             [
              0.7777777777777778,
              "#fb9f3a"
             ],
             [
              0.8888888888888888,
              "#fdca26"
             ],
             [
              1,
              "#f0f921"
             ]
            ],
            "type": "contour"
           }
          ],
          "contourcarpet": [
           {
            "colorbar": {
             "outlinewidth": 0,
             "ticks": ""
            },
            "type": "contourcarpet"
           }
          ],
          "heatmap": [
           {
            "colorbar": {
             "outlinewidth": 0,
             "ticks": ""
            },
            "colorscale": [
             [
              0,
              "#0d0887"
             ],
             [
              0.1111111111111111,
              "#46039f"
             ],
             [
              0.2222222222222222,
              "#7201a8"
             ],
             [
              0.3333333333333333,
              "#9c179e"
             ],
             [
              0.4444444444444444,
              "#bd3786"
             ],
             [
              0.5555555555555556,
              "#d8576b"
             ],
             [
              0.6666666666666666,
              "#ed7953"
             ],
             [
              0.7777777777777778,
              "#fb9f3a"
             ],
             [
              0.8888888888888888,
              "#fdca26"
             ],
             [
              1,
              "#f0f921"
             ]
            ],
            "type": "heatmap"
           }
          ],
          "heatmapgl": [
           {
            "colorbar": {
             "outlinewidth": 0,
             "ticks": ""
            },
            "colorscale": [
             [
              0,
              "#0d0887"
             ],
             [
              0.1111111111111111,
              "#46039f"
             ],
             [
              0.2222222222222222,
              "#7201a8"
             ],
             [
              0.3333333333333333,
              "#9c179e"
             ],
             [
              0.4444444444444444,
              "#bd3786"
             ],
             [
              0.5555555555555556,
              "#d8576b"
             ],
             [
              0.6666666666666666,
              "#ed7953"
             ],
             [
              0.7777777777777778,
              "#fb9f3a"
             ],
             [
              0.8888888888888888,
              "#fdca26"
             ],
             [
              1,
              "#f0f921"
             ]
            ],
            "type": "heatmapgl"
           }
          ],
          "histogram": [
           {
            "marker": {
             "colorbar": {
              "outlinewidth": 0,
              "ticks": ""
             }
            },
            "type": "histogram"
           }
          ],
          "histogram2d": [
           {
            "colorbar": {
             "outlinewidth": 0,
             "ticks": ""
            },
            "colorscale": [
             [
              0,
              "#0d0887"
             ],
             [
              0.1111111111111111,
              "#46039f"
             ],
             [
              0.2222222222222222,
              "#7201a8"
             ],
             [
              0.3333333333333333,
              "#9c179e"
             ],
             [
              0.4444444444444444,
              "#bd3786"
             ],
             [
              0.5555555555555556,
              "#d8576b"
             ],
             [
              0.6666666666666666,
              "#ed7953"
             ],
             [
              0.7777777777777778,
              "#fb9f3a"
             ],
             [
              0.8888888888888888,
              "#fdca26"
             ],
             [
              1,
              "#f0f921"
             ]
            ],
            "type": "histogram2d"
           }
          ],
          "histogram2dcontour": [
           {
            "colorbar": {
             "outlinewidth": 0,
             "ticks": ""
            },
            "colorscale": [
             [
              0,
              "#0d0887"
             ],
             [
              0.1111111111111111,
              "#46039f"
             ],
             [
              0.2222222222222222,
              "#7201a8"
             ],
             [
              0.3333333333333333,
              "#9c179e"
             ],
             [
              0.4444444444444444,
              "#bd3786"
             ],
             [
              0.5555555555555556,
              "#d8576b"
             ],
             [
              0.6666666666666666,
              "#ed7953"
             ],
             [
              0.7777777777777778,
              "#fb9f3a"
             ],
             [
              0.8888888888888888,
              "#fdca26"
             ],
             [
              1,
              "#f0f921"
             ]
            ],
            "type": "histogram2dcontour"
           }
          ],
          "mesh3d": [
           {
            "colorbar": {
             "outlinewidth": 0,
             "ticks": ""
            },
            "type": "mesh3d"
           }
          ],
          "parcoords": [
           {
            "line": {
             "colorbar": {
              "outlinewidth": 0,
              "ticks": ""
             }
            },
            "type": "parcoords"
           }
          ],
          "pie": [
           {
            "automargin": true,
            "type": "pie"
           }
          ],
          "scatter": [
           {
            "marker": {
             "colorbar": {
              "outlinewidth": 0,
              "ticks": ""
             }
            },
            "type": "scatter"
           }
          ],
          "scatter3d": [
           {
            "line": {
             "colorbar": {
              "outlinewidth": 0,
              "ticks": ""
             }
            },
            "marker": {
             "colorbar": {
              "outlinewidth": 0,
              "ticks": ""
             }
            },
            "type": "scatter3d"
           }
          ],
          "scattercarpet": [
           {
            "marker": {
             "colorbar": {
              "outlinewidth": 0,
              "ticks": ""
             }
            },
            "type": "scattercarpet"
           }
          ],
          "scattergeo": [
           {
            "marker": {
             "colorbar": {
              "outlinewidth": 0,
              "ticks": ""
             }
            },
            "type": "scattergeo"
           }
          ],
          "scattergl": [
           {
            "marker": {
             "colorbar": {
              "outlinewidth": 0,
              "ticks": ""
             }
            },
            "type": "scattergl"
           }
          ],
          "scattermapbox": [
           {
            "marker": {
             "colorbar": {
              "outlinewidth": 0,
              "ticks": ""
             }
            },
            "type": "scattermapbox"
           }
          ],
          "scatterpolar": [
           {
            "marker": {
             "colorbar": {
              "outlinewidth": 0,
              "ticks": ""
             }
            },
            "type": "scatterpolar"
           }
          ],
          "scatterpolargl": [
           {
            "marker": {
             "colorbar": {
              "outlinewidth": 0,
              "ticks": ""
             }
            },
            "type": "scatterpolargl"
           }
          ],
          "scatterternary": [
           {
            "marker": {
             "colorbar": {
              "outlinewidth": 0,
              "ticks": ""
             }
            },
            "type": "scatterternary"
           }
          ],
          "surface": [
           {
            "colorbar": {
             "outlinewidth": 0,
             "ticks": ""
            },
            "colorscale": [
             [
              0,
              "#0d0887"
             ],
             [
              0.1111111111111111,
              "#46039f"
             ],
             [
              0.2222222222222222,
              "#7201a8"
             ],
             [
              0.3333333333333333,
              "#9c179e"
             ],
             [
              0.4444444444444444,
              "#bd3786"
             ],
             [
              0.5555555555555556,
              "#d8576b"
             ],
             [
              0.6666666666666666,
              "#ed7953"
             ],
             [
              0.7777777777777778,
              "#fb9f3a"
             ],
             [
              0.8888888888888888,
              "#fdca26"
             ],
             [
              1,
              "#f0f921"
             ]
            ],
            "type": "surface"
           }
          ],
          "table": [
           {
            "cells": {
             "fill": {
              "color": "#EBF0F8"
             },
             "line": {
              "color": "white"
             }
            },
            "header": {
             "fill": {
              "color": "#C8D4E3"
             },
             "line": {
              "color": "white"
             }
            },
            "type": "table"
           }
          ]
         },
         "layout": {
          "annotationdefaults": {
           "arrowcolor": "#2a3f5f",
           "arrowhead": 0,
           "arrowwidth": 1
          },
          "coloraxis": {
           "colorbar": {
            "outlinewidth": 0,
            "ticks": ""
           }
          },
          "colorscale": {
           "diverging": [
            [
             0,
             "#8e0152"
            ],
            [
             0.1,
             "#c51b7d"
            ],
            [
             0.2,
             "#de77ae"
            ],
            [
             0.3,
             "#f1b6da"
            ],
            [
             0.4,
             "#fde0ef"
            ],
            [
             0.5,
             "#f7f7f7"
            ],
            [
             0.6,
             "#e6f5d0"
            ],
            [
             0.7,
             "#b8e186"
            ],
            [
             0.8,
             "#7fbc41"
            ],
            [
             0.9,
             "#4d9221"
            ],
            [
             1,
             "#276419"
            ]
           ],
           "sequential": [
            [
             0,
             "#0d0887"
            ],
            [
             0.1111111111111111,
             "#46039f"
            ],
            [
             0.2222222222222222,
             "#7201a8"
            ],
            [
             0.3333333333333333,
             "#9c179e"
            ],
            [
             0.4444444444444444,
             "#bd3786"
            ],
            [
             0.5555555555555556,
             "#d8576b"
            ],
            [
             0.6666666666666666,
             "#ed7953"
            ],
            [
             0.7777777777777778,
             "#fb9f3a"
            ],
            [
             0.8888888888888888,
             "#fdca26"
            ],
            [
             1,
             "#f0f921"
            ]
           ],
           "sequentialminus": [
            [
             0,
             "#0d0887"
            ],
            [
             0.1111111111111111,
             "#46039f"
            ],
            [
             0.2222222222222222,
             "#7201a8"
            ],
            [
             0.3333333333333333,
             "#9c179e"
            ],
            [
             0.4444444444444444,
             "#bd3786"
            ],
            [
             0.5555555555555556,
             "#d8576b"
            ],
            [
             0.6666666666666666,
             "#ed7953"
            ],
            [
             0.7777777777777778,
             "#fb9f3a"
            ],
            [
             0.8888888888888888,
             "#fdca26"
            ],
            [
             1,
             "#f0f921"
            ]
           ]
          },
          "colorway": [
           "#636efa",
           "#EF553B",
           "#00cc96",
           "#ab63fa",
           "#FFA15A",
           "#19d3f3",
           "#FF6692",
           "#B6E880",
           "#FF97FF",
           "#FECB52"
          ],
          "font": {
           "color": "#2a3f5f"
          },
          "geo": {
           "bgcolor": "white",
           "lakecolor": "white",
           "landcolor": "#E5ECF6",
           "showlakes": true,
           "showland": true,
           "subunitcolor": "white"
          },
          "hoverlabel": {
           "align": "left"
          },
          "hovermode": "closest",
          "mapbox": {
           "style": "light"
          },
          "paper_bgcolor": "white",
          "plot_bgcolor": "#E5ECF6",
          "polar": {
           "angularaxis": {
            "gridcolor": "white",
            "linecolor": "white",
            "ticks": ""
           },
           "bgcolor": "#E5ECF6",
           "radialaxis": {
            "gridcolor": "white",
            "linecolor": "white",
            "ticks": ""
           }
          },
          "scene": {
           "xaxis": {
            "backgroundcolor": "#E5ECF6",
            "gridcolor": "white",
            "gridwidth": 2,
            "linecolor": "white",
            "showbackground": true,
            "ticks": "",
            "zerolinecolor": "white"
           },
           "yaxis": {
            "backgroundcolor": "#E5ECF6",
            "gridcolor": "white",
            "gridwidth": 2,
            "linecolor": "white",
            "showbackground": true,
            "ticks": "",
            "zerolinecolor": "white"
           },
           "zaxis": {
            "backgroundcolor": "#E5ECF6",
            "gridcolor": "white",
            "gridwidth": 2,
            "linecolor": "white",
            "showbackground": true,
            "ticks": "",
            "zerolinecolor": "white"
           }
          },
          "shapedefaults": {
           "line": {
            "color": "#2a3f5f"
           }
          },
          "ternary": {
           "aaxis": {
            "gridcolor": "white",
            "linecolor": "white",
            "ticks": ""
           },
           "baxis": {
            "gridcolor": "white",
            "linecolor": "white",
            "ticks": ""
           },
           "bgcolor": "#E5ECF6",
           "caxis": {
            "gridcolor": "white",
            "linecolor": "white",
            "ticks": ""
           }
          },
          "title": {
           "x": 0.05
          },
          "xaxis": {
           "automargin": true,
           "gridcolor": "white",
           "linecolor": "white",
           "ticks": "",
           "title": {
            "standoff": 15
           },
           "zerolinecolor": "white",
           "zerolinewidth": 2
          },
          "yaxis": {
           "automargin": true,
           "gridcolor": "white",
           "linecolor": "white",
           "ticks": "",
           "title": {
            "standoff": 15
           },
           "zerolinecolor": "white",
           "zerolinewidth": 2
          }
         }
        }
       }
      },
      "text/html": [
       "<div>\n",
       "        \n",
       "        \n",
       "            <div id=\"b04424b8-4746-4b95-b2ae-65ef2e2d5b05\" class=\"plotly-graph-div\" style=\"height:525px; width:100%;\"></div>\n",
       "            <script type=\"text/javascript\">\n",
       "                require([\"plotly\"], function(Plotly) {\n",
       "                    window.PLOTLYENV=window.PLOTLYENV || {};\n",
       "                    \n",
       "                if (document.getElementById(\"b04424b8-4746-4b95-b2ae-65ef2e2d5b05\")) {\n",
       "                    Plotly.newPlot(\n",
       "                        'b04424b8-4746-4b95-b2ae-65ef2e2d5b05',\n",
       "                        [{\"geo\": \"geo\", \"hovertemplate\": \"<b>%{hovertext}</b><br><br>Country_Region=Afghanistan<br>Cases=%{marker.size}<br>iso_alpha=%{location}<extra></extra>\", \"hovertext\": [2469.0], \"legendgroup\": \"Afghanistan\", \"locations\": [\"AFG\"], \"marker\": {\"color\": \"#636efa\", \"size\": [2469], \"sizemode\": \"area\", \"sizeref\": 2830.9675}, \"name\": \"Afghanistan\", \"showlegend\": true, \"type\": \"scattergeo\"}, {\"geo\": \"geo\", \"hovertemplate\": \"<b>%{hovertext}</b><br><br>Country_Region=Albania<br>Cases=%{marker.size}<br>iso_alpha=%{location}<extra></extra>\", \"hovertext\": [789.0], \"legendgroup\": \"Albania\", \"locations\": [\"ALB\"], \"marker\": {\"color\": \"#EF553B\", \"size\": [789], \"sizemode\": \"area\", \"sizeref\": 2830.9675}, \"name\": \"Albania\", \"showlegend\": true, \"type\": \"scattergeo\"}, {\"geo\": \"geo\", \"hovertemplate\": \"<b>%{hovertext}</b><br><br>Country_Region=Algeria<br>Cases=%{marker.size}<br>iso_alpha=%{location}<extra></extra>\", \"hovertext\": [4295.0], \"legendgroup\": \"Algeria\", \"locations\": [\"DZA\"], \"marker\": {\"color\": \"#00cc96\", \"size\": [4295], \"sizemode\": \"area\", \"sizeref\": 2830.9675}, \"name\": \"Algeria\", \"showlegend\": true, \"type\": \"scattergeo\"}, {\"geo\": \"geo\", \"hovertemplate\": \"<b>%{hovertext}</b><br><br>Country_Region=Angola<br>Cases=%{marker.size}<br>iso_alpha=%{location}<extra></extra>\", \"hovertext\": [35.0], \"legendgroup\": \"Angola\", \"locations\": [\"AGO\"], \"marker\": {\"color\": \"#ab63fa\", \"size\": [35], \"sizemode\": \"area\", \"sizeref\": 2830.9675}, \"name\": \"Angola\", \"showlegend\": true, \"type\": \"scattergeo\"}, {\"geo\": \"geo\", \"hovertemplate\": \"<b>%{hovertext}</b><br><br>Country_Region=Argentina<br>Cases=%{marker.size}<br>iso_alpha=%{location}<extra></extra>\", \"hovertext\": [4681.0], \"legendgroup\": \"Argentina\", \"locations\": [\"ARG\"], \"marker\": {\"color\": \"#FFA15A\", \"size\": [4681], \"sizemode\": \"area\", \"sizeref\": 2830.9675}, \"name\": \"Argentina\", \"showlegend\": true, \"type\": \"scattergeo\"}, {\"geo\": \"geo\", \"hovertemplate\": \"<b>%{hovertext}</b><br><br>Country_Region=Australia<br>Cases=%{marker.size}<br>iso_alpha=%{location}<extra></extra>\", \"hovertext\": [6799.0], \"legendgroup\": \"Australia\", \"locations\": [\"AUS\"], \"marker\": {\"color\": \"#19d3f3\", \"size\": [6799], \"sizemode\": \"area\", \"sizeref\": 2830.9675}, \"name\": \"Australia\", \"showlegend\": true, \"type\": \"scattergeo\"}, {\"geo\": \"geo\", \"hovertemplate\": \"<b>%{hovertext}</b><br><br>Country_Region=Austria<br>Cases=%{marker.size}<br>iso_alpha=%{location}<extra></extra>\", \"hovertext\": [15558.0], \"legendgroup\": \"Austria\", \"locations\": [\"AUT\"], \"marker\": {\"color\": \"#FF6692\", \"size\": [15558], \"sizemode\": \"area\", \"sizeref\": 2830.9675}, \"name\": \"Austria\", \"showlegend\": true, \"type\": \"scattergeo\"}, {\"geo\": \"geo\", \"hovertemplate\": \"<b>%{hovertext}</b><br><br>Country_Region=Bahrain<br>Cases=%{marker.size}<br>iso_alpha=%{location}<extra></extra>\", \"hovertext\": [3284.0], \"legendgroup\": \"Bahrain\", \"locations\": [\"BHR\"], \"marker\": {\"color\": \"#B6E880\", \"size\": [3284], \"sizemode\": \"area\", \"sizeref\": 2830.9675}, \"name\": \"Bahrain\", \"showlegend\": true, \"type\": \"scattergeo\"}, {\"geo\": \"geo\", \"hovertemplate\": \"<b>%{hovertext}</b><br><br>Country_Region=Bangladesh<br>Cases=%{marker.size}<br>iso_alpha=%{location}<extra></extra>\", \"hovertext\": [8790.0], \"legendgroup\": \"Bangladesh\", \"locations\": [\"BGD\"], \"marker\": {\"color\": \"#FF97FF\", \"size\": [8790], \"sizemode\": \"area\", \"sizeref\": 2830.9675}, \"name\": \"Bangladesh\", \"showlegend\": true, \"type\": \"scattergeo\"}, {\"geo\": \"geo\", \"hovertemplate\": \"<b>%{hovertext}</b><br><br>Country_Region=Belgium<br>Cases=%{marker.size}<br>iso_alpha=%{location}<extra></extra>\", \"hovertext\": [49517.0], \"legendgroup\": \"Belgium\", \"locations\": [\"BEL\"], \"marker\": {\"color\": \"#FECB52\", \"size\": [49517], \"sizemode\": \"area\", \"sizeref\": 2830.9675}, \"name\": \"Belgium\", \"showlegend\": true, \"type\": \"scattergeo\"}, {\"geo\": \"geo\", \"hovertemplate\": \"<b>%{hovertext}</b><br><br>Country_Region=Benin<br>Cases=%{marker.size}<br>iso_alpha=%{location}<extra></extra>\", \"hovertext\": [90.0], \"legendgroup\": \"Benin\", \"locations\": [\"BEN\"], \"marker\": {\"color\": \"#636efa\", \"size\": [90], \"sizemode\": \"area\", \"sizeref\": 2830.9675}, \"name\": \"Benin\", \"showlegend\": true, \"type\": \"scattergeo\"}, {\"geo\": \"geo\", \"hovertemplate\": \"<b>%{hovertext}</b><br><br>Country_Region=Bolivia<br>Cases=%{marker.size}<br>iso_alpha=%{location}<extra></extra>\", \"hovertext\": [1229.0], \"legendgroup\": \"Bolivia\", \"locations\": [\"BOL\"], \"marker\": {\"color\": \"#EF553B\", \"size\": [1229], \"sizemode\": \"area\", \"sizeref\": 2830.9675}, \"name\": \"Bolivia\", \"showlegend\": true, \"type\": \"scattergeo\"}, {\"geo\": \"geo\", \"hovertemplate\": \"<b>%{hovertext}</b><br><br>Country_Region=Bosnia and Herzegovina<br>Cases=%{marker.size}<br>iso_alpha=%{location}<extra></extra>\", \"hovertext\": [1839.0], \"legendgroup\": \"Bosnia and Herzegovina\", \"locations\": [\"BIH\"], \"marker\": {\"color\": \"#00cc96\", \"size\": [1839], \"sizemode\": \"area\", \"sizeref\": 2830.9675}, \"name\": \"Bosnia and Herzegovina\", \"showlegend\": true, \"type\": \"scattergeo\"}, {\"geo\": \"geo\", \"hovertemplate\": \"<b>%{hovertext}</b><br><br>Country_Region=Botswana<br>Cases=%{marker.size}<br>iso_alpha=%{location}<extra></extra>\", \"hovertext\": [23.0], \"legendgroup\": \"Botswana\", \"locations\": [\"BWA\"], \"marker\": {\"color\": \"#ab63fa\", \"size\": [23], \"sizemode\": \"area\", \"sizeref\": 2830.9675}, \"name\": \"Botswana\", \"showlegend\": true, \"type\": \"scattergeo\"}, {\"geo\": \"geo\", \"hovertemplate\": \"<b>%{hovertext}</b><br><br>Country_Region=Brazil<br>Cases=%{marker.size}<br>iso_alpha=%{location}<extra></extra>\", \"hovertext\": [97100.0], \"legendgroup\": \"Brazil\", \"locations\": [\"BRA\"], \"marker\": {\"color\": \"#FFA15A\", \"size\": [97100], \"sizemode\": \"area\", \"sizeref\": 2830.9675}, \"name\": \"Brazil\", \"showlegend\": true, \"type\": \"scattergeo\"}, {\"geo\": \"geo\", \"hovertemplate\": \"<b>%{hovertext}</b><br><br>Country_Region=Bulgaria<br>Cases=%{marker.size}<br>iso_alpha=%{location}<extra></extra>\", \"hovertext\": [1594.0], \"legendgroup\": \"Bulgaria\", \"locations\": [\"BGR\"], \"marker\": {\"color\": \"#19d3f3\", \"size\": [1594], \"sizemode\": \"area\", \"sizeref\": 2830.9675}, \"name\": \"Bulgaria\", \"showlegend\": true, \"type\": \"scattergeo\"}, {\"geo\": \"geo\", \"hovertemplate\": \"<b>%{hovertext}</b><br><br>Country_Region=Burkina Faso<br>Cases=%{marker.size}<br>iso_alpha=%{location}<extra></extra>\", \"hovertext\": [652.0], \"legendgroup\": \"Burkina Faso\", \"locations\": [\"BFA\"], \"marker\": {\"color\": \"#FF6692\", \"size\": [652], \"sizemode\": \"area\", \"sizeref\": 2830.9675}, \"name\": \"Burkina Faso\", \"showlegend\": true, \"type\": \"scattergeo\"}, {\"geo\": \"geo\", \"hovertemplate\": \"<b>%{hovertext}</b><br><br>Country_Region=Burundi<br>Cases=%{marker.size}<br>iso_alpha=%{location}<extra></extra>\", \"hovertext\": [15.0], \"legendgroup\": \"Burundi\", \"locations\": [\"BDI\"], \"marker\": {\"color\": \"#B6E880\", \"size\": [15], \"sizemode\": \"area\", \"sizeref\": 2830.9675}, \"name\": \"Burundi\", \"showlegend\": true, \"type\": \"scattergeo\"}, {\"geo\": \"geo\", \"hovertemplate\": \"<b>%{hovertext}</b><br><br>Country_Region=Cambodia<br>Cases=%{marker.size}<br>iso_alpha=%{location}<extra></extra>\", \"hovertext\": [122.0], \"legendgroup\": \"Cambodia\", \"locations\": [\"KHM\"], \"marker\": {\"color\": \"#FF97FF\", \"size\": [122], \"sizemode\": \"area\", \"sizeref\": 2830.9675}, \"name\": \"Cambodia\", \"showlegend\": true, \"type\": \"scattergeo\"}, {\"geo\": \"geo\", \"hovertemplate\": \"<b>%{hovertext}</b><br><br>Country_Region=Cameroon<br>Cases=%{marker.size}<br>iso_alpha=%{location}<extra></extra>\", \"hovertext\": [2077.0], \"legendgroup\": \"Cameroon\", \"locations\": [\"CMR\"], \"marker\": {\"color\": \"#FECB52\", \"size\": [2077], \"sizemode\": \"area\", \"sizeref\": 2830.9675}, \"name\": \"Cameroon\", \"showlegend\": true, \"type\": \"scattergeo\"}, {\"geo\": \"geo\", \"hovertemplate\": \"<b>%{hovertext}</b><br><br>Country_Region=Canada<br>Cases=%{marker.size}<br>iso_alpha=%{location}<extra></extra>\", \"hovertext\": [57912.0], \"legendgroup\": \"Canada\", \"locations\": [\"CAN\"], \"marker\": {\"color\": \"#636efa\", \"size\": [57912], \"sizemode\": \"area\", \"sizeref\": 2830.9675}, \"name\": \"Canada\", \"showlegend\": true, \"type\": \"scattergeo\"}, {\"geo\": \"geo\", \"hovertemplate\": \"<b>%{hovertext}</b><br><br>Country_Region=Central African Republic<br>Cases=%{marker.size}<br>iso_alpha=%{location}<extra></extra>\", \"hovertext\": [72.0], \"legendgroup\": \"Central African Republic\", \"locations\": [\"CAF\"], \"marker\": {\"color\": \"#EF553B\", \"size\": [72], \"sizemode\": \"area\", \"sizeref\": 2830.9675}, \"name\": \"Central African Republic\", \"showlegend\": true, \"type\": \"scattergeo\"}, {\"geo\": \"geo\", \"hovertemplate\": \"<b>%{hovertext}</b><br><br>Country_Region=Chad<br>Cases=%{marker.size}<br>iso_alpha=%{location}<extra></extra>\", \"hovertext\": [117.0], \"legendgroup\": \"Chad\", \"locations\": [\"TCD\"], \"marker\": {\"color\": \"#00cc96\", \"size\": [117], \"sizemode\": \"area\", \"sizeref\": 2830.9675}, \"name\": \"Chad\", \"showlegend\": true, \"type\": \"scattergeo\"}, {\"geo\": \"geo\", \"hovertemplate\": \"<b>%{hovertext}</b><br><br>Country_Region=Chile<br>Cases=%{marker.size}<br>iso_alpha=%{location}<extra></extra>\", \"hovertext\": [18435.0], \"legendgroup\": \"Chile\", \"locations\": [\"CHL\"], \"marker\": {\"color\": \"#ab63fa\", \"size\": [18435], \"sizemode\": \"area\", \"sizeref\": 2830.9675}, \"name\": \"Chile\", \"showlegend\": true, \"type\": \"scattergeo\"}, {\"geo\": \"geo\", \"hovertemplate\": \"<b>%{hovertext}</b><br><br>Country_Region=China<br>Cases=%{marker.size}<br>iso_alpha=%{location}<extra></extra>\", \"hovertext\": [83959.0], \"legendgroup\": \"China\", \"locations\": [\"CHN\"], \"marker\": {\"color\": \"#FFA15A\", \"size\": [83959], \"sizemode\": \"area\", \"sizeref\": 2830.9675}, \"name\": \"China\", \"showlegend\": true, \"type\": \"scattergeo\"}, {\"geo\": \"geo\", \"hovertemplate\": \"<b>%{hovertext}</b><br><br>Country_Region=Colombia<br>Cases=%{marker.size}<br>iso_alpha=%{location}<extra></extra>\", \"hovertext\": [7285.0], \"legendgroup\": \"Colombia\", \"locations\": [\"COL\"], \"marker\": {\"color\": \"#19d3f3\", \"size\": [7285], \"sizemode\": \"area\", \"sizeref\": 2830.9675}, \"name\": \"Colombia\", \"showlegend\": true, \"type\": \"scattergeo\"}, {\"geo\": \"geo\", \"hovertemplate\": \"<b>%{hovertext}</b><br><br>Country_Region=Comoros<br>Cases=%{marker.size}<br>iso_alpha=%{location}<extra></extra>\", \"hovertext\": [3.0], \"legendgroup\": \"Comoros\", \"locations\": [\"COM\"], \"marker\": {\"color\": \"#FF6692\", \"size\": [3], \"sizemode\": \"area\", \"sizeref\": 2830.9675}, \"name\": \"Comoros\", \"showlegend\": true, \"type\": \"scattergeo\"}, {\"geo\": \"geo\", \"hovertemplate\": \"<b>%{hovertext}</b><br><br>Country_Region=Costa Rica<br>Cases=%{marker.size}<br>iso_alpha=%{location}<extra></extra>\", \"hovertext\": [733.0], \"legendgroup\": \"Costa Rica\", \"locations\": [\"CRI\"], \"marker\": {\"color\": \"#B6E880\", \"size\": [733], \"sizemode\": \"area\", \"sizeref\": 2830.9675}, \"name\": \"Costa Rica\", \"showlegend\": true, \"type\": \"scattergeo\"}, {\"geo\": \"geo\", \"hovertemplate\": \"<b>%{hovertext}</b><br><br>Country_Region=Cote d'Ivoire<br>Cases=%{marker.size}<br>iso_alpha=%{location}<extra></extra>\", \"hovertext\": [1362.0], \"legendgroup\": \"Cote d'Ivoire\", \"locations\": [\"CIV\"], \"marker\": {\"color\": \"#FF97FF\", \"size\": [1362], \"sizemode\": \"area\", \"sizeref\": 2830.9675}, \"name\": \"Cote d'Ivoire\", \"showlegend\": true, \"type\": \"scattergeo\"}, {\"geo\": \"geo\", \"hovertemplate\": \"<b>%{hovertext}</b><br><br>Country_Region=Croatia<br>Cases=%{marker.size}<br>iso_alpha=%{location}<extra></extra>\", \"hovertext\": [2088.0], \"legendgroup\": \"Croatia\", \"locations\": [\"HRV\"], \"marker\": {\"color\": \"#FECB52\", \"size\": [2088], \"sizemode\": \"area\", \"sizeref\": 2830.9675}, \"name\": \"Croatia\", \"showlegend\": true, \"type\": \"scattergeo\"}, {\"geo\": \"geo\", \"hovertemplate\": \"<b>%{hovertext}</b><br><br>Country_Region=Cuba<br>Cases=%{marker.size}<br>iso_alpha=%{location}<extra></extra>\", \"hovertext\": [1611.0], \"legendgroup\": \"Cuba\", \"locations\": [\"CUB\"], \"marker\": {\"color\": \"#636efa\", \"size\": [1611], \"sizemode\": \"area\", \"sizeref\": 2830.9675}, \"name\": \"Cuba\", \"showlegend\": true, \"type\": \"scattergeo\"}, {\"geo\": \"geo\", \"hovertemplate\": \"<b>%{hovertext}</b><br><br>Country_Region=Denmark<br>Cases=%{marker.size}<br>iso_alpha=%{location}<extra></extra>\", \"hovertext\": [9605.0], \"legendgroup\": \"Denmark\", \"locations\": [\"DNK\"], \"marker\": {\"color\": \"#EF553B\", \"size\": [9605], \"sizemode\": \"area\", \"sizeref\": 2830.9675}, \"name\": \"Denmark\", \"showlegend\": true, \"type\": \"scattergeo\"}, {\"geo\": \"geo\", \"hovertemplate\": \"<b>%{hovertext}</b><br><br>Country_Region=Djibouti<br>Cases=%{marker.size}<br>iso_alpha=%{location}<extra></extra>\", \"hovertext\": [1112.0], \"legendgroup\": \"Djibouti\", \"locations\": [\"DJI\"], \"marker\": {\"color\": \"#00cc96\", \"size\": [1112], \"sizemode\": \"area\", \"sizeref\": 2830.9675}, \"name\": \"Djibouti\", \"showlegend\": true, \"type\": \"scattergeo\"}, {\"geo\": \"geo\", \"hovertemplate\": \"<b>%{hovertext}</b><br><br>Country_Region=Dominican Republic<br>Cases=%{marker.size}<br>iso_alpha=%{location}<extra></extra>\", \"hovertext\": [7578.0], \"legendgroup\": \"Dominican Republic\", \"locations\": [\"DOM\"], \"marker\": {\"color\": \"#ab63fa\", \"size\": [7578], \"sizemode\": \"area\", \"sizeref\": 2830.9675}, \"name\": \"Dominican Republic\", \"showlegend\": true, \"type\": \"scattergeo\"}, {\"geo\": \"geo\", \"hovertemplate\": \"<b>%{hovertext}</b><br><br>Country_Region=Ecuador<br>Cases=%{marker.size}<br>iso_alpha=%{location}<extra></extra>\", \"hovertext\": [27464.0], \"legendgroup\": \"Ecuador\", \"locations\": [\"ECU\"], \"marker\": {\"color\": \"#FFA15A\", \"size\": [27464], \"sizemode\": \"area\", \"sizeref\": 2830.9675}, \"name\": \"Ecuador\", \"showlegend\": true, \"type\": \"scattergeo\"}, {\"geo\": \"geo\", \"hovertemplate\": \"<b>%{hovertext}</b><br><br>Country_Region=Egypt<br>Cases=%{marker.size}<br>iso_alpha=%{location}<extra></extra>\", \"hovertext\": [6193.0], \"legendgroup\": \"Egypt\", \"locations\": [\"EGY\"], \"marker\": {\"color\": \"#19d3f3\", \"size\": [6193], \"sizemode\": \"area\", \"sizeref\": 2830.9675}, \"name\": \"Egypt\", \"showlegend\": true, \"type\": \"scattergeo\"}, {\"geo\": \"geo\", \"hovertemplate\": \"<b>%{hovertext}</b><br><br>Country_Region=El Salvador<br>Cases=%{marker.size}<br>iso_alpha=%{location}<extra></extra>\", \"hovertext\": [446.0], \"legendgroup\": \"El Salvador\", \"locations\": [\"SLV\"], \"marker\": {\"color\": \"#FF6692\", \"size\": [446], \"sizemode\": \"area\", \"sizeref\": 2830.9675}, \"name\": \"El Salvador\", \"showlegend\": true, \"type\": \"scattergeo\"}, {\"geo\": \"geo\", \"hovertemplate\": \"<b>%{hovertext}</b><br><br>Country_Region=Equatorial Guinea<br>Cases=%{marker.size}<br>iso_alpha=%{location}<extra></extra>\", \"hovertext\": [315.0], \"legendgroup\": \"Equatorial Guinea\", \"locations\": [\"GNQ\"], \"marker\": {\"color\": \"#B6E880\", \"size\": [315], \"sizemode\": \"area\", \"sizeref\": 2830.9675}, \"name\": \"Equatorial Guinea\", \"showlegend\": true, \"type\": \"scattergeo\"}, {\"geo\": \"geo\", \"hovertemplate\": \"<b>%{hovertext}</b><br><br>Country_Region=Eritrea<br>Cases=%{marker.size}<br>iso_alpha=%{location}<extra></extra>\", \"hovertext\": [39.0], \"legendgroup\": \"Eritrea\", \"locations\": [\"ERI\"], \"marker\": {\"color\": \"#FF97FF\", \"size\": [39], \"sizemode\": \"area\", \"sizeref\": 2830.9675}, \"name\": \"Eritrea\", \"showlegend\": true, \"type\": \"scattergeo\"}, {\"geo\": \"geo\", \"hovertemplate\": \"<b>%{hovertext}</b><br><br>Country_Region=Ethiopia<br>Cases=%{marker.size}<br>iso_alpha=%{location}<extra></extra>\", \"hovertext\": [133.0], \"legendgroup\": \"Ethiopia\", \"locations\": [\"ETH\"], \"marker\": {\"color\": \"#FECB52\", \"size\": [133], \"sizemode\": \"area\", \"sizeref\": 2830.9675}, \"name\": \"Ethiopia\", \"showlegend\": true, \"type\": \"scattergeo\"}, {\"geo\": \"geo\", \"hovertemplate\": \"<b>%{hovertext}</b><br><br>Country_Region=Finland<br>Cases=%{marker.size}<br>iso_alpha=%{location}<extra></extra>\", \"hovertext\": [5176.0], \"legendgroup\": \"Finland\", \"locations\": [\"FIN\"], \"marker\": {\"color\": \"#636efa\", \"size\": [5176], \"sizemode\": \"area\", \"sizeref\": 2830.9675}, \"name\": \"Finland\", \"showlegend\": true, \"type\": \"scattergeo\"}, {\"geo\": \"geo\", \"hovertemplate\": \"<b>%{hovertext}</b><br><br>Country_Region=France<br>Cases=%{marker.size}<br>iso_alpha=%{location}<extra></extra>\", \"hovertext\": [168518.0], \"legendgroup\": \"France\", \"locations\": [\"FRA\"], \"marker\": {\"color\": \"#EF553B\", \"size\": [168518], \"sizemode\": \"area\", \"sizeref\": 2830.9675}, \"name\": \"France\", \"showlegend\": true, \"type\": \"scattergeo\"}, {\"geo\": \"geo\", \"hovertemplate\": \"<b>%{hovertext}</b><br><br>Country_Region=Gabon<br>Cases=%{marker.size}<br>iso_alpha=%{location}<extra></extra>\", \"hovertext\": [335.0], \"legendgroup\": \"Gabon\", \"locations\": [\"GAB\"], \"marker\": {\"color\": \"#00cc96\", \"size\": [335], \"sizemode\": \"area\", \"sizeref\": 2830.9675}, \"name\": \"Gabon\", \"showlegend\": true, \"type\": \"scattergeo\"}, {\"geo\": \"geo\", \"hovertemplate\": \"<b>%{hovertext}</b><br><br>Country_Region=Gambia<br>Cases=%{marker.size}<br>iso_alpha=%{location}<extra></extra>\", \"hovertext\": [17.0], \"legendgroup\": \"Gambia\", \"locations\": [\"GMB\"], \"marker\": {\"color\": \"#ab63fa\", \"size\": [17], \"sizemode\": \"area\", \"sizeref\": 2830.9675}, \"name\": \"Gambia\", \"showlegend\": true, \"type\": \"scattergeo\"}, {\"geo\": \"geo\", \"hovertemplate\": \"<b>%{hovertext}</b><br><br>Country_Region=Germany<br>Cases=%{marker.size}<br>iso_alpha=%{location}<extra></extra>\", \"hovertext\": [164967.0], \"legendgroup\": \"Germany\", \"locations\": [\"DEU\"], \"marker\": {\"color\": \"#FFA15A\", \"size\": [164967], \"sizemode\": \"area\", \"sizeref\": 2830.9675}, \"name\": \"Germany\", \"showlegend\": true, \"type\": \"scattergeo\"}, {\"geo\": \"geo\", \"hovertemplate\": \"<b>%{hovertext}</b><br><br>Country_Region=Ghana<br>Cases=%{marker.size}<br>iso_alpha=%{location}<extra></extra>\", \"hovertext\": [2169.0], \"legendgroup\": \"Ghana\", \"locations\": [\"GHA\"], \"marker\": {\"color\": \"#19d3f3\", \"size\": [2169], \"sizemode\": \"area\", \"sizeref\": 2830.9675}, \"name\": \"Ghana\", \"showlegend\": true, \"type\": \"scattergeo\"}, {\"geo\": \"geo\", \"hovertemplate\": \"<b>%{hovertext}</b><br><br>Country_Region=Greece<br>Cases=%{marker.size}<br>iso_alpha=%{location}<extra></extra>\", \"hovertext\": [2620.0], \"legendgroup\": \"Greece\", \"locations\": [\"GRC\"], \"marker\": {\"color\": \"#FF6692\", \"size\": [2620], \"sizemode\": \"area\", \"sizeref\": 2830.9675}, \"name\": \"Greece\", \"showlegend\": true, \"type\": \"scattergeo\"}, {\"geo\": \"geo\", \"hovertemplate\": \"<b>%{hovertext}</b><br><br>Country_Region=Guatemala<br>Cases=%{marker.size}<br>iso_alpha=%{location}<extra></extra>\", \"hovertext\": [688.0], \"legendgroup\": \"Guatemala\", \"locations\": [\"GTM\"], \"marker\": {\"color\": \"#B6E880\", \"size\": [688], \"sizemode\": \"area\", \"sizeref\": 2830.9675}, \"name\": \"Guatemala\", \"showlegend\": true, \"type\": \"scattergeo\"}, {\"geo\": \"geo\", \"hovertemplate\": \"<b>%{hovertext}</b><br><br>Country_Region=Guinea<br>Cases=%{marker.size}<br>iso_alpha=%{location}<extra></extra>\", \"hovertext\": [1586.0], \"legendgroup\": \"Guinea\", \"locations\": [\"GIN\"], \"marker\": {\"color\": \"#FF97FF\", \"size\": [1586], \"sizemode\": \"area\", \"sizeref\": 2830.9675}, \"name\": \"Guinea\", \"showlegend\": true, \"type\": \"scattergeo\"}, {\"geo\": \"geo\", \"hovertemplate\": \"<b>%{hovertext}</b><br><br>Country_Region=Guinea-Bissau<br>Cases=%{marker.size}<br>iso_alpha=%{location}<extra></extra>\", \"hovertext\": [257.0], \"legendgroup\": \"Guinea-Bissau\", \"locations\": [\"GNB\"], \"marker\": {\"color\": \"#FECB52\", \"size\": [257], \"sizemode\": \"area\", \"sizeref\": 2830.9675}, \"name\": \"Guinea-Bissau\", \"showlegend\": true, \"type\": \"scattergeo\"}, {\"geo\": \"geo\", \"hovertemplate\": \"<b>%{hovertext}</b><br><br>Country_Region=Haiti<br>Cases=%{marker.size}<br>iso_alpha=%{location}<extra></extra>\", \"hovertext\": [85.0], \"legendgroup\": \"Haiti\", \"locations\": [\"HTI\"], \"marker\": {\"color\": \"#636efa\", \"size\": [85], \"sizemode\": \"area\", \"sizeref\": 2830.9675}, \"name\": \"Haiti\", \"showlegend\": true, \"type\": \"scattergeo\"}, {\"geo\": \"geo\", \"hovertemplate\": \"<b>%{hovertext}</b><br><br>Country_Region=Honduras<br>Cases=%{marker.size}<br>iso_alpha=%{location}<extra></extra>\", \"hovertext\": [1010.0], \"legendgroup\": \"Honduras\", \"locations\": [\"HND\"], \"marker\": {\"color\": \"#EF553B\", \"size\": [1010], \"sizemode\": \"area\", \"sizeref\": 2830.9675}, \"name\": \"Honduras\", \"showlegend\": true, \"type\": \"scattergeo\"}, {\"geo\": \"geo\", \"hovertemplate\": \"<b>%{hovertext}</b><br><br>Country_Region=Hungary<br>Cases=%{marker.size}<br>iso_alpha=%{location}<extra></extra>\", \"hovertext\": [2942.0], \"legendgroup\": \"Hungary\", \"locations\": [\"HUN\"], \"marker\": {\"color\": \"#00cc96\", \"size\": [2942], \"sizemode\": \"area\", \"sizeref\": 2830.9675}, \"name\": \"Hungary\", \"showlegend\": true, \"type\": \"scattergeo\"}, {\"geo\": \"geo\", \"hovertemplate\": \"<b>%{hovertext}</b><br><br>Country_Region=Iceland<br>Cases=%{marker.size}<br>iso_alpha=%{location}<extra></extra>\", \"hovertext\": [1798.0], \"legendgroup\": \"Iceland\", \"locations\": [\"ISL\"], \"marker\": {\"color\": \"#ab63fa\", \"size\": [1798], \"sizemode\": \"area\", \"sizeref\": 2830.9675}, \"name\": \"Iceland\", \"showlegend\": true, \"type\": \"scattergeo\"}, {\"geo\": \"geo\", \"hovertemplate\": \"<b>%{hovertext}</b><br><br>Country_Region=India<br>Cases=%{marker.size}<br>iso_alpha=%{location}<extra></extra>\", \"hovertext\": [39699.0], \"legendgroup\": \"India\", \"locations\": [\"IND\"], \"marker\": {\"color\": \"#FFA15A\", \"size\": [39699], \"sizemode\": \"area\", \"sizeref\": 2830.9675}, \"name\": \"India\", \"showlegend\": true, \"type\": \"scattergeo\"}, {\"geo\": \"geo\", \"hovertemplate\": \"<b>%{hovertext}</b><br><br>Country_Region=Indonesia<br>Cases=%{marker.size}<br>iso_alpha=%{location}<extra></extra>\", \"hovertext\": [10843.0], \"legendgroup\": \"Indonesia\", \"locations\": [\"IDN\"], \"marker\": {\"color\": \"#19d3f3\", \"size\": [10843], \"sizemode\": \"area\", \"sizeref\": 2830.9675}, \"name\": \"Indonesia\", \"showlegend\": true, \"type\": \"scattergeo\"}, {\"geo\": \"geo\", \"hovertemplate\": \"<b>%{hovertext}</b><br><br>Country_Region=Iran<br>Cases=%{marker.size}<br>iso_alpha=%{location}<extra></extra>\", \"hovertext\": [96448.0], \"legendgroup\": \"Iran\", \"locations\": [\"IRN\"], \"marker\": {\"color\": \"#FF6692\", \"size\": [96448], \"sizemode\": \"area\", \"sizeref\": 2830.9675}, \"name\": \"Iran\", \"showlegend\": true, \"type\": \"scattergeo\"}, {\"geo\": \"geo\", \"hovertemplate\": \"<b>%{hovertext}</b><br><br>Country_Region=Iraq<br>Cases=%{marker.size}<br>iso_alpha=%{location}<extra></extra>\", \"hovertext\": [2219.0], \"legendgroup\": \"Iraq\", \"locations\": [\"IRQ\"], \"marker\": {\"color\": \"#B6E880\", \"size\": [2219], \"sizemode\": \"area\", \"sizeref\": 2830.9675}, \"name\": \"Iraq\", \"showlegend\": true, \"type\": \"scattergeo\"}, {\"geo\": \"geo\", \"hovertemplate\": \"<b>%{hovertext}</b><br><br>Country_Region=Ireland<br>Cases=%{marker.size}<br>iso_alpha=%{location}<extra></extra>\", \"hovertext\": [21176.0], \"legendgroup\": \"Ireland\", \"locations\": [\"IRL\"], \"marker\": {\"color\": \"#FF97FF\", \"size\": [21176], \"sizemode\": \"area\", \"sizeref\": 2830.9675}, \"name\": \"Ireland\", \"showlegend\": true, \"type\": \"scattergeo\"}, {\"geo\": \"geo\", \"hovertemplate\": \"<b>%{hovertext}</b><br><br>Country_Region=Israel<br>Cases=%{marker.size}<br>iso_alpha=%{location}<extra></extra>\", \"hovertext\": [16185.0], \"legendgroup\": \"Israel\", \"locations\": [\"ISR\"], \"marker\": {\"color\": \"#FECB52\", \"size\": [16185], \"sizemode\": \"area\", \"sizeref\": 2830.9675}, \"name\": \"Israel\", \"showlegend\": true, \"type\": \"scattergeo\"}, {\"geo\": \"geo\", \"hovertemplate\": \"<b>%{hovertext}</b><br><br>Country_Region=Italy<br>Cases=%{marker.size}<br>iso_alpha=%{location}<extra></extra>\", \"hovertext\": [209328.0], \"legendgroup\": \"Italy\", \"locations\": [\"ITA\"], \"marker\": {\"color\": \"#636efa\", \"size\": [209328], \"sizemode\": \"area\", \"sizeref\": 2830.9675}, \"name\": \"Italy\", \"showlegend\": true, \"type\": \"scattergeo\"}, {\"geo\": \"geo\", \"hovertemplate\": \"<b>%{hovertext}</b><br><br>Country_Region=Jamaica<br>Cases=%{marker.size}<br>iso_alpha=%{location}<extra></extra>\", \"hovertext\": [463.0], \"legendgroup\": \"Jamaica\", \"locations\": [\"JAM\"], \"marker\": {\"color\": \"#EF553B\", \"size\": [463], \"sizemode\": \"area\", \"sizeref\": 2830.9675}, \"name\": \"Jamaica\", \"showlegend\": true, \"type\": \"scattergeo\"}, {\"geo\": \"geo\", \"hovertemplate\": \"<b>%{hovertext}</b><br><br>Country_Region=Japan<br>Cases=%{marker.size}<br>iso_alpha=%{location}<extra></extra>\", \"hovertext\": [14571.0], \"legendgroup\": \"Japan\", \"locations\": [\"JPN\"], \"marker\": {\"color\": \"#00cc96\", \"size\": [14571], \"sizemode\": \"area\", \"sizeref\": 2830.9675}, \"name\": \"Japan\", \"showlegend\": true, \"type\": \"scattergeo\"}, {\"geo\": \"geo\", \"hovertemplate\": \"<b>%{hovertext}</b><br><br>Country_Region=Jordan<br>Cases=%{marker.size}<br>iso_alpha=%{location}<extra></extra>\", \"hovertext\": [460.0], \"legendgroup\": \"Jordan\", \"locations\": [\"JOR\"], \"marker\": {\"color\": \"#ab63fa\", \"size\": [460], \"sizemode\": \"area\", \"sizeref\": 2830.9675}, \"name\": \"Jordan\", \"showlegend\": true, \"type\": \"scattergeo\"}, {\"geo\": \"geo\", \"hovertemplate\": \"<b>%{hovertext}</b><br><br>Country_Region=Kenya<br>Cases=%{marker.size}<br>iso_alpha=%{location}<extra></extra>\", \"hovertext\": [435.0], \"legendgroup\": \"Kenya\", \"locations\": [\"KEN\"], \"marker\": {\"color\": \"#FFA15A\", \"size\": [435], \"sizemode\": \"area\", \"sizeref\": 2830.9675}, \"name\": \"Kenya\", \"showlegend\": true, \"type\": \"scattergeo\"}, {\"geo\": \"geo\", \"hovertemplate\": \"<b>%{hovertext}</b><br><br>Country_Region=Kuwait<br>Cases=%{marker.size}<br>iso_alpha=%{location}<extra></extra>\", \"hovertext\": [4619.0], \"legendgroup\": \"Kuwait\", \"locations\": [\"KWT\"], \"marker\": {\"color\": \"#19d3f3\", \"size\": [4619], \"sizemode\": \"area\", \"sizeref\": 2830.9675}, \"name\": \"Kuwait\", \"showlegend\": true, \"type\": \"scattergeo\"}, {\"geo\": \"geo\", \"hovertemplate\": \"<b>%{hovertext}</b><br><br>Country_Region=Lebanon<br>Cases=%{marker.size}<br>iso_alpha=%{location}<extra></extra>\", \"hovertext\": [733.0], \"legendgroup\": \"Lebanon\", \"locations\": [\"LBN\"], \"marker\": {\"color\": \"#FF6692\", \"size\": [733], \"sizemode\": \"area\", \"sizeref\": 2830.9675}, \"name\": \"Lebanon\", \"showlegend\": true, \"type\": \"scattergeo\"}, {\"geo\": \"geo\", \"hovertemplate\": \"<b>%{hovertext}</b><br><br>Country_Region=Liberia<br>Cases=%{marker.size}<br>iso_alpha=%{location}<extra></extra>\", \"hovertext\": [154.0], \"legendgroup\": \"Liberia\", \"locations\": [\"LBR\"], \"marker\": {\"color\": \"#B6E880\", \"size\": [154], \"sizemode\": \"area\", \"sizeref\": 2830.9675}, \"name\": \"Liberia\", \"showlegend\": true, \"type\": \"scattergeo\"}, {\"geo\": \"geo\", \"hovertemplate\": \"<b>%{hovertext}</b><br><br>Country_Region=Libya<br>Cases=%{marker.size}<br>iso_alpha=%{location}<extra></extra>\", \"hovertext\": [63.0], \"legendgroup\": \"Libya\", \"locations\": [\"LBY\"], \"marker\": {\"color\": \"#FF97FF\", \"size\": [63], \"sizemode\": \"area\", \"sizeref\": 2830.9675}, \"name\": \"Libya\", \"showlegend\": true, \"type\": \"scattergeo\"}, {\"geo\": \"geo\", \"hovertemplate\": \"<b>%{hovertext}</b><br><br>Country_Region=Madagascar<br>Cases=%{marker.size}<br>iso_alpha=%{location}<extra></extra>\", \"hovertext\": [135.0], \"legendgroup\": \"Madagascar\", \"locations\": [\"MDG\"], \"marker\": {\"color\": \"#FECB52\", \"size\": [135], \"sizemode\": \"area\", \"sizeref\": 2830.9675}, \"name\": \"Madagascar\", \"showlegend\": true, \"type\": \"scattergeo\"}, {\"geo\": \"geo\", \"hovertemplate\": \"<b>%{hovertext}</b><br><br>Country_Region=Malawi<br>Cases=%{marker.size}<br>iso_alpha=%{location}<extra></extra>\", \"hovertext\": [38.0], \"legendgroup\": \"Malawi\", \"locations\": [\"MWI\"], \"marker\": {\"color\": \"#636efa\", \"size\": [38], \"sizemode\": \"area\", \"sizeref\": 2830.9675}, \"name\": \"Malawi\", \"showlegend\": true, \"type\": \"scattergeo\"}, {\"geo\": \"geo\", \"hovertemplate\": \"<b>%{hovertext}</b><br><br>Country_Region=Malaysia<br>Cases=%{marker.size}<br>iso_alpha=%{location}<extra></extra>\", \"hovertext\": [6176.0], \"legendgroup\": \"Malaysia\", \"locations\": [\"MYS\"], \"marker\": {\"color\": \"#EF553B\", \"size\": [6176], \"sizemode\": \"area\", \"sizeref\": 2830.9675}, \"name\": \"Malaysia\", \"showlegend\": true, \"type\": \"scattergeo\"}, {\"geo\": \"geo\", \"hovertemplate\": \"<b>%{hovertext}</b><br><br>Country_Region=Mali<br>Cases=%{marker.size}<br>iso_alpha=%{location}<extra></extra>\", \"hovertext\": [544.0], \"legendgroup\": \"Mali\", \"locations\": [\"MLI\"], \"marker\": {\"color\": \"#00cc96\", \"size\": [544], \"sizemode\": \"area\", \"sizeref\": 2830.9675}, \"name\": \"Mali\", \"showlegend\": true, \"type\": \"scattergeo\"}, {\"geo\": \"geo\", \"hovertemplate\": \"<b>%{hovertext}</b><br><br>Country_Region=Mauritania<br>Cases=%{marker.size}<br>iso_alpha=%{location}<extra></extra>\", \"hovertext\": [8.0], \"legendgroup\": \"Mauritania\", \"locations\": [\"MRT\"], \"marker\": {\"color\": \"#ab63fa\", \"size\": [8], \"sizemode\": \"area\", \"sizeref\": 2830.9675}, \"name\": \"Mauritania\", \"showlegend\": true, \"type\": \"scattergeo\"}, {\"geo\": \"geo\", \"hovertemplate\": \"<b>%{hovertext}</b><br><br>Country_Region=Mauritius<br>Cases=%{marker.size}<br>iso_alpha=%{location}<extra></extra>\", \"hovertext\": [332.0], \"legendgroup\": \"Mauritius\", \"locations\": [\"MUS\"], \"marker\": {\"color\": \"#FFA15A\", \"size\": [332], \"sizemode\": \"area\", \"sizeref\": 2830.9675}, \"name\": \"Mauritius\", \"showlegend\": true, \"type\": \"scattergeo\"}, {\"geo\": \"geo\", \"hovertemplate\": \"<b>%{hovertext}</b><br><br>Country_Region=Mexico<br>Cases=%{marker.size}<br>iso_alpha=%{location}<extra></extra>\", \"hovertext\": [22088.0], \"legendgroup\": \"Mexico\", \"locations\": [\"MEX\"], \"marker\": {\"color\": \"#19d3f3\", \"size\": [22088], \"sizemode\": \"area\", \"sizeref\": 2830.9675}, \"name\": \"Mexico\", \"showlegend\": true, \"type\": \"scattergeo\"}, {\"geo\": \"geo\", \"hovertemplate\": \"<b>%{hovertext}</b><br><br>Country_Region=Mongolia<br>Cases=%{marker.size}<br>iso_alpha=%{location}<extra></extra>\", \"hovertext\": [39.0], \"legendgroup\": \"Mongolia\", \"locations\": [\"MNG\"], \"marker\": {\"color\": \"#FF6692\", \"size\": [39], \"sizemode\": \"area\", \"sizeref\": 2830.9675}, \"name\": \"Mongolia\", \"showlegend\": true, \"type\": \"scattergeo\"}, {\"geo\": \"geo\", \"hovertemplate\": \"<b>%{hovertext}</b><br><br>Country_Region=Montenegro<br>Cases=%{marker.size}<br>iso_alpha=%{location}<extra></extra>\", \"hovertext\": [322.0], \"legendgroup\": \"Montenegro\", \"locations\": [\"MNE\"], \"marker\": {\"color\": \"#B6E880\", \"size\": [322], \"sizemode\": \"area\", \"sizeref\": 2830.9675}, \"name\": \"Montenegro\", \"showlegend\": true, \"type\": \"scattergeo\"}, {\"geo\": \"geo\", \"hovertemplate\": \"<b>%{hovertext}</b><br><br>Country_Region=Morocco<br>Cases=%{marker.size}<br>iso_alpha=%{location}<extra></extra>\", \"hovertext\": [4729.0], \"legendgroup\": \"Morocco\", \"locations\": [\"MAR\"], \"marker\": {\"color\": \"#FF97FF\", \"size\": [4729], \"sizemode\": \"area\", \"sizeref\": 2830.9675}, \"name\": \"Morocco\", \"showlegend\": true, \"type\": \"scattergeo\"}, {\"geo\": \"geo\", \"hovertemplate\": \"<b>%{hovertext}</b><br><br>Country_Region=Mozambique<br>Cases=%{marker.size}<br>iso_alpha=%{location}<extra></extra>\", \"hovertext\": [79.0], \"legendgroup\": \"Mozambique\", \"locations\": [\"MOZ\"], \"marker\": {\"color\": \"#FECB52\", \"size\": [79], \"sizemode\": \"area\", \"sizeref\": 2830.9675}, \"name\": \"Mozambique\", \"showlegend\": true, \"type\": \"scattergeo\"}, {\"geo\": \"geo\", \"hovertemplate\": \"<b>%{hovertext}</b><br><br>Country_Region=Namibia<br>Cases=%{marker.size}<br>iso_alpha=%{location}<extra></extra>\", \"hovertext\": [16.0], \"legendgroup\": \"Namibia\", \"locations\": [\"NAM\"], \"marker\": {\"color\": \"#636efa\", \"size\": [16], \"sizemode\": \"area\", \"sizeref\": 2830.9675}, \"name\": \"Namibia\", \"showlegend\": true, \"type\": \"scattergeo\"}, {\"geo\": \"geo\", \"hovertemplate\": \"<b>%{hovertext}</b><br><br>Country_Region=Nepal<br>Cases=%{marker.size}<br>iso_alpha=%{location}<extra></extra>\", \"hovertext\": [59.0], \"legendgroup\": \"Nepal\", \"locations\": [\"NPL\"], \"marker\": {\"color\": \"#EF553B\", \"size\": [59], \"sizemode\": \"area\", \"sizeref\": 2830.9675}, \"name\": \"Nepal\", \"showlegend\": true, \"type\": \"scattergeo\"}, {\"geo\": \"geo\", \"hovertemplate\": \"<b>%{hovertext}</b><br><br>Country_Region=Netherlands<br>Cases=%{marker.size}<br>iso_alpha=%{location}<extra></extra>\", \"hovertext\": [40434.0], \"legendgroup\": \"Netherlands\", \"locations\": [\"NLD\"], \"marker\": {\"color\": \"#00cc96\", \"size\": [40434], \"sizemode\": \"area\", \"sizeref\": 2830.9675}, \"name\": \"Netherlands\", \"showlegend\": true, \"type\": \"scattergeo\"}, {\"geo\": \"geo\", \"hovertemplate\": \"<b>%{hovertext}</b><br><br>Country_Region=New Zealand<br>Cases=%{marker.size}<br>iso_alpha=%{location}<extra></extra>\", \"hovertext\": [1487.0], \"legendgroup\": \"New Zealand\", \"locations\": [\"NZL\"], \"marker\": {\"color\": \"#ab63fa\", \"size\": [1487], \"sizemode\": \"area\", \"sizeref\": 2830.9675}, \"name\": \"New Zealand\", \"showlegend\": true, \"type\": \"scattergeo\"}, {\"geo\": \"geo\", \"hovertemplate\": \"<b>%{hovertext}</b><br><br>Country_Region=Nicaragua<br>Cases=%{marker.size}<br>iso_alpha=%{location}<extra></extra>\", \"hovertext\": [14.0], \"legendgroup\": \"Nicaragua\", \"locations\": [\"NIC\"], \"marker\": {\"color\": \"#FFA15A\", \"size\": [14], \"sizemode\": \"area\", \"sizeref\": 2830.9675}, \"name\": \"Nicaragua\", \"showlegend\": true, \"type\": \"scattergeo\"}, {\"geo\": \"geo\", \"hovertemplate\": \"<b>%{hovertext}</b><br><br>Country_Region=Niger<br>Cases=%{marker.size}<br>iso_alpha=%{location}<extra></extra>\", \"hovertext\": [736.0], \"legendgroup\": \"Niger\", \"locations\": [\"NER\"], \"marker\": {\"color\": \"#19d3f3\", \"size\": [736], \"sizemode\": \"area\", \"sizeref\": 2830.9675}, \"name\": \"Niger\", \"showlegend\": true, \"type\": \"scattergeo\"}, {\"geo\": \"geo\", \"hovertemplate\": \"<b>%{hovertext}</b><br><br>Country_Region=Nigeria<br>Cases=%{marker.size}<br>iso_alpha=%{location}<extra></extra>\", \"hovertext\": [2388.0], \"legendgroup\": \"Nigeria\", \"locations\": [\"NGA\"], \"marker\": {\"color\": \"#FF6692\", \"size\": [2388], \"sizemode\": \"area\", \"sizeref\": 2830.9675}, \"name\": \"Nigeria\", \"showlegend\": true, \"type\": \"scattergeo\"}, {\"geo\": \"geo\", \"hovertemplate\": \"<b>%{hovertext}</b><br><br>Country_Region=Norway<br>Cases=%{marker.size}<br>iso_alpha=%{location}<extra></extra>\", \"hovertext\": [7809.0], \"legendgroup\": \"Norway\", \"locations\": [\"NOR\"], \"marker\": {\"color\": \"#B6E880\", \"size\": [7809], \"sizemode\": \"area\", \"sizeref\": 2830.9675}, \"name\": \"Norway\", \"showlegend\": true, \"type\": \"scattergeo\"}, {\"geo\": \"geo\", \"hovertemplate\": \"<b>%{hovertext}</b><br><br>Country_Region=Oman<br>Cases=%{marker.size}<br>iso_alpha=%{location}<extra></extra>\", \"hovertext\": [2483.0], \"legendgroup\": \"Oman\", \"locations\": [\"OMN\"], \"marker\": {\"color\": \"#FF97FF\", \"size\": [2483], \"sizemode\": \"area\", \"sizeref\": 2830.9675}, \"name\": \"Oman\", \"showlegend\": true, \"type\": \"scattergeo\"}, {\"geo\": \"geo\", \"hovertemplate\": \"<b>%{hovertext}</b><br><br>Country_Region=Pakistan<br>Cases=%{marker.size}<br>iso_alpha=%{location}<extra></extra>\", \"hovertext\": [19103.0], \"legendgroup\": \"Pakistan\", \"locations\": [\"PAK\"], \"marker\": {\"color\": \"#FECB52\", \"size\": [19103], \"sizemode\": \"area\", \"sizeref\": 2830.9675}, \"name\": \"Pakistan\", \"showlegend\": true, \"type\": \"scattergeo\"}, {\"geo\": \"geo\", \"hovertemplate\": \"<b>%{hovertext}</b><br><br>Country_Region=Panama<br>Cases=%{marker.size}<br>iso_alpha=%{location}<extra></extra>\", \"hovertext\": [7090.0], \"legendgroup\": \"Panama\", \"locations\": [\"PAN\"], \"marker\": {\"color\": \"#636efa\", \"size\": [7090], \"sizemode\": \"area\", \"sizeref\": 2830.9675}, \"name\": \"Panama\", \"showlegend\": true, \"type\": \"scattergeo\"}, {\"geo\": \"geo\", \"hovertemplate\": \"<b>%{hovertext}</b><br><br>Country_Region=Paraguay<br>Cases=%{marker.size}<br>iso_alpha=%{location}<extra></extra>\", \"hovertext\": [370.0], \"legendgroup\": \"Paraguay\", \"locations\": [\"PRY\"], \"marker\": {\"color\": \"#EF553B\", \"size\": [370], \"sizemode\": \"area\", \"sizeref\": 2830.9675}, \"name\": \"Paraguay\", \"showlegend\": true, \"type\": \"scattergeo\"}, {\"geo\": \"geo\", \"hovertemplate\": \"<b>%{hovertext}</b><br><br>Country_Region=Peru<br>Cases=%{marker.size}<br>iso_alpha=%{location}<extra></extra>\", \"hovertext\": [42534.0], \"legendgroup\": \"Peru\", \"locations\": [\"PER\"], \"marker\": {\"color\": \"#00cc96\", \"size\": [42534], \"sizemode\": \"area\", \"sizeref\": 2830.9675}, \"name\": \"Peru\", \"showlegend\": true, \"type\": \"scattergeo\"}, {\"geo\": \"geo\", \"hovertemplate\": \"<b>%{hovertext}</b><br><br>Country_Region=Philippines<br>Cases=%{marker.size}<br>iso_alpha=%{location}<extra></extra>\", \"hovertext\": [8928.0], \"legendgroup\": \"Philippines\", \"locations\": [\"PHL\"], \"marker\": {\"color\": \"#ab63fa\", \"size\": [8928], \"sizemode\": \"area\", \"sizeref\": 2830.9675}, \"name\": \"Philippines\", \"showlegend\": true, \"type\": \"scattergeo\"}, {\"geo\": \"geo\", \"hovertemplate\": \"<b>%{hovertext}</b><br><br>Country_Region=Poland<br>Cases=%{marker.size}<br>iso_alpha=%{location}<extra></extra>\", \"hovertext\": [13375.0], \"legendgroup\": \"Poland\", \"locations\": [\"POL\"], \"marker\": {\"color\": \"#FFA15A\", \"size\": [13375], \"sizemode\": \"area\", \"sizeref\": 2830.9675}, \"name\": \"Poland\", \"showlegend\": true, \"type\": \"scattergeo\"}, {\"geo\": \"geo\", \"hovertemplate\": \"<b>%{hovertext}</b><br><br>Country_Region=Portugal<br>Cases=%{marker.size}<br>iso_alpha=%{location}<extra></extra>\", \"hovertext\": [25190.0], \"legendgroup\": \"Portugal\", \"locations\": [\"PRT\"], \"marker\": {\"color\": \"#19d3f3\", \"size\": [25190], \"sizemode\": \"area\", \"sizeref\": 2830.9675}, \"name\": \"Portugal\", \"showlegend\": true, \"type\": \"scattergeo\"}, {\"geo\": \"geo\", \"hovertemplate\": \"<b>%{hovertext}</b><br><br>Country_Region=Romania<br>Cases=%{marker.size}<br>iso_alpha=%{location}<extra></extra>\", \"hovertext\": [12732.0], \"legendgroup\": \"Romania\", \"locations\": [\"ROU\"], \"marker\": {\"color\": \"#FF6692\", \"size\": [12732], \"sizemode\": \"area\", \"sizeref\": 2830.9675}, \"name\": \"Romania\", \"showlegend\": true, \"type\": \"scattergeo\"}, {\"geo\": \"geo\", \"hovertemplate\": \"<b>%{hovertext}</b><br><br>Country_Region=Rwanda<br>Cases=%{marker.size}<br>iso_alpha=%{location}<extra></extra>\", \"hovertext\": [255.0], \"legendgroup\": \"Rwanda\", \"locations\": [\"RWA\"], \"marker\": {\"color\": \"#B6E880\", \"size\": [255], \"sizemode\": \"area\", \"sizeref\": 2830.9675}, \"name\": \"Rwanda\", \"showlegend\": true, \"type\": \"scattergeo\"}, {\"geo\": \"geo\", \"hovertemplate\": \"<b>%{hovertext}</b><br><br>Country_Region=Sao Tome and Principe<br>Cases=%{marker.size}<br>iso_alpha=%{location}<extra></extra>\", \"hovertext\": [16.0], \"legendgroup\": \"Sao Tome and Principe\", \"locations\": [\"STP\"], \"marker\": {\"color\": \"#FF97FF\", \"size\": [16], \"sizemode\": \"area\", \"sizeref\": 2830.9675}, \"name\": \"Sao Tome and Principe\", \"showlegend\": true, \"type\": \"scattergeo\"}, {\"geo\": \"geo\", \"hovertemplate\": \"<b>%{hovertext}</b><br><br>Country_Region=Saudi Arabia<br>Cases=%{marker.size}<br>iso_alpha=%{location}<extra></extra>\", \"hovertext\": [25459.0], \"legendgroup\": \"Saudi Arabia\", \"locations\": [\"SAU\"], \"marker\": {\"color\": \"#FECB52\", \"size\": [25459], \"sizemode\": \"area\", \"sizeref\": 2830.9675}, \"name\": \"Saudi Arabia\", \"showlegend\": true, \"type\": \"scattergeo\"}, {\"geo\": \"geo\", \"hovertemplate\": \"<b>%{hovertext}</b><br><br>Country_Region=Senegal<br>Cases=%{marker.size}<br>iso_alpha=%{location}<extra></extra>\", \"hovertext\": [1115.0], \"legendgroup\": \"Senegal\", \"locations\": [\"SEN\"], \"marker\": {\"color\": \"#636efa\", \"size\": [1115], \"sizemode\": \"area\", \"sizeref\": 2830.9675}, \"name\": \"Senegal\", \"showlegend\": true, \"type\": \"scattergeo\"}, {\"geo\": \"geo\", \"hovertemplate\": \"<b>%{hovertext}</b><br><br>Country_Region=Serbia<br>Cases=%{marker.size}<br>iso_alpha=%{location}<extra></extra>\", \"hovertext\": [9362.0], \"legendgroup\": \"Serbia\", \"locations\": [\"SRB\"], \"marker\": {\"color\": \"#EF553B\", \"size\": [9362], \"sizemode\": \"area\", \"sizeref\": 2830.9675}, \"name\": \"Serbia\", \"showlegend\": true, \"type\": \"scattergeo\"}, {\"geo\": \"geo\", \"hovertemplate\": \"<b>%{hovertext}</b><br><br>Country_Region=Sierra Leone<br>Cases=%{marker.size}<br>iso_alpha=%{location}<extra></extra>\", \"hovertext\": [155.0], \"legendgroup\": \"Sierra Leone\", \"locations\": [\"SLE\"], \"marker\": {\"color\": \"#00cc96\", \"size\": [155], \"sizemode\": \"area\", \"sizeref\": 2830.9675}, \"name\": \"Sierra Leone\", \"showlegend\": true, \"type\": \"scattergeo\"}, {\"geo\": \"geo\", \"hovertemplate\": \"<b>%{hovertext}</b><br><br>Country_Region=Singapore<br>Cases=%{marker.size}<br>iso_alpha=%{location}<extra></extra>\", \"hovertext\": [17548.0], \"legendgroup\": \"Singapore\", \"locations\": [\"SGP\"], \"marker\": {\"color\": \"#ab63fa\", \"size\": [17548], \"sizemode\": \"area\", \"sizeref\": 2830.9675}, \"name\": \"Singapore\", \"showlegend\": true, \"type\": \"scattergeo\"}, {\"geo\": \"geo\", \"hovertemplate\": \"<b>%{hovertext}</b><br><br>Country_Region=Slovenia<br>Cases=%{marker.size}<br>iso_alpha=%{location}<extra></extra>\", \"hovertext\": [1439.0], \"legendgroup\": \"Slovenia\", \"locations\": [\"SVN\"], \"marker\": {\"color\": \"#FFA15A\", \"size\": [1439], \"sizemode\": \"area\", \"sizeref\": 2830.9675}, \"name\": \"Slovenia\", \"showlegend\": true, \"type\": \"scattergeo\"}, {\"geo\": \"geo\", \"hovertemplate\": \"<b>%{hovertext}</b><br><br>Country_Region=Somalia<br>Cases=%{marker.size}<br>iso_alpha=%{location}<extra></extra>\", \"hovertext\": [671.0], \"legendgroup\": \"Somalia\", \"locations\": [\"SOM\"], \"marker\": {\"color\": \"#19d3f3\", \"size\": [671], \"sizemode\": \"area\", \"sizeref\": 2830.9675}, \"name\": \"Somalia\", \"showlegend\": true, \"type\": \"scattergeo\"}, {\"geo\": \"geo\", \"hovertemplate\": \"<b>%{hovertext}</b><br><br>Country_Region=South Africa<br>Cases=%{marker.size}<br>iso_alpha=%{location}<extra></extra>\", \"hovertext\": [6336.0], \"legendgroup\": \"South Africa\", \"locations\": [\"ZAF\"], \"marker\": {\"color\": \"#FF6692\", \"size\": [6336], \"sizemode\": \"area\", \"sizeref\": 2830.9675}, \"name\": \"South Africa\", \"showlegend\": true, \"type\": \"scattergeo\"}, {\"geo\": \"geo\", \"hovertemplate\": \"<b>%{hovertext}</b><br><br>Country_Region=Spain<br>Cases=%{marker.size}<br>iso_alpha=%{location}<extra></extra>\", \"hovertext\": [216582.0], \"legendgroup\": \"Spain\", \"locations\": [\"ESP\"], \"marker\": {\"color\": \"#B6E880\", \"size\": [216582], \"sizemode\": \"area\", \"sizeref\": 2830.9675}, \"name\": \"Spain\", \"showlegend\": true, \"type\": \"scattergeo\"}, {\"geo\": \"geo\", \"hovertemplate\": \"<b>%{hovertext}</b><br><br>Country_Region=Sri Lanka<br>Cases=%{marker.size}<br>iso_alpha=%{location}<extra></extra>\", \"hovertext\": [705.0], \"legendgroup\": \"Sri Lanka\", \"locations\": [\"LKA\"], \"marker\": {\"color\": \"#FF97FF\", \"size\": [705], \"sizemode\": \"area\", \"sizeref\": 2830.9675}, \"name\": \"Sri Lanka\", \"showlegend\": true, \"type\": \"scattergeo\"}, {\"geo\": \"geo\", \"hovertemplate\": \"<b>%{hovertext}</b><br><br>Country_Region=Sudan<br>Cases=%{marker.size}<br>iso_alpha=%{location}<extra></extra>\", \"hovertext\": [592.0], \"legendgroup\": \"Sudan\", \"locations\": [\"SDN\"], \"marker\": {\"color\": \"#FECB52\", \"size\": [592], \"sizemode\": \"area\", \"sizeref\": 2830.9675}, \"name\": \"Sudan\", \"showlegend\": true, \"type\": \"scattergeo\"}, {\"geo\": \"geo\", \"hovertemplate\": \"<b>%{hovertext}</b><br><br>Country_Region=Sweden<br>Cases=%{marker.size}<br>iso_alpha=%{location}<extra></extra>\", \"hovertext\": [22082.0], \"legendgroup\": \"Sweden\", \"locations\": [\"SWE\"], \"marker\": {\"color\": \"#636efa\", \"size\": [22082], \"sizemode\": \"area\", \"sizeref\": 2830.9675}, \"name\": \"Sweden\", \"showlegend\": true, \"type\": \"scattergeo\"}, {\"geo\": \"geo\", \"hovertemplate\": \"<b>%{hovertext}</b><br><br>Country_Region=Switzerland<br>Cases=%{marker.size}<br>iso_alpha=%{location}<extra></extra>\", \"hovertext\": [29817.0], \"legendgroup\": \"Switzerland\", \"locations\": [\"CHE\"], \"marker\": {\"color\": \"#EF553B\", \"size\": [29817], \"sizemode\": \"area\", \"sizeref\": 2830.9675}, \"name\": \"Switzerland\", \"showlegend\": true, \"type\": \"scattergeo\"}, {\"geo\": \"geo\", \"hovertemplate\": \"<b>%{hovertext}</b><br><br>Country_Region=Syria<br>Cases=%{marker.size}<br>iso_alpha=%{location}<extra></extra>\", \"hovertext\": [44.0], \"legendgroup\": \"Syria\", \"locations\": [\"SYR\"], \"marker\": {\"color\": \"#00cc96\", \"size\": [44], \"sizemode\": \"area\", \"sizeref\": 2830.9675}, \"name\": \"Syria\", \"showlegend\": true, \"type\": \"scattergeo\"}, {\"geo\": \"geo\", \"hovertemplate\": \"<b>%{hovertext}</b><br><br>Country_Region=Tanzania<br>Cases=%{marker.size}<br>iso_alpha=%{location}<extra></extra>\", \"hovertext\": [480.0], \"legendgroup\": \"Tanzania\", \"locations\": [\"TZA\"], \"marker\": {\"color\": \"#ab63fa\", \"size\": [480], \"sizemode\": \"area\", \"sizeref\": 2830.9675}, \"name\": \"Tanzania\", \"showlegend\": true, \"type\": \"scattergeo\"}, {\"geo\": \"geo\", \"hovertemplate\": \"<b>%{hovertext}</b><br><br>Country_Region=Thailand<br>Cases=%{marker.size}<br>iso_alpha=%{location}<extra></extra>\", \"hovertext\": [2966.0], \"legendgroup\": \"Thailand\", \"locations\": [\"THA\"], \"marker\": {\"color\": \"#FFA15A\", \"size\": [2966], \"sizemode\": \"area\", \"sizeref\": 2830.9675}, \"name\": \"Thailand\", \"showlegend\": true, \"type\": \"scattergeo\"}, {\"geo\": \"geo\", \"hovertemplate\": \"<b>%{hovertext}</b><br><br>Country_Region=Togo<br>Cases=%{marker.size}<br>iso_alpha=%{location}<extra></extra>\", \"hovertext\": [123.0], \"legendgroup\": \"Togo\", \"locations\": [\"TGO\"], \"marker\": {\"color\": \"#19d3f3\", \"size\": [123], \"sizemode\": \"area\", \"sizeref\": 2830.9675}, \"name\": \"Togo\", \"showlegend\": true, \"type\": \"scattergeo\"}, {\"geo\": \"geo\", \"hovertemplate\": \"<b>%{hovertext}</b><br><br>Country_Region=Trinidad and Tobago<br>Cases=%{marker.size}<br>iso_alpha=%{location}<extra></extra>\", \"hovertext\": [116.0], \"legendgroup\": \"Trinidad and Tobago\", \"locations\": [\"TTO\"], \"marker\": {\"color\": \"#FF6692\", \"size\": [116], \"sizemode\": \"area\", \"sizeref\": 2830.9675}, \"name\": \"Trinidad and Tobago\", \"showlegend\": true, \"type\": \"scattergeo\"}, {\"geo\": \"geo\", \"hovertemplate\": \"<b>%{hovertext}</b><br><br>Country_Region=Tunisia<br>Cases=%{marker.size}<br>iso_alpha=%{location}<extra></extra>\", \"hovertext\": [1009.0], \"legendgroup\": \"Tunisia\", \"locations\": [\"TUN\"], \"marker\": {\"color\": \"#B6E880\", \"size\": [1009], \"sizemode\": \"area\", \"sizeref\": 2830.9675}, \"name\": \"Tunisia\", \"showlegend\": true, \"type\": \"scattergeo\"}, {\"geo\": \"geo\", \"hovertemplate\": \"<b>%{hovertext}</b><br><br>Country_Region=Turkey<br>Cases=%{marker.size}<br>iso_alpha=%{location}<extra></extra>\", \"hovertext\": [124375.0], \"legendgroup\": \"Turkey\", \"locations\": [\"TUR\"], \"marker\": {\"color\": \"#FF97FF\", \"size\": [124375], \"sizemode\": \"area\", \"sizeref\": 2830.9675}, \"name\": \"Turkey\", \"showlegend\": true, \"type\": \"scattergeo\"}, {\"geo\": \"geo\", \"hovertemplate\": \"<b>%{hovertext}</b><br><br>Country_Region=US<br>Cases=%{marker.size}<br>iso_alpha=%{location}<extra></extra>\", \"hovertext\": [1132387.0], \"legendgroup\": \"US\", \"locations\": [\"USA\"], \"marker\": {\"color\": \"#FECB52\", \"size\": [1132387], \"sizemode\": \"area\", \"sizeref\": 2830.9675}, \"name\": \"US\", \"showlegend\": true, \"type\": \"scattergeo\"}, {\"geo\": \"geo\", \"hovertemplate\": \"<b>%{hovertext}</b><br><br>Country_Region=Uganda<br>Cases=%{marker.size}<br>iso_alpha=%{location}<extra></extra>\", \"hovertext\": [88.0], \"legendgroup\": \"Uganda\", \"locations\": [\"UGA\"], \"marker\": {\"color\": \"#636efa\", \"size\": [88], \"sizemode\": \"area\", \"sizeref\": 2830.9675}, \"name\": \"Uganda\", \"showlegend\": true, \"type\": \"scattergeo\"}, {\"geo\": \"geo\", \"hovertemplate\": \"<b>%{hovertext}</b><br><br>Country_Region=United Kingdom<br>Cases=%{marker.size}<br>iso_alpha=%{location}<extra></extra>\", \"hovertext\": [183500.0], \"legendgroup\": \"United Kingdom\", \"locations\": [\"GBR\"], \"marker\": {\"color\": \"#EF553B\", \"size\": [183500], \"sizemode\": \"area\", \"sizeref\": 2830.9675}, \"name\": \"United Kingdom\", \"showlegend\": true, \"type\": \"scattergeo\"}, {\"geo\": \"geo\", \"hovertemplate\": \"<b>%{hovertext}</b><br><br>Country_Region=Uruguay<br>Cases=%{marker.size}<br>iso_alpha=%{location}<extra></extra>\", \"hovertext\": [652.0], \"legendgroup\": \"Uruguay\", \"locations\": [\"URY\"], \"marker\": {\"color\": \"#00cc96\", \"size\": [652], \"sizemode\": \"area\", \"sizeref\": 2830.9675}, \"name\": \"Uruguay\", \"showlegend\": true, \"type\": \"scattergeo\"}, {\"geo\": \"geo\", \"hovertemplate\": \"<b>%{hovertext}</b><br><br>Country_Region=Venezuela<br>Cases=%{marker.size}<br>iso_alpha=%{location}<extra></extra>\", \"hovertext\": [345.0], \"legendgroup\": \"Venezuela\", \"locations\": [\"VEN\"], \"marker\": {\"color\": \"#ab63fa\", \"size\": [345], \"sizemode\": \"area\", \"sizeref\": 2830.9675}, \"name\": \"Venezuela\", \"showlegend\": true, \"type\": \"scattergeo\"}, {\"geo\": \"geo\", \"hovertemplate\": \"<b>%{hovertext}</b><br><br>Country_Region=Vietnam<br>Cases=%{marker.size}<br>iso_alpha=%{location}<extra></extra>\", \"hovertext\": [270.0], \"legendgroup\": \"Vietnam\", \"locations\": [\"VNM\"], \"marker\": {\"color\": \"#FFA15A\", \"size\": [270], \"sizemode\": \"area\", \"sizeref\": 2830.9675}, \"name\": \"Vietnam\", \"showlegend\": true, \"type\": \"scattergeo\"}, {\"geo\": \"geo\", \"hovertemplate\": \"<b>%{hovertext}</b><br><br>Country_Region=West Bank and Gaza<br>Cases=%{marker.size}<br>iso_alpha=%{location}<extra></extra>\", \"hovertext\": [353.0], \"legendgroup\": \"West Bank and Gaza\", \"locations\": [\"PSE\"], \"marker\": {\"color\": \"#19d3f3\", \"size\": [353], \"sizemode\": \"area\", \"sizeref\": 2830.9675}, \"name\": \"West Bank and Gaza\", \"showlegend\": true, \"type\": \"scattergeo\"}, {\"geo\": \"geo\", \"hovertemplate\": \"<b>%{hovertext}</b><br><br>Country_Region=Zambia<br>Cases=%{marker.size}<br>iso_alpha=%{location}<extra></extra>\", \"hovertext\": [119.0], \"legendgroup\": \"Zambia\", \"locations\": [\"ZMB\"], \"marker\": {\"color\": \"#FF6692\", \"size\": [119], \"sizemode\": \"area\", \"sizeref\": 2830.9675}, \"name\": \"Zambia\", \"showlegend\": true, \"type\": \"scattergeo\"}, {\"geo\": \"geo\", \"hovertemplate\": \"<b>%{hovertext}</b><br><br>Country_Region=Zimbabwe<br>Cases=%{marker.size}<br>iso_alpha=%{location}<extra></extra>\", \"hovertext\": [34.0], \"legendgroup\": \"Zimbabwe\", \"locations\": [\"ZWE\"], \"marker\": {\"color\": \"#B6E880\", \"size\": [34], \"sizemode\": \"area\", \"sizeref\": 2830.9675}, \"name\": \"Zimbabwe\", \"showlegend\": true, \"type\": \"scattergeo\"}],\n",
       "                        {\"geo\": {\"center\": {}, \"domain\": {\"x\": [0.0, 1.0], \"y\": [0.0, 1.0]}, \"projection\": {\"type\": \"natural earth\"}}, \"legend\": {\"itemsizing\": \"constant\", \"title\": {\"text\": \"Country_Region\"}, \"tracegroupgap\": 0}, \"margin\": {\"t\": 60}, \"template\": {\"data\": {\"bar\": [{\"error_x\": {\"color\": \"#2a3f5f\"}, \"error_y\": {\"color\": \"#2a3f5f\"}, \"marker\": {\"line\": {\"color\": \"#E5ECF6\", \"width\": 0.5}}, \"type\": \"bar\"}], \"barpolar\": [{\"marker\": {\"line\": {\"color\": \"#E5ECF6\", \"width\": 0.5}}, \"type\": \"barpolar\"}], \"carpet\": [{\"aaxis\": {\"endlinecolor\": \"#2a3f5f\", \"gridcolor\": \"white\", \"linecolor\": \"white\", \"minorgridcolor\": \"white\", \"startlinecolor\": \"#2a3f5f\"}, \"baxis\": {\"endlinecolor\": \"#2a3f5f\", \"gridcolor\": \"white\", \"linecolor\": \"white\", \"minorgridcolor\": \"white\", \"startlinecolor\": \"#2a3f5f\"}, \"type\": \"carpet\"}], \"choropleth\": [{\"colorbar\": {\"outlinewidth\": 0, \"ticks\": \"\"}, \"type\": \"choropleth\"}], \"contour\": [{\"colorbar\": {\"outlinewidth\": 0, \"ticks\": \"\"}, \"colorscale\": [[0.0, \"#0d0887\"], [0.1111111111111111, \"#46039f\"], [0.2222222222222222, \"#7201a8\"], [0.3333333333333333, \"#9c179e\"], [0.4444444444444444, \"#bd3786\"], [0.5555555555555556, \"#d8576b\"], [0.6666666666666666, \"#ed7953\"], [0.7777777777777778, \"#fb9f3a\"], [0.8888888888888888, \"#fdca26\"], [1.0, \"#f0f921\"]], \"type\": \"contour\"}], \"contourcarpet\": [{\"colorbar\": {\"outlinewidth\": 0, \"ticks\": \"\"}, \"type\": \"contourcarpet\"}], \"heatmap\": [{\"colorbar\": {\"outlinewidth\": 0, \"ticks\": \"\"}, \"colorscale\": [[0.0, \"#0d0887\"], [0.1111111111111111, \"#46039f\"], [0.2222222222222222, \"#7201a8\"], [0.3333333333333333, \"#9c179e\"], [0.4444444444444444, \"#bd3786\"], [0.5555555555555556, \"#d8576b\"], [0.6666666666666666, \"#ed7953\"], [0.7777777777777778, \"#fb9f3a\"], [0.8888888888888888, \"#fdca26\"], [1.0, \"#f0f921\"]], \"type\": \"heatmap\"}], \"heatmapgl\": [{\"colorbar\": {\"outlinewidth\": 0, \"ticks\": \"\"}, \"colorscale\": [[0.0, \"#0d0887\"], [0.1111111111111111, \"#46039f\"], [0.2222222222222222, \"#7201a8\"], [0.3333333333333333, \"#9c179e\"], [0.4444444444444444, \"#bd3786\"], [0.5555555555555556, \"#d8576b\"], [0.6666666666666666, \"#ed7953\"], [0.7777777777777778, \"#fb9f3a\"], [0.8888888888888888, \"#fdca26\"], [1.0, \"#f0f921\"]], \"type\": \"heatmapgl\"}], \"histogram\": [{\"marker\": {\"colorbar\": {\"outlinewidth\": 0, \"ticks\": \"\"}}, \"type\": \"histogram\"}], \"histogram2d\": [{\"colorbar\": {\"outlinewidth\": 0, \"ticks\": \"\"}, \"colorscale\": [[0.0, \"#0d0887\"], [0.1111111111111111, \"#46039f\"], [0.2222222222222222, \"#7201a8\"], [0.3333333333333333, \"#9c179e\"], [0.4444444444444444, \"#bd3786\"], [0.5555555555555556, \"#d8576b\"], [0.6666666666666666, \"#ed7953\"], [0.7777777777777778, \"#fb9f3a\"], [0.8888888888888888, \"#fdca26\"], [1.0, \"#f0f921\"]], \"type\": \"histogram2d\"}], \"histogram2dcontour\": [{\"colorbar\": {\"outlinewidth\": 0, \"ticks\": \"\"}, \"colorscale\": [[0.0, \"#0d0887\"], [0.1111111111111111, \"#46039f\"], [0.2222222222222222, \"#7201a8\"], [0.3333333333333333, \"#9c179e\"], [0.4444444444444444, \"#bd3786\"], [0.5555555555555556, \"#d8576b\"], [0.6666666666666666, \"#ed7953\"], [0.7777777777777778, \"#fb9f3a\"], [0.8888888888888888, \"#fdca26\"], [1.0, \"#f0f921\"]], \"type\": \"histogram2dcontour\"}], \"mesh3d\": [{\"colorbar\": {\"outlinewidth\": 0, \"ticks\": \"\"}, \"type\": \"mesh3d\"}], \"parcoords\": [{\"line\": {\"colorbar\": {\"outlinewidth\": 0, \"ticks\": \"\"}}, \"type\": \"parcoords\"}], \"pie\": [{\"automargin\": true, \"type\": \"pie\"}], \"scatter\": [{\"marker\": {\"colorbar\": {\"outlinewidth\": 0, \"ticks\": \"\"}}, \"type\": \"scatter\"}], \"scatter3d\": [{\"line\": {\"colorbar\": {\"outlinewidth\": 0, \"ticks\": \"\"}}, \"marker\": {\"colorbar\": {\"outlinewidth\": 0, \"ticks\": \"\"}}, \"type\": \"scatter3d\"}], \"scattercarpet\": [{\"marker\": {\"colorbar\": {\"outlinewidth\": 0, \"ticks\": \"\"}}, \"type\": \"scattercarpet\"}], \"scattergeo\": [{\"marker\": {\"colorbar\": {\"outlinewidth\": 0, \"ticks\": \"\"}}, \"type\": \"scattergeo\"}], \"scattergl\": [{\"marker\": {\"colorbar\": {\"outlinewidth\": 0, \"ticks\": \"\"}}, \"type\": \"scattergl\"}], \"scattermapbox\": [{\"marker\": {\"colorbar\": {\"outlinewidth\": 0, \"ticks\": \"\"}}, \"type\": \"scattermapbox\"}], \"scatterpolar\": [{\"marker\": {\"colorbar\": {\"outlinewidth\": 0, \"ticks\": \"\"}}, \"type\": \"scatterpolar\"}], \"scatterpolargl\": [{\"marker\": {\"colorbar\": {\"outlinewidth\": 0, \"ticks\": \"\"}}, \"type\": \"scatterpolargl\"}], \"scatterternary\": [{\"marker\": {\"colorbar\": {\"outlinewidth\": 0, \"ticks\": \"\"}}, \"type\": \"scatterternary\"}], \"surface\": [{\"colorbar\": {\"outlinewidth\": 0, \"ticks\": \"\"}, \"colorscale\": [[0.0, \"#0d0887\"], [0.1111111111111111, \"#46039f\"], [0.2222222222222222, \"#7201a8\"], [0.3333333333333333, \"#9c179e\"], [0.4444444444444444, \"#bd3786\"], [0.5555555555555556, \"#d8576b\"], [0.6666666666666666, \"#ed7953\"], [0.7777777777777778, \"#fb9f3a\"], [0.8888888888888888, \"#fdca26\"], [1.0, \"#f0f921\"]], \"type\": \"surface\"}], \"table\": [{\"cells\": {\"fill\": {\"color\": \"#EBF0F8\"}, \"line\": {\"color\": \"white\"}}, \"header\": {\"fill\": {\"color\": \"#C8D4E3\"}, \"line\": {\"color\": \"white\"}}, \"type\": \"table\"}]}, \"layout\": {\"annotationdefaults\": {\"arrowcolor\": \"#2a3f5f\", \"arrowhead\": 0, \"arrowwidth\": 1}, \"coloraxis\": {\"colorbar\": {\"outlinewidth\": 0, \"ticks\": \"\"}}, \"colorscale\": {\"diverging\": [[0, \"#8e0152\"], [0.1, \"#c51b7d\"], [0.2, \"#de77ae\"], [0.3, \"#f1b6da\"], [0.4, \"#fde0ef\"], [0.5, \"#f7f7f7\"], [0.6, \"#e6f5d0\"], [0.7, \"#b8e186\"], [0.8, \"#7fbc41\"], [0.9, \"#4d9221\"], [1, \"#276419\"]], \"sequential\": [[0.0, \"#0d0887\"], [0.1111111111111111, \"#46039f\"], [0.2222222222222222, \"#7201a8\"], [0.3333333333333333, \"#9c179e\"], [0.4444444444444444, \"#bd3786\"], [0.5555555555555556, \"#d8576b\"], [0.6666666666666666, \"#ed7953\"], [0.7777777777777778, \"#fb9f3a\"], [0.8888888888888888, \"#fdca26\"], [1.0, \"#f0f921\"]], \"sequentialminus\": [[0.0, \"#0d0887\"], [0.1111111111111111, \"#46039f\"], [0.2222222222222222, \"#7201a8\"], [0.3333333333333333, \"#9c179e\"], [0.4444444444444444, \"#bd3786\"], [0.5555555555555556, \"#d8576b\"], [0.6666666666666666, \"#ed7953\"], [0.7777777777777778, \"#fb9f3a\"], [0.8888888888888888, \"#fdca26\"], [1.0, \"#f0f921\"]]}, \"colorway\": [\"#636efa\", \"#EF553B\", \"#00cc96\", \"#ab63fa\", \"#FFA15A\", \"#19d3f3\", \"#FF6692\", \"#B6E880\", \"#FF97FF\", \"#FECB52\"], \"font\": {\"color\": \"#2a3f5f\"}, \"geo\": {\"bgcolor\": \"white\", \"lakecolor\": \"white\", \"landcolor\": \"#E5ECF6\", \"showlakes\": true, \"showland\": true, \"subunitcolor\": \"white\"}, \"hoverlabel\": {\"align\": \"left\"}, \"hovermode\": \"closest\", \"mapbox\": {\"style\": \"light\"}, \"paper_bgcolor\": \"white\", \"plot_bgcolor\": \"#E5ECF6\", \"polar\": {\"angularaxis\": {\"gridcolor\": \"white\", \"linecolor\": \"white\", \"ticks\": \"\"}, \"bgcolor\": \"#E5ECF6\", \"radialaxis\": {\"gridcolor\": \"white\", \"linecolor\": \"white\", \"ticks\": \"\"}}, \"scene\": {\"xaxis\": {\"backgroundcolor\": \"#E5ECF6\", \"gridcolor\": \"white\", \"gridwidth\": 2, \"linecolor\": \"white\", \"showbackground\": true, \"ticks\": \"\", \"zerolinecolor\": \"white\"}, \"yaxis\": {\"backgroundcolor\": \"#E5ECF6\", \"gridcolor\": \"white\", \"gridwidth\": 2, \"linecolor\": \"white\", \"showbackground\": true, \"ticks\": \"\", \"zerolinecolor\": \"white\"}, \"zaxis\": {\"backgroundcolor\": \"#E5ECF6\", \"gridcolor\": \"white\", \"gridwidth\": 2, \"linecolor\": \"white\", \"showbackground\": true, \"ticks\": \"\", \"zerolinecolor\": \"white\"}}, \"shapedefaults\": {\"line\": {\"color\": \"#2a3f5f\"}}, \"ternary\": {\"aaxis\": {\"gridcolor\": \"white\", \"linecolor\": \"white\", \"ticks\": \"\"}, \"baxis\": {\"gridcolor\": \"white\", \"linecolor\": \"white\", \"ticks\": \"\"}, \"bgcolor\": \"#E5ECF6\", \"caxis\": {\"gridcolor\": \"white\", \"linecolor\": \"white\", \"ticks\": \"\"}}, \"title\": {\"x\": 0.05}, \"xaxis\": {\"automargin\": true, \"gridcolor\": \"white\", \"linecolor\": \"white\", \"ticks\": \"\", \"title\": {\"standoff\": 15}, \"zerolinecolor\": \"white\", \"zerolinewidth\": 2}, \"yaxis\": {\"automargin\": true, \"gridcolor\": \"white\", \"linecolor\": \"white\", \"ticks\": \"\", \"title\": {\"standoff\": 15}, \"zerolinecolor\": \"white\", \"zerolinewidth\": 2}}}},\n",
       "                        {\"responsive\": true}\n",
       "                    ).then(function(){\n",
       "                            \n",
       "var gd = document.getElementById('b04424b8-4746-4b95-b2ae-65ef2e2d5b05');\n",
       "var x = new MutationObserver(function (mutations, observer) {{\n",
       "        var display = window.getComputedStyle(gd).display;\n",
       "        if (!display || display === 'none') {{\n",
       "            console.log([gd, 'removed!']);\n",
       "            Plotly.purge(gd);\n",
       "            observer.disconnect();\n",
       "        }}\n",
       "}});\n",
       "\n",
       "// Listen for the removal of the full notebook cells\n",
       "var notebookContainer = gd.closest('#notebook-container');\n",
       "if (notebookContainer) {{\n",
       "    x.observe(notebookContainer, {childList: true});\n",
       "}}\n",
       "\n",
       "// Listen for the clearing of the current output cell\n",
       "var outputEl = gd.closest('.output');\n",
       "if (outputEl) {{\n",
       "    x.observe(outputEl, {childList: true});\n",
       "}}\n",
       "\n",
       "                        })\n",
       "                };\n",
       "                });\n",
       "            </script>\n",
       "        </div>"
      ]
     },
     "metadata": {},
     "output_type": "display_data"
    }
   ],
   "source": [
    "fig1 = px.scatter_geo(iso_data, locations=\"iso_alpha\", color=\"Country_Region\",\n",
    "                     hover_name=\"Cases\", size=\"Cases\",\n",
    "                      projection=\"natural earth\")\n",
    "fig1.show()"
   ]
  },
  {
   "cell_type": "markdown",
   "metadata": {},
   "source": [
    "# Figure 3 - Choropleth map for world with colorscale (Hover and point using Plotly graph object"
   ]
  },
  {
   "cell_type": "code",
   "execution_count": 20,
   "metadata": {},
   "outputs": [
    {
     "data": {
      "application/vnd.jupyter.widget-view+json": {
       "model_id": "0c94d761cc48481b8fce6fcdf69ab4fd",
       "version_major": 2,
       "version_minor": 0
      },
      "text/plain": [
       "FigureWidget({\n",
       "    'data': [{'autocolorscale': False,\n",
       "              'colorbar': {'title': {'text': 'Cases'}},\n",
       "…"
      ]
     },
     "metadata": {},
     "output_type": "display_data"
    }
   ],
   "source": [
    "fig2 = go.Figure(data=go.Choropleth(\n",
    "    locations = iso_data['iso_alpha'],\n",
    "    z = iso_data['Cases'],\n",
    "    text = iso_data['Country_Region'],\n",
    "    colorscale = 'RdPu',\n",
    "    autocolorscale=False,\n",
    "    marker_line_color='darkgray',\n",
    "    marker_line_width=0.8,\n",
    "    colorbar_title = 'Cases',\n",
    "))\n",
    "\n",
    "fig2.update_layout(\n",
    "    title_text='Cases Around the World',\n",
    "    geo=dict(\n",
    "        showframe=False,\n",
    "        showcoastlines=False,\n",
    "        projection_type='equirectangular'\n",
    "    ),\n",
    "    annotations = [dict(\n",
    "        x=0.55,\n",
    "        y=0.1,\n",
    "        xref='paper',\n",
    "        yref='paper',\n",
    "        text='Source: https://plotly.com/python/choropleth-maps/#world-choropleth-map',\n",
    "        showarrow = False\n",
    "    )]\n",
    ")\n",
    "\n",
    "# fig2.show()\n",
    "f2 = go.FigureWidget(fig2)\n",
    "f2"
   ]
  },
  {
   "cell_type": "code",
   "execution_count": 21,
   "metadata": {},
   "outputs": [],
   "source": [
    "#Tried to create a callback function but failed\n",
    "# create our callback function\n",
    "#def update_point(trace, points, selector):\n",
    " #   print(\"Here\")\n",
    "\n",
    "\n",
    "#f2.on_click(update_point)"
   ]
  },
  {
   "cell_type": "markdown",
   "metadata": {},
   "source": [
    "# US specific Data"
   ]
  },
  {
   "cell_type": "code",
   "execution_count": 22,
   "metadata": {},
   "outputs": [
    {
     "data": {
      "text/html": [
       "<div>\n",
       "<style scoped>\n",
       "    .dataframe tbody tr th:only-of-type {\n",
       "        vertical-align: middle;\n",
       "    }\n",
       "\n",
       "    .dataframe tbody tr th {\n",
       "        vertical-align: top;\n",
       "    }\n",
       "\n",
       "    .dataframe thead th {\n",
       "        text-align: right;\n",
       "    }\n",
       "</style>\n",
       "<table border=\"1\" class=\"dataframe\">\n",
       "  <thead>\n",
       "    <tr style=\"text-align: right;\">\n",
       "      <th></th>\n",
       "      <th>Case_Type</th>\n",
       "      <th>People_Total_Tested_Count</th>\n",
       "      <th>Cases</th>\n",
       "      <th>Difference</th>\n",
       "      <th>Date</th>\n",
       "      <th>Combined_Key</th>\n",
       "      <th>Country_Region</th>\n",
       "      <th>Province_State</th>\n",
       "      <th>Admin2</th>\n",
       "      <th>iso2</th>\n",
       "      <th>iso3</th>\n",
       "      <th>FIPS</th>\n",
       "      <th>Lat</th>\n",
       "      <th>Long</th>\n",
       "      <th>Population_Count</th>\n",
       "      <th>People_Hospitalized_Cumulative_Count</th>\n",
       "      <th>Data_Source</th>\n",
       "      <th>Prep_Flow_Runtime</th>\n",
       "      <th>country</th>\n",
       "      <th>iso_alpha</th>\n",
       "    </tr>\n",
       "  </thead>\n",
       "  <tbody>\n",
       "    <tr>\n",
       "      <td>41412</td>\n",
       "      <td>Deaths</td>\n",
       "      <td>NaN</td>\n",
       "      <td>0</td>\n",
       "      <td>0</td>\n",
       "      <td>2020-02-13</td>\n",
       "      <td>Atchison, Kansas, US</td>\n",
       "      <td>US</td>\n",
       "      <td>Kansas</td>\n",
       "      <td>Atchison</td>\n",
       "      <td>US</td>\n",
       "      <td>USA</td>\n",
       "      <td>20005.0</td>\n",
       "      <td>39.531857</td>\n",
       "      <td>-95.308700</td>\n",
       "      <td>16073.0</td>\n",
       "      <td>NaN</td>\n",
       "      <td>2019 Novel Coronavirus COVID-19 (2019-nCoV) Da...</td>\n",
       "      <td>5/2/2020 11:35:41 PM</td>\n",
       "      <td>US</td>\n",
       "      <td>USA</td>\n",
       "    </tr>\n",
       "    <tr>\n",
       "      <td>41413</td>\n",
       "      <td>Deaths</td>\n",
       "      <td>NaN</td>\n",
       "      <td>0</td>\n",
       "      <td>0</td>\n",
       "      <td>2020-02-09</td>\n",
       "      <td>Steuben, New York, US</td>\n",
       "      <td>US</td>\n",
       "      <td>New York</td>\n",
       "      <td>Steuben</td>\n",
       "      <td>US</td>\n",
       "      <td>USA</td>\n",
       "      <td>36101.0</td>\n",
       "      <td>42.268914</td>\n",
       "      <td>-77.382992</td>\n",
       "      <td>95379.0</td>\n",
       "      <td>NaN</td>\n",
       "      <td>2019 Novel Coronavirus COVID-19 (2019-nCoV) Da...</td>\n",
       "      <td>5/2/2020 11:35:41 PM</td>\n",
       "      <td>US</td>\n",
       "      <td>USA</td>\n",
       "    </tr>\n",
       "    <tr>\n",
       "      <td>41414</td>\n",
       "      <td>Deaths</td>\n",
       "      <td>NaN</td>\n",
       "      <td>0</td>\n",
       "      <td>0</td>\n",
       "      <td>2020-02-15</td>\n",
       "      <td>Out of MD, Maryland, US</td>\n",
       "      <td>US</td>\n",
       "      <td>Maryland</td>\n",
       "      <td>Out of MD</td>\n",
       "      <td>US</td>\n",
       "      <td>USA</td>\n",
       "      <td>NaN</td>\n",
       "      <td>NaN</td>\n",
       "      <td>NaN</td>\n",
       "      <td>NaN</td>\n",
       "      <td>NaN</td>\n",
       "      <td>2019 Novel Coronavirus COVID-19 (2019-nCoV) Da...</td>\n",
       "      <td>5/2/2020 11:35:41 PM</td>\n",
       "      <td>US</td>\n",
       "      <td>USA</td>\n",
       "    </tr>\n",
       "    <tr>\n",
       "      <td>41415</td>\n",
       "      <td>Confirmed</td>\n",
       "      <td>NaN</td>\n",
       "      <td>0</td>\n",
       "      <td>0</td>\n",
       "      <td>2020-02-29</td>\n",
       "      <td>Butler, Pennsylvania, US</td>\n",
       "      <td>US</td>\n",
       "      <td>Pennsylvania</td>\n",
       "      <td>Butler</td>\n",
       "      <td>US</td>\n",
       "      <td>USA</td>\n",
       "      <td>42019.0</td>\n",
       "      <td>40.911528</td>\n",
       "      <td>-79.913511</td>\n",
       "      <td>187853.0</td>\n",
       "      <td>NaN</td>\n",
       "      <td>2019 Novel Coronavirus COVID-19 (2019-nCoV) Da...</td>\n",
       "      <td>5/2/2020 11:35:41 PM</td>\n",
       "      <td>US</td>\n",
       "      <td>USA</td>\n",
       "    </tr>\n",
       "    <tr>\n",
       "      <td>41416</td>\n",
       "      <td>Deaths</td>\n",
       "      <td>NaN</td>\n",
       "      <td>0</td>\n",
       "      <td>0</td>\n",
       "      <td>2020-02-10</td>\n",
       "      <td>Edgefield, South Carolina, US</td>\n",
       "      <td>US</td>\n",
       "      <td>South Carolina</td>\n",
       "      <td>Edgefield</td>\n",
       "      <td>US</td>\n",
       "      <td>USA</td>\n",
       "      <td>45037.0</td>\n",
       "      <td>33.772220</td>\n",
       "      <td>-81.962311</td>\n",
       "      <td>27260.0</td>\n",
       "      <td>NaN</td>\n",
       "      <td>2019 Novel Coronavirus COVID-19 (2019-nCoV) Da...</td>\n",
       "      <td>5/2/2020 11:35:41 PM</td>\n",
       "      <td>US</td>\n",
       "      <td>USA</td>\n",
       "    </tr>\n",
       "  </tbody>\n",
       "</table>\n",
       "</div>"
      ],
      "text/plain": [
       "       Case_Type  People_Total_Tested_Count  Cases  Difference       Date  \\\n",
       "41412     Deaths                        NaN      0           0 2020-02-13   \n",
       "41413     Deaths                        NaN      0           0 2020-02-09   \n",
       "41414     Deaths                        NaN      0           0 2020-02-15   \n",
       "41415  Confirmed                        NaN      0           0 2020-02-29   \n",
       "41416     Deaths                        NaN      0           0 2020-02-10   \n",
       "\n",
       "                        Combined_Key Country_Region  Province_State  \\\n",
       "41412           Atchison, Kansas, US             US          Kansas   \n",
       "41413          Steuben, New York, US             US        New York   \n",
       "41414        Out of MD, Maryland, US             US        Maryland   \n",
       "41415       Butler, Pennsylvania, US             US    Pennsylvania   \n",
       "41416  Edgefield, South Carolina, US             US  South Carolina   \n",
       "\n",
       "          Admin2 iso2 iso3     FIPS        Lat       Long  Population_Count  \\\n",
       "41412   Atchison   US  USA  20005.0  39.531857 -95.308700           16073.0   \n",
       "41413    Steuben   US  USA  36101.0  42.268914 -77.382992           95379.0   \n",
       "41414  Out of MD   US  USA      NaN        NaN        NaN               NaN   \n",
       "41415     Butler   US  USA  42019.0  40.911528 -79.913511          187853.0   \n",
       "41416  Edgefield   US  USA  45037.0  33.772220 -81.962311           27260.0   \n",
       "\n",
       "       People_Hospitalized_Cumulative_Count  \\\n",
       "41412                                   NaN   \n",
       "41413                                   NaN   \n",
       "41414                                   NaN   \n",
       "41415                                   NaN   \n",
       "41416                                   NaN   \n",
       "\n",
       "                                             Data_Source  \\\n",
       "41412  2019 Novel Coronavirus COVID-19 (2019-nCoV) Da...   \n",
       "41413  2019 Novel Coronavirus COVID-19 (2019-nCoV) Da...   \n",
       "41414  2019 Novel Coronavirus COVID-19 (2019-nCoV) Da...   \n",
       "41415  2019 Novel Coronavirus COVID-19 (2019-nCoV) Da...   \n",
       "41416  2019 Novel Coronavirus COVID-19 (2019-nCoV) Da...   \n",
       "\n",
       "          Prep_Flow_Runtime country iso_alpha  \n",
       "41412  5/2/2020 11:35:41 PM      US       USA  \n",
       "41413  5/2/2020 11:35:41 PM      US       USA  \n",
       "41414  5/2/2020 11:35:41 PM      US       USA  \n",
       "41415  5/2/2020 11:35:41 PM      US       USA  \n",
       "41416  5/2/2020 11:35:41 PM      US       USA  "
      ]
     },
     "execution_count": 22,
     "metadata": {},
     "output_type": "execute_result"
    }
   ],
   "source": [
    "us = df.loc[df['Country_Region'] == \"US\"]\n",
    "us.head()"
   ]
  },
  {
   "cell_type": "code",
   "execution_count": 23,
   "metadata": {},
   "outputs": [
    {
     "data": {
      "text/plain": [
       "Date\n",
       "2020-01-22    1\n",
       "2020-01-23    1\n",
       "2020-01-24    2\n",
       "2020-01-25    2\n",
       "2020-01-26    5\n",
       "Name: Cases, dtype: int64"
      ]
     },
     "execution_count": 23,
     "metadata": {},
     "output_type": "execute_result"
    }
   ],
   "source": [
    "us_cases = us.groupby(\"Date\")[\"Cases\"].sum()\n",
    "us_cases.head()"
   ]
  },
  {
   "cell_type": "markdown",
   "metadata": {},
   "source": [
    "# Figure 4 - Dropdown line graph for USA specific cases overtime"
   ]
  },
  {
   "cell_type": "code",
   "execution_count": 24,
   "metadata": {},
   "outputs": [
    {
     "data": {
      "application/vnd.jupyter.widget-view+json": {
       "model_id": "2967300a30c54887a70b7c22cfd0f072",
       "version_major": 2,
       "version_minor": 0
      },
      "text/plain": [
       "interactive(children=(Dropdown(description='log', options=('Linear', 'Log'), value='Linear'), Output()), _dom_…"
      ]
     },
     "metadata": {},
     "output_type": "display_data"
    }
   ],
   "source": [
    "us_temp = us.groupby(\"Date\",as_index=False)[\"Cases\"].sum()\n",
    "def plot_us_cases(log=\"Linear\"):\n",
    "    if log==\"Linear\":\n",
    "        fig_loglin = px.line(us_temp, x=\"Date\", y=\"Cases\", title='Cases over time')\n",
    "    else:\n",
    "        fig_loglin = px.line(us_temp, x=\"Date\", y=\"Cases\", title='Cases over time',log_y = True)\n",
    "    fig_loglin.show()\n",
    "ipywidgets.interact(plot_us_cases, log=['Linear','Log']);"
   ]
  },
  {
   "cell_type": "code",
   "execution_count": 25,
   "metadata": {},
   "outputs": [
    {
     "data": {
      "text/plain": [
       "3195217"
      ]
     },
     "execution_count": 25,
     "metadata": {},
     "output_type": "execute_result"
    }
   ],
   "source": [
    "total_count = recent_cases.sum(skipna = True)\n",
    "total_count"
   ]
  },
  {
   "cell_type": "code",
   "execution_count": 26,
   "metadata": {},
   "outputs": [],
   "source": [
    "# State abbr needed because map only works with state codes.\n",
    "state_abbrev = {\n",
    "    'Alabama': 'AL',\n",
    "    'Alaska': 'AK',\n",
    "    'American Samoa': 'AS',\n",
    "    'Arizona': 'AZ',\n",
    "    'Arkansas': 'AR',\n",
    "    'California': 'CA',\n",
    "    'Colorado': 'CO',\n",
    "    'Connecticut': 'CT',\n",
    "    'Delaware': 'DE',\n",
    "    'District of Columbia': 'DC',\n",
    "    'Florida': 'FL',\n",
    "    'Georgia': 'GA',\n",
    "    'Guam': 'GU',\n",
    "    'Hawaii': 'HI',\n",
    "    'Idaho': 'ID',\n",
    "    'Illinois': 'IL',\n",
    "    'Indiana': 'IN',\n",
    "    'Iowa': 'IA',\n",
    "    'Kansas': 'KS',\n",
    "    'Kentucky': 'KY',\n",
    "    'Louisiana': 'LA',\n",
    "    'Maine': 'ME',\n",
    "    'Maryland': 'MD',\n",
    "    'Massachusetts': 'MA',\n",
    "    'Michigan': 'MI',\n",
    "    'Minnesota': 'MN',\n",
    "    'Mississippi': 'MS',\n",
    "    'Missouri': 'MO',\n",
    "    'Montana': 'MT',\n",
    "    'Nebraska': 'NE',\n",
    "    'Nevada': 'NV',\n",
    "    'New Hampshire': 'NH',\n",
    "    'New Jersey': 'NJ',\n",
    "    'New Mexico': 'NM',\n",
    "    'New York': 'NY',\n",
    "    'North Carolina': 'NC',\n",
    "    'North Dakota': 'ND',\n",
    "    'Northern Mariana Islands':'MP',\n",
    "    'Ohio': 'OH',\n",
    "    'Oklahoma': 'OK',\n",
    "    'Oregon': 'OR',\n",
    "    'Pennsylvania': 'PA',\n",
    "    'Puerto Rico': 'PR',\n",
    "    'Rhode Island': 'RI',\n",
    "    'South Carolina': 'SC',\n",
    "    'South Dakota': 'SD',\n",
    "    'Tennessee': 'TN',\n",
    "    'Texas': 'TX',\n",
    "    'Utah': 'UT',\n",
    "    'Vermont': 'VT',\n",
    "    'Virgin Islands': 'VI',\n",
    "    'Virginia': 'VA',\n",
    "    'Washington': 'WA',\n",
    "    'West Virginia': 'WV',\n",
    "    'Wisconsin': 'WI',\n",
    "    'Wyoming': 'WY'\n",
    "}"
   ]
  },
  {
   "cell_type": "code",
   "execution_count": 27,
   "metadata": {},
   "outputs": [],
   "source": [
    "# DF with recent confirmed numbers of each state\n",
    "us_data = df.loc[(df['Country_Region'] == \"US\") & (df['Case_Type'] == \"Confirmed\") & (df['Date'] == recent_date)]\n",
    "#us_data.head()"
   ]
  },
  {
   "cell_type": "code",
   "execution_count": 28,
   "metadata": {},
   "outputs": [
    {
     "name": "stderr",
     "output_type": "stream",
     "text": [
      "/opt/anaconda3/lib/python3.7/site-packages/ipykernel_launcher.py:5: SettingWithCopyWarning:\n",
      "\n",
      "\n",
      "A value is trying to be set on a copy of a slice from a DataFrame.\n",
      "Try using .loc[row_indexer,col_indexer] = value instead\n",
      "\n",
      "See the caveats in the documentation: http://pandas.pydata.org/pandas-docs/stable/user_guide/indexing.html#returning-a-view-versus-a-copy\n",
      "\n"
     ]
    },
    {
     "data": {
      "text/html": [
       "<div>\n",
       "<style scoped>\n",
       "    .dataframe tbody tr th:only-of-type {\n",
       "        vertical-align: middle;\n",
       "    }\n",
       "\n",
       "    .dataframe tbody tr th {\n",
       "        vertical-align: top;\n",
       "    }\n",
       "\n",
       "    .dataframe thead th {\n",
       "        text-align: right;\n",
       "    }\n",
       "</style>\n",
       "<table border=\"1\" class=\"dataframe\">\n",
       "  <thead>\n",
       "    <tr style=\"text-align: right;\">\n",
       "      <th></th>\n",
       "      <th>Province_State</th>\n",
       "      <th>Province_Code</th>\n",
       "      <th>Cases</th>\n",
       "    </tr>\n",
       "  </thead>\n",
       "  <tbody>\n",
       "    <tr>\n",
       "      <td>0</td>\n",
       "      <td>Alabama</td>\n",
       "      <td>AL</td>\n",
       "      <td>7611</td>\n",
       "    </tr>\n",
       "    <tr>\n",
       "      <td>1</td>\n",
       "      <td>Alaska</td>\n",
       "      <td>AK</td>\n",
       "      <td>365</td>\n",
       "    </tr>\n",
       "    <tr>\n",
       "      <td>2</td>\n",
       "      <td>American Samoa</td>\n",
       "      <td>AS</td>\n",
       "      <td>0</td>\n",
       "    </tr>\n",
       "    <tr>\n",
       "      <td>3</td>\n",
       "      <td>Arizona</td>\n",
       "      <td>AZ</td>\n",
       "      <td>8364</td>\n",
       "    </tr>\n",
       "    <tr>\n",
       "      <td>4</td>\n",
       "      <td>Arkansas</td>\n",
       "      <td>AR</td>\n",
       "      <td>3372</td>\n",
       "    </tr>\n",
       "    <tr>\n",
       "      <td>5</td>\n",
       "      <td>California</td>\n",
       "      <td>CA</td>\n",
       "      <td>53347</td>\n",
       "    </tr>\n",
       "    <tr>\n",
       "      <td>6</td>\n",
       "      <td>Colorado</td>\n",
       "      <td>CO</td>\n",
       "      <td>16225</td>\n",
       "    </tr>\n",
       "    <tr>\n",
       "      <td>7</td>\n",
       "      <td>Connecticut</td>\n",
       "      <td>CT</td>\n",
       "      <td>29287</td>\n",
       "    </tr>\n",
       "    <tr>\n",
       "      <td>8</td>\n",
       "      <td>Delaware</td>\n",
       "      <td>DE</td>\n",
       "      <td>5038</td>\n",
       "    </tr>\n",
       "    <tr>\n",
       "      <td>9</td>\n",
       "      <td>District of Columbia</td>\n",
       "      <td>DC</td>\n",
       "      <td>4797</td>\n",
       "    </tr>\n",
       "    <tr>\n",
       "      <td>10</td>\n",
       "      <td>Florida</td>\n",
       "      <td>FL</td>\n",
       "      <td>35463</td>\n",
       "    </tr>\n",
       "    <tr>\n",
       "      <td>11</td>\n",
       "      <td>Georgia</td>\n",
       "      <td>GA</td>\n",
       "      <td>28331</td>\n",
       "    </tr>\n",
       "    <tr>\n",
       "      <td>12</td>\n",
       "      <td>Guam</td>\n",
       "      <td>GU</td>\n",
       "      <td>145</td>\n",
       "    </tr>\n",
       "    <tr>\n",
       "      <td>13</td>\n",
       "      <td>Hawaii</td>\n",
       "      <td>HI</td>\n",
       "      <td>620</td>\n",
       "    </tr>\n",
       "    <tr>\n",
       "      <td>14</td>\n",
       "      <td>Idaho</td>\n",
       "      <td>ID</td>\n",
       "      <td>2061</td>\n",
       "    </tr>\n",
       "    <tr>\n",
       "      <td>15</td>\n",
       "      <td>Illinois</td>\n",
       "      <td>IL</td>\n",
       "      <td>58505</td>\n",
       "    </tr>\n",
       "    <tr>\n",
       "      <td>16</td>\n",
       "      <td>Indiana</td>\n",
       "      <td>IN</td>\n",
       "      <td>19295</td>\n",
       "    </tr>\n",
       "    <tr>\n",
       "      <td>17</td>\n",
       "      <td>Iowa</td>\n",
       "      <td>IA</td>\n",
       "      <td>8643</td>\n",
       "    </tr>\n",
       "    <tr>\n",
       "      <td>18</td>\n",
       "      <td>Kansas</td>\n",
       "      <td>KS</td>\n",
       "      <td>4885</td>\n",
       "    </tr>\n",
       "    <tr>\n",
       "      <td>19</td>\n",
       "      <td>Kentucky</td>\n",
       "      <td>KY</td>\n",
       "      <td>4879</td>\n",
       "    </tr>\n",
       "    <tr>\n",
       "      <td>20</td>\n",
       "      <td>Louisiana</td>\n",
       "      <td>LA</td>\n",
       "      <td>29140</td>\n",
       "    </tr>\n",
       "    <tr>\n",
       "      <td>21</td>\n",
       "      <td>Maine</td>\n",
       "      <td>ME</td>\n",
       "      <td>1153</td>\n",
       "    </tr>\n",
       "    <tr>\n",
       "      <td>22</td>\n",
       "      <td>Maryland</td>\n",
       "      <td>MD</td>\n",
       "      <td>24473</td>\n",
       "    </tr>\n",
       "    <tr>\n",
       "      <td>23</td>\n",
       "      <td>Massachusetts</td>\n",
       "      <td>MA</td>\n",
       "      <td>66263</td>\n",
       "    </tr>\n",
       "    <tr>\n",
       "      <td>24</td>\n",
       "      <td>Michigan</td>\n",
       "      <td>MI</td>\n",
       "      <td>43207</td>\n",
       "    </tr>\n",
       "    <tr>\n",
       "      <td>25</td>\n",
       "      <td>Minnesota</td>\n",
       "      <td>MN</td>\n",
       "      <td>6232</td>\n",
       "    </tr>\n",
       "    <tr>\n",
       "      <td>26</td>\n",
       "      <td>Mississippi</td>\n",
       "      <td>MS</td>\n",
       "      <td>7441</td>\n",
       "    </tr>\n",
       "    <tr>\n",
       "      <td>27</td>\n",
       "      <td>Missouri</td>\n",
       "      <td>MO</td>\n",
       "      <td>8356</td>\n",
       "    </tr>\n",
       "    <tr>\n",
       "      <td>28</td>\n",
       "      <td>Montana</td>\n",
       "      <td>MT</td>\n",
       "      <td>455</td>\n",
       "    </tr>\n",
       "    <tr>\n",
       "      <td>29</td>\n",
       "      <td>Nebraska</td>\n",
       "      <td>NE</td>\n",
       "      <td>5317</td>\n",
       "    </tr>\n",
       "    <tr>\n",
       "      <td>30</td>\n",
       "      <td>Nevada</td>\n",
       "      <td>NV</td>\n",
       "      <td>5389</td>\n",
       "    </tr>\n",
       "    <tr>\n",
       "      <td>31</td>\n",
       "      <td>New Hampshire</td>\n",
       "      <td>NH</td>\n",
       "      <td>2429</td>\n",
       "    </tr>\n",
       "    <tr>\n",
       "      <td>32</td>\n",
       "      <td>New Jersey</td>\n",
       "      <td>NJ</td>\n",
       "      <td>123717</td>\n",
       "    </tr>\n",
       "    <tr>\n",
       "      <td>33</td>\n",
       "      <td>New Mexico</td>\n",
       "      <td>NM</td>\n",
       "      <td>3732</td>\n",
       "    </tr>\n",
       "    <tr>\n",
       "      <td>34</td>\n",
       "      <td>New York</td>\n",
       "      <td>NY</td>\n",
       "      <td>312977</td>\n",
       "    </tr>\n",
       "    <tr>\n",
       "      <td>35</td>\n",
       "      <td>North Carolina</td>\n",
       "      <td>NC</td>\n",
       "      <td>11588</td>\n",
       "    </tr>\n",
       "    <tr>\n",
       "      <td>36</td>\n",
       "      <td>North Dakota</td>\n",
       "      <td>ND</td>\n",
       "      <td>1153</td>\n",
       "    </tr>\n",
       "    <tr>\n",
       "      <td>37</td>\n",
       "      <td>Northern Mariana Islands</td>\n",
       "      <td>MP</td>\n",
       "      <td>14</td>\n",
       "    </tr>\n",
       "    <tr>\n",
       "      <td>38</td>\n",
       "      <td>Ohio</td>\n",
       "      <td>OH</td>\n",
       "      <td>19335</td>\n",
       "    </tr>\n",
       "    <tr>\n",
       "      <td>39</td>\n",
       "      <td>Oklahoma</td>\n",
       "      <td>OK</td>\n",
       "      <td>3851</td>\n",
       "    </tr>\n",
       "    <tr>\n",
       "      <td>40</td>\n",
       "      <td>Oregon</td>\n",
       "      <td>OR</td>\n",
       "      <td>2635</td>\n",
       "    </tr>\n",
       "    <tr>\n",
       "      <td>41</td>\n",
       "      <td>Pennsylvania</td>\n",
       "      <td>PA</td>\n",
       "      <td>50494</td>\n",
       "    </tr>\n",
       "    <tr>\n",
       "      <td>42</td>\n",
       "      <td>Puerto Rico</td>\n",
       "      <td>PR</td>\n",
       "      <td>1757</td>\n",
       "    </tr>\n",
       "    <tr>\n",
       "      <td>43</td>\n",
       "      <td>Rhode Island</td>\n",
       "      <td>RI</td>\n",
       "      <td>9289</td>\n",
       "    </tr>\n",
       "    <tr>\n",
       "      <td>44</td>\n",
       "      <td>South Carolina</td>\n",
       "      <td>SC</td>\n",
       "      <td>6489</td>\n",
       "    </tr>\n",
       "    <tr>\n",
       "      <td>45</td>\n",
       "      <td>South Dakota</td>\n",
       "      <td>SD</td>\n",
       "      <td>2588</td>\n",
       "    </tr>\n",
       "    <tr>\n",
       "      <td>46</td>\n",
       "      <td>Tennessee</td>\n",
       "      <td>TN</td>\n",
       "      <td>12661</td>\n",
       "    </tr>\n",
       "    <tr>\n",
       "      <td>47</td>\n",
       "      <td>Texas</td>\n",
       "      <td>TX</td>\n",
       "      <td>30917</td>\n",
       "    </tr>\n",
       "    <tr>\n",
       "      <td>48</td>\n",
       "      <td>Utah</td>\n",
       "      <td>UT</td>\n",
       "      <td>4985</td>\n",
       "    </tr>\n",
       "    <tr>\n",
       "      <td>49</td>\n",
       "      <td>Vermont</td>\n",
       "      <td>VT</td>\n",
       "      <td>886</td>\n",
       "    </tr>\n",
       "    <tr>\n",
       "      <td>50</td>\n",
       "      <td>Virgin Islands</td>\n",
       "      <td>VI</td>\n",
       "      <td>66</td>\n",
       "    </tr>\n",
       "    <tr>\n",
       "      <td>51</td>\n",
       "      <td>Virginia</td>\n",
       "      <td>VA</td>\n",
       "      <td>17738</td>\n",
       "    </tr>\n",
       "    <tr>\n",
       "      <td>52</td>\n",
       "      <td>Washington</td>\n",
       "      <td>WA</td>\n",
       "      <td>15003</td>\n",
       "    </tr>\n",
       "    <tr>\n",
       "      <td>53</td>\n",
       "      <td>West Virginia</td>\n",
       "      <td>WV</td>\n",
       "      <td>1185</td>\n",
       "    </tr>\n",
       "    <tr>\n",
       "      <td>54</td>\n",
       "      <td>Wisconsin</td>\n",
       "      <td>WI</td>\n",
       "      <td>7660</td>\n",
       "    </tr>\n",
       "    <tr>\n",
       "      <td>55</td>\n",
       "      <td>Wyoming</td>\n",
       "      <td>WY</td>\n",
       "      <td>579</td>\n",
       "    </tr>\n",
       "  </tbody>\n",
       "</table>\n",
       "</div>"
      ],
      "text/plain": [
       "              Province_State Province_Code   Cases\n",
       "0                    Alabama            AL    7611\n",
       "1                     Alaska            AK     365\n",
       "2             American Samoa            AS       0\n",
       "3                    Arizona            AZ    8364\n",
       "4                   Arkansas            AR    3372\n",
       "5                 California            CA   53347\n",
       "6                   Colorado            CO   16225\n",
       "7                Connecticut            CT   29287\n",
       "8                   Delaware            DE    5038\n",
       "9       District of Columbia            DC    4797\n",
       "10                   Florida            FL   35463\n",
       "11                   Georgia            GA   28331\n",
       "12                      Guam            GU     145\n",
       "13                    Hawaii            HI     620\n",
       "14                     Idaho            ID    2061\n",
       "15                  Illinois            IL   58505\n",
       "16                   Indiana            IN   19295\n",
       "17                      Iowa            IA    8643\n",
       "18                    Kansas            KS    4885\n",
       "19                  Kentucky            KY    4879\n",
       "20                 Louisiana            LA   29140\n",
       "21                     Maine            ME    1153\n",
       "22                  Maryland            MD   24473\n",
       "23             Massachusetts            MA   66263\n",
       "24                  Michigan            MI   43207\n",
       "25                 Minnesota            MN    6232\n",
       "26               Mississippi            MS    7441\n",
       "27                  Missouri            MO    8356\n",
       "28                   Montana            MT     455\n",
       "29                  Nebraska            NE    5317\n",
       "30                    Nevada            NV    5389\n",
       "31             New Hampshire            NH    2429\n",
       "32                New Jersey            NJ  123717\n",
       "33                New Mexico            NM    3732\n",
       "34                  New York            NY  312977\n",
       "35            North Carolina            NC   11588\n",
       "36              North Dakota            ND    1153\n",
       "37  Northern Mariana Islands            MP      14\n",
       "38                      Ohio            OH   19335\n",
       "39                  Oklahoma            OK    3851\n",
       "40                    Oregon            OR    2635\n",
       "41              Pennsylvania            PA   50494\n",
       "42               Puerto Rico            PR    1757\n",
       "43              Rhode Island            RI    9289\n",
       "44            South Carolina            SC    6489\n",
       "45              South Dakota            SD    2588\n",
       "46                 Tennessee            TN   12661\n",
       "47                     Texas            TX   30917\n",
       "48                      Utah            UT    4985\n",
       "49                   Vermont            VT     886\n",
       "50            Virgin Islands            VI      66\n",
       "51                  Virginia            VA   17738\n",
       "52                Washington            WA   15003\n",
       "53             West Virginia            WV    1185\n",
       "54                 Wisconsin            WI    7660\n",
       "55                   Wyoming            WY     579"
      ]
     },
     "execution_count": 28,
     "metadata": {},
     "output_type": "execute_result"
    }
   ],
   "source": [
    "#Get df with province names changed to ABBR, for map.\n",
    "# us_abbrev_data = us_data.replace({\"Province_State\":state_abbrev}).groupby(\"Province_State\", as_index=False)[\"Cases\"].sum()\n",
    "# us_abbrev_data\n",
    "\n",
    "us_data['Province_Code'] = us_data['Province_State'].map(state_abbrev)\n",
    "us_abbrev_data = us_data.groupby([\"Province_State\",\"Province_Code\"], as_index=False)[\"Cases\"].sum()\n",
    "us_abbrev_data"
   ]
  },
  {
   "cell_type": "code",
   "execution_count": 29,
   "metadata": {},
   "outputs": [],
   "source": [
    "for col in us_abbrev_data.columns:\n",
    "    us_abbrev_data[col] = us_abbrev_data[col].astype(str)\n",
    "\n",
    "us_abbrev_data['text'] = us_abbrev_data[\"Province_State\"]"
   ]
  },
  {
   "cell_type": "markdown",
   "metadata": {},
   "source": [
    "The main visualizations to look at are Viz 1 which shows increase in cases overtime, viz 3 which shows a worldmap with cases in bubblemap showing the intensity with size of the bubble and viz 6 which was US specific. These interactive visualizations can be linked in the next part of my assignment where we can create dashboard using plotly or voila. There visualizations are easy to understand which shows information when you hover your mouse on a particular area. Most of the information is mentioned in the comments above. Viz 3 represents an aggregate summary of the cases by shaded portions. The change in color can be analyzed using the colorscale which shows us the confirmed cases. The specific count can be seen by pointing the mouse at the state you want the information about."
   ]
  },
  {
   "cell_type": "markdown",
   "metadata": {},
   "source": [
    "### Other similar datasets which can be used in future are:\n",
    "    1. https://github.com/beoutbreakprepared/nCoV2019/tree/master/dataset_archive --The nCov is another famous dataset that shows the sex,travel history, hospital admitted to, date admitted etc and it's updated regularly as well and thus needed for detailed information about cases.\n",
    "    2. https://vizhub.healthdata.org/gbd-compare/ -- shows previous medical history and symptoms for the confirmed cases over the world\n",
    "    3. https://github.com/echen102/COVID-19-TweetIDs -- The repository contains an ongoing collection of tweets IDs associated with the novel coronavirus COVID-19 with the time and specific keywords"
   ]
  },
  {
   "cell_type": "code",
   "execution_count": 30,
   "metadata": {},
   "outputs": [
    {
     "data": {
      "text/plain": [
       "'/Users/shazmeenshaikh/projects/COVID-19-interactive-dash'"
      ]
     },
     "execution_count": 30,
     "metadata": {},
     "output_type": "execute_result"
    }
   ],
   "source": [
    "os.getcwd()"
   ]
  },
  {
   "cell_type": "code",
   "execution_count": 31,
   "metadata": {},
   "outputs": [],
   "source": [
    "url_us = \"https://raw.githubusercontent.com/nytimes/covid-19-data/master/us-states.csv\"\n",
    "data = pd.read_csv(url_us,parse_dates = ['date'])"
   ]
  },
  {
   "cell_type": "code",
   "execution_count": 32,
   "metadata": {},
   "outputs": [
    {
     "data": {
      "text/html": [
       "<div>\n",
       "<style scoped>\n",
       "    .dataframe tbody tr th:only-of-type {\n",
       "        vertical-align: middle;\n",
       "    }\n",
       "\n",
       "    .dataframe tbody tr th {\n",
       "        vertical-align: top;\n",
       "    }\n",
       "\n",
       "    .dataframe thead th {\n",
       "        text-align: right;\n",
       "    }\n",
       "</style>\n",
       "<table border=\"1\" class=\"dataframe\">\n",
       "  <thead>\n",
       "    <tr style=\"text-align: right;\">\n",
       "      <th></th>\n",
       "      <th>date</th>\n",
       "      <th>state</th>\n",
       "      <th>fips</th>\n",
       "      <th>cases</th>\n",
       "      <th>deaths</th>\n",
       "    </tr>\n",
       "  </thead>\n",
       "  <tbody>\n",
       "    <tr>\n",
       "      <td>0</td>\n",
       "      <td>2020-01-21</td>\n",
       "      <td>Washington</td>\n",
       "      <td>53</td>\n",
       "      <td>1</td>\n",
       "      <td>0</td>\n",
       "    </tr>\n",
       "    <tr>\n",
       "      <td>1</td>\n",
       "      <td>2020-01-22</td>\n",
       "      <td>Washington</td>\n",
       "      <td>53</td>\n",
       "      <td>1</td>\n",
       "      <td>0</td>\n",
       "    </tr>\n",
       "    <tr>\n",
       "      <td>2</td>\n",
       "      <td>2020-01-23</td>\n",
       "      <td>Washington</td>\n",
       "      <td>53</td>\n",
       "      <td>1</td>\n",
       "      <td>0</td>\n",
       "    </tr>\n",
       "    <tr>\n",
       "      <td>4</td>\n",
       "      <td>2020-01-24</td>\n",
       "      <td>Washington</td>\n",
       "      <td>53</td>\n",
       "      <td>1</td>\n",
       "      <td>0</td>\n",
       "    </tr>\n",
       "    <tr>\n",
       "      <td>7</td>\n",
       "      <td>2020-01-25</td>\n",
       "      <td>Washington</td>\n",
       "      <td>53</td>\n",
       "      <td>1</td>\n",
       "      <td>0</td>\n",
       "    </tr>\n",
       "  </tbody>\n",
       "</table>\n",
       "</div>"
      ],
      "text/plain": [
       "        date       state  fips  cases  deaths\n",
       "0 2020-01-21  Washington    53      1       0\n",
       "1 2020-01-22  Washington    53      1       0\n",
       "2 2020-01-23  Washington    53      1       0\n",
       "4 2020-01-24  Washington    53      1       0\n",
       "7 2020-01-25  Washington    53      1       0"
      ]
     },
     "execution_count": 32,
     "metadata": {},
     "output_type": "execute_result"
    }
   ],
   "source": [
    "sample_data = data.loc[data['state'] == 'Washington']\n",
    "sample_data.head()"
   ]
  },
  {
   "cell_type": "code",
   "execution_count": 33,
   "metadata": {},
   "outputs": [],
   "source": [
    "if not os.path.exists('us_states.geo.json'):\n",
    "  url = 'https://raw.githubusercontent.com/PublicaMundi/MappingAPI/master/data/geojson/us-states.json'\n",
    "  r = requests.get(url)\n",
    "  with open('us_states.geo.json', 'w') as f:\n",
    "    f.write(r.content.decode(\"utf-8\"))"
   ]
  },
  {
   "cell_type": "code",
   "execution_count": 34,
   "metadata": {},
   "outputs": [],
   "source": [
    "with open('us_states.geo.json') as f:\n",
    "    states = json.load(f)"
   ]
  },
  {
   "cell_type": "markdown",
   "metadata": {},
   "source": [
    "# Figure 5 - GeoJSON map with line graph over time for every state"
   ]
  },
  {
   "cell_type": "code",
   "execution_count": 35,
   "metadata": {},
   "outputs": [
    {
     "data": {
      "application/vnd.jupyter.widget-view+json": {
       "model_id": "daa813a3340d4e18a7b7b3be59b4aeb4",
       "version_major": 2,
       "version_minor": 0
      },
      "text/plain": [
       "Map(center=[39.8283, -98.5795], controls=(ZoomControl(options=['position', 'zoom_in_text', 'zoom_in_title', 'z…"
      ]
     },
     "metadata": {},
     "output_type": "display_data"
    }
   ],
   "source": [
    "m = Map(center= (39.8283, -98.5795),zoom=4)\n",
    "\n",
    "geo = GeoJSON(data=states, style={'fillColor': 'red', 'weight': 0.1}, hover_style={'fillColor': '#1f77b4'}, name='States')\n",
    "m.add_layer(geo)\n",
    "\n",
    "m"
   ]
  },
  {
   "cell_type": "code",
   "execution_count": 36,
   "metadata": {},
   "outputs": [
    {
     "data": {
      "text/plain": [
       "246       0.00k\n",
       "261       0.00k\n",
       "276       0.00k\n",
       "293       0.01k\n",
       "313       0.02k\n",
       "         ...   \n",
       "3127    295.14k\n",
       "3182    299.72k\n",
       "3237    304.40k\n",
       "3292    308.35k\n",
       "3347    313.01k\n",
       "Name: cases, Length: 63, dtype: object"
      ]
     },
     "execution_count": 36,
     "metadata": {},
     "output_type": "execute_result"
    }
   ],
   "source": [
    "state_current = \"New York\"\n",
    "current_data = data[data['state'] == state_current]\n",
    "x_data = current_data['date']\n",
    "y_data = current_data['cases']/1000\n",
    "y_data.map('{:,.2f}k'.format)"
   ]
  },
  {
   "cell_type": "code",
   "execution_count": 37,
   "metadata": {},
   "outputs": [],
   "source": [
    "date_start = data['date'].min()\n",
    "date_end = data['date'].max()\n",
    "date_scale = DateScale(min=date_start, max=date_end)\n",
    "\n",
    "x_scale = LinearScale()\n",
    "\n",
    "lines = Lines(x=x_data, y=y_data, scales={'x': date_scale, 'y': x_scale},colors=[\"Red\"],stroke_width=1)\n",
    "\n",
    "ax_x = Axis(label='Time', scale=date_scale, num_ticks=10, tick_format='%d-%m',grid_lines='none',label_offset=\"40px\",tick_rotate = 40 )\n",
    "ax_y = Axis(label=\"Cases (in thousands)\", scale=x_scale, orientation='vertical', side='left',grid_lines=\"none\",label_offset=\"40px\")\n",
    "\n",
    "figure = Figure(axes=[ax_x, ax_y], title=state_current, marks=[lines], animation_duration=500,\n",
    "                layout={'max_height': '300px', 'max_width': '400px'})\n",
    "#figure"
   ]
  },
  {
   "cell_type": "code",
   "execution_count": 38,
   "metadata": {},
   "outputs": [],
   "source": [
    "def update_figure(state_name):\n",
    "    \"\"\"\n",
    "    Problem: The line starts at first reported case. Not before.\n",
    "    \"\"\"\n",
    "    temp_data = data[data['state'] == state_name]\n",
    "    cases = temp_data['cases']/1000\n",
    "    cases.map('{:,.2f}k'.format)\n",
    "    lines.y = cases\n",
    "    lines.x = temp_data[['date']]\n",
    "#     ax_y.label = state_current\n",
    "    \n",
    "    lines.scales['x']=date_scale\n",
    "#     ax_x.scale = date_scale\n",
    "    figure.title = state_name"
   ]
  },
  {
   "cell_type": "code",
   "execution_count": 39,
   "metadata": {},
   "outputs": [],
   "source": [
    "update_figure(\"Washington\")"
   ]
  },
  {
   "cell_type": "code",
   "execution_count": 40,
   "metadata": {},
   "outputs": [],
   "source": [
    "widget_control = WidgetControl(widget=figure, position='bottomright')\n",
    "\n",
    "m.add_control(widget_control)\n",
    "\n",
    "def on_hover(event, feature, **kwargs):\n",
    "    global state_name\n",
    "\n",
    "    state_name = feature['properties']['name']\n",
    "    update_figure(state_name)\n",
    "\n",
    "geo.on_hover(on_hover)"
   ]
  },
  {
   "cell_type": "markdown",
   "metadata": {},
   "source": [
    "# Figure 6 - Choropleth map for the USA with colorscale (Hover and point using Plotly graph object)"
   ]
  },
  {
   "cell_type": "code",
   "execution_count": 41,
   "metadata": {},
   "outputs": [
    {
     "data": {
      "application/vnd.plotly.v1+json": {
       "config": {
        "plotlyServerURL": "https://plot.ly"
       },
       "data": [
        {
         "colorbar": {
          "title": {
           "text": "Confirmed Cases"
          }
         },
         "colorscale": [
          [
           0,
           "rgb(252, 222, 156)"
          ],
          [
           0.16666666666666666,
           "rgb(250, 164, 118)"
          ],
          [
           0.3333333333333333,
           "rgb(240, 116, 110)"
          ],
          [
           0.5,
           "rgb(227, 79, 111)"
          ],
          [
           0.6666666666666666,
           "rgb(220, 57, 119)"
          ],
          [
           0.8333333333333334,
           "rgb(185, 37, 122)"
          ],
          [
           1,
           "rgb(124, 29, 111)"
          ]
         ],
         "locationmode": "USA-states",
         "locations": [
          "AL",
          "AK",
          "AS",
          "AZ",
          "AR",
          "CA",
          "CO",
          "CT",
          "DE",
          "DC",
          "FL",
          "GA",
          "GU",
          "HI",
          "ID",
          "IL",
          "IN",
          "IA",
          "KS",
          "KY",
          "LA",
          "ME",
          "MD",
          "MA",
          "MI",
          "MN",
          "MS",
          "MO",
          "MT",
          "NE",
          "NV",
          "NH",
          "NJ",
          "NM",
          "NY",
          "NC",
          "ND",
          "MP",
          "OH",
          "OK",
          "OR",
          "PA",
          "PR",
          "RI",
          "SC",
          "SD",
          "TN",
          "TX",
          "UT",
          "VT",
          "VI",
          "VA",
          "WA",
          "WV",
          "WI",
          "WY"
         ],
         "text": [
          "Alabama",
          "Alaska",
          "American Samoa",
          "Arizona",
          "Arkansas",
          "California",
          "Colorado",
          "Connecticut",
          "Delaware",
          "District of Columbia",
          "Florida",
          "Georgia",
          "Guam",
          "Hawaii",
          "Idaho",
          "Illinois",
          "Indiana",
          "Iowa",
          "Kansas",
          "Kentucky",
          "Louisiana",
          "Maine",
          "Maryland",
          "Massachusetts",
          "Michigan",
          "Minnesota",
          "Mississippi",
          "Missouri",
          "Montana",
          "Nebraska",
          "Nevada",
          "New Hampshire",
          "New Jersey",
          "New Mexico",
          "New York",
          "North Carolina",
          "North Dakota",
          "Northern Mariana Islands",
          "Ohio",
          "Oklahoma",
          "Oregon",
          "Pennsylvania",
          "Puerto Rico",
          "Rhode Island",
          "South Carolina",
          "South Dakota",
          "Tennessee",
          "Texas",
          "Utah",
          "Vermont",
          "Virgin Islands",
          "Virginia",
          "Washington",
          "West Virginia",
          "Wisconsin",
          "Wyoming"
         ],
         "type": "choropleth",
         "z": [
          7611,
          365,
          0,
          8364,
          3372,
          53347,
          16225,
          29287,
          5038,
          4797,
          35463,
          28331,
          145,
          620,
          2061,
          58505,
          19295,
          8643,
          4885,
          4879,
          29140,
          1153,
          24473,
          66263,
          43207,
          6232,
          7441,
          8356,
          455,
          5317,
          5389,
          2429,
          123717,
          3732,
          312977,
          11588,
          1153,
          14,
          19335,
          3851,
          2635,
          50494,
          1757,
          9289,
          6489,
          2588,
          12661,
          30917,
          4985,
          886,
          66,
          17738,
          15003,
          1185,
          7660,
          579
         ]
        }
       ],
       "layout": {
        "geo": {
         "scope": "usa"
        },
        "template": {
         "data": {
          "bar": [
           {
            "error_x": {
             "color": "#2a3f5f"
            },
            "error_y": {
             "color": "#2a3f5f"
            },
            "marker": {
             "line": {
              "color": "#E5ECF6",
              "width": 0.5
             }
            },
            "type": "bar"
           }
          ],
          "barpolar": [
           {
            "marker": {
             "line": {
              "color": "#E5ECF6",
              "width": 0.5
             }
            },
            "type": "barpolar"
           }
          ],
          "carpet": [
           {
            "aaxis": {
             "endlinecolor": "#2a3f5f",
             "gridcolor": "white",
             "linecolor": "white",
             "minorgridcolor": "white",
             "startlinecolor": "#2a3f5f"
            },
            "baxis": {
             "endlinecolor": "#2a3f5f",
             "gridcolor": "white",
             "linecolor": "white",
             "minorgridcolor": "white",
             "startlinecolor": "#2a3f5f"
            },
            "type": "carpet"
           }
          ],
          "choropleth": [
           {
            "colorbar": {
             "outlinewidth": 0,
             "ticks": ""
            },
            "type": "choropleth"
           }
          ],
          "contour": [
           {
            "colorbar": {
             "outlinewidth": 0,
             "ticks": ""
            },
            "colorscale": [
             [
              0,
              "#0d0887"
             ],
             [
              0.1111111111111111,
              "#46039f"
             ],
             [
              0.2222222222222222,
              "#7201a8"
             ],
             [
              0.3333333333333333,
              "#9c179e"
             ],
             [
              0.4444444444444444,
              "#bd3786"
             ],
             [
              0.5555555555555556,
              "#d8576b"
             ],
             [
              0.6666666666666666,
              "#ed7953"
             ],
             [
              0.7777777777777778,
              "#fb9f3a"
             ],
             [
              0.8888888888888888,
              "#fdca26"
             ],
             [
              1,
              "#f0f921"
             ]
            ],
            "type": "contour"
           }
          ],
          "contourcarpet": [
           {
            "colorbar": {
             "outlinewidth": 0,
             "ticks": ""
            },
            "type": "contourcarpet"
           }
          ],
          "heatmap": [
           {
            "colorbar": {
             "outlinewidth": 0,
             "ticks": ""
            },
            "colorscale": [
             [
              0,
              "#0d0887"
             ],
             [
              0.1111111111111111,
              "#46039f"
             ],
             [
              0.2222222222222222,
              "#7201a8"
             ],
             [
              0.3333333333333333,
              "#9c179e"
             ],
             [
              0.4444444444444444,
              "#bd3786"
             ],
             [
              0.5555555555555556,
              "#d8576b"
             ],
             [
              0.6666666666666666,
              "#ed7953"
             ],
             [
              0.7777777777777778,
              "#fb9f3a"
             ],
             [
              0.8888888888888888,
              "#fdca26"
             ],
             [
              1,
              "#f0f921"
             ]
            ],
            "type": "heatmap"
           }
          ],
          "heatmapgl": [
           {
            "colorbar": {
             "outlinewidth": 0,
             "ticks": ""
            },
            "colorscale": [
             [
              0,
              "#0d0887"
             ],
             [
              0.1111111111111111,
              "#46039f"
             ],
             [
              0.2222222222222222,
              "#7201a8"
             ],
             [
              0.3333333333333333,
              "#9c179e"
             ],
             [
              0.4444444444444444,
              "#bd3786"
             ],
             [
              0.5555555555555556,
              "#d8576b"
             ],
             [
              0.6666666666666666,
              "#ed7953"
             ],
             [
              0.7777777777777778,
              "#fb9f3a"
             ],
             [
              0.8888888888888888,
              "#fdca26"
             ],
             [
              1,
              "#f0f921"
             ]
            ],
            "type": "heatmapgl"
           }
          ],
          "histogram": [
           {
            "marker": {
             "colorbar": {
              "outlinewidth": 0,
              "ticks": ""
             }
            },
            "type": "histogram"
           }
          ],
          "histogram2d": [
           {
            "colorbar": {
             "outlinewidth": 0,
             "ticks": ""
            },
            "colorscale": [
             [
              0,
              "#0d0887"
             ],
             [
              0.1111111111111111,
              "#46039f"
             ],
             [
              0.2222222222222222,
              "#7201a8"
             ],
             [
              0.3333333333333333,
              "#9c179e"
             ],
             [
              0.4444444444444444,
              "#bd3786"
             ],
             [
              0.5555555555555556,
              "#d8576b"
             ],
             [
              0.6666666666666666,
              "#ed7953"
             ],
             [
              0.7777777777777778,
              "#fb9f3a"
             ],
             [
              0.8888888888888888,
              "#fdca26"
             ],
             [
              1,
              "#f0f921"
             ]
            ],
            "type": "histogram2d"
           }
          ],
          "histogram2dcontour": [
           {
            "colorbar": {
             "outlinewidth": 0,
             "ticks": ""
            },
            "colorscale": [
             [
              0,
              "#0d0887"
             ],
             [
              0.1111111111111111,
              "#46039f"
             ],
             [
              0.2222222222222222,
              "#7201a8"
             ],
             [
              0.3333333333333333,
              "#9c179e"
             ],
             [
              0.4444444444444444,
              "#bd3786"
             ],
             [
              0.5555555555555556,
              "#d8576b"
             ],
             [
              0.6666666666666666,
              "#ed7953"
             ],
             [
              0.7777777777777778,
              "#fb9f3a"
             ],
             [
              0.8888888888888888,
              "#fdca26"
             ],
             [
              1,
              "#f0f921"
             ]
            ],
            "type": "histogram2dcontour"
           }
          ],
          "mesh3d": [
           {
            "colorbar": {
             "outlinewidth": 0,
             "ticks": ""
            },
            "type": "mesh3d"
           }
          ],
          "parcoords": [
           {
            "line": {
             "colorbar": {
              "outlinewidth": 0,
              "ticks": ""
             }
            },
            "type": "parcoords"
           }
          ],
          "pie": [
           {
            "automargin": true,
            "type": "pie"
           }
          ],
          "scatter": [
           {
            "marker": {
             "colorbar": {
              "outlinewidth": 0,
              "ticks": ""
             }
            },
            "type": "scatter"
           }
          ],
          "scatter3d": [
           {
            "line": {
             "colorbar": {
              "outlinewidth": 0,
              "ticks": ""
             }
            },
            "marker": {
             "colorbar": {
              "outlinewidth": 0,
              "ticks": ""
             }
            },
            "type": "scatter3d"
           }
          ],
          "scattercarpet": [
           {
            "marker": {
             "colorbar": {
              "outlinewidth": 0,
              "ticks": ""
             }
            },
            "type": "scattercarpet"
           }
          ],
          "scattergeo": [
           {
            "marker": {
             "colorbar": {
              "outlinewidth": 0,
              "ticks": ""
             }
            },
            "type": "scattergeo"
           }
          ],
          "scattergl": [
           {
            "marker": {
             "colorbar": {
              "outlinewidth": 0,
              "ticks": ""
             }
            },
            "type": "scattergl"
           }
          ],
          "scattermapbox": [
           {
            "marker": {
             "colorbar": {
              "outlinewidth": 0,
              "ticks": ""
             }
            },
            "type": "scattermapbox"
           }
          ],
          "scatterpolar": [
           {
            "marker": {
             "colorbar": {
              "outlinewidth": 0,
              "ticks": ""
             }
            },
            "type": "scatterpolar"
           }
          ],
          "scatterpolargl": [
           {
            "marker": {
             "colorbar": {
              "outlinewidth": 0,
              "ticks": ""
             }
            },
            "type": "scatterpolargl"
           }
          ],
          "scatterternary": [
           {
            "marker": {
             "colorbar": {
              "outlinewidth": 0,
              "ticks": ""
             }
            },
            "type": "scatterternary"
           }
          ],
          "surface": [
           {
            "colorbar": {
             "outlinewidth": 0,
             "ticks": ""
            },
            "colorscale": [
             [
              0,
              "#0d0887"
             ],
             [
              0.1111111111111111,
              "#46039f"
             ],
             [
              0.2222222222222222,
              "#7201a8"
             ],
             [
              0.3333333333333333,
              "#9c179e"
             ],
             [
              0.4444444444444444,
              "#bd3786"
             ],
             [
              0.5555555555555556,
              "#d8576b"
             ],
             [
              0.6666666666666666,
              "#ed7953"
             ],
             [
              0.7777777777777778,
              "#fb9f3a"
             ],
             [
              0.8888888888888888,
              "#fdca26"
             ],
             [
              1,
              "#f0f921"
             ]
            ],
            "type": "surface"
           }
          ],
          "table": [
           {
            "cells": {
             "fill": {
              "color": "#EBF0F8"
             },
             "line": {
              "color": "white"
             }
            },
            "header": {
             "fill": {
              "color": "#C8D4E3"
             },
             "line": {
              "color": "white"
             }
            },
            "type": "table"
           }
          ]
         },
         "layout": {
          "annotationdefaults": {
           "arrowcolor": "#2a3f5f",
           "arrowhead": 0,
           "arrowwidth": 1
          },
          "coloraxis": {
           "colorbar": {
            "outlinewidth": 0,
            "ticks": ""
           }
          },
          "colorscale": {
           "diverging": [
            [
             0,
             "#8e0152"
            ],
            [
             0.1,
             "#c51b7d"
            ],
            [
             0.2,
             "#de77ae"
            ],
            [
             0.3,
             "#f1b6da"
            ],
            [
             0.4,
             "#fde0ef"
            ],
            [
             0.5,
             "#f7f7f7"
            ],
            [
             0.6,
             "#e6f5d0"
            ],
            [
             0.7,
             "#b8e186"
            ],
            [
             0.8,
             "#7fbc41"
            ],
            [
             0.9,
             "#4d9221"
            ],
            [
             1,
             "#276419"
            ]
           ],
           "sequential": [
            [
             0,
             "#0d0887"
            ],
            [
             0.1111111111111111,
             "#46039f"
            ],
            [
             0.2222222222222222,
             "#7201a8"
            ],
            [
             0.3333333333333333,
             "#9c179e"
            ],
            [
             0.4444444444444444,
             "#bd3786"
            ],
            [
             0.5555555555555556,
             "#d8576b"
            ],
            [
             0.6666666666666666,
             "#ed7953"
            ],
            [
             0.7777777777777778,
             "#fb9f3a"
            ],
            [
             0.8888888888888888,
             "#fdca26"
            ],
            [
             1,
             "#f0f921"
            ]
           ],
           "sequentialminus": [
            [
             0,
             "#0d0887"
            ],
            [
             0.1111111111111111,
             "#46039f"
            ],
            [
             0.2222222222222222,
             "#7201a8"
            ],
            [
             0.3333333333333333,
             "#9c179e"
            ],
            [
             0.4444444444444444,
             "#bd3786"
            ],
            [
             0.5555555555555556,
             "#d8576b"
            ],
            [
             0.6666666666666666,
             "#ed7953"
            ],
            [
             0.7777777777777778,
             "#fb9f3a"
            ],
            [
             0.8888888888888888,
             "#fdca26"
            ],
            [
             1,
             "#f0f921"
            ]
           ]
          },
          "colorway": [
           "#636efa",
           "#EF553B",
           "#00cc96",
           "#ab63fa",
           "#FFA15A",
           "#19d3f3",
           "#FF6692",
           "#B6E880",
           "#FF97FF",
           "#FECB52"
          ],
          "font": {
           "color": "#2a3f5f"
          },
          "geo": {
           "bgcolor": "white",
           "lakecolor": "white",
           "landcolor": "#E5ECF6",
           "showlakes": true,
           "showland": true,
           "subunitcolor": "white"
          },
          "hoverlabel": {
           "align": "left"
          },
          "hovermode": "closest",
          "mapbox": {
           "style": "light"
          },
          "paper_bgcolor": "white",
          "plot_bgcolor": "#E5ECF6",
          "polar": {
           "angularaxis": {
            "gridcolor": "white",
            "linecolor": "white",
            "ticks": ""
           },
           "bgcolor": "#E5ECF6",
           "radialaxis": {
            "gridcolor": "white",
            "linecolor": "white",
            "ticks": ""
           }
          },
          "scene": {
           "xaxis": {
            "backgroundcolor": "#E5ECF6",
            "gridcolor": "white",
            "gridwidth": 2,
            "linecolor": "white",
            "showbackground": true,
            "ticks": "",
            "zerolinecolor": "white"
           },
           "yaxis": {
            "backgroundcolor": "#E5ECF6",
            "gridcolor": "white",
            "gridwidth": 2,
            "linecolor": "white",
            "showbackground": true,
            "ticks": "",
            "zerolinecolor": "white"
           },
           "zaxis": {
            "backgroundcolor": "#E5ECF6",
            "gridcolor": "white",
            "gridwidth": 2,
            "linecolor": "white",
            "showbackground": true,
            "ticks": "",
            "zerolinecolor": "white"
           }
          },
          "shapedefaults": {
           "line": {
            "color": "#2a3f5f"
           }
          },
          "ternary": {
           "aaxis": {
            "gridcolor": "white",
            "linecolor": "white",
            "ticks": ""
           },
           "baxis": {
            "gridcolor": "white",
            "linecolor": "white",
            "ticks": ""
           },
           "bgcolor": "#E5ECF6",
           "caxis": {
            "gridcolor": "white",
            "linecolor": "white",
            "ticks": ""
           }
          },
          "title": {
           "x": 0.05
          },
          "xaxis": {
           "automargin": true,
           "gridcolor": "white",
           "linecolor": "white",
           "ticks": "",
           "title": {
            "standoff": 15
           },
           "zerolinecolor": "white",
           "zerolinewidth": 2
          },
          "yaxis": {
           "automargin": true,
           "gridcolor": "white",
           "linecolor": "white",
           "ticks": "",
           "title": {
            "standoff": 15
           },
           "zerolinecolor": "white",
           "zerolinewidth": 2
          }
         }
        },
        "title": {
         "text": "COVID-19 Cases in USA"
        }
       }
      },
      "text/html": [
       "<div>\n",
       "        \n",
       "        \n",
       "            <div id=\"ad07fd90-48a5-4380-af02-55510e0a274f\" class=\"plotly-graph-div\" style=\"height:525px; width:100%;\"></div>\n",
       "            <script type=\"text/javascript\">\n",
       "                require([\"plotly\"], function(Plotly) {\n",
       "                    window.PLOTLYENV=window.PLOTLYENV || {};\n",
       "                    \n",
       "                if (document.getElementById(\"ad07fd90-48a5-4380-af02-55510e0a274f\")) {\n",
       "                    Plotly.newPlot(\n",
       "                        'ad07fd90-48a5-4380-af02-55510e0a274f',\n",
       "                        [{\"colorbar\": {\"title\": {\"text\": \"Confirmed Cases\"}}, \"colorscale\": [[0.0, \"rgb(252, 222, 156)\"], [0.16666666666666666, \"rgb(250, 164, 118)\"], [0.3333333333333333, \"rgb(240, 116, 110)\"], [0.5, \"rgb(227, 79, 111)\"], [0.6666666666666666, \"rgb(220, 57, 119)\"], [0.8333333333333334, \"rgb(185, 37, 122)\"], [1.0, \"rgb(124, 29, 111)\"]], \"locationmode\": \"USA-states\", \"locations\": [\"AL\", \"AK\", \"AS\", \"AZ\", \"AR\", \"CA\", \"CO\", \"CT\", \"DE\", \"DC\", \"FL\", \"GA\", \"GU\", \"HI\", \"ID\", \"IL\", \"IN\", \"IA\", \"KS\", \"KY\", \"LA\", \"ME\", \"MD\", \"MA\", \"MI\", \"MN\", \"MS\", \"MO\", \"MT\", \"NE\", \"NV\", \"NH\", \"NJ\", \"NM\", \"NY\", \"NC\", \"ND\", \"MP\", \"OH\", \"OK\", \"OR\", \"PA\", \"PR\", \"RI\", \"SC\", \"SD\", \"TN\", \"TX\", \"UT\", \"VT\", \"VI\", \"VA\", \"WA\", \"WV\", \"WI\", \"WY\"], \"text\": [\"Alabama\", \"Alaska\", \"American Samoa\", \"Arizona\", \"Arkansas\", \"California\", \"Colorado\", \"Connecticut\", \"Delaware\", \"District of Columbia\", \"Florida\", \"Georgia\", \"Guam\", \"Hawaii\", \"Idaho\", \"Illinois\", \"Indiana\", \"Iowa\", \"Kansas\", \"Kentucky\", \"Louisiana\", \"Maine\", \"Maryland\", \"Massachusetts\", \"Michigan\", \"Minnesota\", \"Mississippi\", \"Missouri\", \"Montana\", \"Nebraska\", \"Nevada\", \"New Hampshire\", \"New Jersey\", \"New Mexico\", \"New York\", \"North Carolina\", \"North Dakota\", \"Northern Mariana Islands\", \"Ohio\", \"Oklahoma\", \"Oregon\", \"Pennsylvania\", \"Puerto Rico\", \"Rhode Island\", \"South Carolina\", \"South Dakota\", \"Tennessee\", \"Texas\", \"Utah\", \"Vermont\", \"Virgin Islands\", \"Virginia\", \"Washington\", \"West Virginia\", \"Wisconsin\", \"Wyoming\"], \"type\": \"choropleth\", \"z\": [7611, 365, 0, 8364, 3372, 53347, 16225, 29287, 5038, 4797, 35463, 28331, 145, 620, 2061, 58505, 19295, 8643, 4885, 4879, 29140, 1153, 24473, 66263, 43207, 6232, 7441, 8356, 455, 5317, 5389, 2429, 123717, 3732, 312977, 11588, 1153, 14, 19335, 3851, 2635, 50494, 1757, 9289, 6489, 2588, 12661, 30917, 4985, 886, 66, 17738, 15003, 1185, 7660, 579]}],\n",
       "                        {\"geo\": {\"scope\": \"usa\"}, \"template\": {\"data\": {\"bar\": [{\"error_x\": {\"color\": \"#2a3f5f\"}, \"error_y\": {\"color\": \"#2a3f5f\"}, \"marker\": {\"line\": {\"color\": \"#E5ECF6\", \"width\": 0.5}}, \"type\": \"bar\"}], \"barpolar\": [{\"marker\": {\"line\": {\"color\": \"#E5ECF6\", \"width\": 0.5}}, \"type\": \"barpolar\"}], \"carpet\": [{\"aaxis\": {\"endlinecolor\": \"#2a3f5f\", \"gridcolor\": \"white\", \"linecolor\": \"white\", \"minorgridcolor\": \"white\", \"startlinecolor\": \"#2a3f5f\"}, \"baxis\": {\"endlinecolor\": \"#2a3f5f\", \"gridcolor\": \"white\", \"linecolor\": \"white\", \"minorgridcolor\": \"white\", \"startlinecolor\": \"#2a3f5f\"}, \"type\": \"carpet\"}], \"choropleth\": [{\"colorbar\": {\"outlinewidth\": 0, \"ticks\": \"\"}, \"type\": \"choropleth\"}], \"contour\": [{\"colorbar\": {\"outlinewidth\": 0, \"ticks\": \"\"}, \"colorscale\": [[0.0, \"#0d0887\"], [0.1111111111111111, \"#46039f\"], [0.2222222222222222, \"#7201a8\"], [0.3333333333333333, \"#9c179e\"], [0.4444444444444444, \"#bd3786\"], [0.5555555555555556, \"#d8576b\"], [0.6666666666666666, \"#ed7953\"], [0.7777777777777778, \"#fb9f3a\"], [0.8888888888888888, \"#fdca26\"], [1.0, \"#f0f921\"]], \"type\": \"contour\"}], \"contourcarpet\": [{\"colorbar\": {\"outlinewidth\": 0, \"ticks\": \"\"}, \"type\": \"contourcarpet\"}], \"heatmap\": [{\"colorbar\": {\"outlinewidth\": 0, \"ticks\": \"\"}, \"colorscale\": [[0.0, \"#0d0887\"], [0.1111111111111111, \"#46039f\"], [0.2222222222222222, \"#7201a8\"], [0.3333333333333333, \"#9c179e\"], [0.4444444444444444, \"#bd3786\"], [0.5555555555555556, \"#d8576b\"], [0.6666666666666666, \"#ed7953\"], [0.7777777777777778, \"#fb9f3a\"], [0.8888888888888888, \"#fdca26\"], [1.0, \"#f0f921\"]], \"type\": \"heatmap\"}], \"heatmapgl\": [{\"colorbar\": {\"outlinewidth\": 0, \"ticks\": \"\"}, \"colorscale\": [[0.0, \"#0d0887\"], [0.1111111111111111, \"#46039f\"], [0.2222222222222222, \"#7201a8\"], [0.3333333333333333, \"#9c179e\"], [0.4444444444444444, \"#bd3786\"], [0.5555555555555556, \"#d8576b\"], [0.6666666666666666, \"#ed7953\"], [0.7777777777777778, \"#fb9f3a\"], [0.8888888888888888, \"#fdca26\"], [1.0, \"#f0f921\"]], \"type\": \"heatmapgl\"}], \"histogram\": [{\"marker\": {\"colorbar\": {\"outlinewidth\": 0, \"ticks\": \"\"}}, \"type\": \"histogram\"}], \"histogram2d\": [{\"colorbar\": {\"outlinewidth\": 0, \"ticks\": \"\"}, \"colorscale\": [[0.0, \"#0d0887\"], [0.1111111111111111, \"#46039f\"], [0.2222222222222222, \"#7201a8\"], [0.3333333333333333, \"#9c179e\"], [0.4444444444444444, \"#bd3786\"], [0.5555555555555556, \"#d8576b\"], [0.6666666666666666, \"#ed7953\"], [0.7777777777777778, \"#fb9f3a\"], [0.8888888888888888, \"#fdca26\"], [1.0, \"#f0f921\"]], \"type\": \"histogram2d\"}], \"histogram2dcontour\": [{\"colorbar\": {\"outlinewidth\": 0, \"ticks\": \"\"}, \"colorscale\": [[0.0, \"#0d0887\"], [0.1111111111111111, \"#46039f\"], [0.2222222222222222, \"#7201a8\"], [0.3333333333333333, \"#9c179e\"], [0.4444444444444444, \"#bd3786\"], [0.5555555555555556, \"#d8576b\"], [0.6666666666666666, \"#ed7953\"], [0.7777777777777778, \"#fb9f3a\"], [0.8888888888888888, \"#fdca26\"], [1.0, \"#f0f921\"]], \"type\": \"histogram2dcontour\"}], \"mesh3d\": [{\"colorbar\": {\"outlinewidth\": 0, \"ticks\": \"\"}, \"type\": \"mesh3d\"}], \"parcoords\": [{\"line\": {\"colorbar\": {\"outlinewidth\": 0, \"ticks\": \"\"}}, \"type\": \"parcoords\"}], \"pie\": [{\"automargin\": true, \"type\": \"pie\"}], \"scatter\": [{\"marker\": {\"colorbar\": {\"outlinewidth\": 0, \"ticks\": \"\"}}, \"type\": \"scatter\"}], \"scatter3d\": [{\"line\": {\"colorbar\": {\"outlinewidth\": 0, \"ticks\": \"\"}}, \"marker\": {\"colorbar\": {\"outlinewidth\": 0, \"ticks\": \"\"}}, \"type\": \"scatter3d\"}], \"scattercarpet\": [{\"marker\": {\"colorbar\": {\"outlinewidth\": 0, \"ticks\": \"\"}}, \"type\": \"scattercarpet\"}], \"scattergeo\": [{\"marker\": {\"colorbar\": {\"outlinewidth\": 0, \"ticks\": \"\"}}, \"type\": \"scattergeo\"}], \"scattergl\": [{\"marker\": {\"colorbar\": {\"outlinewidth\": 0, \"ticks\": \"\"}}, \"type\": \"scattergl\"}], \"scattermapbox\": [{\"marker\": {\"colorbar\": {\"outlinewidth\": 0, \"ticks\": \"\"}}, \"type\": \"scattermapbox\"}], \"scatterpolar\": [{\"marker\": {\"colorbar\": {\"outlinewidth\": 0, \"ticks\": \"\"}}, \"type\": \"scatterpolar\"}], \"scatterpolargl\": [{\"marker\": {\"colorbar\": {\"outlinewidth\": 0, \"ticks\": \"\"}}, \"type\": \"scatterpolargl\"}], \"scatterternary\": [{\"marker\": {\"colorbar\": {\"outlinewidth\": 0, \"ticks\": \"\"}}, \"type\": \"scatterternary\"}], \"surface\": [{\"colorbar\": {\"outlinewidth\": 0, \"ticks\": \"\"}, \"colorscale\": [[0.0, \"#0d0887\"], [0.1111111111111111, \"#46039f\"], [0.2222222222222222, \"#7201a8\"], [0.3333333333333333, \"#9c179e\"], [0.4444444444444444, \"#bd3786\"], [0.5555555555555556, \"#d8576b\"], [0.6666666666666666, \"#ed7953\"], [0.7777777777777778, \"#fb9f3a\"], [0.8888888888888888, \"#fdca26\"], [1.0, \"#f0f921\"]], \"type\": \"surface\"}], \"table\": [{\"cells\": {\"fill\": {\"color\": \"#EBF0F8\"}, \"line\": {\"color\": \"white\"}}, \"header\": {\"fill\": {\"color\": \"#C8D4E3\"}, \"line\": {\"color\": \"white\"}}, \"type\": \"table\"}]}, \"layout\": {\"annotationdefaults\": {\"arrowcolor\": \"#2a3f5f\", \"arrowhead\": 0, \"arrowwidth\": 1}, \"coloraxis\": {\"colorbar\": {\"outlinewidth\": 0, \"ticks\": \"\"}}, \"colorscale\": {\"diverging\": [[0, \"#8e0152\"], [0.1, \"#c51b7d\"], [0.2, \"#de77ae\"], [0.3, \"#f1b6da\"], [0.4, \"#fde0ef\"], [0.5, \"#f7f7f7\"], [0.6, \"#e6f5d0\"], [0.7, \"#b8e186\"], [0.8, \"#7fbc41\"], [0.9, \"#4d9221\"], [1, \"#276419\"]], \"sequential\": [[0.0, \"#0d0887\"], [0.1111111111111111, \"#46039f\"], [0.2222222222222222, \"#7201a8\"], [0.3333333333333333, \"#9c179e\"], [0.4444444444444444, \"#bd3786\"], [0.5555555555555556, \"#d8576b\"], [0.6666666666666666, \"#ed7953\"], [0.7777777777777778, \"#fb9f3a\"], [0.8888888888888888, \"#fdca26\"], [1.0, \"#f0f921\"]], \"sequentialminus\": [[0.0, \"#0d0887\"], [0.1111111111111111, \"#46039f\"], [0.2222222222222222, \"#7201a8\"], [0.3333333333333333, \"#9c179e\"], [0.4444444444444444, \"#bd3786\"], [0.5555555555555556, \"#d8576b\"], [0.6666666666666666, \"#ed7953\"], [0.7777777777777778, \"#fb9f3a\"], [0.8888888888888888, \"#fdca26\"], [1.0, \"#f0f921\"]]}, \"colorway\": [\"#636efa\", \"#EF553B\", \"#00cc96\", \"#ab63fa\", \"#FFA15A\", \"#19d3f3\", \"#FF6692\", \"#B6E880\", \"#FF97FF\", \"#FECB52\"], \"font\": {\"color\": \"#2a3f5f\"}, \"geo\": {\"bgcolor\": \"white\", \"lakecolor\": \"white\", \"landcolor\": \"#E5ECF6\", \"showlakes\": true, \"showland\": true, \"subunitcolor\": \"white\"}, \"hoverlabel\": {\"align\": \"left\"}, \"hovermode\": \"closest\", \"mapbox\": {\"style\": \"light\"}, \"paper_bgcolor\": \"white\", \"plot_bgcolor\": \"#E5ECF6\", \"polar\": {\"angularaxis\": {\"gridcolor\": \"white\", \"linecolor\": \"white\", \"ticks\": \"\"}, \"bgcolor\": \"#E5ECF6\", \"radialaxis\": {\"gridcolor\": \"white\", \"linecolor\": \"white\", \"ticks\": \"\"}}, \"scene\": {\"xaxis\": {\"backgroundcolor\": \"#E5ECF6\", \"gridcolor\": \"white\", \"gridwidth\": 2, \"linecolor\": \"white\", \"showbackground\": true, \"ticks\": \"\", \"zerolinecolor\": \"white\"}, \"yaxis\": {\"backgroundcolor\": \"#E5ECF6\", \"gridcolor\": \"white\", \"gridwidth\": 2, \"linecolor\": \"white\", \"showbackground\": true, \"ticks\": \"\", \"zerolinecolor\": \"white\"}, \"zaxis\": {\"backgroundcolor\": \"#E5ECF6\", \"gridcolor\": \"white\", \"gridwidth\": 2, \"linecolor\": \"white\", \"showbackground\": true, \"ticks\": \"\", \"zerolinecolor\": \"white\"}}, \"shapedefaults\": {\"line\": {\"color\": \"#2a3f5f\"}}, \"ternary\": {\"aaxis\": {\"gridcolor\": \"white\", \"linecolor\": \"white\", \"ticks\": \"\"}, \"baxis\": {\"gridcolor\": \"white\", \"linecolor\": \"white\", \"ticks\": \"\"}, \"bgcolor\": \"#E5ECF6\", \"caxis\": {\"gridcolor\": \"white\", \"linecolor\": \"white\", \"ticks\": \"\"}}, \"title\": {\"x\": 0.05}, \"xaxis\": {\"automargin\": true, \"gridcolor\": \"white\", \"linecolor\": \"white\", \"ticks\": \"\", \"title\": {\"standoff\": 15}, \"zerolinecolor\": \"white\", \"zerolinewidth\": 2}, \"yaxis\": {\"automargin\": true, \"gridcolor\": \"white\", \"linecolor\": \"white\", \"ticks\": \"\", \"title\": {\"standoff\": 15}, \"zerolinecolor\": \"white\", \"zerolinewidth\": 2}}}, \"title\": {\"text\": \"COVID-19 Cases in USA\"}},\n",
       "                        {\"responsive\": true}\n",
       "                    ).then(function(){\n",
       "                            \n",
       "var gd = document.getElementById('ad07fd90-48a5-4380-af02-55510e0a274f');\n",
       "var x = new MutationObserver(function (mutations, observer) {{\n",
       "        var display = window.getComputedStyle(gd).display;\n",
       "        if (!display || display === 'none') {{\n",
       "            console.log([gd, 'removed!']);\n",
       "            Plotly.purge(gd);\n",
       "            observer.disconnect();\n",
       "        }}\n",
       "}});\n",
       "\n",
       "// Listen for the removal of the full notebook cells\n",
       "var notebookContainer = gd.closest('#notebook-container');\n",
       "if (notebookContainer) {{\n",
       "    x.observe(notebookContainer, {childList: true});\n",
       "}}\n",
       "\n",
       "// Listen for the clearing of the current output cell\n",
       "var outputEl = gd.closest('.output');\n",
       "if (outputEl) {{\n",
       "    x.observe(outputEl, {childList: true});\n",
       "}}\n",
       "\n",
       "                        })\n",
       "                };\n",
       "                });\n",
       "            </script>\n",
       "        </div>"
      ]
     },
     "metadata": {},
     "output_type": "display_data"
    }
   ],
   "source": [
    "fig = go.Figure(data=go.Choropleth(\n",
    "    locations=us_abbrev_data['Province_Code'], # Spatial coordinates\n",
    "    z = us_abbrev_data['Cases'].astype(int), # Data to be color-coded\n",
    "    locationmode = 'USA-states', # set of locations match entries in `locations`\n",
    "    colorscale = 'sunsetdark',\n",
    "    text=us_abbrev_data['text'],\n",
    "    colorbar_title = \"Confirmed Cases\",\n",
    "))\n",
    "\n",
    "fig.update_layout(\n",
    "    title_text = 'COVID-19 Cases in USA',\n",
    "    geo_scope='usa', # limite map scope to USA\n",
    ")\n",
    "\n",
    "fig.show()"
   ]
  },
  {
   "cell_type": "markdown",
   "metadata": {},
   "source": [
    "**References:** \n",
    "\n",
    "    1.https://en.wikipedia.org/wiki/Coronavirus_disease_2019\n",
    "    \n",
    "    2.https://data.world/covid-19-data-resource-hub/covid-19-case-counts/workspace/file?filename=COVID-19+Cases.csv (dataset)\n",
    "    \n",
    "    3.https://github.com/CSSEGISandData/COVID-19\n",
    "    \n",
    "    4.https://github.com/nytimes/covid-19-data (dataset)\n",
    "    \n",
    "    5.https://uiuc-ischool-dataviz.github.io/spring2020/ (class notebooks really helped with basics)\n",
    "    \n",
    "    6.https://ipyleaflet.readthedocs.io/en/latest/api_reference/map.html\n",
    "    "
   ]
  },
  {
   "cell_type": "markdown",
   "metadata": {},
   "source": []
  }
 ],
 "metadata": {
  "kernelspec": {
   "display_name": "Python 3",
   "language": "python",
   "name": "python3"
  },
  "language_info": {
   "codemirror_mode": {
    "name": "ipython",
    "version": 3
   },
   "file_extension": ".py",
   "mimetype": "text/x-python",
   "name": "python",
   "nbconvert_exporter": "python",
   "pygments_lexer": "ipython3",
   "version": "3.7.4"
  }
 },
 "nbformat": 4,
 "nbformat_minor": 2
}
